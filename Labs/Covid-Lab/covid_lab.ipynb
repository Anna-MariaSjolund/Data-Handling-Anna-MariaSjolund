{
 "cells": [
  {
   "cell_type": "markdown",
   "source": [
    "# Laboration - Covid-19"
   ],
   "metadata": {}
  },
  {
   "cell_type": "markdown",
   "source": [
    "## Exercise 1. Covid-19 data"
   ],
   "metadata": {}
  },
  {
   "cell_type": "code",
   "execution_count": 1,
   "source": [
    "import pandas as pd\n",
    "import seaborn as sns\n",
    "import matplotlib.pyplot as plt\n",
    "import plotly.express as px\n",
    "import plotly.graph_objects as go"
   ],
   "outputs": [],
   "metadata": {}
  },
  {
   "cell_type": "markdown",
   "source": [
    "### a) Initial analyses"
   ],
   "metadata": {}
  },
  {
   "cell_type": "code",
   "execution_count": 2,
   "source": [
    "covid = pd.read_excel(\"data/Folkhalsomyndigheten_Covid19.xlsx\", sheet_name=8)\n",
    "covid #Exploring both head and tail at once"
   ],
   "outputs": [
    {
     "output_type": "execute_result",
     "data": {
      "text/plain": [
       "      år  veckonummer  Antal_fall_vecka  Antal_fall_100000inv_vecka  \\\n",
       "0   2020            6                 1                           0   \n",
       "1   2020            7                 0                           0   \n",
       "2   2020            8                 0                           0   \n",
       "3   2020            9                13                           0   \n",
       "4   2020           10               211                           2   \n",
       "..   ...          ...               ...                         ...   \n",
       "84  2021           37              6266                          60   \n",
       "85  2021           38              4298                          41   \n",
       "86  2021           39              4241                          41   \n",
       "87  2021           40              4141                          40   \n",
       "88  2021           41              4062                          39   \n",
       "\n",
       "    Antal_fall_100000inv_14dagar  Kum_antal_fall  Kum_fall_100000inv  \\\n",
       "0                              0               1                   0   \n",
       "1                              0               1                   0   \n",
       "2                              0               1                   0   \n",
       "3                              0              14                   0   \n",
       "4                              2             225                   2   \n",
       "..                           ...             ...                 ...   \n",
       "84                           137         1145764               11039   \n",
       "85                           101         1150062               11080   \n",
       "86                            82         1154303               11121   \n",
       "87                            81         1158444               11161   \n",
       "88                            79         1162506               11200   \n",
       "\n",
       "    Antal_nyaintensivvårdade_vecka  Kum_antal_intensivvårdade  \\\n",
       "0                                0                          0   \n",
       "1                                0                          0   \n",
       "2                                0                          0   \n",
       "3                                0                          0   \n",
       "4                                3                          3   \n",
       "..                             ...                        ...   \n",
       "84                              24                       7823   \n",
       "85                              21                       7844   \n",
       "86                              17                       7861   \n",
       "87                              15                       7876   \n",
       "88                              10                       7886   \n",
       "\n",
       "    Antal_avlidna_vecka  Antal_avlidna_milj_inv_vecka  Kum_antal_avlidna  \\\n",
       "0                     0                           0.0                  0   \n",
       "1                     0                           0.0                  0   \n",
       "2                     0                           0.0                  0   \n",
       "3                     0                           0.0                  0   \n",
       "4                     0                           0.0                  0   \n",
       "..                  ...                           ...                ...   \n",
       "84                   52                           5.0              14807   \n",
       "85                   40                           3.9              14847   \n",
       "86                   37                           3.6              14884   \n",
       "87                   42                           4.0              14926   \n",
       "88                   18                           1.7              14944   \n",
       "\n",
       "    Kum_antal_avlidna_milj_inv  \n",
       "0                     0.000000  \n",
       "1                     0.000000  \n",
       "2                     0.000000  \n",
       "3                     0.000000  \n",
       "4                     0.000000  \n",
       "..                         ...  \n",
       "84                 1426.599976  \n",
       "85                 1430.400024  \n",
       "86                 1434.000000  \n",
       "87                 1438.099976  \n",
       "88                 1439.800049  \n",
       "\n",
       "[89 rows x 13 columns]"
      ],
      "text/html": [
       "<div>\n",
       "<style scoped>\n",
       "    .dataframe tbody tr th:only-of-type {\n",
       "        vertical-align: middle;\n",
       "    }\n",
       "\n",
       "    .dataframe tbody tr th {\n",
       "        vertical-align: top;\n",
       "    }\n",
       "\n",
       "    .dataframe thead th {\n",
       "        text-align: right;\n",
       "    }\n",
       "</style>\n",
       "<table border=\"1\" class=\"dataframe\">\n",
       "  <thead>\n",
       "    <tr style=\"text-align: right;\">\n",
       "      <th></th>\n",
       "      <th>år</th>\n",
       "      <th>veckonummer</th>\n",
       "      <th>Antal_fall_vecka</th>\n",
       "      <th>Antal_fall_100000inv_vecka</th>\n",
       "      <th>Antal_fall_100000inv_14dagar</th>\n",
       "      <th>Kum_antal_fall</th>\n",
       "      <th>Kum_fall_100000inv</th>\n",
       "      <th>Antal_nyaintensivvårdade_vecka</th>\n",
       "      <th>Kum_antal_intensivvårdade</th>\n",
       "      <th>Antal_avlidna_vecka</th>\n",
       "      <th>Antal_avlidna_milj_inv_vecka</th>\n",
       "      <th>Kum_antal_avlidna</th>\n",
       "      <th>Kum_antal_avlidna_milj_inv</th>\n",
       "    </tr>\n",
       "  </thead>\n",
       "  <tbody>\n",
       "    <tr>\n",
       "      <th>0</th>\n",
       "      <td>2020</td>\n",
       "      <td>6</td>\n",
       "      <td>1</td>\n",
       "      <td>0</td>\n",
       "      <td>0</td>\n",
       "      <td>1</td>\n",
       "      <td>0</td>\n",
       "      <td>0</td>\n",
       "      <td>0</td>\n",
       "      <td>0</td>\n",
       "      <td>0.0</td>\n",
       "      <td>0</td>\n",
       "      <td>0.000000</td>\n",
       "    </tr>\n",
       "    <tr>\n",
       "      <th>1</th>\n",
       "      <td>2020</td>\n",
       "      <td>7</td>\n",
       "      <td>0</td>\n",
       "      <td>0</td>\n",
       "      <td>0</td>\n",
       "      <td>1</td>\n",
       "      <td>0</td>\n",
       "      <td>0</td>\n",
       "      <td>0</td>\n",
       "      <td>0</td>\n",
       "      <td>0.0</td>\n",
       "      <td>0</td>\n",
       "      <td>0.000000</td>\n",
       "    </tr>\n",
       "    <tr>\n",
       "      <th>2</th>\n",
       "      <td>2020</td>\n",
       "      <td>8</td>\n",
       "      <td>0</td>\n",
       "      <td>0</td>\n",
       "      <td>0</td>\n",
       "      <td>1</td>\n",
       "      <td>0</td>\n",
       "      <td>0</td>\n",
       "      <td>0</td>\n",
       "      <td>0</td>\n",
       "      <td>0.0</td>\n",
       "      <td>0</td>\n",
       "      <td>0.000000</td>\n",
       "    </tr>\n",
       "    <tr>\n",
       "      <th>3</th>\n",
       "      <td>2020</td>\n",
       "      <td>9</td>\n",
       "      <td>13</td>\n",
       "      <td>0</td>\n",
       "      <td>0</td>\n",
       "      <td>14</td>\n",
       "      <td>0</td>\n",
       "      <td>0</td>\n",
       "      <td>0</td>\n",
       "      <td>0</td>\n",
       "      <td>0.0</td>\n",
       "      <td>0</td>\n",
       "      <td>0.000000</td>\n",
       "    </tr>\n",
       "    <tr>\n",
       "      <th>4</th>\n",
       "      <td>2020</td>\n",
       "      <td>10</td>\n",
       "      <td>211</td>\n",
       "      <td>2</td>\n",
       "      <td>2</td>\n",
       "      <td>225</td>\n",
       "      <td>2</td>\n",
       "      <td>3</td>\n",
       "      <td>3</td>\n",
       "      <td>0</td>\n",
       "      <td>0.0</td>\n",
       "      <td>0</td>\n",
       "      <td>0.000000</td>\n",
       "    </tr>\n",
       "    <tr>\n",
       "      <th>...</th>\n",
       "      <td>...</td>\n",
       "      <td>...</td>\n",
       "      <td>...</td>\n",
       "      <td>...</td>\n",
       "      <td>...</td>\n",
       "      <td>...</td>\n",
       "      <td>...</td>\n",
       "      <td>...</td>\n",
       "      <td>...</td>\n",
       "      <td>...</td>\n",
       "      <td>...</td>\n",
       "      <td>...</td>\n",
       "      <td>...</td>\n",
       "    </tr>\n",
       "    <tr>\n",
       "      <th>84</th>\n",
       "      <td>2021</td>\n",
       "      <td>37</td>\n",
       "      <td>6266</td>\n",
       "      <td>60</td>\n",
       "      <td>137</td>\n",
       "      <td>1145764</td>\n",
       "      <td>11039</td>\n",
       "      <td>24</td>\n",
       "      <td>7823</td>\n",
       "      <td>52</td>\n",
       "      <td>5.0</td>\n",
       "      <td>14807</td>\n",
       "      <td>1426.599976</td>\n",
       "    </tr>\n",
       "    <tr>\n",
       "      <th>85</th>\n",
       "      <td>2021</td>\n",
       "      <td>38</td>\n",
       "      <td>4298</td>\n",
       "      <td>41</td>\n",
       "      <td>101</td>\n",
       "      <td>1150062</td>\n",
       "      <td>11080</td>\n",
       "      <td>21</td>\n",
       "      <td>7844</td>\n",
       "      <td>40</td>\n",
       "      <td>3.9</td>\n",
       "      <td>14847</td>\n",
       "      <td>1430.400024</td>\n",
       "    </tr>\n",
       "    <tr>\n",
       "      <th>86</th>\n",
       "      <td>2021</td>\n",
       "      <td>39</td>\n",
       "      <td>4241</td>\n",
       "      <td>41</td>\n",
       "      <td>82</td>\n",
       "      <td>1154303</td>\n",
       "      <td>11121</td>\n",
       "      <td>17</td>\n",
       "      <td>7861</td>\n",
       "      <td>37</td>\n",
       "      <td>3.6</td>\n",
       "      <td>14884</td>\n",
       "      <td>1434.000000</td>\n",
       "    </tr>\n",
       "    <tr>\n",
       "      <th>87</th>\n",
       "      <td>2021</td>\n",
       "      <td>40</td>\n",
       "      <td>4141</td>\n",
       "      <td>40</td>\n",
       "      <td>81</td>\n",
       "      <td>1158444</td>\n",
       "      <td>11161</td>\n",
       "      <td>15</td>\n",
       "      <td>7876</td>\n",
       "      <td>42</td>\n",
       "      <td>4.0</td>\n",
       "      <td>14926</td>\n",
       "      <td>1438.099976</td>\n",
       "    </tr>\n",
       "    <tr>\n",
       "      <th>88</th>\n",
       "      <td>2021</td>\n",
       "      <td>41</td>\n",
       "      <td>4062</td>\n",
       "      <td>39</td>\n",
       "      <td>79</td>\n",
       "      <td>1162506</td>\n",
       "      <td>11200</td>\n",
       "      <td>10</td>\n",
       "      <td>7886</td>\n",
       "      <td>18</td>\n",
       "      <td>1.7</td>\n",
       "      <td>14944</td>\n",
       "      <td>1439.800049</td>\n",
       "    </tr>\n",
       "  </tbody>\n",
       "</table>\n",
       "<p>89 rows × 13 columns</p>\n",
       "</div>"
      ]
     },
     "metadata": {},
     "execution_count": 2
    }
   ],
   "metadata": {}
  },
  {
   "cell_type": "code",
   "execution_count": 3,
   "source": [
    "#There are no missing values (89 rows/weeks and 89 non-null values).\n",
    "#The data type is either int or float and seems to be appropriately used.\n",
    "covid.info() "
   ],
   "outputs": [
    {
     "output_type": "stream",
     "name": "stdout",
     "text": [
      "<class 'pandas.core.frame.DataFrame'>\n",
      "RangeIndex: 89 entries, 0 to 88\n",
      "Data columns (total 13 columns):\n",
      " #   Column                          Non-Null Count  Dtype  \n",
      "---  ------                          --------------  -----  \n",
      " 0   år                              89 non-null     int64  \n",
      " 1   veckonummer                     89 non-null     int64  \n",
      " 2   Antal_fall_vecka                89 non-null     int64  \n",
      " 3   Antal_fall_100000inv_vecka      89 non-null     int64  \n",
      " 4   Antal_fall_100000inv_14dagar    89 non-null     int64  \n",
      " 5   Kum_antal_fall                  89 non-null     int64  \n",
      " 6   Kum_fall_100000inv              89 non-null     int64  \n",
      " 7   Antal_nyaintensivvårdade_vecka  89 non-null     int64  \n",
      " 8   Kum_antal_intensivvårdade       89 non-null     int64  \n",
      " 9   Antal_avlidna_vecka             89 non-null     int64  \n",
      " 10  Antal_avlidna_milj_inv_vecka    89 non-null     float64\n",
      " 11  Kum_antal_avlidna               89 non-null     int64  \n",
      " 12  Kum_antal_avlidna_milj_inv      89 non-null     float64\n",
      "dtypes: float64(2), int64(11)\n",
      "memory usage: 9.2 KB\n"
     ]
    }
   ],
   "metadata": {}
  },
  {
   "cell_type": "code",
   "execution_count": 4,
   "source": [
    "covid.describe()"
   ],
   "outputs": [
    {
     "output_type": "execute_result",
     "data": {
      "text/plain": [
       "                år  veckonummer  Antal_fall_vecka  Antal_fall_100000inv_vecka  \\\n",
       "count    89.000000    89.000000         89.000000                   89.000000   \n",
       "mean   2020.460674    25.584270      13061.865169                  126.011236   \n",
       "std       0.501275    13.713637      14210.652869                  137.184472   \n",
       "min    2020.000000     1.000000          0.000000                    0.000000   \n",
       "25%    2020.000000    14.000000       2179.000000                   21.000000   \n",
       "50%    2020.000000    25.000000       4608.000000                   44.000000   \n",
       "75%    2021.000000    36.000000      25405.000000                  246.000000   \n",
       "max    2021.000000    53.000000      46177.000000                  447.000000   \n",
       "\n",
       "       Antal_fall_100000inv_14dagar  Kum_antal_fall  Kum_fall_100000inv  \\\n",
       "count                     89.000000    8.900000e+01           89.000000   \n",
       "mean                     251.584270    4.885261e+05         4709.325843   \n",
       "std                      272.989003    4.559136e+05         4391.041264   \n",
       "min                        0.000000    1.000000e+00            0.000000   \n",
       "25%                       46.000000    7.279100e+04          705.000000   \n",
       "50%                      100.000000    3.380260e+05         3273.000000   \n",
       "75%                      485.000000    1.044862e+06        10067.000000   \n",
       "max                      869.000000    1.162506e+06        11200.000000   \n",
       "\n",
       "       Antal_nyaintensivvårdade_vecka  Kum_antal_intensivvårdade  \\\n",
       "count                       89.000000                  89.000000   \n",
       "mean                        88.606742                4261.741573   \n",
       "std                         83.646662                2609.965149   \n",
       "min                          0.000000                   0.000000   \n",
       "25%                         14.000000                2491.000000   \n",
       "50%                         59.000000                3638.000000   \n",
       "75%                        153.000000                7348.000000   \n",
       "max                        289.000000                7886.000000   \n",
       "\n",
       "       Antal_avlidna_vecka  Antal_avlidna_milj_inv_vecka  Kum_antal_avlidna  \\\n",
       "count            89.000000                     89.000000          89.000000   \n",
       "mean            167.910112                     16.233708        8923.303371   \n",
       "std             204.302952                     19.765609        5126.703711   \n",
       "min               0.000000                      0.000000           0.000000   \n",
       "25%              17.000000                      1.600000        5621.000000   \n",
       "50%              82.000000                      7.900000        8135.000000   \n",
       "75%             235.000000                     22.799999       14416.000000   \n",
       "max             664.000000                     64.300003       14944.000000   \n",
       "\n",
       "       Kum_antal_avlidna_milj_inv  \n",
       "count                   89.000000  \n",
       "mean                   860.923595  \n",
       "std                    493.286226  \n",
       "min                      0.000000  \n",
       "25%                    544.299988  \n",
       "50%                    787.700012  \n",
       "75%                   1388.900024  \n",
       "max                   1439.800049  "
      ],
      "text/html": [
       "<div>\n",
       "<style scoped>\n",
       "    .dataframe tbody tr th:only-of-type {\n",
       "        vertical-align: middle;\n",
       "    }\n",
       "\n",
       "    .dataframe tbody tr th {\n",
       "        vertical-align: top;\n",
       "    }\n",
       "\n",
       "    .dataframe thead th {\n",
       "        text-align: right;\n",
       "    }\n",
       "</style>\n",
       "<table border=\"1\" class=\"dataframe\">\n",
       "  <thead>\n",
       "    <tr style=\"text-align: right;\">\n",
       "      <th></th>\n",
       "      <th>år</th>\n",
       "      <th>veckonummer</th>\n",
       "      <th>Antal_fall_vecka</th>\n",
       "      <th>Antal_fall_100000inv_vecka</th>\n",
       "      <th>Antal_fall_100000inv_14dagar</th>\n",
       "      <th>Kum_antal_fall</th>\n",
       "      <th>Kum_fall_100000inv</th>\n",
       "      <th>Antal_nyaintensivvårdade_vecka</th>\n",
       "      <th>Kum_antal_intensivvårdade</th>\n",
       "      <th>Antal_avlidna_vecka</th>\n",
       "      <th>Antal_avlidna_milj_inv_vecka</th>\n",
       "      <th>Kum_antal_avlidna</th>\n",
       "      <th>Kum_antal_avlidna_milj_inv</th>\n",
       "    </tr>\n",
       "  </thead>\n",
       "  <tbody>\n",
       "    <tr>\n",
       "      <th>count</th>\n",
       "      <td>89.000000</td>\n",
       "      <td>89.000000</td>\n",
       "      <td>89.000000</td>\n",
       "      <td>89.000000</td>\n",
       "      <td>89.000000</td>\n",
       "      <td>8.900000e+01</td>\n",
       "      <td>89.000000</td>\n",
       "      <td>89.000000</td>\n",
       "      <td>89.000000</td>\n",
       "      <td>89.000000</td>\n",
       "      <td>89.000000</td>\n",
       "      <td>89.000000</td>\n",
       "      <td>89.000000</td>\n",
       "    </tr>\n",
       "    <tr>\n",
       "      <th>mean</th>\n",
       "      <td>2020.460674</td>\n",
       "      <td>25.584270</td>\n",
       "      <td>13061.865169</td>\n",
       "      <td>126.011236</td>\n",
       "      <td>251.584270</td>\n",
       "      <td>4.885261e+05</td>\n",
       "      <td>4709.325843</td>\n",
       "      <td>88.606742</td>\n",
       "      <td>4261.741573</td>\n",
       "      <td>167.910112</td>\n",
       "      <td>16.233708</td>\n",
       "      <td>8923.303371</td>\n",
       "      <td>860.923595</td>\n",
       "    </tr>\n",
       "    <tr>\n",
       "      <th>std</th>\n",
       "      <td>0.501275</td>\n",
       "      <td>13.713637</td>\n",
       "      <td>14210.652869</td>\n",
       "      <td>137.184472</td>\n",
       "      <td>272.989003</td>\n",
       "      <td>4.559136e+05</td>\n",
       "      <td>4391.041264</td>\n",
       "      <td>83.646662</td>\n",
       "      <td>2609.965149</td>\n",
       "      <td>204.302952</td>\n",
       "      <td>19.765609</td>\n",
       "      <td>5126.703711</td>\n",
       "      <td>493.286226</td>\n",
       "    </tr>\n",
       "    <tr>\n",
       "      <th>min</th>\n",
       "      <td>2020.000000</td>\n",
       "      <td>1.000000</td>\n",
       "      <td>0.000000</td>\n",
       "      <td>0.000000</td>\n",
       "      <td>0.000000</td>\n",
       "      <td>1.000000e+00</td>\n",
       "      <td>0.000000</td>\n",
       "      <td>0.000000</td>\n",
       "      <td>0.000000</td>\n",
       "      <td>0.000000</td>\n",
       "      <td>0.000000</td>\n",
       "      <td>0.000000</td>\n",
       "      <td>0.000000</td>\n",
       "    </tr>\n",
       "    <tr>\n",
       "      <th>25%</th>\n",
       "      <td>2020.000000</td>\n",
       "      <td>14.000000</td>\n",
       "      <td>2179.000000</td>\n",
       "      <td>21.000000</td>\n",
       "      <td>46.000000</td>\n",
       "      <td>7.279100e+04</td>\n",
       "      <td>705.000000</td>\n",
       "      <td>14.000000</td>\n",
       "      <td>2491.000000</td>\n",
       "      <td>17.000000</td>\n",
       "      <td>1.600000</td>\n",
       "      <td>5621.000000</td>\n",
       "      <td>544.299988</td>\n",
       "    </tr>\n",
       "    <tr>\n",
       "      <th>50%</th>\n",
       "      <td>2020.000000</td>\n",
       "      <td>25.000000</td>\n",
       "      <td>4608.000000</td>\n",
       "      <td>44.000000</td>\n",
       "      <td>100.000000</td>\n",
       "      <td>3.380260e+05</td>\n",
       "      <td>3273.000000</td>\n",
       "      <td>59.000000</td>\n",
       "      <td>3638.000000</td>\n",
       "      <td>82.000000</td>\n",
       "      <td>7.900000</td>\n",
       "      <td>8135.000000</td>\n",
       "      <td>787.700012</td>\n",
       "    </tr>\n",
       "    <tr>\n",
       "      <th>75%</th>\n",
       "      <td>2021.000000</td>\n",
       "      <td>36.000000</td>\n",
       "      <td>25405.000000</td>\n",
       "      <td>246.000000</td>\n",
       "      <td>485.000000</td>\n",
       "      <td>1.044862e+06</td>\n",
       "      <td>10067.000000</td>\n",
       "      <td>153.000000</td>\n",
       "      <td>7348.000000</td>\n",
       "      <td>235.000000</td>\n",
       "      <td>22.799999</td>\n",
       "      <td>14416.000000</td>\n",
       "      <td>1388.900024</td>\n",
       "    </tr>\n",
       "    <tr>\n",
       "      <th>max</th>\n",
       "      <td>2021.000000</td>\n",
       "      <td>53.000000</td>\n",
       "      <td>46177.000000</td>\n",
       "      <td>447.000000</td>\n",
       "      <td>869.000000</td>\n",
       "      <td>1.162506e+06</td>\n",
       "      <td>11200.000000</td>\n",
       "      <td>289.000000</td>\n",
       "      <td>7886.000000</td>\n",
       "      <td>664.000000</td>\n",
       "      <td>64.300003</td>\n",
       "      <td>14944.000000</td>\n",
       "      <td>1439.800049</td>\n",
       "    </tr>\n",
       "  </tbody>\n",
       "</table>\n",
       "</div>"
      ]
     },
     "metadata": {},
     "execution_count": 4
    }
   ],
   "metadata": {}
  },
  {
   "cell_type": "code",
   "execution_count": 5,
   "source": [
    "covid[\"år\"].value_counts() #The data includes 48 weeks from 2020 and 41 weeks for 2021"
   ],
   "outputs": [
    {
     "output_type": "execute_result",
     "data": {
      "text/plain": [
       "2020    48\n",
       "2021    41\n",
       "Name: år, dtype: int64"
      ]
     },
     "metadata": {},
     "execution_count": 5
    }
   ],
   "metadata": {}
  },
  {
   "cell_type": "markdown",
   "source": [
    "### b) Create a \"Vecka\" column"
   ],
   "metadata": {}
  },
  {
   "cell_type": "code",
   "execution_count": 6,
   "source": [
    "covid[\"veckonummer\"] = covid[\"år\"].astype(str) + \"v\" + covid[\"veckonummer\"].astype(str)\n",
    "covid = covid.rename({\"veckonummer\":\"Vecka\"}, axis=1).drop(\"år\", axis=1)\n",
    "\n",
    "covid.head()"
   ],
   "outputs": [
    {
     "output_type": "execute_result",
     "data": {
      "text/plain": [
       "     Vecka  Antal_fall_vecka  Antal_fall_100000inv_vecka  \\\n",
       "0   2020v6                 1                           0   \n",
       "1   2020v7                 0                           0   \n",
       "2   2020v8                 0                           0   \n",
       "3   2020v9                13                           0   \n",
       "4  2020v10               211                           2   \n",
       "\n",
       "   Antal_fall_100000inv_14dagar  Kum_antal_fall  Kum_fall_100000inv  \\\n",
       "0                             0               1                   0   \n",
       "1                             0               1                   0   \n",
       "2                             0               1                   0   \n",
       "3                             0              14                   0   \n",
       "4                             2             225                   2   \n",
       "\n",
       "   Antal_nyaintensivvårdade_vecka  Kum_antal_intensivvårdade  \\\n",
       "0                               0                          0   \n",
       "1                               0                          0   \n",
       "2                               0                          0   \n",
       "3                               0                          0   \n",
       "4                               3                          3   \n",
       "\n",
       "   Antal_avlidna_vecka  Antal_avlidna_milj_inv_vecka  Kum_antal_avlidna  \\\n",
       "0                    0                           0.0                  0   \n",
       "1                    0                           0.0                  0   \n",
       "2                    0                           0.0                  0   \n",
       "3                    0                           0.0                  0   \n",
       "4                    0                           0.0                  0   \n",
       "\n",
       "   Kum_antal_avlidna_milj_inv  \n",
       "0                         0.0  \n",
       "1                         0.0  \n",
       "2                         0.0  \n",
       "3                         0.0  \n",
       "4                         0.0  "
      ],
      "text/html": [
       "<div>\n",
       "<style scoped>\n",
       "    .dataframe tbody tr th:only-of-type {\n",
       "        vertical-align: middle;\n",
       "    }\n",
       "\n",
       "    .dataframe tbody tr th {\n",
       "        vertical-align: top;\n",
       "    }\n",
       "\n",
       "    .dataframe thead th {\n",
       "        text-align: right;\n",
       "    }\n",
       "</style>\n",
       "<table border=\"1\" class=\"dataframe\">\n",
       "  <thead>\n",
       "    <tr style=\"text-align: right;\">\n",
       "      <th></th>\n",
       "      <th>Vecka</th>\n",
       "      <th>Antal_fall_vecka</th>\n",
       "      <th>Antal_fall_100000inv_vecka</th>\n",
       "      <th>Antal_fall_100000inv_14dagar</th>\n",
       "      <th>Kum_antal_fall</th>\n",
       "      <th>Kum_fall_100000inv</th>\n",
       "      <th>Antal_nyaintensivvårdade_vecka</th>\n",
       "      <th>Kum_antal_intensivvårdade</th>\n",
       "      <th>Antal_avlidna_vecka</th>\n",
       "      <th>Antal_avlidna_milj_inv_vecka</th>\n",
       "      <th>Kum_antal_avlidna</th>\n",
       "      <th>Kum_antal_avlidna_milj_inv</th>\n",
       "    </tr>\n",
       "  </thead>\n",
       "  <tbody>\n",
       "    <tr>\n",
       "      <th>0</th>\n",
       "      <td>2020v6</td>\n",
       "      <td>1</td>\n",
       "      <td>0</td>\n",
       "      <td>0</td>\n",
       "      <td>1</td>\n",
       "      <td>0</td>\n",
       "      <td>0</td>\n",
       "      <td>0</td>\n",
       "      <td>0</td>\n",
       "      <td>0.0</td>\n",
       "      <td>0</td>\n",
       "      <td>0.0</td>\n",
       "    </tr>\n",
       "    <tr>\n",
       "      <th>1</th>\n",
       "      <td>2020v7</td>\n",
       "      <td>0</td>\n",
       "      <td>0</td>\n",
       "      <td>0</td>\n",
       "      <td>1</td>\n",
       "      <td>0</td>\n",
       "      <td>0</td>\n",
       "      <td>0</td>\n",
       "      <td>0</td>\n",
       "      <td>0.0</td>\n",
       "      <td>0</td>\n",
       "      <td>0.0</td>\n",
       "    </tr>\n",
       "    <tr>\n",
       "      <th>2</th>\n",
       "      <td>2020v8</td>\n",
       "      <td>0</td>\n",
       "      <td>0</td>\n",
       "      <td>0</td>\n",
       "      <td>1</td>\n",
       "      <td>0</td>\n",
       "      <td>0</td>\n",
       "      <td>0</td>\n",
       "      <td>0</td>\n",
       "      <td>0.0</td>\n",
       "      <td>0</td>\n",
       "      <td>0.0</td>\n",
       "    </tr>\n",
       "    <tr>\n",
       "      <th>3</th>\n",
       "      <td>2020v9</td>\n",
       "      <td>13</td>\n",
       "      <td>0</td>\n",
       "      <td>0</td>\n",
       "      <td>14</td>\n",
       "      <td>0</td>\n",
       "      <td>0</td>\n",
       "      <td>0</td>\n",
       "      <td>0</td>\n",
       "      <td>0.0</td>\n",
       "      <td>0</td>\n",
       "      <td>0.0</td>\n",
       "    </tr>\n",
       "    <tr>\n",
       "      <th>4</th>\n",
       "      <td>2020v10</td>\n",
       "      <td>211</td>\n",
       "      <td>2</td>\n",
       "      <td>2</td>\n",
       "      <td>225</td>\n",
       "      <td>2</td>\n",
       "      <td>3</td>\n",
       "      <td>3</td>\n",
       "      <td>0</td>\n",
       "      <td>0.0</td>\n",
       "      <td>0</td>\n",
       "      <td>0.0</td>\n",
       "    </tr>\n",
       "  </tbody>\n",
       "</table>\n",
       "</div>"
      ]
     },
     "metadata": {},
     "execution_count": 6
    }
   ],
   "metadata": {}
  },
  {
   "cell_type": "code",
   "execution_count": 7,
   "source": [
    "covid[\"Vecka\"].iloc[88]"
   ],
   "outputs": [
    {
     "output_type": "execute_result",
     "data": {
      "text/plain": [
       "'2021v41'"
      ]
     },
     "metadata": {},
     "execution_count": 7
    }
   ],
   "metadata": {}
  },
  {
   "cell_type": "markdown",
   "source": [
    "left  = 0.125  # the left side of the subplots of the figure\n",
    "right = 0.9    # the right side of the subplots of the figure\n",
    "bottom = 0.1   # the bottom of the subplots of the figure\n",
    "top = 0.9      # the top of the subplots of the figure\n",
    "wspace = 0.2   # the amount of width reserved for blank space between subplots\n",
    "hspace = 0.2   "
   ],
   "metadata": {}
  },
  {
   "cell_type": "markdown",
   "source": [
    "### c) Plot number of deceased per week"
   ],
   "metadata": {}
  },
  {
   "cell_type": "code",
   "execution_count": 8,
   "source": [
    "def set_plot_properties_seaborn(plot:str, title:str, y_label:str) -> None:\n",
    "    '''Adjusts the ticks and changes the labels for the x and y-axis for a plot.'''\n",
    "\n",
    "    plot.set_title(title, size=9)\n",
    "    plot.set_xticks([0, 22, 44, 66, 88])\n",
    "    plot.set_xticklabels([\"v.6 2020\", \"v.28 2020\", \"v.50 2020\", \"v.19 2021\", \"v.41 2021\"], size=5)\n",
    "    plot.set_yticklabels(labels=plot.get_yticks().astype(int), size=5)\n",
    "    plot.set_xlabel(\"Week\", size=7)\n",
    "    plot.set_ylabel(y_label, size=7)\n",
    "    plot.grid()\n",
    "    \n",
    "\n",
    "#Creates the figure for the subplots\n",
    "fig, ax = plt.subplots(2,2, dpi=500, facecolor=\"white\")\n",
    "fig.subplots_adjust(wspace= .4, hspace=.6)\n",
    "fig.suptitle(\"Statistics for Covid-19 in Sweden\")\n",
    "\n",
    "#Plots the first subplot\n",
    "plot1 = sns.lineplot(data=covid, x=\"Vecka\", y=\"Antal_avlidna_vecka\", ax=ax[0,0])\n",
    "set_plot_properties_seaborn(plot1,\"Deceased per Week\", \"Number of Deceased\")\n",
    "\n",
    "#Plots the second subplot\n",
    "plot2 = sns.lineplot(data=covid, x=\"Vecka\", y=\"Antal_fall_vecka\", ax=ax[0,1])\n",
    "set_plot_properties_seaborn(plot2, \"New Cases per Week\", \"New Cases\")\n",
    "\n",
    "#Plots the third subplot\n",
    "plot3 = sns.lineplot(data=covid, x=\"Vecka\", y=\"Antal_avlidna_vecka\", ax=ax[1,0])\n",
    "plot3 = sns.lineplot(data=covid, x=\"Vecka\", y=\"Antal_fall_vecka\", ax=ax[1,0])\n",
    "plot3.legend([\"Antal_avlidna_vecka\", \"Antal_fall_vecka\"], labels=[\"Deceased per Week\", \"New Cases per Week\"], fontsize=4.5, loc=\"upper left\")\n",
    "set_plot_properties_seaborn(plot3, \"Deceased and New Cases per Week\", \"Number of People\")\n",
    "\n",
    "#Plots the forth subplot\n",
    "plot4 = sns.lineplot(data=covid, x=\"Vecka\", y=\"Kum_antal_fall\", ax=ax[1,1])\n",
    "set_plot_properties_seaborn(plot4, \"Cumulative Cases per Week\", \"Cumulative Cases\")\n",
    "\n",
    "plt.savefig(\"visualiseringar/Statistics_for_Covid-19_in_Sweden.png\")"
   ],
   "outputs": [
    {
     "output_type": "stream",
     "name": "stderr",
     "text": [
      "/var/folders/11/k_09161j4vnft7tn925fp6600000gn/T/ipykernel_1122/2114317167.py:7: UserWarning: FixedFormatter should only be used together with FixedLocator\n",
      "  plot.set_yticklabels(labels=plot.get_yticks().astype(int), size=5)\n",
      "/var/folders/11/k_09161j4vnft7tn925fp6600000gn/T/ipykernel_1122/2114317167.py:7: UserWarning: FixedFormatter should only be used together with FixedLocator\n",
      "  plot.set_yticklabels(labels=plot.get_yticks().astype(int), size=5)\n",
      "/var/folders/11/k_09161j4vnft7tn925fp6600000gn/T/ipykernel_1122/2114317167.py:29: UserWarning: You have mixed positional and keyword arguments, some input may be discarded.\n",
      "  plot3.legend([\"Antal_avlidna_vecka\", \"Antal_fall_vecka\"], labels=[\"Deceased per Week\", \"New Cases per Week\"], fontsize=4.5, loc=\"upper left\")\n",
      "/var/folders/11/k_09161j4vnft7tn925fp6600000gn/T/ipykernel_1122/2114317167.py:7: UserWarning: FixedFormatter should only be used together with FixedLocator\n",
      "  plot.set_yticklabels(labels=plot.get_yticks().astype(int), size=5)\n",
      "/var/folders/11/k_09161j4vnft7tn925fp6600000gn/T/ipykernel_1122/2114317167.py:7: UserWarning: FixedFormatter should only be used together with FixedLocator\n",
      "  plot.set_yticklabels(labels=plot.get_yticks().astype(int), size=5)\n"
     ]
    },
    {
     "output_type": "display_data",
     "data": {
      "text/plain": [
       "<Figure size 3000x2000 with 4 Axes>"
      ],
      "image/svg+xml": "<?xml version=\"1.0\" encoding=\"utf-8\" standalone=\"no\"?>\n<!DOCTYPE svg PUBLIC \"-//W3C//DTD SVG 1.1//EN\"\n  \"http://www.w3.org/Graphics/SVG/1.1/DTD/svg11.dtd\">\n<svg height=\"283.25375pt\" version=\"1.1\" viewBox=\"0 0 388.958778 283.25375\" width=\"388.958778pt\" xmlns=\"http://www.w3.org/2000/svg\" xmlns:xlink=\"http://www.w3.org/1999/xlink\">\n <metadata>\n  <rdf:RDF xmlns:cc=\"http://creativecommons.org/ns#\" xmlns:dc=\"http://purl.org/dc/elements/1.1/\" xmlns:rdf=\"http://www.w3.org/1999/02/22-rdf-syntax-ns#\">\n   <cc:Work>\n    <dc:type rdf:resource=\"http://purl.org/dc/dcmitype/StillImage\"/>\n    <dc:date>2021-10-30T17:08:32.266411</dc:date>\n    <dc:format>image/svg+xml</dc:format>\n    <dc:creator>\n     <cc:Agent>\n      <dc:title>Matplotlib v3.4.3, https://matplotlib.org/</dc:title>\n     </cc:Agent>\n    </dc:creator>\n   </cc:Work>\n  </rdf:RDF>\n </metadata>\n <defs>\n  <style type=\"text/css\">*{stroke-linecap:butt;stroke-linejoin:round;}</style>\n </defs>\n <g id=\"figure_1\">\n  <g id=\"patch_1\">\n   <path d=\"M 0 283.25375 \nL 388.958778 283.25375 \nL 388.958778 0 \nL 0 0 \nz\n\" style=\"fill:#ffffff;\"/>\n  </g>\n  <g id=\"axes_1\">\n   <g id=\"patch_2\">\n    <path d=\"M 40.880938 119.630769 \nL 180.380938 119.630769 \nL 180.380938 36 \nL 40.880938 36 \nz\n\" style=\"fill:#ffffff;\"/>\n   </g>\n   <g id=\"matplotlib.axis_1\">\n    <g id=\"xtick_1\">\n     <g id=\"line2d_1\">\n      <path clip-path=\"url(#p0782fb20d6)\" d=\"M 47.221847 119.630769 \nL 47.221847 36 \n\" style=\"fill:none;stroke:#b0b0b0;stroke-linecap:square;stroke-width:0.8;\"/>\n     </g>\n     <g id=\"line2d_2\">\n      <defs>\n       <path d=\"M 0 0 \nL 0 3.5 \n\" id=\"m745043c68d\" style=\"stroke:#000000;stroke-width:0.8;\"/>\n      </defs>\n      <g>\n       <use style=\"stroke:#000000;stroke-width:0.8;\" x=\"47.221847\" xlink:href=\"#m745043c68d\" y=\"119.630769\"/>\n      </g>\n     </g>\n     <g id=\"text_1\">\n      <!-- v.6 2020 -->\n      <g transform=\"translate(36.393722 130.429988)scale(0.05 -0.05)\">\n       <defs>\n        <path d=\"M 191 3500 \nL 800 3500 \nL 1894 563 \nL 2988 3500 \nL 3597 3500 \nL 2284 0 \nL 1503 0 \nL 191 3500 \nz\n\" id=\"DejaVuSans-76\" transform=\"scale(0.015625)\"/>\n        <path d=\"M 684 794 \nL 1344 794 \nL 1344 0 \nL 684 0 \nL 684 794 \nz\n\" id=\"DejaVuSans-2e\" transform=\"scale(0.015625)\"/>\n        <path d=\"M 2113 2584 \nQ 1688 2584 1439 2293 \nQ 1191 2003 1191 1497 \nQ 1191 994 1439 701 \nQ 1688 409 2113 409 \nQ 2538 409 2786 701 \nQ 3034 994 3034 1497 \nQ 3034 2003 2786 2293 \nQ 2538 2584 2113 2584 \nz\nM 3366 4563 \nL 3366 3988 \nQ 3128 4100 2886 4159 \nQ 2644 4219 2406 4219 \nQ 1781 4219 1451 3797 \nQ 1122 3375 1075 2522 \nQ 1259 2794 1537 2939 \nQ 1816 3084 2150 3084 \nQ 2853 3084 3261 2657 \nQ 3669 2231 3669 1497 \nQ 3669 778 3244 343 \nQ 2819 -91 2113 -91 \nQ 1303 -91 875 529 \nQ 447 1150 447 2328 \nQ 447 3434 972 4092 \nQ 1497 4750 2381 4750 \nQ 2619 4750 2861 4703 \nQ 3103 4656 3366 4563 \nz\n\" id=\"DejaVuSans-36\" transform=\"scale(0.015625)\"/>\n        <path id=\"DejaVuSans-20\" transform=\"scale(0.015625)\"/>\n        <path d=\"M 1228 531 \nL 3431 531 \nL 3431 0 \nL 469 0 \nL 469 531 \nQ 828 903 1448 1529 \nQ 2069 2156 2228 2338 \nQ 2531 2678 2651 2914 \nQ 2772 3150 2772 3378 \nQ 2772 3750 2511 3984 \nQ 2250 4219 1831 4219 \nQ 1534 4219 1204 4116 \nQ 875 4013 500 3803 \nL 500 4441 \nQ 881 4594 1212 4672 \nQ 1544 4750 1819 4750 \nQ 2544 4750 2975 4387 \nQ 3406 4025 3406 3419 \nQ 3406 3131 3298 2873 \nQ 3191 2616 2906 2266 \nQ 2828 2175 2409 1742 \nQ 1991 1309 1228 531 \nz\n\" id=\"DejaVuSans-32\" transform=\"scale(0.015625)\"/>\n        <path d=\"M 2034 4250 \nQ 1547 4250 1301 3770 \nQ 1056 3291 1056 2328 \nQ 1056 1369 1301 889 \nQ 1547 409 2034 409 \nQ 2525 409 2770 889 \nQ 3016 1369 3016 2328 \nQ 3016 3291 2770 3770 \nQ 2525 4250 2034 4250 \nz\nM 2034 4750 \nQ 2819 4750 3233 4129 \nQ 3647 3509 3647 2328 \nQ 3647 1150 3233 529 \nQ 2819 -91 2034 -91 \nQ 1250 -91 836 529 \nQ 422 1150 422 2328 \nQ 422 3509 836 4129 \nQ 1250 4750 2034 4750 \nz\n\" id=\"DejaVuSans-30\" transform=\"scale(0.015625)\"/>\n       </defs>\n       <use xlink:href=\"#DejaVuSans-76\"/>\n       <use x=\"51.429688\" xlink:href=\"#DejaVuSans-2e\"/>\n       <use x=\"83.216797\" xlink:href=\"#DejaVuSans-36\"/>\n       <use x=\"146.839844\" xlink:href=\"#DejaVuSans-20\"/>\n       <use x=\"178.626953\" xlink:href=\"#DejaVuSans-32\"/>\n       <use x=\"242.25\" xlink:href=\"#DejaVuSans-30\"/>\n       <use x=\"305.873047\" xlink:href=\"#DejaVuSans-32\"/>\n       <use x=\"369.496094\" xlink:href=\"#DejaVuSans-30\"/>\n      </g>\n     </g>\n    </g>\n    <g id=\"xtick_2\">\n     <g id=\"line2d_3\">\n      <path clip-path=\"url(#p0782fb20d6)\" d=\"M 78.926392 119.630769 \nL 78.926392 36 \n\" style=\"fill:none;stroke:#b0b0b0;stroke-linecap:square;stroke-width:0.8;\"/>\n     </g>\n     <g id=\"line2d_4\">\n      <g>\n       <use style=\"stroke:#000000;stroke-width:0.8;\" x=\"78.926392\" xlink:href=\"#m745043c68d\" y=\"119.630769\"/>\n      </g>\n     </g>\n     <g id=\"text_2\">\n      <!-- v.28 2020 -->\n      <g transform=\"translate(66.507642 130.429988)scale(0.05 -0.05)\">\n       <defs>\n        <path d=\"M 2034 2216 \nQ 1584 2216 1326 1975 \nQ 1069 1734 1069 1313 \nQ 1069 891 1326 650 \nQ 1584 409 2034 409 \nQ 2484 409 2743 651 \nQ 3003 894 3003 1313 \nQ 3003 1734 2745 1975 \nQ 2488 2216 2034 2216 \nz\nM 1403 2484 \nQ 997 2584 770 2862 \nQ 544 3141 544 3541 \nQ 544 4100 942 4425 \nQ 1341 4750 2034 4750 \nQ 2731 4750 3128 4425 \nQ 3525 4100 3525 3541 \nQ 3525 3141 3298 2862 \nQ 3072 2584 2669 2484 \nQ 3125 2378 3379 2068 \nQ 3634 1759 3634 1313 \nQ 3634 634 3220 271 \nQ 2806 -91 2034 -91 \nQ 1263 -91 848 271 \nQ 434 634 434 1313 \nQ 434 1759 690 2068 \nQ 947 2378 1403 2484 \nz\nM 1172 3481 \nQ 1172 3119 1398 2916 \nQ 1625 2713 2034 2713 \nQ 2441 2713 2670 2916 \nQ 2900 3119 2900 3481 \nQ 2900 3844 2670 4047 \nQ 2441 4250 2034 4250 \nQ 1625 4250 1398 4047 \nQ 1172 3844 1172 3481 \nz\n\" id=\"DejaVuSans-38\" transform=\"scale(0.015625)\"/>\n       </defs>\n       <use xlink:href=\"#DejaVuSans-76\"/>\n       <use x=\"51.429688\" xlink:href=\"#DejaVuSans-2e\"/>\n       <use x=\"83.216797\" xlink:href=\"#DejaVuSans-32\"/>\n       <use x=\"146.839844\" xlink:href=\"#DejaVuSans-38\"/>\n       <use x=\"210.462891\" xlink:href=\"#DejaVuSans-20\"/>\n       <use x=\"242.25\" xlink:href=\"#DejaVuSans-32\"/>\n       <use x=\"305.873047\" xlink:href=\"#DejaVuSans-30\"/>\n       <use x=\"369.496094\" xlink:href=\"#DejaVuSans-32\"/>\n       <use x=\"433.119141\" xlink:href=\"#DejaVuSans-30\"/>\n      </g>\n     </g>\n    </g>\n    <g id=\"xtick_3\">\n     <g id=\"line2d_5\">\n      <path clip-path=\"url(#p0782fb20d6)\" d=\"M 110.630937 119.630769 \nL 110.630937 36 \n\" style=\"fill:none;stroke:#b0b0b0;stroke-linecap:square;stroke-width:0.8;\"/>\n     </g>\n     <g id=\"line2d_6\">\n      <g>\n       <use style=\"stroke:#000000;stroke-width:0.8;\" x=\"110.630937\" xlink:href=\"#m745043c68d\" y=\"119.630769\"/>\n      </g>\n     </g>\n     <g id=\"text_3\">\n      <!-- v.50 2020 -->\n      <g transform=\"translate(98.212187 130.429988)scale(0.05 -0.05)\">\n       <defs>\n        <path d=\"M 691 4666 \nL 3169 4666 \nL 3169 4134 \nL 1269 4134 \nL 1269 2991 \nQ 1406 3038 1543 3061 \nQ 1681 3084 1819 3084 \nQ 2600 3084 3056 2656 \nQ 3513 2228 3513 1497 \nQ 3513 744 3044 326 \nQ 2575 -91 1722 -91 \nQ 1428 -91 1123 -41 \nQ 819 9 494 109 \nL 494 744 \nQ 775 591 1075 516 \nQ 1375 441 1709 441 \nQ 2250 441 2565 725 \nQ 2881 1009 2881 1497 \nQ 2881 1984 2565 2268 \nQ 2250 2553 1709 2553 \nQ 1456 2553 1204 2497 \nQ 953 2441 691 2322 \nL 691 4666 \nz\n\" id=\"DejaVuSans-35\" transform=\"scale(0.015625)\"/>\n       </defs>\n       <use xlink:href=\"#DejaVuSans-76\"/>\n       <use x=\"51.429688\" xlink:href=\"#DejaVuSans-2e\"/>\n       <use x=\"83.216797\" xlink:href=\"#DejaVuSans-35\"/>\n       <use x=\"146.839844\" xlink:href=\"#DejaVuSans-30\"/>\n       <use x=\"210.462891\" xlink:href=\"#DejaVuSans-20\"/>\n       <use x=\"242.25\" xlink:href=\"#DejaVuSans-32\"/>\n       <use x=\"305.873047\" xlink:href=\"#DejaVuSans-30\"/>\n       <use x=\"369.496094\" xlink:href=\"#DejaVuSans-32\"/>\n       <use x=\"433.119141\" xlink:href=\"#DejaVuSans-30\"/>\n      </g>\n     </g>\n    </g>\n    <g id=\"xtick_4\">\n     <g id=\"line2d_7\">\n      <path clip-path=\"url(#p0782fb20d6)\" d=\"M 142.335483 119.630769 \nL 142.335483 36 \n\" style=\"fill:none;stroke:#b0b0b0;stroke-linecap:square;stroke-width:0.8;\"/>\n     </g>\n     <g id=\"line2d_8\">\n      <g>\n       <use style=\"stroke:#000000;stroke-width:0.8;\" x=\"142.335483\" xlink:href=\"#m745043c68d\" y=\"119.630769\"/>\n      </g>\n     </g>\n     <g id=\"text_4\">\n      <!-- v.19 2021 -->\n      <g transform=\"translate(129.916733 130.429988)scale(0.05 -0.05)\">\n       <defs>\n        <path d=\"M 794 531 \nL 1825 531 \nL 1825 4091 \nL 703 3866 \nL 703 4441 \nL 1819 4666 \nL 2450 4666 \nL 2450 531 \nL 3481 531 \nL 3481 0 \nL 794 0 \nL 794 531 \nz\n\" id=\"DejaVuSans-31\" transform=\"scale(0.015625)\"/>\n        <path d=\"M 703 97 \nL 703 672 \nQ 941 559 1184 500 \nQ 1428 441 1663 441 \nQ 2288 441 2617 861 \nQ 2947 1281 2994 2138 \nQ 2813 1869 2534 1725 \nQ 2256 1581 1919 1581 \nQ 1219 1581 811 2004 \nQ 403 2428 403 3163 \nQ 403 3881 828 4315 \nQ 1253 4750 1959 4750 \nQ 2769 4750 3195 4129 \nQ 3622 3509 3622 2328 \nQ 3622 1225 3098 567 \nQ 2575 -91 1691 -91 \nQ 1453 -91 1209 -44 \nQ 966 3 703 97 \nz\nM 1959 2075 \nQ 2384 2075 2632 2365 \nQ 2881 2656 2881 3163 \nQ 2881 3666 2632 3958 \nQ 2384 4250 1959 4250 \nQ 1534 4250 1286 3958 \nQ 1038 3666 1038 3163 \nQ 1038 2656 1286 2365 \nQ 1534 2075 1959 2075 \nz\n\" id=\"DejaVuSans-39\" transform=\"scale(0.015625)\"/>\n       </defs>\n       <use xlink:href=\"#DejaVuSans-76\"/>\n       <use x=\"51.429688\" xlink:href=\"#DejaVuSans-2e\"/>\n       <use x=\"83.216797\" xlink:href=\"#DejaVuSans-31\"/>\n       <use x=\"146.839844\" xlink:href=\"#DejaVuSans-39\"/>\n       <use x=\"210.462891\" xlink:href=\"#DejaVuSans-20\"/>\n       <use x=\"242.25\" xlink:href=\"#DejaVuSans-32\"/>\n       <use x=\"305.873047\" xlink:href=\"#DejaVuSans-30\"/>\n       <use x=\"369.496094\" xlink:href=\"#DejaVuSans-32\"/>\n       <use x=\"433.119141\" xlink:href=\"#DejaVuSans-31\"/>\n      </g>\n     </g>\n    </g>\n    <g id=\"xtick_5\">\n     <g id=\"line2d_9\">\n      <path clip-path=\"url(#p0782fb20d6)\" d=\"M 174.040028 119.630769 \nL 174.040028 36 \n\" style=\"fill:none;stroke:#b0b0b0;stroke-linecap:square;stroke-width:0.8;\"/>\n     </g>\n     <g id=\"line2d_10\">\n      <g>\n       <use style=\"stroke:#000000;stroke-width:0.8;\" x=\"174.040028\" xlink:href=\"#m745043c68d\" y=\"119.630769\"/>\n      </g>\n     </g>\n     <g id=\"text_5\">\n      <!-- v.41 2021 -->\n      <g transform=\"translate(161.621278 130.429988)scale(0.05 -0.05)\">\n       <defs>\n        <path d=\"M 2419 4116 \nL 825 1625 \nL 2419 1625 \nL 2419 4116 \nz\nM 2253 4666 \nL 3047 4666 \nL 3047 1625 \nL 3713 1625 \nL 3713 1100 \nL 3047 1100 \nL 3047 0 \nL 2419 0 \nL 2419 1100 \nL 313 1100 \nL 313 1709 \nL 2253 4666 \nz\n\" id=\"DejaVuSans-34\" transform=\"scale(0.015625)\"/>\n       </defs>\n       <use xlink:href=\"#DejaVuSans-76\"/>\n       <use x=\"51.429688\" xlink:href=\"#DejaVuSans-2e\"/>\n       <use x=\"83.216797\" xlink:href=\"#DejaVuSans-34\"/>\n       <use x=\"146.839844\" xlink:href=\"#DejaVuSans-31\"/>\n       <use x=\"210.462891\" xlink:href=\"#DejaVuSans-20\"/>\n       <use x=\"242.25\" xlink:href=\"#DejaVuSans-32\"/>\n       <use x=\"305.873047\" xlink:href=\"#DejaVuSans-30\"/>\n       <use x=\"369.496094\" xlink:href=\"#DejaVuSans-32\"/>\n       <use x=\"433.119141\" xlink:href=\"#DejaVuSans-31\"/>\n      </g>\n     </g>\n    </g>\n    <g id=\"text_6\">\n     <!-- Week -->\n     <g transform=\"translate(101.042031 140.788738)scale(0.07 -0.07)\">\n      <defs>\n       <path d=\"M 213 4666 \nL 850 4666 \nL 1831 722 \nL 2809 4666 \nL 3519 4666 \nL 4500 722 \nL 5478 4666 \nL 6119 4666 \nL 4947 0 \nL 4153 0 \nL 3169 4050 \nL 2175 0 \nL 1381 0 \nL 213 4666 \nz\n\" id=\"DejaVuSans-57\" transform=\"scale(0.015625)\"/>\n       <path d=\"M 3597 1894 \nL 3597 1613 \nL 953 1613 \nQ 991 1019 1311 708 \nQ 1631 397 2203 397 \nQ 2534 397 2845 478 \nQ 3156 559 3463 722 \nL 3463 178 \nQ 3153 47 2828 -22 \nQ 2503 -91 2169 -91 \nQ 1331 -91 842 396 \nQ 353 884 353 1716 \nQ 353 2575 817 3079 \nQ 1281 3584 2069 3584 \nQ 2775 3584 3186 3129 \nQ 3597 2675 3597 1894 \nz\nM 3022 2063 \nQ 3016 2534 2758 2815 \nQ 2500 3097 2075 3097 \nQ 1594 3097 1305 2825 \nQ 1016 2553 972 2059 \nL 3022 2063 \nz\n\" id=\"DejaVuSans-65\" transform=\"scale(0.015625)\"/>\n       <path d=\"M 581 4863 \nL 1159 4863 \nL 1159 1991 \nL 2875 3500 \nL 3609 3500 \nL 1753 1863 \nL 3688 0 \nL 2938 0 \nL 1159 1709 \nL 1159 0 \nL 581 0 \nL 581 4863 \nz\n\" id=\"DejaVuSans-6b\" transform=\"scale(0.015625)\"/>\n      </defs>\n      <use xlink:href=\"#DejaVuSans-57\"/>\n      <use x=\"93.001953\" xlink:href=\"#DejaVuSans-65\"/>\n      <use x=\"154.525391\" xlink:href=\"#DejaVuSans-65\"/>\n      <use x=\"216.048828\" xlink:href=\"#DejaVuSans-6b\"/>\n     </g>\n    </g>\n   </g>\n   <g id=\"matplotlib.axis_2\">\n    <g id=\"ytick_1\">\n     <g id=\"line2d_11\">\n      <path clip-path=\"url(#p0782fb20d6)\" d=\"M 40.880938 115.829371 \nL 180.380938 115.829371 \n\" style=\"fill:none;stroke:#b0b0b0;stroke-linecap:square;stroke-width:0.8;\"/>\n     </g>\n     <g id=\"line2d_12\">\n      <defs>\n       <path d=\"M 0 0 \nL -3.5 0 \n\" id=\"mf6ae123978\" style=\"stroke:#000000;stroke-width:0.8;\"/>\n      </defs>\n      <g>\n       <use style=\"stroke:#000000;stroke-width:0.8;\" x=\"40.880938\" xlink:href=\"#mf6ae123978\" y=\"115.829371\"/>\n      </g>\n     </g>\n     <g id=\"text_7\">\n      <!-- 0 -->\n      <g transform=\"translate(30.699688 117.72898)scale(0.05 -0.05)\">\n       <use xlink:href=\"#DejaVuSans-30\"/>\n      </g>\n     </g>\n    </g>\n    <g id=\"ytick_2\">\n     <g id=\"line2d_13\">\n      <path clip-path=\"url(#p0782fb20d6)\" d=\"M 40.880938 92.929379 \nL 180.380938 92.929379 \n\" style=\"fill:none;stroke:#b0b0b0;stroke-linecap:square;stroke-width:0.8;\"/>\n     </g>\n     <g id=\"line2d_14\">\n      <g>\n       <use style=\"stroke:#000000;stroke-width:0.8;\" x=\"40.880938\" xlink:href=\"#mf6ae123978\" y=\"92.929379\"/>\n      </g>\n     </g>\n     <g id=\"text_8\">\n      <!-- 200 -->\n      <g transform=\"translate(24.337187 94.828988)scale(0.05 -0.05)\">\n       <use xlink:href=\"#DejaVuSans-32\"/>\n       <use x=\"63.623047\" xlink:href=\"#DejaVuSans-30\"/>\n       <use x=\"127.246094\" xlink:href=\"#DejaVuSans-30\"/>\n      </g>\n     </g>\n    </g>\n    <g id=\"ytick_3\">\n     <g id=\"line2d_15\">\n      <path clip-path=\"url(#p0782fb20d6)\" d=\"M 40.880938 70.029387 \nL 180.380938 70.029387 \n\" style=\"fill:none;stroke:#b0b0b0;stroke-linecap:square;stroke-width:0.8;\"/>\n     </g>\n     <g id=\"line2d_16\">\n      <g>\n       <use style=\"stroke:#000000;stroke-width:0.8;\" x=\"40.880938\" xlink:href=\"#mf6ae123978\" y=\"70.029387\"/>\n      </g>\n     </g>\n     <g id=\"text_9\">\n      <!-- 400 -->\n      <g transform=\"translate(24.337187 71.928997)scale(0.05 -0.05)\">\n       <use xlink:href=\"#DejaVuSans-34\"/>\n       <use x=\"63.623047\" xlink:href=\"#DejaVuSans-30\"/>\n       <use x=\"127.246094\" xlink:href=\"#DejaVuSans-30\"/>\n      </g>\n     </g>\n    </g>\n    <g id=\"ytick_4\">\n     <g id=\"line2d_17\">\n      <path clip-path=\"url(#p0782fb20d6)\" d=\"M 40.880938 47.129396 \nL 180.380938 47.129396 \n\" style=\"fill:none;stroke:#b0b0b0;stroke-linecap:square;stroke-width:0.8;\"/>\n     </g>\n     <g id=\"line2d_18\">\n      <g>\n       <use style=\"stroke:#000000;stroke-width:0.8;\" x=\"40.880938\" xlink:href=\"#mf6ae123978\" y=\"47.129396\"/>\n      </g>\n     </g>\n     <g id=\"text_10\">\n      <!-- 600 -->\n      <g transform=\"translate(24.337187 49.029005)scale(0.05 -0.05)\">\n       <use xlink:href=\"#DejaVuSans-36\"/>\n       <use x=\"63.623047\" xlink:href=\"#DejaVuSans-30\"/>\n       <use x=\"127.246094\" xlink:href=\"#DejaVuSans-30\"/>\n      </g>\n     </g>\n    </g>\n    <g id=\"text_11\">\n     <!-- Number of Deceased -->\n     <g transform=\"translate(18.881406 114.744213)rotate(-90)scale(0.07 -0.07)\">\n      <defs>\n       <path d=\"M 628 4666 \nL 1478 4666 \nL 3547 763 \nL 3547 4666 \nL 4159 4666 \nL 4159 0 \nL 3309 0 \nL 1241 3903 \nL 1241 0 \nL 628 0 \nL 628 4666 \nz\n\" id=\"DejaVuSans-4e\" transform=\"scale(0.015625)\"/>\n       <path d=\"M 544 1381 \nL 544 3500 \nL 1119 3500 \nL 1119 1403 \nQ 1119 906 1312 657 \nQ 1506 409 1894 409 \nQ 2359 409 2629 706 \nQ 2900 1003 2900 1516 \nL 2900 3500 \nL 3475 3500 \nL 3475 0 \nL 2900 0 \nL 2900 538 \nQ 2691 219 2414 64 \nQ 2138 -91 1772 -91 \nQ 1169 -91 856 284 \nQ 544 659 544 1381 \nz\nM 1991 3584 \nL 1991 3584 \nz\n\" id=\"DejaVuSans-75\" transform=\"scale(0.015625)\"/>\n       <path d=\"M 3328 2828 \nQ 3544 3216 3844 3400 \nQ 4144 3584 4550 3584 \nQ 5097 3584 5394 3201 \nQ 5691 2819 5691 2113 \nL 5691 0 \nL 5113 0 \nL 5113 2094 \nQ 5113 2597 4934 2840 \nQ 4756 3084 4391 3084 \nQ 3944 3084 3684 2787 \nQ 3425 2491 3425 1978 \nL 3425 0 \nL 2847 0 \nL 2847 2094 \nQ 2847 2600 2669 2842 \nQ 2491 3084 2119 3084 \nQ 1678 3084 1418 2786 \nQ 1159 2488 1159 1978 \nL 1159 0 \nL 581 0 \nL 581 3500 \nL 1159 3500 \nL 1159 2956 \nQ 1356 3278 1631 3431 \nQ 1906 3584 2284 3584 \nQ 2666 3584 2933 3390 \nQ 3200 3197 3328 2828 \nz\n\" id=\"DejaVuSans-6d\" transform=\"scale(0.015625)\"/>\n       <path d=\"M 3116 1747 \nQ 3116 2381 2855 2742 \nQ 2594 3103 2138 3103 \nQ 1681 3103 1420 2742 \nQ 1159 2381 1159 1747 \nQ 1159 1113 1420 752 \nQ 1681 391 2138 391 \nQ 2594 391 2855 752 \nQ 3116 1113 3116 1747 \nz\nM 1159 2969 \nQ 1341 3281 1617 3432 \nQ 1894 3584 2278 3584 \nQ 2916 3584 3314 3078 \nQ 3713 2572 3713 1747 \nQ 3713 922 3314 415 \nQ 2916 -91 2278 -91 \nQ 1894 -91 1617 61 \nQ 1341 213 1159 525 \nL 1159 0 \nL 581 0 \nL 581 4863 \nL 1159 4863 \nL 1159 2969 \nz\n\" id=\"DejaVuSans-62\" transform=\"scale(0.015625)\"/>\n       <path d=\"M 2631 2963 \nQ 2534 3019 2420 3045 \nQ 2306 3072 2169 3072 \nQ 1681 3072 1420 2755 \nQ 1159 2438 1159 1844 \nL 1159 0 \nL 581 0 \nL 581 3500 \nL 1159 3500 \nL 1159 2956 \nQ 1341 3275 1631 3429 \nQ 1922 3584 2338 3584 \nQ 2397 3584 2469 3576 \nQ 2541 3569 2628 3553 \nL 2631 2963 \nz\n\" id=\"DejaVuSans-72\" transform=\"scale(0.015625)\"/>\n       <path d=\"M 1959 3097 \nQ 1497 3097 1228 2736 \nQ 959 2375 959 1747 \nQ 959 1119 1226 758 \nQ 1494 397 1959 397 \nQ 2419 397 2687 759 \nQ 2956 1122 2956 1747 \nQ 2956 2369 2687 2733 \nQ 2419 3097 1959 3097 \nz\nM 1959 3584 \nQ 2709 3584 3137 3096 \nQ 3566 2609 3566 1747 \nQ 3566 888 3137 398 \nQ 2709 -91 1959 -91 \nQ 1206 -91 779 398 \nQ 353 888 353 1747 \nQ 353 2609 779 3096 \nQ 1206 3584 1959 3584 \nz\n\" id=\"DejaVuSans-6f\" transform=\"scale(0.015625)\"/>\n       <path d=\"M 2375 4863 \nL 2375 4384 \nL 1825 4384 \nQ 1516 4384 1395 4259 \nQ 1275 4134 1275 3809 \nL 1275 3500 \nL 2222 3500 \nL 2222 3053 \nL 1275 3053 \nL 1275 0 \nL 697 0 \nL 697 3053 \nL 147 3053 \nL 147 3500 \nL 697 3500 \nL 697 3744 \nQ 697 4328 969 4595 \nQ 1241 4863 1831 4863 \nL 2375 4863 \nz\n\" id=\"DejaVuSans-66\" transform=\"scale(0.015625)\"/>\n       <path d=\"M 1259 4147 \nL 1259 519 \nL 2022 519 \nQ 2988 519 3436 956 \nQ 3884 1394 3884 2338 \nQ 3884 3275 3436 3711 \nQ 2988 4147 2022 4147 \nL 1259 4147 \nz\nM 628 4666 \nL 1925 4666 \nQ 3281 4666 3915 4102 \nQ 4550 3538 4550 2338 \nQ 4550 1131 3912 565 \nQ 3275 0 1925 0 \nL 628 0 \nL 628 4666 \nz\n\" id=\"DejaVuSans-44\" transform=\"scale(0.015625)\"/>\n       <path d=\"M 3122 3366 \nL 3122 2828 \nQ 2878 2963 2633 3030 \nQ 2388 3097 2138 3097 \nQ 1578 3097 1268 2742 \nQ 959 2388 959 1747 \nQ 959 1106 1268 751 \nQ 1578 397 2138 397 \nQ 2388 397 2633 464 \nQ 2878 531 3122 666 \nL 3122 134 \nQ 2881 22 2623 -34 \nQ 2366 -91 2075 -91 \nQ 1284 -91 818 406 \nQ 353 903 353 1747 \nQ 353 2603 823 3093 \nQ 1294 3584 2113 3584 \nQ 2378 3584 2631 3529 \nQ 2884 3475 3122 3366 \nz\n\" id=\"DejaVuSans-63\" transform=\"scale(0.015625)\"/>\n       <path d=\"M 2194 1759 \nQ 1497 1759 1228 1600 \nQ 959 1441 959 1056 \nQ 959 750 1161 570 \nQ 1363 391 1709 391 \nQ 2188 391 2477 730 \nQ 2766 1069 2766 1631 \nL 2766 1759 \nL 2194 1759 \nz\nM 3341 1997 \nL 3341 0 \nL 2766 0 \nL 2766 531 \nQ 2569 213 2275 61 \nQ 1981 -91 1556 -91 \nQ 1019 -91 701 211 \nQ 384 513 384 1019 \nQ 384 1609 779 1909 \nQ 1175 2209 1959 2209 \nL 2766 2209 \nL 2766 2266 \nQ 2766 2663 2505 2880 \nQ 2244 3097 1772 3097 \nQ 1472 3097 1187 3025 \nQ 903 2953 641 2809 \nL 641 3341 \nQ 956 3463 1253 3523 \nQ 1550 3584 1831 3584 \nQ 2591 3584 2966 3190 \nQ 3341 2797 3341 1997 \nz\n\" id=\"DejaVuSans-61\" transform=\"scale(0.015625)\"/>\n       <path d=\"M 2834 3397 \nL 2834 2853 \nQ 2591 2978 2328 3040 \nQ 2066 3103 1784 3103 \nQ 1356 3103 1142 2972 \nQ 928 2841 928 2578 \nQ 928 2378 1081 2264 \nQ 1234 2150 1697 2047 \nL 1894 2003 \nQ 2506 1872 2764 1633 \nQ 3022 1394 3022 966 \nQ 3022 478 2636 193 \nQ 2250 -91 1575 -91 \nQ 1294 -91 989 -36 \nQ 684 19 347 128 \nL 347 722 \nQ 666 556 975 473 \nQ 1284 391 1588 391 \nQ 1994 391 2212 530 \nQ 2431 669 2431 922 \nQ 2431 1156 2273 1281 \nQ 2116 1406 1581 1522 \nL 1381 1569 \nQ 847 1681 609 1914 \nQ 372 2147 372 2553 \nQ 372 3047 722 3315 \nQ 1072 3584 1716 3584 \nQ 2034 3584 2315 3537 \nQ 2597 3491 2834 3397 \nz\n\" id=\"DejaVuSans-73\" transform=\"scale(0.015625)\"/>\n       <path d=\"M 2906 2969 \nL 2906 4863 \nL 3481 4863 \nL 3481 0 \nL 2906 0 \nL 2906 525 \nQ 2725 213 2448 61 \nQ 2172 -91 1784 -91 \nQ 1150 -91 751 415 \nQ 353 922 353 1747 \nQ 353 2572 751 3078 \nQ 1150 3584 1784 3584 \nQ 2172 3584 2448 3432 \nQ 2725 3281 2906 2969 \nz\nM 947 1747 \nQ 947 1113 1208 752 \nQ 1469 391 1925 391 \nQ 2381 391 2643 752 \nQ 2906 1113 2906 1747 \nQ 2906 2381 2643 2742 \nQ 2381 3103 1925 3103 \nQ 1469 3103 1208 2742 \nQ 947 2381 947 1747 \nz\n\" id=\"DejaVuSans-64\" transform=\"scale(0.015625)\"/>\n      </defs>\n      <use xlink:href=\"#DejaVuSans-4e\"/>\n      <use x=\"74.804688\" xlink:href=\"#DejaVuSans-75\"/>\n      <use x=\"138.183594\" xlink:href=\"#DejaVuSans-6d\"/>\n      <use x=\"235.595703\" xlink:href=\"#DejaVuSans-62\"/>\n      <use x=\"299.072266\" xlink:href=\"#DejaVuSans-65\"/>\n      <use x=\"360.595703\" xlink:href=\"#DejaVuSans-72\"/>\n      <use x=\"401.708984\" xlink:href=\"#DejaVuSans-20\"/>\n      <use x=\"433.496094\" xlink:href=\"#DejaVuSans-6f\"/>\n      <use x=\"494.677734\" xlink:href=\"#DejaVuSans-66\"/>\n      <use x=\"529.882812\" xlink:href=\"#DejaVuSans-20\"/>\n      <use x=\"561.669922\" xlink:href=\"#DejaVuSans-44\"/>\n      <use x=\"638.671875\" xlink:href=\"#DejaVuSans-65\"/>\n      <use x=\"700.195312\" xlink:href=\"#DejaVuSans-63\"/>\n      <use x=\"755.175781\" xlink:href=\"#DejaVuSans-65\"/>\n      <use x=\"816.699219\" xlink:href=\"#DejaVuSans-61\"/>\n      <use x=\"877.978516\" xlink:href=\"#DejaVuSans-73\"/>\n      <use x=\"930.078125\" xlink:href=\"#DejaVuSans-65\"/>\n      <use x=\"991.601562\" xlink:href=\"#DejaVuSans-64\"/>\n     </g>\n    </g>\n   </g>\n   <g id=\"line2d_19\">\n    <path clip-path=\"url(#p0782fb20d6)\" d=\"M 47.221847 115.829371 \nL 48.662962 115.829371 \nL 50.104078 115.829371 \nL 51.545194 115.829371 \nL 52.986309 115.829371 \nL 54.427425 115.256871 \nL 55.868541 110.791372 \nL 57.309657 94.074379 \nL 58.750772 64.18989 \nL 60.191888 39.801399 \nL 61.633004 40.602898 \nL 63.074119 53.312394 \nL 64.515235 53.655894 \nL 65.956351 57.548892 \nL 67.397466 72.319387 \nL 68.838582 74.609386 \nL 70.279698 84.685382 \nL 71.720814 87.662381 \nL 73.161929 89.03638 \nL 74.603045 92.929379 \nL 76.044161 100.028376 \nL 77.485276 104.608375 \nL 78.926392 106.211374 \nL 80.367508 109.302873 \nL 81.808623 112.394372 \nL 83.249739 113.768371 \nL 84.690855 113.768371 \nL 86.131971 113.997371 \nL 87.573086 113.653871 \nL 89.014202 114.684371 \nL 90.455318 114.455371 \nL 91.896433 114.340871 \nL 93.337549 114.455371 \nL 94.778665 114.569871 \nL 96.21978 113.882871 \nL 97.660896 113.310372 \nL 99.102012 113.997371 \nL 100.543128 110.905872 \nL 101.984243 106.440374 \nL 103.425359 97.852877 \nL 104.866475 88.921881 \nL 106.30759 77.815385 \nL 107.748706 68.082888 \nL 109.189822 61.327391 \nL 110.630937 58.464892 \nL 112.072053 41.976898 \nL 113.513169 42.205898 \nL 114.954285 39.915899 \nL 116.3954 42.091398 \nL 117.836516 47.358396 \nL 119.277632 57.090892 \nL 120.718747 71.288887 \nL 122.159863 85.028882 \nL 123.600979 92.356879 \nL 125.042095 96.249878 \nL 126.48321 99.112377 \nL 127.924326 101.173376 \nL 129.365442 99.799377 \nL 130.806557 101.287876 \nL 132.247673 101.516876 \nL 133.688789 99.684877 \nL 135.129904 100.600876 \nL 136.57102 99.799377 \nL 138.012136 100.829876 \nL 139.453252 102.776375 \nL 140.894367 103.806875 \nL 142.335483 103.119875 \nL 143.776599 107.928874 \nL 145.217714 110.447873 \nL 146.65883 111.363872 \nL 148.099946 113.310372 \nL 149.541061 113.882871 \nL 150.982177 114.798871 \nL 152.423293 114.913371 \nL 153.864409 115.485871 \nL 155.305524 115.600371 \nL 156.74664 115.485871 \nL 158.187756 115.485871 \nL 159.628871 115.027871 \nL 161.069987 115.142371 \nL 162.511103 114.798871 \nL 163.952218 113.539371 \nL 165.393334 112.852372 \nL 166.83445 110.218873 \nL 168.275566 109.875373 \nL 169.716681 111.249372 \nL 171.157797 111.592872 \nL 172.598913 111.020372 \nL 174.040028 113.768371 \n\" style=\"fill:none;stroke:#1f77b4;stroke-linecap:square;stroke-width:1.5;\"/>\n   </g>\n   <g id=\"patch_3\">\n    <path d=\"M 40.880938 119.630769 \nL 40.880938 36 \n\" style=\"fill:none;stroke:#000000;stroke-linecap:square;stroke-linejoin:miter;stroke-width:0.8;\"/>\n   </g>\n   <g id=\"patch_4\">\n    <path d=\"M 180.380938 119.630769 \nL 180.380938 36 \n\" style=\"fill:none;stroke:#000000;stroke-linecap:square;stroke-linejoin:miter;stroke-width:0.8;\"/>\n   </g>\n   <g id=\"patch_5\">\n    <path d=\"M 40.880938 119.630769 \nL 180.380938 119.630769 \n\" style=\"fill:none;stroke:#000000;stroke-linecap:square;stroke-linejoin:miter;stroke-width:0.8;\"/>\n   </g>\n   <g id=\"patch_6\">\n    <path d=\"M 40.880938 36 \nL 180.380938 36 \n\" style=\"fill:none;stroke:#000000;stroke-linecap:square;stroke-linejoin:miter;stroke-width:0.8;\"/>\n   </g>\n   <g id=\"text_12\">\n    <!-- Deceased per Week -->\n    <g transform=\"translate(65.761719 30)scale(0.09 -0.09)\">\n     <defs>\n      <path d=\"M 1159 525 \nL 1159 -1331 \nL 581 -1331 \nL 581 3500 \nL 1159 3500 \nL 1159 2969 \nQ 1341 3281 1617 3432 \nQ 1894 3584 2278 3584 \nQ 2916 3584 3314 3078 \nQ 3713 2572 3713 1747 \nQ 3713 922 3314 415 \nQ 2916 -91 2278 -91 \nQ 1894 -91 1617 61 \nQ 1341 213 1159 525 \nz\nM 3116 1747 \nQ 3116 2381 2855 2742 \nQ 2594 3103 2138 3103 \nQ 1681 3103 1420 2742 \nQ 1159 2381 1159 1747 \nQ 1159 1113 1420 752 \nQ 1681 391 2138 391 \nQ 2594 391 2855 752 \nQ 3116 1113 3116 1747 \nz\n\" id=\"DejaVuSans-70\" transform=\"scale(0.015625)\"/>\n     </defs>\n     <use xlink:href=\"#DejaVuSans-44\"/>\n     <use x=\"77.001953\" xlink:href=\"#DejaVuSans-65\"/>\n     <use x=\"138.525391\" xlink:href=\"#DejaVuSans-63\"/>\n     <use x=\"193.505859\" xlink:href=\"#DejaVuSans-65\"/>\n     <use x=\"255.029297\" xlink:href=\"#DejaVuSans-61\"/>\n     <use x=\"316.308594\" xlink:href=\"#DejaVuSans-73\"/>\n     <use x=\"368.408203\" xlink:href=\"#DejaVuSans-65\"/>\n     <use x=\"429.931641\" xlink:href=\"#DejaVuSans-64\"/>\n     <use x=\"493.408203\" xlink:href=\"#DejaVuSans-20\"/>\n     <use x=\"525.195312\" xlink:href=\"#DejaVuSans-70\"/>\n     <use x=\"588.671875\" xlink:href=\"#DejaVuSans-65\"/>\n     <use x=\"650.195312\" xlink:href=\"#DejaVuSans-72\"/>\n     <use x=\"691.308594\" xlink:href=\"#DejaVuSans-20\"/>\n     <use x=\"723.095703\" xlink:href=\"#DejaVuSans-57\"/>\n     <use x=\"816.097656\" xlink:href=\"#DejaVuSans-65\"/>\n     <use x=\"877.621094\" xlink:href=\"#DejaVuSans-65\"/>\n     <use x=\"939.144531\" xlink:href=\"#DejaVuSans-6b\"/>\n    </g>\n   </g>\n  </g>\n  <g id=\"axes_2\">\n   <g id=\"patch_7\">\n    <path d=\"M 236.180938 119.630769 \nL 375.680938 119.630769 \nL 375.680938 36 \nL 236.180938 36 \nz\n\" style=\"fill:#ffffff;\"/>\n   </g>\n   <g id=\"matplotlib.axis_3\">\n    <g id=\"xtick_6\">\n     <g id=\"line2d_20\">\n      <path clip-path=\"url(#p52f5719a8f)\" d=\"M 242.521847 119.630769 \nL 242.521847 36 \n\" style=\"fill:none;stroke:#b0b0b0;stroke-linecap:square;stroke-width:0.8;\"/>\n     </g>\n     <g id=\"line2d_21\">\n      <g>\n       <use style=\"stroke:#000000;stroke-width:0.8;\" x=\"242.521847\" xlink:href=\"#m745043c68d\" y=\"119.630769\"/>\n      </g>\n     </g>\n     <g id=\"text_13\">\n      <!-- v.6 2020 -->\n      <g transform=\"translate(231.693722 130.429988)scale(0.05 -0.05)\">\n       <use xlink:href=\"#DejaVuSans-76\"/>\n       <use x=\"51.429688\" xlink:href=\"#DejaVuSans-2e\"/>\n       <use x=\"83.216797\" xlink:href=\"#DejaVuSans-36\"/>\n       <use x=\"146.839844\" xlink:href=\"#DejaVuSans-20\"/>\n       <use x=\"178.626953\" xlink:href=\"#DejaVuSans-32\"/>\n       <use x=\"242.25\" xlink:href=\"#DejaVuSans-30\"/>\n       <use x=\"305.873047\" xlink:href=\"#DejaVuSans-32\"/>\n       <use x=\"369.496094\" xlink:href=\"#DejaVuSans-30\"/>\n      </g>\n     </g>\n    </g>\n    <g id=\"xtick_7\">\n     <g id=\"line2d_22\">\n      <path clip-path=\"url(#p52f5719a8f)\" d=\"M 274.226392 119.630769 \nL 274.226392 36 \n\" style=\"fill:none;stroke:#b0b0b0;stroke-linecap:square;stroke-width:0.8;\"/>\n     </g>\n     <g id=\"line2d_23\">\n      <g>\n       <use style=\"stroke:#000000;stroke-width:0.8;\" x=\"274.226392\" xlink:href=\"#m745043c68d\" y=\"119.630769\"/>\n      </g>\n     </g>\n     <g id=\"text_14\">\n      <!-- v.28 2020 -->\n      <g transform=\"translate(261.807642 130.429988)scale(0.05 -0.05)\">\n       <use xlink:href=\"#DejaVuSans-76\"/>\n       <use x=\"51.429688\" xlink:href=\"#DejaVuSans-2e\"/>\n       <use x=\"83.216797\" xlink:href=\"#DejaVuSans-32\"/>\n       <use x=\"146.839844\" xlink:href=\"#DejaVuSans-38\"/>\n       <use x=\"210.462891\" xlink:href=\"#DejaVuSans-20\"/>\n       <use x=\"242.25\" xlink:href=\"#DejaVuSans-32\"/>\n       <use x=\"305.873047\" xlink:href=\"#DejaVuSans-30\"/>\n       <use x=\"369.496094\" xlink:href=\"#DejaVuSans-32\"/>\n       <use x=\"433.119141\" xlink:href=\"#DejaVuSans-30\"/>\n      </g>\n     </g>\n    </g>\n    <g id=\"xtick_8\">\n     <g id=\"line2d_24\">\n      <path clip-path=\"url(#p52f5719a8f)\" d=\"M 305.930938 119.630769 \nL 305.930938 36 \n\" style=\"fill:none;stroke:#b0b0b0;stroke-linecap:square;stroke-width:0.8;\"/>\n     </g>\n     <g id=\"line2d_25\">\n      <g>\n       <use style=\"stroke:#000000;stroke-width:0.8;\" x=\"305.930938\" xlink:href=\"#m745043c68d\" y=\"119.630769\"/>\n      </g>\n     </g>\n     <g id=\"text_15\">\n      <!-- v.50 2020 -->\n      <g transform=\"translate(293.512188 130.429988)scale(0.05 -0.05)\">\n       <use xlink:href=\"#DejaVuSans-76\"/>\n       <use x=\"51.429688\" xlink:href=\"#DejaVuSans-2e\"/>\n       <use x=\"83.216797\" xlink:href=\"#DejaVuSans-35\"/>\n       <use x=\"146.839844\" xlink:href=\"#DejaVuSans-30\"/>\n       <use x=\"210.462891\" xlink:href=\"#DejaVuSans-20\"/>\n       <use x=\"242.25\" xlink:href=\"#DejaVuSans-32\"/>\n       <use x=\"305.873047\" xlink:href=\"#DejaVuSans-30\"/>\n       <use x=\"369.496094\" xlink:href=\"#DejaVuSans-32\"/>\n       <use x=\"433.119141\" xlink:href=\"#DejaVuSans-30\"/>\n      </g>\n     </g>\n    </g>\n    <g id=\"xtick_9\">\n     <g id=\"line2d_26\">\n      <path clip-path=\"url(#p52f5719a8f)\" d=\"M 337.635483 119.630769 \nL 337.635483 36 \n\" style=\"fill:none;stroke:#b0b0b0;stroke-linecap:square;stroke-width:0.8;\"/>\n     </g>\n     <g id=\"line2d_27\">\n      <g>\n       <use style=\"stroke:#000000;stroke-width:0.8;\" x=\"337.635483\" xlink:href=\"#m745043c68d\" y=\"119.630769\"/>\n      </g>\n     </g>\n     <g id=\"text_16\">\n      <!-- v.19 2021 -->\n      <g transform=\"translate(325.216733 130.429988)scale(0.05 -0.05)\">\n       <use xlink:href=\"#DejaVuSans-76\"/>\n       <use x=\"51.429688\" xlink:href=\"#DejaVuSans-2e\"/>\n       <use x=\"83.216797\" xlink:href=\"#DejaVuSans-31\"/>\n       <use x=\"146.839844\" xlink:href=\"#DejaVuSans-39\"/>\n       <use x=\"210.462891\" xlink:href=\"#DejaVuSans-20\"/>\n       <use x=\"242.25\" xlink:href=\"#DejaVuSans-32\"/>\n       <use x=\"305.873047\" xlink:href=\"#DejaVuSans-30\"/>\n       <use x=\"369.496094\" xlink:href=\"#DejaVuSans-32\"/>\n       <use x=\"433.119141\" xlink:href=\"#DejaVuSans-31\"/>\n      </g>\n     </g>\n    </g>\n    <g id=\"xtick_10\">\n     <g id=\"line2d_28\">\n      <path clip-path=\"url(#p52f5719a8f)\" d=\"M 369.340028 119.630769 \nL 369.340028 36 \n\" style=\"fill:none;stroke:#b0b0b0;stroke-linecap:square;stroke-width:0.8;\"/>\n     </g>\n     <g id=\"line2d_29\">\n      <g>\n       <use style=\"stroke:#000000;stroke-width:0.8;\" x=\"369.340028\" xlink:href=\"#m745043c68d\" y=\"119.630769\"/>\n      </g>\n     </g>\n     <g id=\"text_17\">\n      <!-- v.41 2021 -->\n      <g transform=\"translate(356.921278 130.429988)scale(0.05 -0.05)\">\n       <use xlink:href=\"#DejaVuSans-76\"/>\n       <use x=\"51.429688\" xlink:href=\"#DejaVuSans-2e\"/>\n       <use x=\"83.216797\" xlink:href=\"#DejaVuSans-34\"/>\n       <use x=\"146.839844\" xlink:href=\"#DejaVuSans-31\"/>\n       <use x=\"210.462891\" xlink:href=\"#DejaVuSans-20\"/>\n       <use x=\"242.25\" xlink:href=\"#DejaVuSans-32\"/>\n       <use x=\"305.873047\" xlink:href=\"#DejaVuSans-30\"/>\n       <use x=\"369.496094\" xlink:href=\"#DejaVuSans-32\"/>\n       <use x=\"433.119141\" xlink:href=\"#DejaVuSans-31\"/>\n      </g>\n     </g>\n    </g>\n    <g id=\"text_18\">\n     <!-- Week -->\n     <g transform=\"translate(296.342031 140.788738)scale(0.07 -0.07)\">\n      <use xlink:href=\"#DejaVuSans-57\"/>\n      <use x=\"93.001953\" xlink:href=\"#DejaVuSans-65\"/>\n      <use x=\"154.525391\" xlink:href=\"#DejaVuSans-65\"/>\n      <use x=\"216.048828\" xlink:href=\"#DejaVuSans-6b\"/>\n     </g>\n    </g>\n   </g>\n   <g id=\"matplotlib.axis_4\">\n    <g id=\"ytick_5\">\n     <g id=\"line2d_30\">\n      <path clip-path=\"url(#p52f5719a8f)\" d=\"M 236.180938 115.829371 \nL 375.680938 115.829371 \n\" style=\"fill:none;stroke:#b0b0b0;stroke-linecap:square;stroke-width:0.8;\"/>\n     </g>\n     <g id=\"line2d_31\">\n      <g>\n       <use style=\"stroke:#000000;stroke-width:0.8;\" x=\"236.180938\" xlink:href=\"#mf6ae123978\" y=\"115.829371\"/>\n      </g>\n     </g>\n     <g id=\"text_19\">\n      <!-- 0 -->\n      <g transform=\"translate(225.999688 117.72898)scale(0.05 -0.05)\">\n       <use xlink:href=\"#DejaVuSans-30\"/>\n      </g>\n     </g>\n    </g>\n    <g id=\"ytick_6\">\n     <g id=\"line2d_32\">\n      <path clip-path=\"url(#p52f5719a8f)\" d=\"M 236.180938 82.900435 \nL 375.680938 82.900435 \n\" style=\"fill:none;stroke:#b0b0b0;stroke-linecap:square;stroke-width:0.8;\"/>\n     </g>\n     <g id=\"line2d_33\">\n      <g>\n       <use style=\"stroke:#000000;stroke-width:0.8;\" x=\"236.180938\" xlink:href=\"#mf6ae123978\" y=\"82.900435\"/>\n      </g>\n     </g>\n     <g id=\"text_20\">\n      <!-- 20000 -->\n      <g transform=\"translate(213.274688 84.800045)scale(0.05 -0.05)\">\n       <use xlink:href=\"#DejaVuSans-32\"/>\n       <use x=\"63.623047\" xlink:href=\"#DejaVuSans-30\"/>\n       <use x=\"127.246094\" xlink:href=\"#DejaVuSans-30\"/>\n       <use x=\"190.869141\" xlink:href=\"#DejaVuSans-30\"/>\n       <use x=\"254.492188\" xlink:href=\"#DejaVuSans-30\"/>\n      </g>\n     </g>\n    </g>\n    <g id=\"ytick_7\">\n     <g id=\"line2d_34\">\n      <path clip-path=\"url(#p52f5719a8f)\" d=\"M 236.180938 49.9715 \nL 375.680938 49.9715 \n\" style=\"fill:none;stroke:#b0b0b0;stroke-linecap:square;stroke-width:0.8;\"/>\n     </g>\n     <g id=\"line2d_35\">\n      <g>\n       <use style=\"stroke:#000000;stroke-width:0.8;\" x=\"236.180938\" xlink:href=\"#mf6ae123978\" y=\"49.9715\"/>\n      </g>\n     </g>\n     <g id=\"text_21\">\n      <!-- 40000 -->\n      <g transform=\"translate(213.274688 51.87111)scale(0.05 -0.05)\">\n       <use xlink:href=\"#DejaVuSans-34\"/>\n       <use x=\"63.623047\" xlink:href=\"#DejaVuSans-30\"/>\n       <use x=\"127.246094\" xlink:href=\"#DejaVuSans-30\"/>\n       <use x=\"190.869141\" xlink:href=\"#DejaVuSans-30\"/>\n       <use x=\"254.492188\" xlink:href=\"#DejaVuSans-30\"/>\n      </g>\n     </g>\n    </g>\n    <g id=\"text_22\">\n     <!-- New Cases -->\n     <g transform=\"translate(207.818906 96.951088)rotate(-90)scale(0.07 -0.07)\">\n      <defs>\n       <path d=\"M 269 3500 \nL 844 3500 \nL 1563 769 \nL 2278 3500 \nL 2956 3500 \nL 3675 769 \nL 4391 3500 \nL 4966 3500 \nL 4050 0 \nL 3372 0 \nL 2619 2869 \nL 1863 0 \nL 1184 0 \nL 269 3500 \nz\n\" id=\"DejaVuSans-77\" transform=\"scale(0.015625)\"/>\n       <path d=\"M 4122 4306 \nL 4122 3641 \nQ 3803 3938 3442 4084 \nQ 3081 4231 2675 4231 \nQ 1875 4231 1450 3742 \nQ 1025 3253 1025 2328 \nQ 1025 1406 1450 917 \nQ 1875 428 2675 428 \nQ 3081 428 3442 575 \nQ 3803 722 4122 1019 \nL 4122 359 \nQ 3791 134 3420 21 \nQ 3050 -91 2638 -91 \nQ 1578 -91 968 557 \nQ 359 1206 359 2328 \nQ 359 3453 968 4101 \nQ 1578 4750 2638 4750 \nQ 3056 4750 3426 4639 \nQ 3797 4528 4122 4306 \nz\n\" id=\"DejaVuSans-43\" transform=\"scale(0.015625)\"/>\n      </defs>\n      <use xlink:href=\"#DejaVuSans-4e\"/>\n      <use x=\"74.804688\" xlink:href=\"#DejaVuSans-65\"/>\n      <use x=\"136.328125\" xlink:href=\"#DejaVuSans-77\"/>\n      <use x=\"218.115234\" xlink:href=\"#DejaVuSans-20\"/>\n      <use x=\"249.902344\" xlink:href=\"#DejaVuSans-43\"/>\n      <use x=\"319.726562\" xlink:href=\"#DejaVuSans-61\"/>\n      <use x=\"381.005859\" xlink:href=\"#DejaVuSans-73\"/>\n      <use x=\"433.105469\" xlink:href=\"#DejaVuSans-65\"/>\n      <use x=\"494.628906\" xlink:href=\"#DejaVuSans-73\"/>\n     </g>\n    </g>\n   </g>\n   <g id=\"line2d_36\">\n    <path clip-path=\"url(#p52f5719a8f)\" d=\"M 242.521847 115.827724 \nL 243.962962 115.829371 \nL 245.404078 115.829371 \nL 246.845194 115.807967 \nL 248.286309 115.48197 \nL 249.727425 114.449648 \nL 251.168541 114.308054 \nL 252.609657 112.607274 \nL 254.050772 110.512994 \nL 255.491888 109.67166 \nL 256.933004 109.651902 \nL 258.374119 108.909355 \nL 259.815235 109.520187 \nL 261.256351 108.991677 \nL 262.697466 109.459268 \nL 264.138582 109.805022 \nL 265.579698 108.782578 \nL 267.020814 105.916115 \nL 268.461929 104.10173 \nL 269.903045 104.184053 \nL 271.344161 103.55511 \nL 272.785276 108.784225 \nL 274.226392 112.241763 \nL 275.667508 113.158834 \nL 277.108623 113.662647 \nL 278.549739 113.267499 \nL 279.990855 112.513427 \nL 281.431971 112.450862 \nL 282.873086 113.051815 \nL 284.314202 113.853635 \nL 285.755318 113.636304 \nL 287.196433 113.208227 \nL 288.637549 112.404761 \nL 290.078665 111.023393 \nL 291.51978 109.833012 \nL 292.960896 108.785871 \nL 294.402012 106.57634 \nL 295.843128 100.756151 \nL 297.284243 85.412913 \nL 298.725359 74.001391 \nL 300.166475 64.264305 \nL 301.60759 63.235275 \nL 303.048706 57.281724 \nL 304.489822 55.179211 \nL 305.930938 43.993252 \nL 307.372053 39.801399 \nL 308.813169 54.690217 \nL 310.254285 47.793251 \nL 311.6954 50.868814 \nL 313.136516 68.177909 \nL 314.577632 77.582412 \nL 316.018747 81.813781 \nL 317.459863 83.550782 \nL 318.900979 80.788044 \nL 320.342095 76.94853 \nL 321.78321 71.885707 \nL 323.224326 70.143766 \nL 324.665442 68.815083 \nL 326.106557 61.442295 \nL 327.547673 53.460321 \nL 328.988789 52.628865 \nL 330.429904 48.083026 \nL 331.87102 48.262489 \nL 333.312136 56.504601 \nL 334.753252 57.699921 \nL 336.194367 60.377044 \nL 337.635483 73.160056 \nL 339.076599 85.915079 \nL 340.517714 102.700604 \nL 341.95883 100.856584 \nL 343.399946 108.594884 \nL 344.841061 111.14029 \nL 346.282177 112.566113 \nL 347.723293 112.752162 \nL 349.164409 113.33665 \nL 350.605524 112.732404 \nL 352.04664 111.446529 \nL 353.487756 110.134311 \nL 354.928871 108.242544 \nL 356.369987 106.24705 \nL 357.811103 105.183446 \nL 359.252218 104.817935 \nL 360.693334 103.915682 \nL 362.13445 102.703897 \nL 363.575566 105.512735 \nL 365.016681 108.752942 \nL 366.457797 108.84679 \nL 367.898913 109.011435 \nL 369.340028 109.141504 \n\" style=\"fill:none;stroke:#1f77b4;stroke-linecap:square;stroke-width:1.5;\"/>\n   </g>\n   <g id=\"patch_8\">\n    <path d=\"M 236.180938 119.630769 \nL 236.180938 36 \n\" style=\"fill:none;stroke:#000000;stroke-linecap:square;stroke-linejoin:miter;stroke-width:0.8;\"/>\n   </g>\n   <g id=\"patch_9\">\n    <path d=\"M 375.680938 119.630769 \nL 375.680938 36 \n\" style=\"fill:none;stroke:#000000;stroke-linecap:square;stroke-linejoin:miter;stroke-width:0.8;\"/>\n   </g>\n   <g id=\"patch_10\">\n    <path d=\"M 236.180938 119.630769 \nL 375.680938 119.630769 \n\" style=\"fill:none;stroke:#000000;stroke-linecap:square;stroke-linejoin:miter;stroke-width:0.8;\"/>\n   </g>\n   <g id=\"patch_11\">\n    <path d=\"M 236.180938 36 \nL 375.680938 36 \n\" style=\"fill:none;stroke:#000000;stroke-linecap:square;stroke-linejoin:miter;stroke-width:0.8;\"/>\n   </g>\n   <g id=\"text_23\">\n    <!-- New Cases per Week -->\n    <g transform=\"translate(258.663359 30)scale(0.09 -0.09)\">\n     <use xlink:href=\"#DejaVuSans-4e\"/>\n     <use x=\"74.804688\" xlink:href=\"#DejaVuSans-65\"/>\n     <use x=\"136.328125\" xlink:href=\"#DejaVuSans-77\"/>\n     <use x=\"218.115234\" xlink:href=\"#DejaVuSans-20\"/>\n     <use x=\"249.902344\" xlink:href=\"#DejaVuSans-43\"/>\n     <use x=\"319.726562\" xlink:href=\"#DejaVuSans-61\"/>\n     <use x=\"381.005859\" xlink:href=\"#DejaVuSans-73\"/>\n     <use x=\"433.105469\" xlink:href=\"#DejaVuSans-65\"/>\n     <use x=\"494.628906\" xlink:href=\"#DejaVuSans-73\"/>\n     <use x=\"546.728516\" xlink:href=\"#DejaVuSans-20\"/>\n     <use x=\"578.515625\" xlink:href=\"#DejaVuSans-70\"/>\n     <use x=\"641.992188\" xlink:href=\"#DejaVuSans-65\"/>\n     <use x=\"703.515625\" xlink:href=\"#DejaVuSans-72\"/>\n     <use x=\"744.628906\" xlink:href=\"#DejaVuSans-20\"/>\n     <use x=\"776.416016\" xlink:href=\"#DejaVuSans-57\"/>\n     <use x=\"869.417969\" xlink:href=\"#DejaVuSans-65\"/>\n     <use x=\"930.941406\" xlink:href=\"#DejaVuSans-65\"/>\n     <use x=\"992.464844\" xlink:href=\"#DejaVuSans-6b\"/>\n    </g>\n   </g>\n  </g>\n  <g id=\"axes_3\">\n   <g id=\"patch_12\">\n    <path d=\"M 40.880938 253.44 \nL 180.380938 253.44 \nL 180.380938 169.809231 \nL 40.880938 169.809231 \nz\n\" style=\"fill:#ffffff;\"/>\n   </g>\n   <g id=\"matplotlib.axis_5\">\n    <g id=\"xtick_11\">\n     <g id=\"line2d_37\">\n      <path clip-path=\"url(#p06edbd7ea5)\" d=\"M 47.221847 253.44 \nL 47.221847 169.809231 \n\" style=\"fill:none;stroke:#b0b0b0;stroke-linecap:square;stroke-width:0.8;\"/>\n     </g>\n     <g id=\"line2d_38\">\n      <g>\n       <use style=\"stroke:#000000;stroke-width:0.8;\" x=\"47.221847\" xlink:href=\"#m745043c68d\" y=\"253.44\"/>\n      </g>\n     </g>\n     <g id=\"text_24\">\n      <!-- v.6 2020 -->\n      <g transform=\"translate(36.393722 264.239219)scale(0.05 -0.05)\">\n       <use xlink:href=\"#DejaVuSans-76\"/>\n       <use x=\"51.429688\" xlink:href=\"#DejaVuSans-2e\"/>\n       <use x=\"83.216797\" xlink:href=\"#DejaVuSans-36\"/>\n       <use x=\"146.839844\" xlink:href=\"#DejaVuSans-20\"/>\n       <use x=\"178.626953\" xlink:href=\"#DejaVuSans-32\"/>\n       <use x=\"242.25\" xlink:href=\"#DejaVuSans-30\"/>\n       <use x=\"305.873047\" xlink:href=\"#DejaVuSans-32\"/>\n       <use x=\"369.496094\" xlink:href=\"#DejaVuSans-30\"/>\n      </g>\n     </g>\n    </g>\n    <g id=\"xtick_12\">\n     <g id=\"line2d_39\">\n      <path clip-path=\"url(#p06edbd7ea5)\" d=\"M 78.926392 253.44 \nL 78.926392 169.809231 \n\" style=\"fill:none;stroke:#b0b0b0;stroke-linecap:square;stroke-width:0.8;\"/>\n     </g>\n     <g id=\"line2d_40\">\n      <g>\n       <use style=\"stroke:#000000;stroke-width:0.8;\" x=\"78.926392\" xlink:href=\"#m745043c68d\" y=\"253.44\"/>\n      </g>\n     </g>\n     <g id=\"text_25\">\n      <!-- v.28 2020 -->\n      <g transform=\"translate(66.507642 264.239219)scale(0.05 -0.05)\">\n       <use xlink:href=\"#DejaVuSans-76\"/>\n       <use x=\"51.429688\" xlink:href=\"#DejaVuSans-2e\"/>\n       <use x=\"83.216797\" xlink:href=\"#DejaVuSans-32\"/>\n       <use x=\"146.839844\" xlink:href=\"#DejaVuSans-38\"/>\n       <use x=\"210.462891\" xlink:href=\"#DejaVuSans-20\"/>\n       <use x=\"242.25\" xlink:href=\"#DejaVuSans-32\"/>\n       <use x=\"305.873047\" xlink:href=\"#DejaVuSans-30\"/>\n       <use x=\"369.496094\" xlink:href=\"#DejaVuSans-32\"/>\n       <use x=\"433.119141\" xlink:href=\"#DejaVuSans-30\"/>\n      </g>\n     </g>\n    </g>\n    <g id=\"xtick_13\">\n     <g id=\"line2d_41\">\n      <path clip-path=\"url(#p06edbd7ea5)\" d=\"M 110.630937 253.44 \nL 110.630937 169.809231 \n\" style=\"fill:none;stroke:#b0b0b0;stroke-linecap:square;stroke-width:0.8;\"/>\n     </g>\n     <g id=\"line2d_42\">\n      <g>\n       <use style=\"stroke:#000000;stroke-width:0.8;\" x=\"110.630937\" xlink:href=\"#m745043c68d\" y=\"253.44\"/>\n      </g>\n     </g>\n     <g id=\"text_26\">\n      <!-- v.50 2020 -->\n      <g transform=\"translate(98.212187 264.239219)scale(0.05 -0.05)\">\n       <use xlink:href=\"#DejaVuSans-76\"/>\n       <use x=\"51.429688\" xlink:href=\"#DejaVuSans-2e\"/>\n       <use x=\"83.216797\" xlink:href=\"#DejaVuSans-35\"/>\n       <use x=\"146.839844\" xlink:href=\"#DejaVuSans-30\"/>\n       <use x=\"210.462891\" xlink:href=\"#DejaVuSans-20\"/>\n       <use x=\"242.25\" xlink:href=\"#DejaVuSans-32\"/>\n       <use x=\"305.873047\" xlink:href=\"#DejaVuSans-30\"/>\n       <use x=\"369.496094\" xlink:href=\"#DejaVuSans-32\"/>\n       <use x=\"433.119141\" xlink:href=\"#DejaVuSans-30\"/>\n      </g>\n     </g>\n    </g>\n    <g id=\"xtick_14\">\n     <g id=\"line2d_43\">\n      <path clip-path=\"url(#p06edbd7ea5)\" d=\"M 142.335483 253.44 \nL 142.335483 169.809231 \n\" style=\"fill:none;stroke:#b0b0b0;stroke-linecap:square;stroke-width:0.8;\"/>\n     </g>\n     <g id=\"line2d_44\">\n      <g>\n       <use style=\"stroke:#000000;stroke-width:0.8;\" x=\"142.335483\" xlink:href=\"#m745043c68d\" y=\"253.44\"/>\n      </g>\n     </g>\n     <g id=\"text_27\">\n      <!-- v.19 2021 -->\n      <g transform=\"translate(129.916733 264.239219)scale(0.05 -0.05)\">\n       <use xlink:href=\"#DejaVuSans-76\"/>\n       <use x=\"51.429688\" xlink:href=\"#DejaVuSans-2e\"/>\n       <use x=\"83.216797\" xlink:href=\"#DejaVuSans-31\"/>\n       <use x=\"146.839844\" xlink:href=\"#DejaVuSans-39\"/>\n       <use x=\"210.462891\" xlink:href=\"#DejaVuSans-20\"/>\n       <use x=\"242.25\" xlink:href=\"#DejaVuSans-32\"/>\n       <use x=\"305.873047\" xlink:href=\"#DejaVuSans-30\"/>\n       <use x=\"369.496094\" xlink:href=\"#DejaVuSans-32\"/>\n       <use x=\"433.119141\" xlink:href=\"#DejaVuSans-31\"/>\n      </g>\n     </g>\n    </g>\n    <g id=\"xtick_15\">\n     <g id=\"line2d_45\">\n      <path clip-path=\"url(#p06edbd7ea5)\" d=\"M 174.040028 253.44 \nL 174.040028 169.809231 \n\" style=\"fill:none;stroke:#b0b0b0;stroke-linecap:square;stroke-width:0.8;\"/>\n     </g>\n     <g id=\"line2d_46\">\n      <g>\n       <use style=\"stroke:#000000;stroke-width:0.8;\" x=\"174.040028\" xlink:href=\"#m745043c68d\" y=\"253.44\"/>\n      </g>\n     </g>\n     <g id=\"text_28\">\n      <!-- v.41 2021 -->\n      <g transform=\"translate(161.621278 264.239219)scale(0.05 -0.05)\">\n       <use xlink:href=\"#DejaVuSans-76\"/>\n       <use x=\"51.429688\" xlink:href=\"#DejaVuSans-2e\"/>\n       <use x=\"83.216797\" xlink:href=\"#DejaVuSans-34\"/>\n       <use x=\"146.839844\" xlink:href=\"#DejaVuSans-31\"/>\n       <use x=\"210.462891\" xlink:href=\"#DejaVuSans-20\"/>\n       <use x=\"242.25\" xlink:href=\"#DejaVuSans-32\"/>\n       <use x=\"305.873047\" xlink:href=\"#DejaVuSans-30\"/>\n       <use x=\"369.496094\" xlink:href=\"#DejaVuSans-32\"/>\n       <use x=\"433.119141\" xlink:href=\"#DejaVuSans-31\"/>\n      </g>\n     </g>\n    </g>\n    <g id=\"text_29\">\n     <!-- Week -->\n     <g transform=\"translate(101.042031 274.597969)scale(0.07 -0.07)\">\n      <use xlink:href=\"#DejaVuSans-57\"/>\n      <use x=\"93.001953\" xlink:href=\"#DejaVuSans-65\"/>\n      <use x=\"154.525391\" xlink:href=\"#DejaVuSans-65\"/>\n      <use x=\"216.048828\" xlink:href=\"#DejaVuSans-6b\"/>\n     </g>\n    </g>\n   </g>\n   <g id=\"matplotlib.axis_6\">\n    <g id=\"ytick_8\">\n     <g id=\"line2d_47\">\n      <path clip-path=\"url(#p06edbd7ea5)\" d=\"M 40.880938 249.638601 \nL 180.380938 249.638601 \n\" style=\"fill:none;stroke:#b0b0b0;stroke-linecap:square;stroke-width:0.8;\"/>\n     </g>\n     <g id=\"line2d_48\">\n      <g>\n       <use style=\"stroke:#000000;stroke-width:0.8;\" x=\"40.880938\" xlink:href=\"#mf6ae123978\" y=\"249.638601\"/>\n      </g>\n     </g>\n     <g id=\"text_30\">\n      <!-- 0 -->\n      <g transform=\"translate(30.699688 251.538211)scale(0.05 -0.05)\">\n       <use xlink:href=\"#DejaVuSans-30\"/>\n      </g>\n     </g>\n    </g>\n    <g id=\"ytick_9\">\n     <g id=\"line2d_49\">\n      <path clip-path=\"url(#p06edbd7ea5)\" d=\"M 40.880938 216.709666 \nL 180.380938 216.709666 \n\" style=\"fill:none;stroke:#b0b0b0;stroke-linecap:square;stroke-width:0.8;\"/>\n     </g>\n     <g id=\"line2d_50\">\n      <g>\n       <use style=\"stroke:#000000;stroke-width:0.8;\" x=\"40.880938\" xlink:href=\"#mf6ae123978\" y=\"216.709666\"/>\n      </g>\n     </g>\n     <g id=\"text_31\">\n      <!-- 20000 -->\n      <g transform=\"translate(17.974688 218.609276)scale(0.05 -0.05)\">\n       <use xlink:href=\"#DejaVuSans-32\"/>\n       <use x=\"63.623047\" xlink:href=\"#DejaVuSans-30\"/>\n       <use x=\"127.246094\" xlink:href=\"#DejaVuSans-30\"/>\n       <use x=\"190.869141\" xlink:href=\"#DejaVuSans-30\"/>\n       <use x=\"254.492188\" xlink:href=\"#DejaVuSans-30\"/>\n      </g>\n     </g>\n    </g>\n    <g id=\"ytick_10\">\n     <g id=\"line2d_51\">\n      <path clip-path=\"url(#p06edbd7ea5)\" d=\"M 40.880938 183.780731 \nL 180.380938 183.780731 \n\" style=\"fill:none;stroke:#b0b0b0;stroke-linecap:square;stroke-width:0.8;\"/>\n     </g>\n     <g id=\"line2d_52\">\n      <g>\n       <use style=\"stroke:#000000;stroke-width:0.8;\" x=\"40.880938\" xlink:href=\"#mf6ae123978\" y=\"183.780731\"/>\n      </g>\n     </g>\n     <g id=\"text_32\">\n      <!-- 40000 -->\n      <g transform=\"translate(17.974688 185.68034)scale(0.05 -0.05)\">\n       <use xlink:href=\"#DejaVuSans-34\"/>\n       <use x=\"63.623047\" xlink:href=\"#DejaVuSans-30\"/>\n       <use x=\"127.246094\" xlink:href=\"#DejaVuSans-30\"/>\n       <use x=\"190.869141\" xlink:href=\"#DejaVuSans-30\"/>\n       <use x=\"254.492188\" xlink:href=\"#DejaVuSans-30\"/>\n      </g>\n     </g>\n    </g>\n    <g id=\"text_33\">\n     <!-- Number of People -->\n     <g transform=\"translate(12.518906 242.909694)rotate(-90)scale(0.07 -0.07)\">\n      <defs>\n       <path d=\"M 1259 4147 \nL 1259 2394 \nL 2053 2394 \nQ 2494 2394 2734 2622 \nQ 2975 2850 2975 3272 \nQ 2975 3691 2734 3919 \nQ 2494 4147 2053 4147 \nL 1259 4147 \nz\nM 628 4666 \nL 2053 4666 \nQ 2838 4666 3239 4311 \nQ 3641 3956 3641 3272 \nQ 3641 2581 3239 2228 \nQ 2838 1875 2053 1875 \nL 1259 1875 \nL 1259 0 \nL 628 0 \nL 628 4666 \nz\n\" id=\"DejaVuSans-50\" transform=\"scale(0.015625)\"/>\n       <path d=\"M 603 4863 \nL 1178 4863 \nL 1178 0 \nL 603 0 \nL 603 4863 \nz\n\" id=\"DejaVuSans-6c\" transform=\"scale(0.015625)\"/>\n      </defs>\n      <use xlink:href=\"#DejaVuSans-4e\"/>\n      <use x=\"74.804688\" xlink:href=\"#DejaVuSans-75\"/>\n      <use x=\"138.183594\" xlink:href=\"#DejaVuSans-6d\"/>\n      <use x=\"235.595703\" xlink:href=\"#DejaVuSans-62\"/>\n      <use x=\"299.072266\" xlink:href=\"#DejaVuSans-65\"/>\n      <use x=\"360.595703\" xlink:href=\"#DejaVuSans-72\"/>\n      <use x=\"401.708984\" xlink:href=\"#DejaVuSans-20\"/>\n      <use x=\"433.496094\" xlink:href=\"#DejaVuSans-6f\"/>\n      <use x=\"494.677734\" xlink:href=\"#DejaVuSans-66\"/>\n      <use x=\"529.882812\" xlink:href=\"#DejaVuSans-20\"/>\n      <use x=\"561.669922\" xlink:href=\"#DejaVuSans-50\"/>\n      <use x=\"618.347656\" xlink:href=\"#DejaVuSans-65\"/>\n      <use x=\"679.871094\" xlink:href=\"#DejaVuSans-6f\"/>\n      <use x=\"741.052734\" xlink:href=\"#DejaVuSans-70\"/>\n      <use x=\"804.529297\" xlink:href=\"#DejaVuSans-6c\"/>\n      <use x=\"832.3125\" xlink:href=\"#DejaVuSans-65\"/>\n     </g>\n    </g>\n   </g>\n   <g id=\"line2d_53\">\n    <path clip-path=\"url(#p06edbd7ea5)\" d=\"M 47.221847 249.638601 \nL 48.662962 249.638601 \nL 50.104078 249.638601 \nL 51.545194 249.638601 \nL 52.986309 249.638601 \nL 54.427425 249.630369 \nL 55.868541 249.566158 \nL 57.309657 249.325777 \nL 58.750772 248.896054 \nL 60.191888 248.545361 \nL 61.633004 248.556886 \nL 63.074119 248.739641 \nL 64.515235 248.744581 \nL 65.956351 248.80056 \nL 67.397466 249.012952 \nL 68.838582 249.045881 \nL 70.279698 249.190768 \nL 71.720814 249.233575 \nL 73.161929 249.253333 \nL 74.603045 249.309312 \nL 76.044161 249.411392 \nL 77.485276 249.47725 \nL 78.926392 249.5003 \nL 80.367508 249.544754 \nL 81.808623 249.589208 \nL 83.249739 249.608965 \nL 84.690855 249.608965 \nL 86.131971 249.612258 \nL 87.573086 249.607319 \nL 89.014202 249.622137 \nL 90.455318 249.618844 \nL 91.896433 249.617198 \nL 93.337549 249.618844 \nL 94.778665 249.62049 \nL 96.21978 249.610612 \nL 97.660896 249.60238 \nL 99.102012 249.612258 \nL 100.543128 249.567804 \nL 101.984243 249.503593 \nL 103.425359 249.380109 \nL 104.866475 249.251686 \nL 106.30759 249.091981 \nL 107.748706 248.952033 \nL 109.189822 248.854893 \nL 110.630937 248.813732 \nL 112.072053 248.576643 \nL 113.513169 248.579936 \nL 114.954285 248.547007 \nL 116.3954 248.57829 \nL 117.836516 248.654026 \nL 119.277632 248.793974 \nL 120.718747 248.998134 \nL 122.159863 249.195707 \nL 123.600979 249.30108 \nL 125.042095 249.357059 \nL 126.48321 249.39822 \nL 127.924326 249.427856 \nL 129.365442 249.408099 \nL 130.806557 249.429503 \nL 132.247673 249.432796 \nL 133.688789 249.406452 \nL 135.129904 249.419624 \nL 136.57102 249.408099 \nL 138.012136 249.422917 \nL 139.453252 249.450906 \nL 140.894367 249.465724 \nL 142.335483 249.455846 \nL 143.776599 249.524997 \nL 145.217714 249.561218 \nL 146.65883 249.57439 \nL 148.099946 249.60238 \nL 149.541061 249.610612 \nL 150.982177 249.623783 \nL 152.423293 249.62543 \nL 153.864409 249.633662 \nL 155.305524 249.635309 \nL 156.74664 249.633662 \nL 158.187756 249.633662 \nL 159.628871 249.627076 \nL 161.069987 249.628723 \nL 162.511103 249.623783 \nL 163.952218 249.605672 \nL 165.393334 249.595794 \nL 166.83445 249.557926 \nL 168.275566 249.552986 \nL 169.716681 249.572744 \nL 171.157797 249.577683 \nL 172.598913 249.569451 \nL 174.040028 249.608965 \n\" style=\"fill:none;stroke:#1f77b4;stroke-linecap:square;stroke-width:1.5;\"/>\n   </g>\n   <g id=\"line2d_54\">\n    <path clip-path=\"url(#p06edbd7ea5)\" d=\"M 47.221847 249.636955 \nL 48.662962 249.638601 \nL 50.104078 249.638601 \nL 51.545194 249.617198 \nL 52.986309 249.291201 \nL 54.427425 248.258879 \nL 55.868541 248.117285 \nL 57.309657 246.416505 \nL 58.750772 244.322225 \nL 60.191888 243.480891 \nL 61.633004 243.461133 \nL 63.074119 242.718586 \nL 64.515235 243.329417 \nL 65.956351 242.800908 \nL 67.397466 243.268499 \nL 68.838582 243.614253 \nL 70.279698 242.591809 \nL 71.720814 239.725345 \nL 73.161929 237.910961 \nL 74.603045 237.993283 \nL 76.044161 237.364341 \nL 77.485276 242.593456 \nL 78.926392 246.050994 \nL 80.367508 246.968065 \nL 81.808623 247.471877 \nL 83.249739 247.07673 \nL 84.690855 246.322658 \nL 86.131971 246.260093 \nL 87.573086 246.861046 \nL 89.014202 247.662865 \nL 90.455318 247.445534 \nL 91.896433 247.017458 \nL 93.337549 246.213992 \nL 94.778665 244.832623 \nL 96.21978 243.642242 \nL 97.660896 242.595102 \nL 99.102012 240.385571 \nL 100.543128 234.565381 \nL 101.984243 219.222144 \nL 103.425359 207.810621 \nL 104.866475 198.073535 \nL 106.30759 197.044506 \nL 107.748706 191.090955 \nL 109.189822 188.988442 \nL 110.630937 177.802483 \nL 112.072053 173.610629 \nL 113.513169 188.499447 \nL 114.954285 181.602482 \nL 116.3954 184.678044 \nL 117.836516 201.987139 \nL 119.277632 211.391643 \nL 120.718747 215.623011 \nL 122.159863 217.360013 \nL 123.600979 214.597275 \nL 125.042095 210.757761 \nL 126.48321 205.694937 \nL 127.924326 203.952997 \nL 129.365442 202.624314 \nL 130.806557 195.251526 \nL 132.247673 187.269552 \nL 133.688789 186.438096 \nL 135.129904 181.892257 \nL 136.57102 182.071719 \nL 138.012136 190.313832 \nL 139.453252 191.509152 \nL 140.894367 194.186275 \nL 142.335483 206.969287 \nL 143.776599 219.72431 \nL 145.217714 236.509835 \nL 146.65883 234.665815 \nL 148.099946 242.404114 \nL 149.541061 244.949521 \nL 150.982177 246.375344 \nL 152.423293 246.561392 \nL 153.864409 247.145881 \nL 155.305524 246.541635 \nL 156.74664 245.25576 \nL 158.187756 243.943542 \nL 159.628871 242.051775 \nL 161.069987 240.056281 \nL 162.511103 238.992677 \nL 163.952218 238.627165 \nL 165.393334 237.724913 \nL 166.83445 236.513128 \nL 168.275566 239.321966 \nL 169.716681 242.562173 \nL 171.157797 242.656021 \nL 172.598913 242.820665 \nL 174.040028 242.950735 \n\" style=\"fill:none;stroke:#ff7f0e;stroke-linecap:square;stroke-width:1.5;\"/>\n   </g>\n   <g id=\"patch_13\">\n    <path d=\"M 40.880938 253.44 \nL 40.880938 169.809231 \n\" style=\"fill:none;stroke:#000000;stroke-linecap:square;stroke-linejoin:miter;stroke-width:0.8;\"/>\n   </g>\n   <g id=\"patch_14\">\n    <path d=\"M 180.380938 253.44 \nL 180.380938 169.809231 \n\" style=\"fill:none;stroke:#000000;stroke-linecap:square;stroke-linejoin:miter;stroke-width:0.8;\"/>\n   </g>\n   <g id=\"patch_15\">\n    <path d=\"M 40.880938 253.44 \nL 180.380938 253.44 \n\" style=\"fill:none;stroke:#000000;stroke-linecap:square;stroke-linejoin:miter;stroke-width:0.8;\"/>\n   </g>\n   <g id=\"patch_16\">\n    <path d=\"M 40.880938 169.809231 \nL 180.380938 169.809231 \n\" style=\"fill:none;stroke:#000000;stroke-linecap:square;stroke-linejoin:miter;stroke-width:0.8;\"/>\n   </g>\n   <g id=\"text_34\">\n    <!-- Deceased and New Cases per Week -->\n    <g transform=\"translate(29.832031 163.809231)scale(0.09 -0.09)\">\n     <defs>\n      <path d=\"M 3513 2113 \nL 3513 0 \nL 2938 0 \nL 2938 2094 \nQ 2938 2591 2744 2837 \nQ 2550 3084 2163 3084 \nQ 1697 3084 1428 2787 \nQ 1159 2491 1159 1978 \nL 1159 0 \nL 581 0 \nL 581 3500 \nL 1159 3500 \nL 1159 2956 \nQ 1366 3272 1645 3428 \nQ 1925 3584 2291 3584 \nQ 2894 3584 3203 3211 \nQ 3513 2838 3513 2113 \nz\n\" id=\"DejaVuSans-6e\" transform=\"scale(0.015625)\"/>\n     </defs>\n     <use xlink:href=\"#DejaVuSans-44\"/>\n     <use x=\"77.001953\" xlink:href=\"#DejaVuSans-65\"/>\n     <use x=\"138.525391\" xlink:href=\"#DejaVuSans-63\"/>\n     <use x=\"193.505859\" xlink:href=\"#DejaVuSans-65\"/>\n     <use x=\"255.029297\" xlink:href=\"#DejaVuSans-61\"/>\n     <use x=\"316.308594\" xlink:href=\"#DejaVuSans-73\"/>\n     <use x=\"368.408203\" xlink:href=\"#DejaVuSans-65\"/>\n     <use x=\"429.931641\" xlink:href=\"#DejaVuSans-64\"/>\n     <use x=\"493.408203\" xlink:href=\"#DejaVuSans-20\"/>\n     <use x=\"525.195312\" xlink:href=\"#DejaVuSans-61\"/>\n     <use x=\"586.474609\" xlink:href=\"#DejaVuSans-6e\"/>\n     <use x=\"649.853516\" xlink:href=\"#DejaVuSans-64\"/>\n     <use x=\"713.330078\" xlink:href=\"#DejaVuSans-20\"/>\n     <use x=\"745.117188\" xlink:href=\"#DejaVuSans-4e\"/>\n     <use x=\"819.921875\" xlink:href=\"#DejaVuSans-65\"/>\n     <use x=\"881.445312\" xlink:href=\"#DejaVuSans-77\"/>\n     <use x=\"963.232422\" xlink:href=\"#DejaVuSans-20\"/>\n     <use x=\"995.019531\" xlink:href=\"#DejaVuSans-43\"/>\n     <use x=\"1064.84375\" xlink:href=\"#DejaVuSans-61\"/>\n     <use x=\"1126.123047\" xlink:href=\"#DejaVuSans-73\"/>\n     <use x=\"1178.222656\" xlink:href=\"#DejaVuSans-65\"/>\n     <use x=\"1239.746094\" xlink:href=\"#DejaVuSans-73\"/>\n     <use x=\"1291.845703\" xlink:href=\"#DejaVuSans-20\"/>\n     <use x=\"1323.632812\" xlink:href=\"#DejaVuSans-70\"/>\n     <use x=\"1387.109375\" xlink:href=\"#DejaVuSans-65\"/>\n     <use x=\"1448.632812\" xlink:href=\"#DejaVuSans-72\"/>\n     <use x=\"1489.746094\" xlink:href=\"#DejaVuSans-20\"/>\n     <use x=\"1521.533203\" xlink:href=\"#DejaVuSans-57\"/>\n     <use x=\"1614.535156\" xlink:href=\"#DejaVuSans-65\"/>\n     <use x=\"1676.058594\" xlink:href=\"#DejaVuSans-65\"/>\n     <use x=\"1737.582031\" xlink:href=\"#DejaVuSans-6b\"/>\n    </g>\n   </g>\n   <g id=\"legend_1\">\n    <g id=\"patch_17\">\n     <path d=\"M 44.030938 186.619543 \nL 105.698516 186.619543 \nQ 106.598516 186.619543 106.598516 185.719543 \nL 106.598516 172.959231 \nQ 106.598516 172.059231 105.698516 172.059231 \nL 44.030938 172.059231 \nQ 43.130938 172.059231 43.130938 172.959231 \nL 43.130938 185.719543 \nQ 43.130938 186.619543 44.030938 186.619543 \nz\n\" style=\"fill:#ffffff;opacity:0.8;stroke:#cccccc;stroke-linejoin:miter;\"/>\n    </g>\n    <g id=\"line2d_55\">\n     <path d=\"M 44.930937 175.703528 \nL 53.930937 175.703528 \n\" style=\"fill:none;stroke:#1f77b4;stroke-linecap:square;stroke-width:1.5;\"/>\n    </g>\n    <g id=\"line2d_56\"/>\n    <g id=\"text_35\">\n     <!-- Deceased per Week -->\n     <g transform=\"translate(57.530938 177.278528)scale(0.045 -0.045)\">\n      <use xlink:href=\"#DejaVuSans-44\"/>\n      <use x=\"77.001953\" xlink:href=\"#DejaVuSans-65\"/>\n      <use x=\"138.525391\" xlink:href=\"#DejaVuSans-63\"/>\n      <use x=\"193.505859\" xlink:href=\"#DejaVuSans-65\"/>\n      <use x=\"255.029297\" xlink:href=\"#DejaVuSans-61\"/>\n      <use x=\"316.308594\" xlink:href=\"#DejaVuSans-73\"/>\n      <use x=\"368.408203\" xlink:href=\"#DejaVuSans-65\"/>\n      <use x=\"429.931641\" xlink:href=\"#DejaVuSans-64\"/>\n      <use x=\"493.408203\" xlink:href=\"#DejaVuSans-20\"/>\n      <use x=\"525.195312\" xlink:href=\"#DejaVuSans-70\"/>\n      <use x=\"588.671875\" xlink:href=\"#DejaVuSans-65\"/>\n      <use x=\"650.195312\" xlink:href=\"#DejaVuSans-72\"/>\n      <use x=\"691.308594\" xlink:href=\"#DejaVuSans-20\"/>\n      <use x=\"723.095703\" xlink:href=\"#DejaVuSans-57\"/>\n      <use x=\"816.097656\" xlink:href=\"#DejaVuSans-65\"/>\n      <use x=\"877.621094\" xlink:href=\"#DejaVuSans-65\"/>\n      <use x=\"939.144531\" xlink:href=\"#DejaVuSans-6b\"/>\n     </g>\n    </g>\n    <g id=\"line2d_57\">\n     <path d=\"M 44.930937 182.308684 \nL 53.930937 182.308684 \n\" style=\"fill:none;stroke:#ff7f0e;stroke-linecap:square;stroke-width:1.5;\"/>\n    </g>\n    <g id=\"line2d_58\"/>\n    <g id=\"text_36\">\n     <!-- New Cases per Week -->\n     <g transform=\"translate(57.530938 183.883684)scale(0.045 -0.045)\">\n      <use xlink:href=\"#DejaVuSans-4e\"/>\n      <use x=\"74.804688\" xlink:href=\"#DejaVuSans-65\"/>\n      <use x=\"136.328125\" xlink:href=\"#DejaVuSans-77\"/>\n      <use x=\"218.115234\" xlink:href=\"#DejaVuSans-20\"/>\n      <use x=\"249.902344\" xlink:href=\"#DejaVuSans-43\"/>\n      <use x=\"319.726562\" xlink:href=\"#DejaVuSans-61\"/>\n      <use x=\"381.005859\" xlink:href=\"#DejaVuSans-73\"/>\n      <use x=\"433.105469\" xlink:href=\"#DejaVuSans-65\"/>\n      <use x=\"494.628906\" xlink:href=\"#DejaVuSans-73\"/>\n      <use x=\"546.728516\" xlink:href=\"#DejaVuSans-20\"/>\n      <use x=\"578.515625\" xlink:href=\"#DejaVuSans-70\"/>\n      <use x=\"641.992188\" xlink:href=\"#DejaVuSans-65\"/>\n      <use x=\"703.515625\" xlink:href=\"#DejaVuSans-72\"/>\n      <use x=\"744.628906\" xlink:href=\"#DejaVuSans-20\"/>\n      <use x=\"776.416016\" xlink:href=\"#DejaVuSans-57\"/>\n      <use x=\"869.417969\" xlink:href=\"#DejaVuSans-65\"/>\n      <use x=\"930.941406\" xlink:href=\"#DejaVuSans-65\"/>\n      <use x=\"992.464844\" xlink:href=\"#DejaVuSans-6b\"/>\n     </g>\n    </g>\n   </g>\n  </g>\n  <g id=\"axes_4\">\n   <g id=\"patch_18\">\n    <path d=\"M 236.180938 253.44 \nL 375.680938 253.44 \nL 375.680938 169.809231 \nL 236.180938 169.809231 \nz\n\" style=\"fill:#ffffff;\"/>\n   </g>\n   <g id=\"matplotlib.axis_7\">\n    <g id=\"xtick_16\">\n     <g id=\"line2d_59\">\n      <path clip-path=\"url(#pb53719cc2b)\" d=\"M 242.521847 253.44 \nL 242.521847 169.809231 \n\" style=\"fill:none;stroke:#b0b0b0;stroke-linecap:square;stroke-width:0.8;\"/>\n     </g>\n     <g id=\"line2d_60\">\n      <g>\n       <use style=\"stroke:#000000;stroke-width:0.8;\" x=\"242.521847\" xlink:href=\"#m745043c68d\" y=\"253.44\"/>\n      </g>\n     </g>\n     <g id=\"text_37\">\n      <!-- v.6 2020 -->\n      <g transform=\"translate(231.693722 264.239219)scale(0.05 -0.05)\">\n       <use xlink:href=\"#DejaVuSans-76\"/>\n       <use x=\"51.429688\" xlink:href=\"#DejaVuSans-2e\"/>\n       <use x=\"83.216797\" xlink:href=\"#DejaVuSans-36\"/>\n       <use x=\"146.839844\" xlink:href=\"#DejaVuSans-20\"/>\n       <use x=\"178.626953\" xlink:href=\"#DejaVuSans-32\"/>\n       <use x=\"242.25\" xlink:href=\"#DejaVuSans-30\"/>\n       <use x=\"305.873047\" xlink:href=\"#DejaVuSans-32\"/>\n       <use x=\"369.496094\" xlink:href=\"#DejaVuSans-30\"/>\n      </g>\n     </g>\n    </g>\n    <g id=\"xtick_17\">\n     <g id=\"line2d_61\">\n      <path clip-path=\"url(#pb53719cc2b)\" d=\"M 274.226392 253.44 \nL 274.226392 169.809231 \n\" style=\"fill:none;stroke:#b0b0b0;stroke-linecap:square;stroke-width:0.8;\"/>\n     </g>\n     <g id=\"line2d_62\">\n      <g>\n       <use style=\"stroke:#000000;stroke-width:0.8;\" x=\"274.226392\" xlink:href=\"#m745043c68d\" y=\"253.44\"/>\n      </g>\n     </g>\n     <g id=\"text_38\">\n      <!-- v.28 2020 -->\n      <g transform=\"translate(261.807642 264.239219)scale(0.05 -0.05)\">\n       <use xlink:href=\"#DejaVuSans-76\"/>\n       <use x=\"51.429688\" xlink:href=\"#DejaVuSans-2e\"/>\n       <use x=\"83.216797\" xlink:href=\"#DejaVuSans-32\"/>\n       <use x=\"146.839844\" xlink:href=\"#DejaVuSans-38\"/>\n       <use x=\"210.462891\" xlink:href=\"#DejaVuSans-20\"/>\n       <use x=\"242.25\" xlink:href=\"#DejaVuSans-32\"/>\n       <use x=\"305.873047\" xlink:href=\"#DejaVuSans-30\"/>\n       <use x=\"369.496094\" xlink:href=\"#DejaVuSans-32\"/>\n       <use x=\"433.119141\" xlink:href=\"#DejaVuSans-30\"/>\n      </g>\n     </g>\n    </g>\n    <g id=\"xtick_18\">\n     <g id=\"line2d_63\">\n      <path clip-path=\"url(#pb53719cc2b)\" d=\"M 305.930938 253.44 \nL 305.930938 169.809231 \n\" style=\"fill:none;stroke:#b0b0b0;stroke-linecap:square;stroke-width:0.8;\"/>\n     </g>\n     <g id=\"line2d_64\">\n      <g>\n       <use style=\"stroke:#000000;stroke-width:0.8;\" x=\"305.930938\" xlink:href=\"#m745043c68d\" y=\"253.44\"/>\n      </g>\n     </g>\n     <g id=\"text_39\">\n      <!-- v.50 2020 -->\n      <g transform=\"translate(293.512188 264.239219)scale(0.05 -0.05)\">\n       <use xlink:href=\"#DejaVuSans-76\"/>\n       <use x=\"51.429688\" xlink:href=\"#DejaVuSans-2e\"/>\n       <use x=\"83.216797\" xlink:href=\"#DejaVuSans-35\"/>\n       <use x=\"146.839844\" xlink:href=\"#DejaVuSans-30\"/>\n       <use x=\"210.462891\" xlink:href=\"#DejaVuSans-20\"/>\n       <use x=\"242.25\" xlink:href=\"#DejaVuSans-32\"/>\n       <use x=\"305.873047\" xlink:href=\"#DejaVuSans-30\"/>\n       <use x=\"369.496094\" xlink:href=\"#DejaVuSans-32\"/>\n       <use x=\"433.119141\" xlink:href=\"#DejaVuSans-30\"/>\n      </g>\n     </g>\n    </g>\n    <g id=\"xtick_19\">\n     <g id=\"line2d_65\">\n      <path clip-path=\"url(#pb53719cc2b)\" d=\"M 337.635483 253.44 \nL 337.635483 169.809231 \n\" style=\"fill:none;stroke:#b0b0b0;stroke-linecap:square;stroke-width:0.8;\"/>\n     </g>\n     <g id=\"line2d_66\">\n      <g>\n       <use style=\"stroke:#000000;stroke-width:0.8;\" x=\"337.635483\" xlink:href=\"#m745043c68d\" y=\"253.44\"/>\n      </g>\n     </g>\n     <g id=\"text_40\">\n      <!-- v.19 2021 -->\n      <g transform=\"translate(325.216733 264.239219)scale(0.05 -0.05)\">\n       <use xlink:href=\"#DejaVuSans-76\"/>\n       <use x=\"51.429688\" xlink:href=\"#DejaVuSans-2e\"/>\n       <use x=\"83.216797\" xlink:href=\"#DejaVuSans-31\"/>\n       <use x=\"146.839844\" xlink:href=\"#DejaVuSans-39\"/>\n       <use x=\"210.462891\" xlink:href=\"#DejaVuSans-20\"/>\n       <use x=\"242.25\" xlink:href=\"#DejaVuSans-32\"/>\n       <use x=\"305.873047\" xlink:href=\"#DejaVuSans-30\"/>\n       <use x=\"369.496094\" xlink:href=\"#DejaVuSans-32\"/>\n       <use x=\"433.119141\" xlink:href=\"#DejaVuSans-31\"/>\n      </g>\n     </g>\n    </g>\n    <g id=\"xtick_20\">\n     <g id=\"line2d_67\">\n      <path clip-path=\"url(#pb53719cc2b)\" d=\"M 369.340028 253.44 \nL 369.340028 169.809231 \n\" style=\"fill:none;stroke:#b0b0b0;stroke-linecap:square;stroke-width:0.8;\"/>\n     </g>\n     <g id=\"line2d_68\">\n      <g>\n       <use style=\"stroke:#000000;stroke-width:0.8;\" x=\"369.340028\" xlink:href=\"#m745043c68d\" y=\"253.44\"/>\n      </g>\n     </g>\n     <g id=\"text_41\">\n      <!-- v.41 2021 -->\n      <g transform=\"translate(356.921278 264.239219)scale(0.05 -0.05)\">\n       <use xlink:href=\"#DejaVuSans-76\"/>\n       <use x=\"51.429688\" xlink:href=\"#DejaVuSans-2e\"/>\n       <use x=\"83.216797\" xlink:href=\"#DejaVuSans-34\"/>\n       <use x=\"146.839844\" xlink:href=\"#DejaVuSans-31\"/>\n       <use x=\"210.462891\" xlink:href=\"#DejaVuSans-20\"/>\n       <use x=\"242.25\" xlink:href=\"#DejaVuSans-32\"/>\n       <use x=\"305.873047\" xlink:href=\"#DejaVuSans-30\"/>\n       <use x=\"369.496094\" xlink:href=\"#DejaVuSans-32\"/>\n       <use x=\"433.119141\" xlink:href=\"#DejaVuSans-31\"/>\n      </g>\n     </g>\n    </g>\n    <g id=\"text_42\">\n     <!-- Week -->\n     <g transform=\"translate(296.342031 274.597969)scale(0.07 -0.07)\">\n      <use xlink:href=\"#DejaVuSans-57\"/>\n      <use x=\"93.001953\" xlink:href=\"#DejaVuSans-65\"/>\n      <use x=\"154.525391\" xlink:href=\"#DejaVuSans-65\"/>\n      <use x=\"216.048828\" xlink:href=\"#DejaVuSans-6b\"/>\n     </g>\n    </g>\n   </g>\n   <g id=\"matplotlib.axis_8\">\n    <g id=\"ytick_11\">\n     <g id=\"line2d_69\">\n      <path clip-path=\"url(#pb53719cc2b)\" d=\"M 236.180938 249.638667 \nL 375.680938 249.638667 \n\" style=\"fill:none;stroke:#b0b0b0;stroke-linecap:square;stroke-width:0.8;\"/>\n     </g>\n     <g id=\"line2d_70\">\n      <g>\n       <use style=\"stroke:#000000;stroke-width:0.8;\" x=\"236.180938\" xlink:href=\"#mf6ae123978\" y=\"249.638667\"/>\n      </g>\n     </g>\n     <g id=\"text_43\">\n      <!-- 0 -->\n      <g transform=\"translate(225.999688 251.538276)scale(0.05 -0.05)\">\n       <use xlink:href=\"#DejaVuSans-30\"/>\n      </g>\n     </g>\n    </g>\n    <g id=\"ytick_12\">\n     <g id=\"line2d_71\">\n      <path clip-path=\"url(#pb53719cc2b)\" d=\"M 236.180938 216.938604 \nL 375.680938 216.938604 \n\" style=\"fill:none;stroke:#b0b0b0;stroke-linecap:square;stroke-width:0.8;\"/>\n     </g>\n     <g id=\"line2d_72\">\n      <g>\n       <use style=\"stroke:#000000;stroke-width:0.8;\" x=\"236.180938\" xlink:href=\"#mf6ae123978\" y=\"216.938604\"/>\n      </g>\n     </g>\n     <g id=\"text_44\">\n      <!-- 500000 -->\n      <g transform=\"translate(210.093438 218.838214)scale(0.05 -0.05)\">\n       <use xlink:href=\"#DejaVuSans-35\"/>\n       <use x=\"63.623047\" xlink:href=\"#DejaVuSans-30\"/>\n       <use x=\"127.246094\" xlink:href=\"#DejaVuSans-30\"/>\n       <use x=\"190.869141\" xlink:href=\"#DejaVuSans-30\"/>\n       <use x=\"254.492188\" xlink:href=\"#DejaVuSans-30\"/>\n       <use x=\"318.115234\" xlink:href=\"#DejaVuSans-30\"/>\n      </g>\n     </g>\n    </g>\n    <g id=\"ytick_13\">\n     <g id=\"line2d_73\">\n      <path clip-path=\"url(#pb53719cc2b)\" d=\"M 236.180938 184.238542 \nL 375.680938 184.238542 \n\" style=\"fill:none;stroke:#b0b0b0;stroke-linecap:square;stroke-width:0.8;\"/>\n     </g>\n     <g id=\"line2d_74\">\n      <g>\n       <use style=\"stroke:#000000;stroke-width:0.8;\" x=\"236.180938\" xlink:href=\"#mf6ae123978\" y=\"184.238542\"/>\n      </g>\n     </g>\n     <g id=\"text_45\">\n      <!-- 1000000 -->\n      <g transform=\"translate(206.912188 186.138151)scale(0.05 -0.05)\">\n       <use xlink:href=\"#DejaVuSans-31\"/>\n       <use x=\"63.623047\" xlink:href=\"#DejaVuSans-30\"/>\n       <use x=\"127.246094\" xlink:href=\"#DejaVuSans-30\"/>\n       <use x=\"190.869141\" xlink:href=\"#DejaVuSans-30\"/>\n       <use x=\"254.492188\" xlink:href=\"#DejaVuSans-30\"/>\n       <use x=\"318.115234\" xlink:href=\"#DejaVuSans-30\"/>\n       <use x=\"381.738281\" xlink:href=\"#DejaVuSans-30\"/>\n      </g>\n     </g>\n    </g>\n    <g id=\"text_46\">\n     <!-- Cumulative Cases -->\n     <g transform=\"translate(201.456406 243.102194)rotate(-90)scale(0.07 -0.07)\">\n      <defs>\n       <path d=\"M 1172 4494 \nL 1172 3500 \nL 2356 3500 \nL 2356 3053 \nL 1172 3053 \nL 1172 1153 \nQ 1172 725 1289 603 \nQ 1406 481 1766 481 \nL 2356 481 \nL 2356 0 \nL 1766 0 \nQ 1100 0 847 248 \nQ 594 497 594 1153 \nL 594 3053 \nL 172 3053 \nL 172 3500 \nL 594 3500 \nL 594 4494 \nL 1172 4494 \nz\n\" id=\"DejaVuSans-74\" transform=\"scale(0.015625)\"/>\n       <path d=\"M 603 3500 \nL 1178 3500 \nL 1178 0 \nL 603 0 \nL 603 3500 \nz\nM 603 4863 \nL 1178 4863 \nL 1178 4134 \nL 603 4134 \nL 603 4863 \nz\n\" id=\"DejaVuSans-69\" transform=\"scale(0.015625)\"/>\n      </defs>\n      <use xlink:href=\"#DejaVuSans-43\"/>\n      <use x=\"69.824219\" xlink:href=\"#DejaVuSans-75\"/>\n      <use x=\"133.203125\" xlink:href=\"#DejaVuSans-6d\"/>\n      <use x=\"230.615234\" xlink:href=\"#DejaVuSans-75\"/>\n      <use x=\"293.994141\" xlink:href=\"#DejaVuSans-6c\"/>\n      <use x=\"321.777344\" xlink:href=\"#DejaVuSans-61\"/>\n      <use x=\"383.056641\" xlink:href=\"#DejaVuSans-74\"/>\n      <use x=\"422.265625\" xlink:href=\"#DejaVuSans-69\"/>\n      <use x=\"450.048828\" xlink:href=\"#DejaVuSans-76\"/>\n      <use x=\"509.228516\" xlink:href=\"#DejaVuSans-65\"/>\n      <use x=\"570.751953\" xlink:href=\"#DejaVuSans-20\"/>\n      <use x=\"602.539062\" xlink:href=\"#DejaVuSans-43\"/>\n      <use x=\"672.363281\" xlink:href=\"#DejaVuSans-61\"/>\n      <use x=\"733.642578\" xlink:href=\"#DejaVuSans-73\"/>\n      <use x=\"785.742188\" xlink:href=\"#DejaVuSans-65\"/>\n      <use x=\"847.265625\" xlink:href=\"#DejaVuSans-73\"/>\n     </g>\n    </g>\n   </g>\n   <g id=\"line2d_75\">\n    <path clip-path=\"url(#pb53719cc2b)\" d=\"M 242.521847 249.638601 \nL 243.962962 249.638601 \nL 245.404078 249.638601 \nL 246.845194 249.637751 \nL 248.286309 249.623952 \nL 249.727425 249.569146 \nL 251.168541 249.508717 \nL 252.609657 249.380729 \nL 254.050772 249.169552 \nL 255.491888 248.924955 \nL 256.933004 248.679574 \nL 258.374119 248.404697 \nL 259.815235 248.154084 \nL 261.256351 247.882477 \nL 262.697466 247.629444 \nL 264.138582 247.390145 \nL 265.579698 247.110233 \nL 267.020814 246.716458 \nL 268.461929 246.250613 \nL 269.903045 245.788038 \nL 271.344161 245.30048 \nL 272.785276 245.020633 \nL 274.226392 244.878126 \nL 275.667508 244.772047 \nL 277.108623 244.685981 \nL 278.549739 244.584218 \nL 279.990855 244.452502 \nL 281.431971 244.318301 \nL 282.873086 244.207971 \nL 284.314202 244.129491 \nL 285.755318 244.042378 \nL 287.196433 243.938261 \nL 288.637549 243.802229 \nL 290.078665 243.611326 \nL 291.51978 243.373139 \nL 292.960896 243.093357 \nL 294.402012 242.725808 \nL 295.843128 242.12707 \nL 297.284243 240.918868 \nL 298.725359 239.257378 \nL 300.166475 237.209111 \nL 301.60759 235.11997 \nL 303.048706 232.794341 \nL 304.489822 230.385197 \nL 305.930938 227.531724 \nL 307.372053 224.511743 \nL 308.813169 222.083174 \nL 310.254285 219.380645 \nL 311.6954 216.800283 \nL 313.136516 214.907473 \nL 314.577632 213.388228 \nL 316.018747 212.037061 \nL 317.459863 210.754892 \nL 318.900979 209.362981 \nL 320.342095 207.818557 \nL 321.78321 206.073028 \nL 323.224326 204.258305 \nL 324.665442 202.390804 \nL 326.106557 200.230442 \nL 327.547673 197.75302 \nL 328.988789 195.242571 \nL 330.429904 192.551552 \nL 331.87102 189.867662 \nL 333.312136 187.511164 \nL 334.753252 185.202147 \nL 336.194367 182.999471 \nL 337.635483 181.304562 \nL 339.076599 180.116307 \nL 340.517714 179.594806 \nL 341.95883 179.000057 \nL 343.399946 178.712689 \nL 344.841061 178.52643 \nL 346.282177 178.396807 \nL 347.723293 178.274574 \nL 349.164409 178.175558 \nL 350.605524 178.05254 \nL 352.04664 177.878445 \nL 353.487756 177.652226 \nL 354.928871 177.350863 \nL 356.369987 176.970234 \nL 357.811103 176.547357 \nL 359.252218 176.109961 \nL 360.693334 175.636725 \nL 362.13445 175.115355 \nL 363.575566 174.705558 \nL 365.016681 174.424469 \nL 366.457797 174.147107 \nL 367.898913 173.876285 \nL 369.340028 173.610629 \n\" style=\"fill:none;stroke:#1f77b4;stroke-linecap:square;stroke-width:1.5;\"/>\n   </g>\n   <g id=\"patch_19\">\n    <path d=\"M 236.180938 253.44 \nL 236.180938 169.809231 \n\" style=\"fill:none;stroke:#000000;stroke-linecap:square;stroke-linejoin:miter;stroke-width:0.8;\"/>\n   </g>\n   <g id=\"patch_20\">\n    <path d=\"M 375.680938 253.44 \nL 375.680938 169.809231 \n\" style=\"fill:none;stroke:#000000;stroke-linecap:square;stroke-linejoin:miter;stroke-width:0.8;\"/>\n   </g>\n   <g id=\"patch_21\">\n    <path d=\"M 236.180938 253.44 \nL 375.680938 253.44 \n\" style=\"fill:none;stroke:#000000;stroke-linecap:square;stroke-linejoin:miter;stroke-width:0.8;\"/>\n   </g>\n   <g id=\"patch_22\">\n    <path d=\"M 236.180938 169.809231 \nL 375.680938 169.809231 \n\" style=\"fill:none;stroke:#000000;stroke-linecap:square;stroke-linejoin:miter;stroke-width:0.8;\"/>\n   </g>\n   <g id=\"text_47\">\n    <!-- Cumulative Cases per Week -->\n    <g transform=\"translate(242.795234 163.809231)scale(0.09 -0.09)\">\n     <use xlink:href=\"#DejaVuSans-43\"/>\n     <use x=\"69.824219\" xlink:href=\"#DejaVuSans-75\"/>\n     <use x=\"133.203125\" xlink:href=\"#DejaVuSans-6d\"/>\n     <use x=\"230.615234\" xlink:href=\"#DejaVuSans-75\"/>\n     <use x=\"293.994141\" xlink:href=\"#DejaVuSans-6c\"/>\n     <use x=\"321.777344\" xlink:href=\"#DejaVuSans-61\"/>\n     <use x=\"383.056641\" xlink:href=\"#DejaVuSans-74\"/>\n     <use x=\"422.265625\" xlink:href=\"#DejaVuSans-69\"/>\n     <use x=\"450.048828\" xlink:href=\"#DejaVuSans-76\"/>\n     <use x=\"509.228516\" xlink:href=\"#DejaVuSans-65\"/>\n     <use x=\"570.751953\" xlink:href=\"#DejaVuSans-20\"/>\n     <use x=\"602.539062\" xlink:href=\"#DejaVuSans-43\"/>\n     <use x=\"672.363281\" xlink:href=\"#DejaVuSans-61\"/>\n     <use x=\"733.642578\" xlink:href=\"#DejaVuSans-73\"/>\n     <use x=\"785.742188\" xlink:href=\"#DejaVuSans-65\"/>\n     <use x=\"847.265625\" xlink:href=\"#DejaVuSans-73\"/>\n     <use x=\"899.365234\" xlink:href=\"#DejaVuSans-20\"/>\n     <use x=\"931.152344\" xlink:href=\"#DejaVuSans-70\"/>\n     <use x=\"994.628906\" xlink:href=\"#DejaVuSans-65\"/>\n     <use x=\"1056.152344\" xlink:href=\"#DejaVuSans-72\"/>\n     <use x=\"1097.265625\" xlink:href=\"#DejaVuSans-20\"/>\n     <use x=\"1129.052734\" xlink:href=\"#DejaVuSans-57\"/>\n     <use x=\"1222.054688\" xlink:href=\"#DejaVuSans-65\"/>\n     <use x=\"1283.578125\" xlink:href=\"#DejaVuSans-65\"/>\n     <use x=\"1345.101562\" xlink:href=\"#DejaVuSans-6b\"/>\n    </g>\n   </g>\n  </g>\n  <g id=\"text_48\">\n   <!-- Statistics for Covid-19 in Sweden -->\n   <g transform=\"translate(103.708438 16.318125)scale(0.12 -0.12)\">\n    <defs>\n     <path d=\"M 3425 4513 \nL 3425 3897 \nQ 3066 4069 2747 4153 \nQ 2428 4238 2131 4238 \nQ 1616 4238 1336 4038 \nQ 1056 3838 1056 3469 \nQ 1056 3159 1242 3001 \nQ 1428 2844 1947 2747 \nL 2328 2669 \nQ 3034 2534 3370 2195 \nQ 3706 1856 3706 1288 \nQ 3706 609 3251 259 \nQ 2797 -91 1919 -91 \nQ 1588 -91 1214 -16 \nQ 841 59 441 206 \nL 441 856 \nQ 825 641 1194 531 \nQ 1563 422 1919 422 \nQ 2459 422 2753 634 \nQ 3047 847 3047 1241 \nQ 3047 1584 2836 1778 \nQ 2625 1972 2144 2069 \nL 1759 2144 \nQ 1053 2284 737 2584 \nQ 422 2884 422 3419 \nQ 422 4038 858 4394 \nQ 1294 4750 2059 4750 \nQ 2388 4750 2728 4690 \nQ 3069 4631 3425 4513 \nz\n\" id=\"DejaVuSans-53\" transform=\"scale(0.015625)\"/>\n     <path d=\"M 313 2009 \nL 1997 2009 \nL 1997 1497 \nL 313 1497 \nL 313 2009 \nz\n\" id=\"DejaVuSans-2d\" transform=\"scale(0.015625)\"/>\n    </defs>\n    <use xlink:href=\"#DejaVuSans-53\"/>\n    <use x=\"63.476562\" xlink:href=\"#DejaVuSans-74\"/>\n    <use x=\"102.685547\" xlink:href=\"#DejaVuSans-61\"/>\n    <use x=\"163.964844\" xlink:href=\"#DejaVuSans-74\"/>\n    <use x=\"203.173828\" xlink:href=\"#DejaVuSans-69\"/>\n    <use x=\"230.957031\" xlink:href=\"#DejaVuSans-73\"/>\n    <use x=\"283.056641\" xlink:href=\"#DejaVuSans-74\"/>\n    <use x=\"322.265625\" xlink:href=\"#DejaVuSans-69\"/>\n    <use x=\"350.048828\" xlink:href=\"#DejaVuSans-63\"/>\n    <use x=\"405.029297\" xlink:href=\"#DejaVuSans-73\"/>\n    <use x=\"457.128906\" xlink:href=\"#DejaVuSans-20\"/>\n    <use x=\"488.916016\" xlink:href=\"#DejaVuSans-66\"/>\n    <use x=\"524.121094\" xlink:href=\"#DejaVuSans-6f\"/>\n    <use x=\"585.302734\" xlink:href=\"#DejaVuSans-72\"/>\n    <use x=\"626.416016\" xlink:href=\"#DejaVuSans-20\"/>\n    <use x=\"658.203125\" xlink:href=\"#DejaVuSans-43\"/>\n    <use x=\"728.027344\" xlink:href=\"#DejaVuSans-6f\"/>\n    <use x=\"789.208984\" xlink:href=\"#DejaVuSans-76\"/>\n    <use x=\"848.388672\" xlink:href=\"#DejaVuSans-69\"/>\n    <use x=\"876.171875\" xlink:href=\"#DejaVuSans-64\"/>\n    <use x=\"939.648438\" xlink:href=\"#DejaVuSans-2d\"/>\n    <use x=\"975.732422\" xlink:href=\"#DejaVuSans-31\"/>\n    <use x=\"1039.355469\" xlink:href=\"#DejaVuSans-39\"/>\n    <use x=\"1102.978516\" xlink:href=\"#DejaVuSans-20\"/>\n    <use x=\"1134.765625\" xlink:href=\"#DejaVuSans-69\"/>\n    <use x=\"1162.548828\" xlink:href=\"#DejaVuSans-6e\"/>\n    <use x=\"1225.927734\" xlink:href=\"#DejaVuSans-20\"/>\n    <use x=\"1257.714844\" xlink:href=\"#DejaVuSans-53\"/>\n    <use x=\"1321.191406\" xlink:href=\"#DejaVuSans-77\"/>\n    <use x=\"1402.978516\" xlink:href=\"#DejaVuSans-65\"/>\n    <use x=\"1464.501953\" xlink:href=\"#DejaVuSans-64\"/>\n    <use x=\"1527.978516\" xlink:href=\"#DejaVuSans-65\"/>\n    <use x=\"1589.501953\" xlink:href=\"#DejaVuSans-6e\"/>\n   </g>\n  </g>\n </g>\n <defs>\n  <clipPath id=\"p0782fb20d6\">\n   <rect height=\"83.630769\" width=\"139.5\" x=\"40.880938\" y=\"36\"/>\n  </clipPath>\n  <clipPath id=\"p52f5719a8f\">\n   <rect height=\"83.630769\" width=\"139.5\" x=\"236.180938\" y=\"36\"/>\n  </clipPath>\n  <clipPath id=\"p06edbd7ea5\">\n   <rect height=\"83.630769\" width=\"139.5\" x=\"40.880938\" y=\"169.809231\"/>\n  </clipPath>\n  <clipPath id=\"pb53719cc2b\">\n   <rect height=\"83.630769\" width=\"139.5\" x=\"236.180938\" y=\"169.809231\"/>\n  </clipPath>\n </defs>\n</svg>\n",
      "image/png": "[encoded data removed]"
     },
     "metadata": {}
    }
   ],
   "metadata": {}
  },
  {
   "cell_type": "code",
   "execution_count": 142,
   "source": [
    "#Fix type hinting of return \n",
    "\n",
    "#CHECK OUT HOVER TEMPLATE\n",
    "\n",
    "def create_plotly_fig(y_data1:str, y_label:str, title:str, y_data2=None, y_data1_label=None, y_data2_label=None):\n",
    "        \"Set the properties for the x and y-axis for a plotly express line graph.\"\n",
    "        \n",
    "        #Creates a list of labels for the ticks (every other week)\n",
    "        tick_labels = [f\"v.{i} 2020\" for i in range(6, 54, 2)]\n",
    "        tick_labels.extend([f\"v.{i} 2021\" for i in range(1, 42, 2)])\n",
    "\n",
    "        #Creates a list of the real values (every other week)\n",
    "        real_labels = [f\"2020v{i}\" for i in range(6, 54, 2)]\n",
    "        real_labels.extend([f\"2021v{i}\" for i in range(1, 42, 2)])\n",
    "\n",
    "        #Creates labels for hoover (all weeks)\n",
    "        hover_labels = [f\"v.{i} 2020\" for i in range(6, 54)]\n",
    "        hover_labels.extend([f\"v.{i} 2021\" for i in range(1, 42)])\n",
    "\n",
    "        #Creates the figure\n",
    "        if y_data2 == None:\n",
    "                fig = px.line(\n",
    "                        covid, \n",
    "                        x=\"Vecka\",      \n",
    "                        y=y_data1,\n",
    "                        labels={\"Vecka\":\"Week\", y_data1:y_label},\n",
    "                        title=title,\n",
    "                        hover_name=hover_labels, #Change the formating on the hoover weeks, by using the hoover_labels\n",
    "                        hover_data={\"Vecka\":False} #Remove all information in \"Vecka\" from the hoover\n",
    "                        )\n",
    "        else:\n",
    "                fig = px.line(\n",
    "                        covid, \n",
    "                        x=\"Vecka\",      \n",
    "                        y=[y_data1, y_data2],\n",
    "                        labels={\"Vecka\":\"Week\"},\n",
    "                        title=title,\n",
    "                        hover_name=hover_labels, #Change the formating on the hoover weeks, by using the hoover_labels (displayed in bold as a title)                        \n",
    "                        hover_data={\"Vecka\":False, \"Week\":hover_labels, \"Antal_avlidna_vecka\":False, \"Antal_fall_vecka\":False} #Remove all information in \"Vecka\" from the hoover\n",
    "                        )\n",
    "                fig.add_trace(go.Scatter(x=covid[\"Vecka\"], y=covid[y_data1], name=y_data1_label))\n",
    "                fig.add_trace(go.Scatter(x=covid[\"Vecka\"], y=covid[y_data2], name=y_data2_label))\n",
    "                fig.update_layout(yaxis=dict(title=y_label))\n",
    "\n",
    "        fig.update_traces(mode=\"markers+lines\") \n",
    "        fig.update_layout(\n",
    "                xaxis = dict(tickmode = 'array', \n",
    "                        tick0 = 0, \n",
    "                        dtick = 2, #Show every other tick/week\n",
    "                        ticktext=tick_labels, #The tick_labels (created above) should be shown\n",
    "                        tickvals=real_labels) #These are the old values that should be overwritten in the plot\n",
    "                )\n",
    "        return fig"
   ],
   "outputs": [],
   "metadata": {}
  },
  {
   "cell_type": "code",
   "execution_count": 143,
   "source": [
    "plot1 = create_plotly_fig(\"Antal_avlidna_vecka\", \"Number of Deceased\", \"Deceased in Covid-19 in Sweden (per week)\")\n",
    "plot1.show()\n",
    "plot1.write_html('deceased_per_week.html', auto_open=True)"
   ],
   "outputs": [
    {
     "output_type": "display_data",
     "data": {
      "application/vnd.plotly.v1+json": {
       "config": {
        "plotlyServerURL": "https://plot.ly"
       },
       "data": [
        {
         "hovertemplate": "<b>%{hovertext}</b><br><br>Number of Deceased=%{y}<extra></extra>",
         "hovertext": [
          "v.6 2020",
          "v.7 2020",
          "v.8 2020",
          "v.9 2020",
          "v.10 2020",
          "v.11 2020",
          "v.12 2020",
          "v.13 2020",
          "v.14 2020",
          "v.15 2020",
          "v.16 2020",
          "v.17 2020",
          "v.18 2020",
          "v.19 2020",
          "v.20 2020",
          "v.21 2020",
          "v.22 2020",
          "v.23 2020",
          "v.24 2020",
          "v.25 2020",
          "v.26 2020",
          "v.27 2020",
          "v.28 2020",
          "v.29 2020",
          "v.30 2020",
          "v.31 2020",
          "v.32 2020",
          "v.33 2020",
          "v.34 2020",
          "v.35 2020",
          "v.36 2020",
          "v.37 2020",
          "v.38 2020",
          "v.39 2020",
          "v.40 2020",
          "v.41 2020",
          "v.42 2020",
          "v.43 2020",
          "v.44 2020",
          "v.45 2020",
          "v.46 2020",
          "v.47 2020",
          "v.48 2020",
          "v.49 2020",
          "v.50 2020",
          "v.51 2020",
          "v.52 2020",
          "v.53 2020",
          "v.1 2021",
          "v.2 2021",
          "v.3 2021",
          "v.4 2021",
          "v.5 2021",
          "v.6 2021",
          "v.7 2021",
          "v.8 2021",
          "v.9 2021",
          "v.10 2021",
          "v.11 2021",
          "v.12 2021",
          "v.13 2021",
          "v.14 2021",
          "v.15 2021",
          "v.16 2021",
          "v.17 2021",
          "v.18 2021",
          "v.19 2021",
          "v.20 2021",
          "v.21 2021",
          "v.22 2021",
          "v.23 2021",
          "v.24 2021",
          "v.25 2021",
          "v.26 2021",
          "v.27 2021",
          "v.28 2021",
          "v.29 2021",
          "v.30 2021",
          "v.31 2021",
          "v.32 2021",
          "v.33 2021",
          "v.34 2021",
          "v.35 2021",
          "v.36 2021",
          "v.37 2021",
          "v.38 2021",
          "v.39 2021",
          "v.40 2021",
          "v.41 2021"
         ],
         "legendgroup": "",
         "line": {
          "color": "#636efa",
          "dash": "solid"
         },
         "marker": {
          "symbol": "circle"
         },
         "mode": "markers+lines",
         "name": "",
         "orientation": "v",
         "showlegend": false,
         "type": "scatter",
         "x": [
          "2020v6",
          "2020v7",
          "2020v8",
          "2020v9",
          "2020v10",
          "2020v11",
          "2020v12",
          "2020v13",
          "2020v14",
          "2020v15",
          "2020v16",
          "2020v17",
          "2020v18",
          "2020v19",
          "2020v20",
          "2020v21",
          "2020v22",
          "2020v23",
          "2020v24",
          "2020v25",
          "2020v26",
          "2020v27",
          "2020v28",
          "2020v29",
          "2020v30",
          "2020v31",
          "2020v32",
          "2020v33",
          "2020v34",
          "2020v35",
          "2020v36",
          "2020v37",
          "2020v38",
          "2020v39",
          "2020v40",
          "2020v41",
          "2020v42",
          "2020v43",
          "2020v44",
          "2020v45",
          "2020v46",
          "2020v47",
          "2020v48",
          "2020v49",
          "2020v50",
          "2020v51",
          "2020v52",
          "2020v53",
          "2021v1",
          "2021v2",
          "2021v3",
          "2021v4",
          "2021v5",
          "2021v6",
          "2021v7",
          "2021v8",
          "2021v9",
          "2021v10",
          "2021v11",
          "2021v12",
          "2021v13",
          "2021v14",
          "2021v15",
          "2021v16",
          "2021v17",
          "2021v18",
          "2021v19",
          "2021v20",
          "2021v21",
          "2021v22",
          "2021v23",
          "2021v24",
          "2021v25",
          "2021v26",
          "2021v27",
          "2021v28",
          "2021v29",
          "2021v30",
          "2021v31",
          "2021v32",
          "2021v33",
          "2021v34",
          "2021v35",
          "2021v36",
          "2021v37",
          "2021v38",
          "2021v39",
          "2021v40",
          "2021v41"
         ],
         "xaxis": "x",
         "y": [
          0,
          0,
          0,
          0,
          0,
          5,
          44,
          190,
          451,
          664,
          657,
          546,
          543,
          509,
          380,
          360,
          272,
          246,
          234,
          200,
          138,
          98,
          84,
          57,
          30,
          18,
          18,
          16,
          19,
          10,
          12,
          13,
          12,
          11,
          17,
          22,
          16,
          43,
          82,
          157,
          235,
          332,
          417,
          476,
          501,
          645,
          643,
          663,
          644,
          598,
          513,
          389,
          269,
          205,
          171,
          146,
          128,
          140,
          127,
          125,
          141,
          133,
          140,
          131,
          114,
          105,
          111,
          69,
          47,
          39,
          22,
          17,
          9,
          8,
          3,
          2,
          3,
          3,
          7,
          6,
          9,
          20,
          26,
          49,
          52,
          40,
          37,
          42,
          18
         ],
         "yaxis": "y"
        }
       ],
       "layout": {
        "legend": {
         "tracegroupgap": 0
        },
        "template": {
         "data": {
          "bar": [
           {
            "error_x": {
             "color": "#2a3f5f"
            },
            "error_y": {
             "color": "#2a3f5f"
            },
            "marker": {
             "line": {
              "color": "#E5ECF6",
              "width": 0.5
             },
             "pattern": {
              "fillmode": "overlay",
              "size": 10,
              "solidity": 0.2
             }
            },
            "type": "bar"
           }
          ],
          "barpolar": [
           {
            "marker": {
             "line": {
              "color": "#E5ECF6",
              "width": 0.5
             },
             "pattern": {
              "fillmode": "overlay",
              "size": 10,
              "solidity": 0.2
             }
            },
            "type": "barpolar"
           }
          ],
          "carpet": [
           {
            "aaxis": {
             "endlinecolor": "#2a3f5f",
             "gridcolor": "white",
             "linecolor": "white",
             "minorgridcolor": "white",
             "startlinecolor": "#2a3f5f"
            },
            "baxis": {
             "endlinecolor": "#2a3f5f",
             "gridcolor": "white",
             "linecolor": "white",
             "minorgridcolor": "white",
             "startlinecolor": "#2a3f5f"
            },
            "type": "carpet"
           }
          ],
          "choropleth": [
           {
            "colorbar": {
             "outlinewidth": 0,
             "ticks": ""
            },
            "type": "choropleth"
           }
          ],
          "contour": [
           {
            "colorbar": {
             "outlinewidth": 0,
             "ticks": ""
            },
            "colorscale": [
             [
              0,
              "#0d0887"
             ],
             [
              0.1111111111111111,
              "#46039f"
             ],
             [
              0.2222222222222222,
              "#7201a8"
             ],
             [
              0.3333333333333333,
              "#9c179e"
             ],
             [
              0.4444444444444444,
              "#bd3786"
             ],
             [
              0.5555555555555556,
              "#d8576b"
             ],
             [
              0.6666666666666666,
              "#ed7953"
             ],
             [
              0.7777777777777778,
              "#fb9f3a"
             ],
             [
              0.8888888888888888,
              "#fdca26"
             ],
             [
              1,
              "#f0f921"
             ]
            ],
            "type": "contour"
           }
          ],
          "contourcarpet": [
           {
            "colorbar": {
             "outlinewidth": 0,
             "ticks": ""
            },
            "type": "contourcarpet"
           }
          ],
          "heatmap": [
           {
            "colorbar": {
             "outlinewidth": 0,
             "ticks": ""
            },
            "colorscale": [
             [
              0,
              "#0d0887"
             ],
             [
              0.1111111111111111,
              "#46039f"
             ],
             [
              0.2222222222222222,
              "#7201a8"
             ],
             [
              0.3333333333333333,
              "#9c179e"
             ],
             [
              0.4444444444444444,
              "#bd3786"
             ],
             [
              0.5555555555555556,
              "#d8576b"
             ],
             [
              0.6666666666666666,
              "#ed7953"
             ],
             [
              0.7777777777777778,
              "#fb9f3a"
             ],
             [
              0.8888888888888888,
              "#fdca26"
             ],
             [
              1,
              "#f0f921"
             ]
            ],
            "type": "heatmap"
           }
          ],
          "heatmapgl": [
           {
            "colorbar": {
             "outlinewidth": 0,
             "ticks": ""
            },
            "colorscale": [
             [
              0,
              "#0d0887"
             ],
             [
              0.1111111111111111,
              "#46039f"
             ],
             [
              0.2222222222222222,
              "#7201a8"
             ],
             [
              0.3333333333333333,
              "#9c179e"
             ],
             [
              0.4444444444444444,
              "#bd3786"
             ],
             [
              0.5555555555555556,
              "#d8576b"
             ],
             [
              0.6666666666666666,
              "#ed7953"
             ],
             [
              0.7777777777777778,
              "#fb9f3a"
             ],
             [
              0.8888888888888888,
              "#fdca26"
             ],
             [
              1,
              "#f0f921"
             ]
            ],
            "type": "heatmapgl"
           }
          ],
          "histogram": [
           {
            "marker": {
             "pattern": {
              "fillmode": "overlay",
              "size": 10,
              "solidity": 0.2
             }
            },
            "type": "histogram"
           }
          ],
          "histogram2d": [
           {
            "colorbar": {
             "outlinewidth": 0,
             "ticks": ""
            },
            "colorscale": [
             [
              0,
              "#0d0887"
             ],
             [
              0.1111111111111111,
              "#46039f"
             ],
             [
              0.2222222222222222,
              "#7201a8"
             ],
             [
              0.3333333333333333,
              "#9c179e"
             ],
             [
              0.4444444444444444,
              "#bd3786"
             ],
             [
              0.5555555555555556,
              "#d8576b"
             ],
             [
              0.6666666666666666,
              "#ed7953"
             ],
             [
              0.7777777777777778,
              "#fb9f3a"
             ],
             [
              0.8888888888888888,
              "#fdca26"
             ],
             [
              1,
              "#f0f921"
             ]
            ],
            "type": "histogram2d"
           }
          ],
          "histogram2dcontour": [
           {
            "colorbar": {
             "outlinewidth": 0,
             "ticks": ""
            },
            "colorscale": [
             [
              0,
              "#0d0887"
             ],
             [
              0.1111111111111111,
              "#46039f"
             ],
             [
              0.2222222222222222,
              "#7201a8"
             ],
             [
              0.3333333333333333,
              "#9c179e"
             ],
             [
              0.4444444444444444,
              "#bd3786"
             ],
             [
              0.5555555555555556,
              "#d8576b"
             ],
             [
              0.6666666666666666,
              "#ed7953"
             ],
             [
              0.7777777777777778,
              "#fb9f3a"
             ],
             [
              0.8888888888888888,
              "#fdca26"
             ],
             [
              1,
              "#f0f921"
             ]
            ],
            "type": "histogram2dcontour"
           }
          ],
          "mesh3d": [
           {
            "colorbar": {
             "outlinewidth": 0,
             "ticks": ""
            },
            "type": "mesh3d"
           }
          ],
          "parcoords": [
           {
            "line": {
             "colorbar": {
              "outlinewidth": 0,
              "ticks": ""
             }
            },
            "type": "parcoords"
           }
          ],
          "pie": [
           {
            "automargin": true,
            "type": "pie"
           }
          ],
          "scatter": [
           {
            "marker": {
             "colorbar": {
              "outlinewidth": 0,
              "ticks": ""
             }
            },
            "type": "scatter"
           }
          ],
          "scatter3d": [
           {
            "line": {
             "colorbar": {
              "outlinewidth": 0,
              "ticks": ""
             }
            },
            "marker": {
             "colorbar": {
              "outlinewidth": 0,
              "ticks": ""
             }
            },
            "type": "scatter3d"
           }
          ],
          "scattercarpet": [
           {
            "marker": {
             "colorbar": {
              "outlinewidth": 0,
              "ticks": ""
             }
            },
            "type": "scattercarpet"
           }
          ],
          "scattergeo": [
           {
            "marker": {
             "colorbar": {
              "outlinewidth": 0,
              "ticks": ""
             }
            },
            "type": "scattergeo"
           }
          ],
          "scattergl": [
           {
            "marker": {
             "colorbar": {
              "outlinewidth": 0,
              "ticks": ""
             }
            },
            "type": "scattergl"
           }
          ],
          "scattermapbox": [
           {
            "marker": {
             "colorbar": {
              "outlinewidth": 0,
              "ticks": ""
             }
            },
            "type": "scattermapbox"
           }
          ],
          "scatterpolar": [
           {
            "marker": {
             "colorbar": {
              "outlinewidth": 0,
              "ticks": ""
             }
            },
            "type": "scatterpolar"
           }
          ],
          "scatterpolargl": [
           {
            "marker": {
             "colorbar": {
              "outlinewidth": 0,
              "ticks": ""
             }
            },
            "type": "scatterpolargl"
           }
          ],
          "scatterternary": [
           {
            "marker": {
             "colorbar": {
              "outlinewidth": 0,
              "ticks": ""
             }
            },
            "type": "scatterternary"
           }
          ],
          "surface": [
           {
            "colorbar": {
             "outlinewidth": 0,
             "ticks": ""
            },
            "colorscale": [
             [
              0,
              "#0d0887"
             ],
             [
              0.1111111111111111,
              "#46039f"
             ],
             [
              0.2222222222222222,
              "#7201a8"
             ],
             [
              0.3333333333333333,
              "#9c179e"
             ],
             [
              0.4444444444444444,
              "#bd3786"
             ],
             [
              0.5555555555555556,
              "#d8576b"
             ],
             [
              0.6666666666666666,
              "#ed7953"
             ],
             [
              0.7777777777777778,
              "#fb9f3a"
             ],
             [
              0.8888888888888888,
              "#fdca26"
             ],
             [
              1,
              "#f0f921"
             ]
            ],
            "type": "surface"
           }
          ],
          "table": [
           {
            "cells": {
             "fill": {
              "color": "#EBF0F8"
             },
             "line": {
              "color": "white"
             }
            },
            "header": {
             "fill": {
              "color": "#C8D4E3"
             },
             "line": {
              "color": "white"
             }
            },
            "type": "table"
           }
          ]
         },
         "layout": {
          "annotationdefaults": {
           "arrowcolor": "#2a3f5f",
           "arrowhead": 0,
           "arrowwidth": 1
          },
          "autotypenumbers": "strict",
          "coloraxis": {
           "colorbar": {
            "outlinewidth": 0,
            "ticks": ""
           }
          },
          "colorscale": {
           "diverging": [
            [
             0,
             "#8e0152"
            ],
            [
             0.1,
             "#c51b7d"
            ],
            [
             0.2,
             "#de77ae"
            ],
            [
             0.3,
             "#f1b6da"
            ],
            [
             0.4,
             "#fde0ef"
            ],
            [
             0.5,
             "#f7f7f7"
            ],
            [
             0.6,
             "#e6f5d0"
            ],
            [
             0.7,
             "#b8e186"
            ],
            [
             0.8,
             "#7fbc41"
            ],
            [
             0.9,
             "#4d9221"
            ],
            [
             1,
             "#276419"
            ]
           ],
           "sequential": [
            [
             0,
             "#0d0887"
            ],
            [
             0.1111111111111111,
             "#46039f"
            ],
            [
             0.2222222222222222,
             "#7201a8"
            ],
            [
             0.3333333333333333,
             "#9c179e"
            ],
            [
             0.4444444444444444,
             "#bd3786"
            ],
            [
             0.5555555555555556,
             "#d8576b"
            ],
            [
             0.6666666666666666,
             "#ed7953"
            ],
            [
             0.7777777777777778,
             "#fb9f3a"
            ],
            [
             0.8888888888888888,
             "#fdca26"
            ],
            [
             1,
             "#f0f921"
            ]
           ],
           "sequentialminus": [
            [
             0,
             "#0d0887"
            ],
            [
             0.1111111111111111,
             "#46039f"
            ],
            [
             0.2222222222222222,
             "#7201a8"
            ],
            [
             0.3333333333333333,
             "#9c179e"
            ],
            [
             0.4444444444444444,
             "#bd3786"
            ],
            [
             0.5555555555555556,
             "#d8576b"
            ],
            [
             0.6666666666666666,
             "#ed7953"
            ],
            [
             0.7777777777777778,
             "#fb9f3a"
            ],
            [
             0.8888888888888888,
             "#fdca26"
            ],
            [
             1,
             "#f0f921"
            ]
           ]
          },
          "colorway": [
           "#636efa",
           "#EF553B",
           "#00cc96",
           "#ab63fa",
           "#FFA15A",
           "#19d3f3",
           "#FF6692",
           "#B6E880",
           "#FF97FF",
           "#FECB52"
          ],
          "font": {
           "color": "#2a3f5f"
          },
          "geo": {
           "bgcolor": "white",
           "lakecolor": "white",
           "landcolor": "#E5ECF6",
           "showlakes": true,
           "showland": true,
           "subunitcolor": "white"
          },
          "hoverlabel": {
           "align": "left"
          },
          "hovermode": "closest",
          "mapbox": {
           "style": "light"
          },
          "paper_bgcolor": "white",
          "plot_bgcolor": "#E5ECF6",
          "polar": {
           "angularaxis": {
            "gridcolor": "white",
            "linecolor": "white",
            "ticks": ""
           },
           "bgcolor": "#E5ECF6",
           "radialaxis": {
            "gridcolor": "white",
            "linecolor": "white",
            "ticks": ""
           }
          },
          "scene": {
           "xaxis": {
            "backgroundcolor": "#E5ECF6",
            "gridcolor": "white",
            "gridwidth": 2,
            "linecolor": "white",
            "showbackground": true,
            "ticks": "",
            "zerolinecolor": "white"
           },
           "yaxis": {
            "backgroundcolor": "#E5ECF6",
            "gridcolor": "white",
            "gridwidth": 2,
            "linecolor": "white",
            "showbackground": true,
            "ticks": "",
            "zerolinecolor": "white"
           },
           "zaxis": {
            "backgroundcolor": "#E5ECF6",
            "gridcolor": "white",
            "gridwidth": 2,
            "linecolor": "white",
            "showbackground": true,
            "ticks": "",
            "zerolinecolor": "white"
           }
          },
          "shapedefaults": {
           "line": {
            "color": "#2a3f5f"
           }
          },
          "ternary": {
           "aaxis": {
            "gridcolor": "white",
            "linecolor": "white",
            "ticks": ""
           },
           "baxis": {
            "gridcolor": "white",
            "linecolor": "white",
            "ticks": ""
           },
           "bgcolor": "#E5ECF6",
           "caxis": {
            "gridcolor": "white",
            "linecolor": "white",
            "ticks": ""
           }
          },
          "title": {
           "x": 0.05
          },
          "xaxis": {
           "automargin": true,
           "gridcolor": "white",
           "linecolor": "white",
           "ticks": "",
           "title": {
            "standoff": 15
           },
           "zerolinecolor": "white",
           "zerolinewidth": 2
          },
          "yaxis": {
           "automargin": true,
           "gridcolor": "white",
           "linecolor": "white",
           "ticks": "",
           "title": {
            "standoff": 15
           },
           "zerolinecolor": "white",
           "zerolinewidth": 2
          }
         }
        },
        "title": {
         "text": "Deceased in Covid-19 in Sweden (per week)"
        },
        "xaxis": {
         "anchor": "y",
         "domain": [
          0,
          1
         ],
         "dtick": 2,
         "tick0": 0,
         "tickmode": "array",
         "ticktext": [
          "v.6 2020",
          "v.8 2020",
          "v.10 2020",
          "v.12 2020",
          "v.14 2020",
          "v.16 2020",
          "v.18 2020",
          "v.20 2020",
          "v.22 2020",
          "v.24 2020",
          "v.26 2020",
          "v.28 2020",
          "v.30 2020",
          "v.32 2020",
          "v.34 2020",
          "v.36 2020",
          "v.38 2020",
          "v.40 2020",
          "v.42 2020",
          "v.44 2020",
          "v.46 2020",
          "v.48 2020",
          "v.50 2020",
          "v.52 2020",
          "v.1 2021",
          "v.3 2021",
          "v.5 2021",
          "v.7 2021",
          "v.9 2021",
          "v.11 2021",
          "v.13 2021",
          "v.15 2021",
          "v.17 2021",
          "v.19 2021",
          "v.21 2021",
          "v.23 2021",
          "v.25 2021",
          "v.27 2021",
          "v.29 2021",
          "v.31 2021",
          "v.33 2021",
          "v.35 2021",
          "v.37 2021",
          "v.39 2021",
          "v.41 2021"
         ],
         "tickvals": [
          "2020v6",
          "2020v8",
          "2020v10",
          "2020v12",
          "2020v14",
          "2020v16",
          "2020v18",
          "2020v20",
          "2020v22",
          "2020v24",
          "2020v26",
          "2020v28",
          "2020v30",
          "2020v32",
          "2020v34",
          "2020v36",
          "2020v38",
          "2020v40",
          "2020v42",
          "2020v44",
          "2020v46",
          "2020v48",
          "2020v50",
          "2020v52",
          "2021v1",
          "2021v3",
          "2021v5",
          "2021v7",
          "2021v9",
          "2021v11",
          "2021v13",
          "2021v15",
          "2021v17",
          "2021v19",
          "2021v21",
          "2021v23",
          "2021v25",
          "2021v27",
          "2021v29",
          "2021v31",
          "2021v33",
          "2021v35",
          "2021v37",
          "2021v39",
          "2021v41"
         ],
         "title": {
          "text": "Week"
         }
        },
        "yaxis": {
         "anchor": "x",
         "domain": [
          0,
          1
         ],
         "title": {
          "text": "Number of Deceased"
         }
        }
       }
      }
     },
     "metadata": {}
    }
   ],
   "metadata": {}
  },
  {
   "cell_type": "code",
   "execution_count": 144,
   "source": [
    "plot2 = create_plotly_fig(\"Antal_fall_vecka\", \"New Cases\", \"New Cases in Covid-19 in Sweden (per week)\")\n",
    "plot2.show()\n",
    "plot2.write_html('new_cases.html', auto_open=True)"
   ],
   "outputs": [
    {
     "output_type": "display_data",
     "data": {
      "application/vnd.plotly.v1+json": {
       "config": {
        "plotlyServerURL": "https://plot.ly"
       },
       "data": [
        {
         "hovertemplate": "<b>%{hovertext}</b><br><br>New Cases=%{y}<extra></extra>",
         "hovertext": [
          "v.6 2020",
          "v.7 2020",
          "v.8 2020",
          "v.9 2020",
          "v.10 2020",
          "v.11 2020",
          "v.12 2020",
          "v.13 2020",
          "v.14 2020",
          "v.15 2020",
          "v.16 2020",
          "v.17 2020",
          "v.18 2020",
          "v.19 2020",
          "v.20 2020",
          "v.21 2020",
          "v.22 2020",
          "v.23 2020",
          "v.24 2020",
          "v.25 2020",
          "v.26 2020",
          "v.27 2020",
          "v.28 2020",
          "v.29 2020",
          "v.30 2020",
          "v.31 2020",
          "v.32 2020",
          "v.33 2020",
          "v.34 2020",
          "v.35 2020",
          "v.36 2020",
          "v.37 2020",
          "v.38 2020",
          "v.39 2020",
          "v.40 2020",
          "v.41 2020",
          "v.42 2020",
          "v.43 2020",
          "v.44 2020",
          "v.45 2020",
          "v.46 2020",
          "v.47 2020",
          "v.48 2020",
          "v.49 2020",
          "v.50 2020",
          "v.51 2020",
          "v.52 2020",
          "v.53 2020",
          "v.1 2021",
          "v.2 2021",
          "v.3 2021",
          "v.4 2021",
          "v.5 2021",
          "v.6 2021",
          "v.7 2021",
          "v.8 2021",
          "v.9 2021",
          "v.10 2021",
          "v.11 2021",
          "v.12 2021",
          "v.13 2021",
          "v.14 2021",
          "v.15 2021",
          "v.16 2021",
          "v.17 2021",
          "v.18 2021",
          "v.19 2021",
          "v.20 2021",
          "v.21 2021",
          "v.22 2021",
          "v.23 2021",
          "v.24 2021",
          "v.25 2021",
          "v.26 2021",
          "v.27 2021",
          "v.28 2021",
          "v.29 2021",
          "v.30 2021",
          "v.31 2021",
          "v.32 2021",
          "v.33 2021",
          "v.34 2021",
          "v.35 2021",
          "v.36 2021",
          "v.37 2021",
          "v.38 2021",
          "v.39 2021",
          "v.40 2021",
          "v.41 2021"
         ],
         "legendgroup": "",
         "line": {
          "color": "#636efa",
          "dash": "solid"
         },
         "marker": {
          "symbol": "circle"
         },
         "mode": "markers+lines",
         "name": "",
         "orientation": "v",
         "showlegend": false,
         "type": "scatter",
         "x": [
          "2020v6",
          "2020v7",
          "2020v8",
          "2020v9",
          "2020v10",
          "2020v11",
          "2020v12",
          "2020v13",
          "2020v14",
          "2020v15",
          "2020v16",
          "2020v17",
          "2020v18",
          "2020v19",
          "2020v20",
          "2020v21",
          "2020v22",
          "2020v23",
          "2020v24",
          "2020v25",
          "2020v26",
          "2020v27",
          "2020v28",
          "2020v29",
          "2020v30",
          "2020v31",
          "2020v32",
          "2020v33",
          "2020v34",
          "2020v35",
          "2020v36",
          "2020v37",
          "2020v38",
          "2020v39",
          "2020v40",
          "2020v41",
          "2020v42",
          "2020v43",
          "2020v44",
          "2020v45",
          "2020v46",
          "2020v47",
          "2020v48",
          "2020v49",
          "2020v50",
          "2020v51",
          "2020v52",
          "2020v53",
          "2021v1",
          "2021v2",
          "2021v3",
          "2021v4",
          "2021v5",
          "2021v6",
          "2021v7",
          "2021v8",
          "2021v9",
          "2021v10",
          "2021v11",
          "2021v12",
          "2021v13",
          "2021v14",
          "2021v15",
          "2021v16",
          "2021v17",
          "2021v18",
          "2021v19",
          "2021v20",
          "2021v21",
          "2021v22",
          "2021v23",
          "2021v24",
          "2021v25",
          "2021v26",
          "2021v27",
          "2021v28",
          "2021v29",
          "2021v30",
          "2021v31",
          "2021v32",
          "2021v33",
          "2021v34",
          "2021v35",
          "2021v36",
          "2021v37",
          "2021v38",
          "2021v39",
          "2021v40",
          "2021v41"
         ],
         "xaxis": "x",
         "y": [
          1,
          0,
          0,
          13,
          211,
          838,
          924,
          1957,
          3229,
          3740,
          3752,
          4203,
          3832,
          4153,
          3869,
          3659,
          4280,
          6021,
          7123,
          7073,
          7455,
          4279,
          2179,
          1622,
          1316,
          1556,
          2014,
          2052,
          1687,
          1200,
          1332,
          1592,
          2080,
          2919,
          3642,
          4278,
          5620,
          9155,
          18474,
          25405,
          31319,
          31944,
          35560,
          36837,
          43631,
          46177,
          37134,
          41323,
          39455,
          28942,
          23230,
          20660,
          19605,
          21283,
          23615,
          26690,
          27748,
          28555,
          33033,
          37881,
          38386,
          41147,
          41038,
          36032,
          35306,
          33680,
          25916,
          18169,
          7974,
          9094,
          4394,
          2848,
          1982,
          1869,
          1514,
          1881,
          2662,
          3459,
          4608,
          5820,
          6466,
          6688,
          7236,
          7972,
          6266,
          4298,
          4241,
          4141,
          4062
         ],
         "yaxis": "y"
        }
       ],
       "layout": {
        "legend": {
         "tracegroupgap": 0
        },
        "template": {
         "data": {
          "bar": [
           {
            "error_x": {
             "color": "#2a3f5f"
            },
            "error_y": {
             "color": "#2a3f5f"
            },
            "marker": {
             "line": {
              "color": "#E5ECF6",
              "width": 0.5
             },
             "pattern": {
              "fillmode": "overlay",
              "size": 10,
              "solidity": 0.2
             }
            },
            "type": "bar"
           }
          ],
          "barpolar": [
           {
            "marker": {
             "line": {
              "color": "#E5ECF6",
              "width": 0.5
             },
             "pattern": {
              "fillmode": "overlay",
              "size": 10,
              "solidity": 0.2
             }
            },
            "type": "barpolar"
           }
          ],
          "carpet": [
           {
            "aaxis": {
             "endlinecolor": "#2a3f5f",
             "gridcolor": "white",
             "linecolor": "white",
             "minorgridcolor": "white",
             "startlinecolor": "#2a3f5f"
            },
            "baxis": {
             "endlinecolor": "#2a3f5f",
             "gridcolor": "white",
             "linecolor": "white",
             "minorgridcolor": "white",
             "startlinecolor": "#2a3f5f"
            },
            "type": "carpet"
           }
          ],
          "choropleth": [
           {
            "colorbar": {
             "outlinewidth": 0,
             "ticks": ""
            },
            "type": "choropleth"
           }
          ],
          "contour": [
           {
            "colorbar": {
             "outlinewidth": 0,
             "ticks": ""
            },
            "colorscale": [
             [
              0,
              "#0d0887"
             ],
             [
              0.1111111111111111,
              "#46039f"
             ],
             [
              0.2222222222222222,
              "#7201a8"
             ],
             [
              0.3333333333333333,
              "#9c179e"
             ],
             [
              0.4444444444444444,
              "#bd3786"
             ],
             [
              0.5555555555555556,
              "#d8576b"
             ],
             [
              0.6666666666666666,
              "#ed7953"
             ],
             [
              0.7777777777777778,
              "#fb9f3a"
             ],
             [
              0.8888888888888888,
              "#fdca26"
             ],
             [
              1,
              "#f0f921"
             ]
            ],
            "type": "contour"
           }
          ],
          "contourcarpet": [
           {
            "colorbar": {
             "outlinewidth": 0,
             "ticks": ""
            },
            "type": "contourcarpet"
           }
          ],
          "heatmap": [
           {
            "colorbar": {
             "outlinewidth": 0,
             "ticks": ""
            },
            "colorscale": [
             [
              0,
              "#0d0887"
             ],
             [
              0.1111111111111111,
              "#46039f"
             ],
             [
              0.2222222222222222,
              "#7201a8"
             ],
             [
              0.3333333333333333,
              "#9c179e"
             ],
             [
              0.4444444444444444,
              "#bd3786"
             ],
             [
              0.5555555555555556,
              "#d8576b"
             ],
             [
              0.6666666666666666,
              "#ed7953"
             ],
             [
              0.7777777777777778,
              "#fb9f3a"
             ],
             [
              0.8888888888888888,
              "#fdca26"
             ],
             [
              1,
              "#f0f921"
             ]
            ],
            "type": "heatmap"
           }
          ],
          "heatmapgl": [
           {
            "colorbar": {
             "outlinewidth": 0,
             "ticks": ""
            },
            "colorscale": [
             [
              0,
              "#0d0887"
             ],
             [
              0.1111111111111111,
              "#46039f"
             ],
             [
              0.2222222222222222,
              "#7201a8"
             ],
             [
              0.3333333333333333,
              "#9c179e"
             ],
             [
              0.4444444444444444,
              "#bd3786"
             ],
             [
              0.5555555555555556,
              "#d8576b"
             ],
             [
              0.6666666666666666,
              "#ed7953"
             ],
             [
              0.7777777777777778,
              "#fb9f3a"
             ],
             [
              0.8888888888888888,
              "#fdca26"
             ],
             [
              1,
              "#f0f921"
             ]
            ],
            "type": "heatmapgl"
           }
          ],
          "histogram": [
           {
            "marker": {
             "pattern": {
              "fillmode": "overlay",
              "size": 10,
              "solidity": 0.2
             }
            },
            "type": "histogram"
           }
          ],
          "histogram2d": [
           {
            "colorbar": {
             "outlinewidth": 0,
             "ticks": ""
            },
            "colorscale": [
             [
              0,
              "#0d0887"
             ],
             [
              0.1111111111111111,
              "#46039f"
             ],
             [
              0.2222222222222222,
              "#7201a8"
             ],
             [
              0.3333333333333333,
              "#9c179e"
             ],
             [
              0.4444444444444444,
              "#bd3786"
             ],
             [
              0.5555555555555556,
              "#d8576b"
             ],
             [
              0.6666666666666666,
              "#ed7953"
             ],
             [
              0.7777777777777778,
              "#fb9f3a"
             ],
             [
              0.8888888888888888,
              "#fdca26"
             ],
             [
              1,
              "#f0f921"
             ]
            ],
            "type": "histogram2d"
           }
          ],
          "histogram2dcontour": [
           {
            "colorbar": {
             "outlinewidth": 0,
             "ticks": ""
            },
            "colorscale": [
             [
              0,
              "#0d0887"
             ],
             [
              0.1111111111111111,
              "#46039f"
             ],
             [
              0.2222222222222222,
              "#7201a8"
             ],
             [
              0.3333333333333333,
              "#9c179e"
             ],
             [
              0.4444444444444444,
              "#bd3786"
             ],
             [
              0.5555555555555556,
              "#d8576b"
             ],
             [
              0.6666666666666666,
              "#ed7953"
             ],
             [
              0.7777777777777778,
              "#fb9f3a"
             ],
             [
              0.8888888888888888,
              "#fdca26"
             ],
             [
              1,
              "#f0f921"
             ]
            ],
            "type": "histogram2dcontour"
           }
          ],
          "mesh3d": [
           {
            "colorbar": {
             "outlinewidth": 0,
             "ticks": ""
            },
            "type": "mesh3d"
           }
          ],
          "parcoords": [
           {
            "line": {
             "colorbar": {
              "outlinewidth": 0,
              "ticks": ""
             }
            },
            "type": "parcoords"
           }
          ],
          "pie": [
           {
            "automargin": true,
            "type": "pie"
           }
          ],
          "scatter": [
           {
            "marker": {
             "colorbar": {
              "outlinewidth": 0,
              "ticks": ""
             }
            },
            "type": "scatter"
           }
          ],
          "scatter3d": [
           {
            "line": {
             "colorbar": {
              "outlinewidth": 0,
              "ticks": ""
             }
            },
            "marker": {
             "colorbar": {
              "outlinewidth": 0,
              "ticks": ""
             }
            },
            "type": "scatter3d"
           }
          ],
          "scattercarpet": [
           {
            "marker": {
             "colorbar": {
              "outlinewidth": 0,
              "ticks": ""
             }
            },
            "type": "scattercarpet"
           }
          ],
          "scattergeo": [
           {
            "marker": {
             "colorbar": {
              "outlinewidth": 0,
              "ticks": ""
             }
            },
            "type": "scattergeo"
           }
          ],
          "scattergl": [
           {
            "marker": {
             "colorbar": {
              "outlinewidth": 0,
              "ticks": ""
             }
            },
            "type": "scattergl"
           }
          ],
          "scattermapbox": [
           {
            "marker": {
             "colorbar": {
              "outlinewidth": 0,
              "ticks": ""
             }
            },
            "type": "scattermapbox"
           }
          ],
          "scatterpolar": [
           {
            "marker": {
             "colorbar": {
              "outlinewidth": 0,
              "ticks": ""
             }
            },
            "type": "scatterpolar"
           }
          ],
          "scatterpolargl": [
           {
            "marker": {
             "colorbar": {
              "outlinewidth": 0,
              "ticks": ""
             }
            },
            "type": "scatterpolargl"
           }
          ],
          "scatterternary": [
           {
            "marker": {
             "colorbar": {
              "outlinewidth": 0,
              "ticks": ""
             }
            },
            "type": "scatterternary"
           }
          ],
          "surface": [
           {
            "colorbar": {
             "outlinewidth": 0,
             "ticks": ""
            },
            "colorscale": [
             [
              0,
              "#0d0887"
             ],
             [
              0.1111111111111111,
              "#46039f"
             ],
             [
              0.2222222222222222,
              "#7201a8"
             ],
             [
              0.3333333333333333,
              "#9c179e"
             ],
             [
              0.4444444444444444,
              "#bd3786"
             ],
             [
              0.5555555555555556,
              "#d8576b"
             ],
             [
              0.6666666666666666,
              "#ed7953"
             ],
             [
              0.7777777777777778,
              "#fb9f3a"
             ],
             [
              0.8888888888888888,
              "#fdca26"
             ],
             [
              1,
              "#f0f921"
             ]
            ],
            "type": "surface"
           }
          ],
          "table": [
           {
            "cells": {
             "fill": {
              "color": "#EBF0F8"
             },
             "line": {
              "color": "white"
             }
            },
            "header": {
             "fill": {
              "color": "#C8D4E3"
             },
             "line": {
              "color": "white"
             }
            },
            "type": "table"
           }
          ]
         },
         "layout": {
          "annotationdefaults": {
           "arrowcolor": "#2a3f5f",
           "arrowhead": 0,
           "arrowwidth": 1
          },
          "autotypenumbers": "strict",
          "coloraxis": {
           "colorbar": {
            "outlinewidth": 0,
            "ticks": ""
           }
          },
          "colorscale": {
           "diverging": [
            [
             0,
             "#8e0152"
            ],
            [
             0.1,
             "#c51b7d"
            ],
            [
             0.2,
             "#de77ae"
            ],
            [
             0.3,
             "#f1b6da"
            ],
            [
             0.4,
             "#fde0ef"
            ],
            [
             0.5,
             "#f7f7f7"
            ],
            [
             0.6,
             "#e6f5d0"
            ],
            [
             0.7,
             "#b8e186"
            ],
            [
             0.8,
             "#7fbc41"
            ],
            [
             0.9,
             "#4d9221"
            ],
            [
             1,
             "#276419"
            ]
           ],
           "sequential": [
            [
             0,
             "#0d0887"
            ],
            [
             0.1111111111111111,
             "#46039f"
            ],
            [
             0.2222222222222222,
             "#7201a8"
            ],
            [
             0.3333333333333333,
             "#9c179e"
            ],
            [
             0.4444444444444444,
             "#bd3786"
            ],
            [
             0.5555555555555556,
             "#d8576b"
            ],
            [
             0.6666666666666666,
             "#ed7953"
            ],
            [
             0.7777777777777778,
             "#fb9f3a"
            ],
            [
             0.8888888888888888,
             "#fdca26"
            ],
            [
             1,
             "#f0f921"
            ]
           ],
           "sequentialminus": [
            [
             0,
             "#0d0887"
            ],
            [
             0.1111111111111111,
             "#46039f"
            ],
            [
             0.2222222222222222,
             "#7201a8"
            ],
            [
             0.3333333333333333,
             "#9c179e"
            ],
            [
             0.4444444444444444,
             "#bd3786"
            ],
            [
             0.5555555555555556,
             "#d8576b"
            ],
            [
             0.6666666666666666,
             "#ed7953"
            ],
            [
             0.7777777777777778,
             "#fb9f3a"
            ],
            [
             0.8888888888888888,
             "#fdca26"
            ],
            [
             1,
             "#f0f921"
            ]
           ]
          },
          "colorway": [
           "#636efa",
           "#EF553B",
           "#00cc96",
           "#ab63fa",
           "#FFA15A",
           "#19d3f3",
           "#FF6692",
           "#B6E880",
           "#FF97FF",
           "#FECB52"
          ],
          "font": {
           "color": "#2a3f5f"
          },
          "geo": {
           "bgcolor": "white",
           "lakecolor": "white",
           "landcolor": "#E5ECF6",
           "showlakes": true,
           "showland": true,
           "subunitcolor": "white"
          },
          "hoverlabel": {
           "align": "left"
          },
          "hovermode": "closest",
          "mapbox": {
           "style": "light"
          },
          "paper_bgcolor": "white",
          "plot_bgcolor": "#E5ECF6",
          "polar": {
           "angularaxis": {
            "gridcolor": "white",
            "linecolor": "white",
            "ticks": ""
           },
           "bgcolor": "#E5ECF6",
           "radialaxis": {
            "gridcolor": "white",
            "linecolor": "white",
            "ticks": ""
           }
          },
          "scene": {
           "xaxis": {
            "backgroundcolor": "#E5ECF6",
            "gridcolor": "white",
            "gridwidth": 2,
            "linecolor": "white",
            "showbackground": true,
            "ticks": "",
            "zerolinecolor": "white"
           },
           "yaxis": {
            "backgroundcolor": "#E5ECF6",
            "gridcolor": "white",
            "gridwidth": 2,
            "linecolor": "white",
            "showbackground": true,
            "ticks": "",
            "zerolinecolor": "white"
           },
           "zaxis": {
            "backgroundcolor": "#E5ECF6",
            "gridcolor": "white",
            "gridwidth": 2,
            "linecolor": "white",
            "showbackground": true,
            "ticks": "",
            "zerolinecolor": "white"
           }
          },
          "shapedefaults": {
           "line": {
            "color": "#2a3f5f"
           }
          },
          "ternary": {
           "aaxis": {
            "gridcolor": "white",
            "linecolor": "white",
            "ticks": ""
           },
           "baxis": {
            "gridcolor": "white",
            "linecolor": "white",
            "ticks": ""
           },
           "bgcolor": "#E5ECF6",
           "caxis": {
            "gridcolor": "white",
            "linecolor": "white",
            "ticks": ""
           }
          },
          "title": {
           "x": 0.05
          },
          "xaxis": {
           "automargin": true,
           "gridcolor": "white",
           "linecolor": "white",
           "ticks": "",
           "title": {
            "standoff": 15
           },
           "zerolinecolor": "white",
           "zerolinewidth": 2
          },
          "yaxis": {
           "automargin": true,
           "gridcolor": "white",
           "linecolor": "white",
           "ticks": "",
           "title": {
            "standoff": 15
           },
           "zerolinecolor": "white",
           "zerolinewidth": 2
          }
         }
        },
        "title": {
         "text": "New Cases in Covid-19 in Sweden (per week)"
        },
        "xaxis": {
         "anchor": "y",
         "domain": [
          0,
          1
         ],
         "dtick": 2,
         "tick0": 0,
         "tickmode": "array",
         "ticktext": [
          "v.6 2020",
          "v.8 2020",
          "v.10 2020",
          "v.12 2020",
          "v.14 2020",
          "v.16 2020",
          "v.18 2020",
          "v.20 2020",
          "v.22 2020",
          "v.24 2020",
          "v.26 2020",
          "v.28 2020",
          "v.30 2020",
          "v.32 2020",
          "v.34 2020",
          "v.36 2020",
          "v.38 2020",
          "v.40 2020",
          "v.42 2020",
          "v.44 2020",
          "v.46 2020",
          "v.48 2020",
          "v.50 2020",
          "v.52 2020",
          "v.1 2021",
          "v.3 2021",
          "v.5 2021",
          "v.7 2021",
          "v.9 2021",
          "v.11 2021",
          "v.13 2021",
          "v.15 2021",
          "v.17 2021",
          "v.19 2021",
          "v.21 2021",
          "v.23 2021",
          "v.25 2021",
          "v.27 2021",
          "v.29 2021",
          "v.31 2021",
          "v.33 2021",
          "v.35 2021",
          "v.37 2021",
          "v.39 2021",
          "v.41 2021"
         ],
         "tickvals": [
          "2020v6",
          "2020v8",
          "2020v10",
          "2020v12",
          "2020v14",
          "2020v16",
          "2020v18",
          "2020v20",
          "2020v22",
          "2020v24",
          "2020v26",
          "2020v28",
          "2020v30",
          "2020v32",
          "2020v34",
          "2020v36",
          "2020v38",
          "2020v40",
          "2020v42",
          "2020v44",
          "2020v46",
          "2020v48",
          "2020v50",
          "2020v52",
          "2021v1",
          "2021v3",
          "2021v5",
          "2021v7",
          "2021v9",
          "2021v11",
          "2021v13",
          "2021v15",
          "2021v17",
          "2021v19",
          "2021v21",
          "2021v23",
          "2021v25",
          "2021v27",
          "2021v29",
          "2021v31",
          "2021v33",
          "2021v35",
          "2021v37",
          "2021v39",
          "2021v41"
         ],
         "title": {
          "text": "Week"
         }
        },
        "yaxis": {
         "anchor": "x",
         "domain": [
          0,
          1
         ],
         "title": {
          "text": "New Cases"
         }
        }
       }
      }
     },
     "metadata": {}
    }
   ],
   "metadata": {}
  },
  {
   "cell_type": "code",
   "execution_count": 145,
   "source": [
    "import plotly.graph_objects as go\n",
    "\n",
    "plot3 = create_plotly_fig(\"Antal_avlidna_vecka\", \"Number of People\", \"Deceased and New Cases per Week in Sweden\", \"Antal_fall_vecka\", \"Number of deceased\", \"Number of cases\")\n",
    "plot3.show()\n",
    "plot3.write_html('d.html', auto_open=True)"
   ],
   "outputs": [
    {
     "output_type": "display_data",
     "data": {
      "application/vnd.plotly.v1+json": {
       "config": {
        "plotlyServerURL": "https://plot.ly"
       },
       "data": [
        {
         "mode": "markers+lines",
         "name": "Number of deceased",
         "type": "scatter",
         "x": [
          "2020v6",
          "2020v7",
          "2020v8",
          "2020v9",
          "2020v10",
          "2020v11",
          "2020v12",
          "2020v13",
          "2020v14",
          "2020v15",
          "2020v16",
          "2020v17",
          "2020v18",
          "2020v19",
          "2020v20",
          "2020v21",
          "2020v22",
          "2020v23",
          "2020v24",
          "2020v25",
          "2020v26",
          "2020v27",
          "2020v28",
          "2020v29",
          "2020v30",
          "2020v31",
          "2020v32",
          "2020v33",
          "2020v34",
          "2020v35",
          "2020v36",
          "2020v37",
          "2020v38",
          "2020v39",
          "2020v40",
          "2020v41",
          "2020v42",
          "2020v43",
          "2020v44",
          "2020v45",
          "2020v46",
          "2020v47",
          "2020v48",
          "2020v49",
          "2020v50",
          "2020v51",
          "2020v52",
          "2020v53",
          "2021v1",
          "2021v2",
          "2021v3",
          "2021v4",
          "2021v5",
          "2021v6",
          "2021v7",
          "2021v8",
          "2021v9",
          "2021v10",
          "2021v11",
          "2021v12",
          "2021v13",
          "2021v14",
          "2021v15",
          "2021v16",
          "2021v17",
          "2021v18",
          "2021v19",
          "2021v20",
          "2021v21",
          "2021v22",
          "2021v23",
          "2021v24",
          "2021v25",
          "2021v26",
          "2021v27",
          "2021v28",
          "2021v29",
          "2021v30",
          "2021v31",
          "2021v32",
          "2021v33",
          "2021v34",
          "2021v35",
          "2021v36",
          "2021v37",
          "2021v38",
          "2021v39",
          "2021v40",
          "2021v41"
         ],
         "y": [
          0,
          0,
          0,
          0,
          0,
          5,
          44,
          190,
          451,
          664,
          657,
          546,
          543,
          509,
          380,
          360,
          272,
          246,
          234,
          200,
          138,
          98,
          84,
          57,
          30,
          18,
          18,
          16,
          19,
          10,
          12,
          13,
          12,
          11,
          17,
          22,
          16,
          43,
          82,
          157,
          235,
          332,
          417,
          476,
          501,
          645,
          643,
          663,
          644,
          598,
          513,
          389,
          269,
          205,
          171,
          146,
          128,
          140,
          127,
          125,
          141,
          133,
          140,
          131,
          114,
          105,
          111,
          69,
          47,
          39,
          22,
          17,
          9,
          8,
          3,
          2,
          3,
          3,
          7,
          6,
          9,
          20,
          26,
          49,
          52,
          40,
          37,
          42,
          18
         ]
        },
        {
         "mode": "markers+lines",
         "name": "Number of cases",
         "type": "scatter",
         "x": [
          "2020v6",
          "2020v7",
          "2020v8",
          "2020v9",
          "2020v10",
          "2020v11",
          "2020v12",
          "2020v13",
          "2020v14",
          "2020v15",
          "2020v16",
          "2020v17",
          "2020v18",
          "2020v19",
          "2020v20",
          "2020v21",
          "2020v22",
          "2020v23",
          "2020v24",
          "2020v25",
          "2020v26",
          "2020v27",
          "2020v28",
          "2020v29",
          "2020v30",
          "2020v31",
          "2020v32",
          "2020v33",
          "2020v34",
          "2020v35",
          "2020v36",
          "2020v37",
          "2020v38",
          "2020v39",
          "2020v40",
          "2020v41",
          "2020v42",
          "2020v43",
          "2020v44",
          "2020v45",
          "2020v46",
          "2020v47",
          "2020v48",
          "2020v49",
          "2020v50",
          "2020v51",
          "2020v52",
          "2020v53",
          "2021v1",
          "2021v2",
          "2021v3",
          "2021v4",
          "2021v5",
          "2021v6",
          "2021v7",
          "2021v8",
          "2021v9",
          "2021v10",
          "2021v11",
          "2021v12",
          "2021v13",
          "2021v14",
          "2021v15",
          "2021v16",
          "2021v17",
          "2021v18",
          "2021v19",
          "2021v20",
          "2021v21",
          "2021v22",
          "2021v23",
          "2021v24",
          "2021v25",
          "2021v26",
          "2021v27",
          "2021v28",
          "2021v29",
          "2021v30",
          "2021v31",
          "2021v32",
          "2021v33",
          "2021v34",
          "2021v35",
          "2021v36",
          "2021v37",
          "2021v38",
          "2021v39",
          "2021v40",
          "2021v41"
         ],
         "y": [
          1,
          0,
          0,
          13,
          211,
          838,
          924,
          1957,
          3229,
          3740,
          3752,
          4203,
          3832,
          4153,
          3869,
          3659,
          4280,
          6021,
          7123,
          7073,
          7455,
          4279,
          2179,
          1622,
          1316,
          1556,
          2014,
          2052,
          1687,
          1200,
          1332,
          1592,
          2080,
          2919,
          3642,
          4278,
          5620,
          9155,
          18474,
          25405,
          31319,
          31944,
          35560,
          36837,
          43631,
          46177,
          37134,
          41323,
          39455,
          28942,
          23230,
          20660,
          19605,
          21283,
          23615,
          26690,
          27748,
          28555,
          33033,
          37881,
          38386,
          41147,
          41038,
          36032,
          35306,
          33680,
          25916,
          18169,
          7974,
          9094,
          4394,
          2848,
          1982,
          1869,
          1514,
          1881,
          2662,
          3459,
          4608,
          5820,
          6466,
          6688,
          7236,
          7972,
          6266,
          4298,
          4241,
          4141,
          4062
         ]
        }
       ],
       "layout": {
        "legend": {
         "tracegroupgap": 0
        },
        "template": {
         "data": {
          "bar": [
           {
            "error_x": {
             "color": "#2a3f5f"
            },
            "error_y": {
             "color": "#2a3f5f"
            },
            "marker": {
             "line": {
              "color": "#E5ECF6",
              "width": 0.5
             },
             "pattern": {
              "fillmode": "overlay",
              "size": 10,
              "solidity": 0.2
             }
            },
            "type": "bar"
           }
          ],
          "barpolar": [
           {
            "marker": {
             "line": {
              "color": "#E5ECF6",
              "width": 0.5
             },
             "pattern": {
              "fillmode": "overlay",
              "size": 10,
              "solidity": 0.2
             }
            },
            "type": "barpolar"
           }
          ],
          "carpet": [
           {
            "aaxis": {
             "endlinecolor": "#2a3f5f",
             "gridcolor": "white",
             "linecolor": "white",
             "minorgridcolor": "white",
             "startlinecolor": "#2a3f5f"
            },
            "baxis": {
             "endlinecolor": "#2a3f5f",
             "gridcolor": "white",
             "linecolor": "white",
             "minorgridcolor": "white",
             "startlinecolor": "#2a3f5f"
            },
            "type": "carpet"
           }
          ],
          "choropleth": [
           {
            "colorbar": {
             "outlinewidth": 0,
             "ticks": ""
            },
            "type": "choropleth"
           }
          ],
          "contour": [
           {
            "colorbar": {
             "outlinewidth": 0,
             "ticks": ""
            },
            "colorscale": [
             [
              0,
              "#0d0887"
             ],
             [
              0.1111111111111111,
              "#46039f"
             ],
             [
              0.2222222222222222,
              "#7201a8"
             ],
             [
              0.3333333333333333,
              "#9c179e"
             ],
             [
              0.4444444444444444,
              "#bd3786"
             ],
             [
              0.5555555555555556,
              "#d8576b"
             ],
             [
              0.6666666666666666,
              "#ed7953"
             ],
             [
              0.7777777777777778,
              "#fb9f3a"
             ],
             [
              0.8888888888888888,
              "#fdca26"
             ],
             [
              1,
              "#f0f921"
             ]
            ],
            "type": "contour"
           }
          ],
          "contourcarpet": [
           {
            "colorbar": {
             "outlinewidth": 0,
             "ticks": ""
            },
            "type": "contourcarpet"
           }
          ],
          "heatmap": [
           {
            "colorbar": {
             "outlinewidth": 0,
             "ticks": ""
            },
            "colorscale": [
             [
              0,
              "#0d0887"
             ],
             [
              0.1111111111111111,
              "#46039f"
             ],
             [
              0.2222222222222222,
              "#7201a8"
             ],
             [
              0.3333333333333333,
              "#9c179e"
             ],
             [
              0.4444444444444444,
              "#bd3786"
             ],
             [
              0.5555555555555556,
              "#d8576b"
             ],
             [
              0.6666666666666666,
              "#ed7953"
             ],
             [
              0.7777777777777778,
              "#fb9f3a"
             ],
             [
              0.8888888888888888,
              "#fdca26"
             ],
             [
              1,
              "#f0f921"
             ]
            ],
            "type": "heatmap"
           }
          ],
          "heatmapgl": [
           {
            "colorbar": {
             "outlinewidth": 0,
             "ticks": ""
            },
            "colorscale": [
             [
              0,
              "#0d0887"
             ],
             [
              0.1111111111111111,
              "#46039f"
             ],
             [
              0.2222222222222222,
              "#7201a8"
             ],
             [
              0.3333333333333333,
              "#9c179e"
             ],
             [
              0.4444444444444444,
              "#bd3786"
             ],
             [
              0.5555555555555556,
              "#d8576b"
             ],
             [
              0.6666666666666666,
              "#ed7953"
             ],
             [
              0.7777777777777778,
              "#fb9f3a"
             ],
             [
              0.8888888888888888,
              "#fdca26"
             ],
             [
              1,
              "#f0f921"
             ]
            ],
            "type": "heatmapgl"
           }
          ],
          "histogram": [
           {
            "marker": {
             "pattern": {
              "fillmode": "overlay",
              "size": 10,
              "solidity": 0.2
             }
            },
            "type": "histogram"
           }
          ],
          "histogram2d": [
           {
            "colorbar": {
             "outlinewidth": 0,
             "ticks": ""
            },
            "colorscale": [
             [
              0,
              "#0d0887"
             ],
             [
              0.1111111111111111,
              "#46039f"
             ],
             [
              0.2222222222222222,
              "#7201a8"
             ],
             [
              0.3333333333333333,
              "#9c179e"
             ],
             [
              0.4444444444444444,
              "#bd3786"
             ],
             [
              0.5555555555555556,
              "#d8576b"
             ],
             [
              0.6666666666666666,
              "#ed7953"
             ],
             [
              0.7777777777777778,
              "#fb9f3a"
             ],
             [
              0.8888888888888888,
              "#fdca26"
             ],
             [
              1,
              "#f0f921"
             ]
            ],
            "type": "histogram2d"
           }
          ],
          "histogram2dcontour": [
           {
            "colorbar": {
             "outlinewidth": 0,
             "ticks": ""
            },
            "colorscale": [
             [
              0,
              "#0d0887"
             ],
             [
              0.1111111111111111,
              "#46039f"
             ],
             [
              0.2222222222222222,
              "#7201a8"
             ],
             [
              0.3333333333333333,
              "#9c179e"
             ],
             [
              0.4444444444444444,
              "#bd3786"
             ],
             [
              0.5555555555555556,
              "#d8576b"
             ],
             [
              0.6666666666666666,
              "#ed7953"
             ],
             [
              0.7777777777777778,
              "#fb9f3a"
             ],
             [
              0.8888888888888888,
              "#fdca26"
             ],
             [
              1,
              "#f0f921"
             ]
            ],
            "type": "histogram2dcontour"
           }
          ],
          "mesh3d": [
           {
            "colorbar": {
             "outlinewidth": 0,
             "ticks": ""
            },
            "type": "mesh3d"
           }
          ],
          "parcoords": [
           {
            "line": {
             "colorbar": {
              "outlinewidth": 0,
              "ticks": ""
             }
            },
            "type": "parcoords"
           }
          ],
          "pie": [
           {
            "automargin": true,
            "type": "pie"
           }
          ],
          "scatter": [
           {
            "marker": {
             "colorbar": {
              "outlinewidth": 0,
              "ticks": ""
             }
            },
            "type": "scatter"
           }
          ],
          "scatter3d": [
           {
            "line": {
             "colorbar": {
              "outlinewidth": 0,
              "ticks": ""
             }
            },
            "marker": {
             "colorbar": {
              "outlinewidth": 0,
              "ticks": ""
             }
            },
            "type": "scatter3d"
           }
          ],
          "scattercarpet": [
           {
            "marker": {
             "colorbar": {
              "outlinewidth": 0,
              "ticks": ""
             }
            },
            "type": "scattercarpet"
           }
          ],
          "scattergeo": [
           {
            "marker": {
             "colorbar": {
              "outlinewidth": 0,
              "ticks": ""
             }
            },
            "type": "scattergeo"
           }
          ],
          "scattergl": [
           {
            "marker": {
             "colorbar": {
              "outlinewidth": 0,
              "ticks": ""
             }
            },
            "type": "scattergl"
           }
          ],
          "scattermapbox": [
           {
            "marker": {
             "colorbar": {
              "outlinewidth": 0,
              "ticks": ""
             }
            },
            "type": "scattermapbox"
           }
          ],
          "scatterpolar": [
           {
            "marker": {
             "colorbar": {
              "outlinewidth": 0,
              "ticks": ""
             }
            },
            "type": "scatterpolar"
           }
          ],
          "scatterpolargl": [
           {
            "marker": {
             "colorbar": {
              "outlinewidth": 0,
              "ticks": ""
             }
            },
            "type": "scatterpolargl"
           }
          ],
          "scatterternary": [
           {
            "marker": {
             "colorbar": {
              "outlinewidth": 0,
              "ticks": ""
             }
            },
            "type": "scatterternary"
           }
          ],
          "surface": [
           {
            "colorbar": {
             "outlinewidth": 0,
             "ticks": ""
            },
            "colorscale": [
             [
              0,
              "#0d0887"
             ],
             [
              0.1111111111111111,
              "#46039f"
             ],
             [
              0.2222222222222222,
              "#7201a8"
             ],
             [
              0.3333333333333333,
              "#9c179e"
             ],
             [
              0.4444444444444444,
              "#bd3786"
             ],
             [
              0.5555555555555556,
              "#d8576b"
             ],
             [
              0.6666666666666666,
              "#ed7953"
             ],
             [
              0.7777777777777778,
              "#fb9f3a"
             ],
             [
              0.8888888888888888,
              "#fdca26"
             ],
             [
              1,
              "#f0f921"
             ]
            ],
            "type": "surface"
           }
          ],
          "table": [
           {
            "cells": {
             "fill": {
              "color": "#EBF0F8"
             },
             "line": {
              "color": "white"
             }
            },
            "header": {
             "fill": {
              "color": "#C8D4E3"
             },
             "line": {
              "color": "white"
             }
            },
            "type": "table"
           }
          ]
         },
         "layout": {
          "annotationdefaults": {
           "arrowcolor": "#2a3f5f",
           "arrowhead": 0,
           "arrowwidth": 1
          },
          "autotypenumbers": "strict",
          "coloraxis": {
           "colorbar": {
            "outlinewidth": 0,
            "ticks": ""
           }
          },
          "colorscale": {
           "diverging": [
            [
             0,
             "#8e0152"
            ],
            [
             0.1,
             "#c51b7d"
            ],
            [
             0.2,
             "#de77ae"
            ],
            [
             0.3,
             "#f1b6da"
            ],
            [
             0.4,
             "#fde0ef"
            ],
            [
             0.5,
             "#f7f7f7"
            ],
            [
             0.6,
             "#e6f5d0"
            ],
            [
             0.7,
             "#b8e186"
            ],
            [
             0.8,
             "#7fbc41"
            ],
            [
             0.9,
             "#4d9221"
            ],
            [
             1,
             "#276419"
            ]
           ],
           "sequential": [
            [
             0,
             "#0d0887"
            ],
            [
             0.1111111111111111,
             "#46039f"
            ],
            [
             0.2222222222222222,
             "#7201a8"
            ],
            [
             0.3333333333333333,
             "#9c179e"
            ],
            [
             0.4444444444444444,
             "#bd3786"
            ],
            [
             0.5555555555555556,
             "#d8576b"
            ],
            [
             0.6666666666666666,
             "#ed7953"
            ],
            [
             0.7777777777777778,
             "#fb9f3a"
            ],
            [
             0.8888888888888888,
             "#fdca26"
            ],
            [
             1,
             "#f0f921"
            ]
           ],
           "sequentialminus": [
            [
             0,
             "#0d0887"
            ],
            [
             0.1111111111111111,
             "#46039f"
            ],
            [
             0.2222222222222222,
             "#7201a8"
            ],
            [
             0.3333333333333333,
             "#9c179e"
            ],
            [
             0.4444444444444444,
             "#bd3786"
            ],
            [
             0.5555555555555556,
             "#d8576b"
            ],
            [
             0.6666666666666666,
             "#ed7953"
            ],
            [
             0.7777777777777778,
             "#fb9f3a"
            ],
            [
             0.8888888888888888,
             "#fdca26"
            ],
            [
             1,
             "#f0f921"
            ]
           ]
          },
          "colorway": [
           "#636efa",
           "#EF553B",
           "#00cc96",
           "#ab63fa",
           "#FFA15A",
           "#19d3f3",
           "#FF6692",
           "#B6E880",
           "#FF97FF",
           "#FECB52"
          ],
          "font": {
           "color": "#2a3f5f"
          },
          "geo": {
           "bgcolor": "white",
           "lakecolor": "white",
           "landcolor": "#E5ECF6",
           "showlakes": true,
           "showland": true,
           "subunitcolor": "white"
          },
          "hoverlabel": {
           "align": "left"
          },
          "hovermode": "closest",
          "mapbox": {
           "style": "light"
          },
          "paper_bgcolor": "white",
          "plot_bgcolor": "#E5ECF6",
          "polar": {
           "angularaxis": {
            "gridcolor": "white",
            "linecolor": "white",
            "ticks": ""
           },
           "bgcolor": "#E5ECF6",
           "radialaxis": {
            "gridcolor": "white",
            "linecolor": "white",
            "ticks": ""
           }
          },
          "scene": {
           "xaxis": {
            "backgroundcolor": "#E5ECF6",
            "gridcolor": "white",
            "gridwidth": 2,
            "linecolor": "white",
            "showbackground": true,
            "ticks": "",
            "zerolinecolor": "white"
           },
           "yaxis": {
            "backgroundcolor": "#E5ECF6",
            "gridcolor": "white",
            "gridwidth": 2,
            "linecolor": "white",
            "showbackground": true,
            "ticks": "",
            "zerolinecolor": "white"
           },
           "zaxis": {
            "backgroundcolor": "#E5ECF6",
            "gridcolor": "white",
            "gridwidth": 2,
            "linecolor": "white",
            "showbackground": true,
            "ticks": "",
            "zerolinecolor": "white"
           }
          },
          "shapedefaults": {
           "line": {
            "color": "#2a3f5f"
           }
          },
          "ternary": {
           "aaxis": {
            "gridcolor": "white",
            "linecolor": "white",
            "ticks": ""
           },
           "baxis": {
            "gridcolor": "white",
            "linecolor": "white",
            "ticks": ""
           },
           "bgcolor": "#E5ECF6",
           "caxis": {
            "gridcolor": "white",
            "linecolor": "white",
            "ticks": ""
           }
          },
          "title": {
           "x": 0.05
          },
          "xaxis": {
           "automargin": true,
           "gridcolor": "white",
           "linecolor": "white",
           "ticks": "",
           "title": {
            "standoff": 15
           },
           "zerolinecolor": "white",
           "zerolinewidth": 2
          },
          "yaxis": {
           "automargin": true,
           "gridcolor": "white",
           "linecolor": "white",
           "ticks": "",
           "title": {
            "standoff": 15
           },
           "zerolinecolor": "white",
           "zerolinewidth": 2
          }
         }
        },
        "title": {
         "text": "Deceased and New Cases per Week in Sweden"
        },
        "xaxis": {
         "anchor": "y",
         "domain": [
          0,
          1
         ],
         "dtick": 2,
         "tick0": 0,
         "tickmode": "array",
         "ticktext": [
          "v.6 2020",
          "v.8 2020",
          "v.10 2020",
          "v.12 2020",
          "v.14 2020",
          "v.16 2020",
          "v.18 2020",
          "v.20 2020",
          "v.22 2020",
          "v.24 2020",
          "v.26 2020",
          "v.28 2020",
          "v.30 2020",
          "v.32 2020",
          "v.34 2020",
          "v.36 2020",
          "v.38 2020",
          "v.40 2020",
          "v.42 2020",
          "v.44 2020",
          "v.46 2020",
          "v.48 2020",
          "v.50 2020",
          "v.52 2020",
          "v.1 2021",
          "v.3 2021",
          "v.5 2021",
          "v.7 2021",
          "v.9 2021",
          "v.11 2021",
          "v.13 2021",
          "v.15 2021",
          "v.17 2021",
          "v.19 2021",
          "v.21 2021",
          "v.23 2021",
          "v.25 2021",
          "v.27 2021",
          "v.29 2021",
          "v.31 2021",
          "v.33 2021",
          "v.35 2021",
          "v.37 2021",
          "v.39 2021",
          "v.41 2021"
         ],
         "tickvals": [
          "2020v6",
          "2020v8",
          "2020v10",
          "2020v12",
          "2020v14",
          "2020v16",
          "2020v18",
          "2020v20",
          "2020v22",
          "2020v24",
          "2020v26",
          "2020v28",
          "2020v30",
          "2020v32",
          "2020v34",
          "2020v36",
          "2020v38",
          "2020v40",
          "2020v42",
          "2020v44",
          "2020v46",
          "2020v48",
          "2020v50",
          "2020v52",
          "2021v1",
          "2021v3",
          "2021v5",
          "2021v7",
          "2021v9",
          "2021v11",
          "2021v13",
          "2021v15",
          "2021v17",
          "2021v19",
          "2021v21",
          "2021v23",
          "2021v25",
          "2021v27",
          "2021v29",
          "2021v31",
          "2021v33",
          "2021v35",
          "2021v37",
          "2021v39",
          "2021v41"
         ],
         "title": {
          "text": "Week"
         }
        },
        "yaxis": {
         "anchor": "x",
         "domain": [
          0,
          1
         ],
         "title": {
          "text": "Number of People"
         }
        }
       }
      }
     },
     "metadata": {}
    }
   ],
   "metadata": {}
  },
  {
   "cell_type": "code",
   "execution_count": 146,
   "source": [
    "plot4 = create_plotly_fig(\"Kum_antal_fall\", \"Cumulative Cases\", \"Cumulative Cases in Covid-19 in Sweden (per week)\")\n",
    "plot4.show()\n",
    "plot4.write_html('cumulative_cases.html', auto_open=True)"
   ],
   "outputs": [
    {
     "output_type": "display_data",
     "data": {
      "application/vnd.plotly.v1+json": {
       "config": {
        "plotlyServerURL": "https://plot.ly"
       },
       "data": [
        {
         "hovertemplate": "<b>%{hovertext}</b><br><br>Cumulative Cases=%{y}<extra></extra>",
         "hovertext": [
          "v.6 2020",
          "v.7 2020",
          "v.8 2020",
          "v.9 2020",
          "v.10 2020",
          "v.11 2020",
          "v.12 2020",
          "v.13 2020",
          "v.14 2020",
          "v.15 2020",
          "v.16 2020",
          "v.17 2020",
          "v.18 2020",
          "v.19 2020",
          "v.20 2020",
          "v.21 2020",
          "v.22 2020",
          "v.23 2020",
          "v.24 2020",
          "v.25 2020",
          "v.26 2020",
          "v.27 2020",
          "v.28 2020",
          "v.29 2020",
          "v.30 2020",
          "v.31 2020",
          "v.32 2020",
          "v.33 2020",
          "v.34 2020",
          "v.35 2020",
          "v.36 2020",
          "v.37 2020",
          "v.38 2020",
          "v.39 2020",
          "v.40 2020",
          "v.41 2020",
          "v.42 2020",
          "v.43 2020",
          "v.44 2020",
          "v.45 2020",
          "v.46 2020",
          "v.47 2020",
          "v.48 2020",
          "v.49 2020",
          "v.50 2020",
          "v.51 2020",
          "v.52 2020",
          "v.53 2020",
          "v.1 2021",
          "v.2 2021",
          "v.3 2021",
          "v.4 2021",
          "v.5 2021",
          "v.6 2021",
          "v.7 2021",
          "v.8 2021",
          "v.9 2021",
          "v.10 2021",
          "v.11 2021",
          "v.12 2021",
          "v.13 2021",
          "v.14 2021",
          "v.15 2021",
          "v.16 2021",
          "v.17 2021",
          "v.18 2021",
          "v.19 2021",
          "v.20 2021",
          "v.21 2021",
          "v.22 2021",
          "v.23 2021",
          "v.24 2021",
          "v.25 2021",
          "v.26 2021",
          "v.27 2021",
          "v.28 2021",
          "v.29 2021",
          "v.30 2021",
          "v.31 2021",
          "v.32 2021",
          "v.33 2021",
          "v.34 2021",
          "v.35 2021",
          "v.36 2021",
          "v.37 2021",
          "v.38 2021",
          "v.39 2021",
          "v.40 2021",
          "v.41 2021"
         ],
         "legendgroup": "",
         "line": {
          "color": "#636efa",
          "dash": "solid"
         },
         "marker": {
          "symbol": "circle"
         },
         "mode": "markers+lines",
         "name": "",
         "orientation": "v",
         "showlegend": false,
         "type": "scatter",
         "x": [
          "2020v6",
          "2020v7",
          "2020v8",
          "2020v9",
          "2020v10",
          "2020v11",
          "2020v12",
          "2020v13",
          "2020v14",
          "2020v15",
          "2020v16",
          "2020v17",
          "2020v18",
          "2020v19",
          "2020v20",
          "2020v21",
          "2020v22",
          "2020v23",
          "2020v24",
          "2020v25",
          "2020v26",
          "2020v27",
          "2020v28",
          "2020v29",
          "2020v30",
          "2020v31",
          "2020v32",
          "2020v33",
          "2020v34",
          "2020v35",
          "2020v36",
          "2020v37",
          "2020v38",
          "2020v39",
          "2020v40",
          "2020v41",
          "2020v42",
          "2020v43",
          "2020v44",
          "2020v45",
          "2020v46",
          "2020v47",
          "2020v48",
          "2020v49",
          "2020v50",
          "2020v51",
          "2020v52",
          "2020v53",
          "2021v1",
          "2021v2",
          "2021v3",
          "2021v4",
          "2021v5",
          "2021v6",
          "2021v7",
          "2021v8",
          "2021v9",
          "2021v10",
          "2021v11",
          "2021v12",
          "2021v13",
          "2021v14",
          "2021v15",
          "2021v16",
          "2021v17",
          "2021v18",
          "2021v19",
          "2021v20",
          "2021v21",
          "2021v22",
          "2021v23",
          "2021v24",
          "2021v25",
          "2021v26",
          "2021v27",
          "2021v28",
          "2021v29",
          "2021v30",
          "2021v31",
          "2021v32",
          "2021v33",
          "2021v34",
          "2021v35",
          "2021v36",
          "2021v37",
          "2021v38",
          "2021v39",
          "2021v40",
          "2021v41"
         ],
         "xaxis": "x",
         "y": [
          1,
          1,
          1,
          14,
          225,
          1063,
          1987,
          3944,
          7173,
          10913,
          14665,
          18868,
          22700,
          26853,
          30722,
          34381,
          38661,
          44682,
          51805,
          58878,
          66333,
          70612,
          72791,
          74413,
          75729,
          77285,
          79299,
          81351,
          83038,
          84238,
          85570,
          87162,
          89242,
          92161,
          95803,
          100081,
          105701,
          114856,
          133330,
          158735,
          190054,
          221998,
          257558,
          294395,
          338026,
          384203,
          421337,
          462660,
          502115,
          531057,
          554287,
          574947,
          594552,
          615835,
          639450,
          666140,
          693888,
          722443,
          755476,
          793357,
          831743,
          872890,
          913928,
          949960,
          985266,
          1018946,
          1044862,
          1063031,
          1071005,
          1080099,
          1084493,
          1087341,
          1089323,
          1091192,
          1092706,
          1094587,
          1097249,
          1100708,
          1105316,
          1111136,
          1117602,
          1124290,
          1131526,
          1139498,
          1145764,
          1150062,
          1154303,
          1158444,
          1162506
         ],
         "yaxis": "y"
        }
       ],
       "layout": {
        "legend": {
         "tracegroupgap": 0
        },
        "template": {
         "data": {
          "bar": [
           {
            "error_x": {
             "color": "#2a3f5f"
            },
            "error_y": {
             "color": "#2a3f5f"
            },
            "marker": {
             "line": {
              "color": "#E5ECF6",
              "width": 0.5
             },
             "pattern": {
              "fillmode": "overlay",
              "size": 10,
              "solidity": 0.2
             }
            },
            "type": "bar"
           }
          ],
          "barpolar": [
           {
            "marker": {
             "line": {
              "color": "#E5ECF6",
              "width": 0.5
             },
             "pattern": {
              "fillmode": "overlay",
              "size": 10,
              "solidity": 0.2
             }
            },
            "type": "barpolar"
           }
          ],
          "carpet": [
           {
            "aaxis": {
             "endlinecolor": "#2a3f5f",
             "gridcolor": "white",
             "linecolor": "white",
             "minorgridcolor": "white",
             "startlinecolor": "#2a3f5f"
            },
            "baxis": {
             "endlinecolor": "#2a3f5f",
             "gridcolor": "white",
             "linecolor": "white",
             "minorgridcolor": "white",
             "startlinecolor": "#2a3f5f"
            },
            "type": "carpet"
           }
          ],
          "choropleth": [
           {
            "colorbar": {
             "outlinewidth": 0,
             "ticks": ""
            },
            "type": "choropleth"
           }
          ],
          "contour": [
           {
            "colorbar": {
             "outlinewidth": 0,
             "ticks": ""
            },
            "colorscale": [
             [
              0,
              "#0d0887"
             ],
             [
              0.1111111111111111,
              "#46039f"
             ],
             [
              0.2222222222222222,
              "#7201a8"
             ],
             [
              0.3333333333333333,
              "#9c179e"
             ],
             [
              0.4444444444444444,
              "#bd3786"
             ],
             [
              0.5555555555555556,
              "#d8576b"
             ],
             [
              0.6666666666666666,
              "#ed7953"
             ],
             [
              0.7777777777777778,
              "#fb9f3a"
             ],
             [
              0.8888888888888888,
              "#fdca26"
             ],
             [
              1,
              "#f0f921"
             ]
            ],
            "type": "contour"
           }
          ],
          "contourcarpet": [
           {
            "colorbar": {
             "outlinewidth": 0,
             "ticks": ""
            },
            "type": "contourcarpet"
           }
          ],
          "heatmap": [
           {
            "colorbar": {
             "outlinewidth": 0,
             "ticks": ""
            },
            "colorscale": [
             [
              0,
              "#0d0887"
             ],
             [
              0.1111111111111111,
              "#46039f"
             ],
             [
              0.2222222222222222,
              "#7201a8"
             ],
             [
              0.3333333333333333,
              "#9c179e"
             ],
             [
              0.4444444444444444,
              "#bd3786"
             ],
             [
              0.5555555555555556,
              "#d8576b"
             ],
             [
              0.6666666666666666,
              "#ed7953"
             ],
             [
              0.7777777777777778,
              "#fb9f3a"
             ],
             [
              0.8888888888888888,
              "#fdca26"
             ],
             [
              1,
              "#f0f921"
             ]
            ],
            "type": "heatmap"
           }
          ],
          "heatmapgl": [
           {
            "colorbar": {
             "outlinewidth": 0,
             "ticks": ""
            },
            "colorscale": [
             [
              0,
              "#0d0887"
             ],
             [
              0.1111111111111111,
              "#46039f"
             ],
             [
              0.2222222222222222,
              "#7201a8"
             ],
             [
              0.3333333333333333,
              "#9c179e"
             ],
             [
              0.4444444444444444,
              "#bd3786"
             ],
             [
              0.5555555555555556,
              "#d8576b"
             ],
             [
              0.6666666666666666,
              "#ed7953"
             ],
             [
              0.7777777777777778,
              "#fb9f3a"
             ],
             [
              0.8888888888888888,
              "#fdca26"
             ],
             [
              1,
              "#f0f921"
             ]
            ],
            "type": "heatmapgl"
           }
          ],
          "histogram": [
           {
            "marker": {
             "pattern": {
              "fillmode": "overlay",
              "size": 10,
              "solidity": 0.2
             }
            },
            "type": "histogram"
           }
          ],
          "histogram2d": [
           {
            "colorbar": {
             "outlinewidth": 0,
             "ticks": ""
            },
            "colorscale": [
             [
              0,
              "#0d0887"
             ],
             [
              0.1111111111111111,
              "#46039f"
             ],
             [
              0.2222222222222222,
              "#7201a8"
             ],
             [
              0.3333333333333333,
              "#9c179e"
             ],
             [
              0.4444444444444444,
              "#bd3786"
             ],
             [
              0.5555555555555556,
              "#d8576b"
             ],
             [
              0.6666666666666666,
              "#ed7953"
             ],
             [
              0.7777777777777778,
              "#fb9f3a"
             ],
             [
              0.8888888888888888,
              "#fdca26"
             ],
             [
              1,
              "#f0f921"
             ]
            ],
            "type": "histogram2d"
           }
          ],
          "histogram2dcontour": [
           {
            "colorbar": {
             "outlinewidth": 0,
             "ticks": ""
            },
            "colorscale": [
             [
              0,
              "#0d0887"
             ],
             [
              0.1111111111111111,
              "#46039f"
             ],
             [
              0.2222222222222222,
              "#7201a8"
             ],
             [
              0.3333333333333333,
              "#9c179e"
             ],
             [
              0.4444444444444444,
              "#bd3786"
             ],
             [
              0.5555555555555556,
              "#d8576b"
             ],
             [
              0.6666666666666666,
              "#ed7953"
             ],
             [
              0.7777777777777778,
              "#fb9f3a"
             ],
             [
              0.8888888888888888,
              "#fdca26"
             ],
             [
              1,
              "#f0f921"
             ]
            ],
            "type": "histogram2dcontour"
           }
          ],
          "mesh3d": [
           {
            "colorbar": {
             "outlinewidth": 0,
             "ticks": ""
            },
            "type": "mesh3d"
           }
          ],
          "parcoords": [
           {
            "line": {
             "colorbar": {
              "outlinewidth": 0,
              "ticks": ""
             }
            },
            "type": "parcoords"
           }
          ],
          "pie": [
           {
            "automargin": true,
            "type": "pie"
           }
          ],
          "scatter": [
           {
            "marker": {
             "colorbar": {
              "outlinewidth": 0,
              "ticks": ""
             }
            },
            "type": "scatter"
           }
          ],
          "scatter3d": [
           {
            "line": {
             "colorbar": {
              "outlinewidth": 0,
              "ticks": ""
             }
            },
            "marker": {
             "colorbar": {
              "outlinewidth": 0,
              "ticks": ""
             }
            },
            "type": "scatter3d"
           }
          ],
          "scattercarpet": [
           {
            "marker": {
             "colorbar": {
              "outlinewidth": 0,
              "ticks": ""
             }
            },
            "type": "scattercarpet"
           }
          ],
          "scattergeo": [
           {
            "marker": {
             "colorbar": {
              "outlinewidth": 0,
              "ticks": ""
             }
            },
            "type": "scattergeo"
           }
          ],
          "scattergl": [
           {
            "marker": {
             "colorbar": {
              "outlinewidth": 0,
              "ticks": ""
             }
            },
            "type": "scattergl"
           }
          ],
          "scattermapbox": [
           {
            "marker": {
             "colorbar": {
              "outlinewidth": 0,
              "ticks": ""
             }
            },
            "type": "scattermapbox"
           }
          ],
          "scatterpolar": [
           {
            "marker": {
             "colorbar": {
              "outlinewidth": 0,
              "ticks": ""
             }
            },
            "type": "scatterpolar"
           }
          ],
          "scatterpolargl": [
           {
            "marker": {
             "colorbar": {
              "outlinewidth": 0,
              "ticks": ""
             }
            },
            "type": "scatterpolargl"
           }
          ],
          "scatterternary": [
           {
            "marker": {
             "colorbar": {
              "outlinewidth": 0,
              "ticks": ""
             }
            },
            "type": "scatterternary"
           }
          ],
          "surface": [
           {
            "colorbar": {
             "outlinewidth": 0,
             "ticks": ""
            },
            "colorscale": [
             [
              0,
              "#0d0887"
             ],
             [
              0.1111111111111111,
              "#46039f"
             ],
             [
              0.2222222222222222,
              "#7201a8"
             ],
             [
              0.3333333333333333,
              "#9c179e"
             ],
             [
              0.4444444444444444,
              "#bd3786"
             ],
             [
              0.5555555555555556,
              "#d8576b"
             ],
             [
              0.6666666666666666,
              "#ed7953"
             ],
             [
              0.7777777777777778,
              "#fb9f3a"
             ],
             [
              0.8888888888888888,
              "#fdca26"
             ],
             [
              1,
              "#f0f921"
             ]
            ],
            "type": "surface"
           }
          ],
          "table": [
           {
            "cells": {
             "fill": {
              "color": "#EBF0F8"
             },
             "line": {
              "color": "white"
             }
            },
            "header": {
             "fill": {
              "color": "#C8D4E3"
             },
             "line": {
              "color": "white"
             }
            },
            "type": "table"
           }
          ]
         },
         "layout": {
          "annotationdefaults": {
           "arrowcolor": "#2a3f5f",
           "arrowhead": 0,
           "arrowwidth": 1
          },
          "autotypenumbers": "strict",
          "coloraxis": {
           "colorbar": {
            "outlinewidth": 0,
            "ticks": ""
           }
          },
          "colorscale": {
           "diverging": [
            [
             0,
             "#8e0152"
            ],
            [
             0.1,
             "#c51b7d"
            ],
            [
             0.2,
             "#de77ae"
            ],
            [
             0.3,
             "#f1b6da"
            ],
            [
             0.4,
             "#fde0ef"
            ],
            [
             0.5,
             "#f7f7f7"
            ],
            [
             0.6,
             "#e6f5d0"
            ],
            [
             0.7,
             "#b8e186"
            ],
            [
             0.8,
             "#7fbc41"
            ],
            [
             0.9,
             "#4d9221"
            ],
            [
             1,
             "#276419"
            ]
           ],
           "sequential": [
            [
             0,
             "#0d0887"
            ],
            [
             0.1111111111111111,
             "#46039f"
            ],
            [
             0.2222222222222222,
             "#7201a8"
            ],
            [
             0.3333333333333333,
             "#9c179e"
            ],
            [
             0.4444444444444444,
             "#bd3786"
            ],
            [
             0.5555555555555556,
             "#d8576b"
            ],
            [
             0.6666666666666666,
             "#ed7953"
            ],
            [
             0.7777777777777778,
             "#fb9f3a"
            ],
            [
             0.8888888888888888,
             "#fdca26"
            ],
            [
             1,
             "#f0f921"
            ]
           ],
           "sequentialminus": [
            [
             0,
             "#0d0887"
            ],
            [
             0.1111111111111111,
             "#46039f"
            ],
            [
             0.2222222222222222,
             "#7201a8"
            ],
            [
             0.3333333333333333,
             "#9c179e"
            ],
            [
             0.4444444444444444,
             "#bd3786"
            ],
            [
             0.5555555555555556,
             "#d8576b"
            ],
            [
             0.6666666666666666,
             "#ed7953"
            ],
            [
             0.7777777777777778,
             "#fb9f3a"
            ],
            [
             0.8888888888888888,
             "#fdca26"
            ],
            [
             1,
             "#f0f921"
            ]
           ]
          },
          "colorway": [
           "#636efa",
           "#EF553B",
           "#00cc96",
           "#ab63fa",
           "#FFA15A",
           "#19d3f3",
           "#FF6692",
           "#B6E880",
           "#FF97FF",
           "#FECB52"
          ],
          "font": {
           "color": "#2a3f5f"
          },
          "geo": {
           "bgcolor": "white",
           "lakecolor": "white",
           "landcolor": "#E5ECF6",
           "showlakes": true,
           "showland": true,
           "subunitcolor": "white"
          },
          "hoverlabel": {
           "align": "left"
          },
          "hovermode": "closest",
          "mapbox": {
           "style": "light"
          },
          "paper_bgcolor": "white",
          "plot_bgcolor": "#E5ECF6",
          "polar": {
           "angularaxis": {
            "gridcolor": "white",
            "linecolor": "white",
            "ticks": ""
           },
           "bgcolor": "#E5ECF6",
           "radialaxis": {
            "gridcolor": "white",
            "linecolor": "white",
            "ticks": ""
           }
          },
          "scene": {
           "xaxis": {
            "backgroundcolor": "#E5ECF6",
            "gridcolor": "white",
            "gridwidth": 2,
            "linecolor": "white",
            "showbackground": true,
            "ticks": "",
            "zerolinecolor": "white"
           },
           "yaxis": {
            "backgroundcolor": "#E5ECF6",
            "gridcolor": "white",
            "gridwidth": 2,
            "linecolor": "white",
            "showbackground": true,
            "ticks": "",
            "zerolinecolor": "white"
           },
           "zaxis": {
            "backgroundcolor": "#E5ECF6",
            "gridcolor": "white",
            "gridwidth": 2,
            "linecolor": "white",
            "showbackground": true,
            "ticks": "",
            "zerolinecolor": "white"
           }
          },
          "shapedefaults": {
           "line": {
            "color": "#2a3f5f"
           }
          },
          "ternary": {
           "aaxis": {
            "gridcolor": "white",
            "linecolor": "white",
            "ticks": ""
           },
           "baxis": {
            "gridcolor": "white",
            "linecolor": "white",
            "ticks": ""
           },
           "bgcolor": "#E5ECF6",
           "caxis": {
            "gridcolor": "white",
            "linecolor": "white",
            "ticks": ""
           }
          },
          "title": {
           "x": 0.05
          },
          "xaxis": {
           "automargin": true,
           "gridcolor": "white",
           "linecolor": "white",
           "ticks": "",
           "title": {
            "standoff": 15
           },
           "zerolinecolor": "white",
           "zerolinewidth": 2
          },
          "yaxis": {
           "automargin": true,
           "gridcolor": "white",
           "linecolor": "white",
           "ticks": "",
           "title": {
            "standoff": 15
           },
           "zerolinecolor": "white",
           "zerolinewidth": 2
          }
         }
        },
        "title": {
         "text": "Cumulative Cases in Covid-19 in Sweden (per week)"
        },
        "xaxis": {
         "anchor": "y",
         "domain": [
          0,
          1
         ],
         "dtick": 2,
         "tick0": 0,
         "tickmode": "array",
         "ticktext": [
          "v.6 2020",
          "v.8 2020",
          "v.10 2020",
          "v.12 2020",
          "v.14 2020",
          "v.16 2020",
          "v.18 2020",
          "v.20 2020",
          "v.22 2020",
          "v.24 2020",
          "v.26 2020",
          "v.28 2020",
          "v.30 2020",
          "v.32 2020",
          "v.34 2020",
          "v.36 2020",
          "v.38 2020",
          "v.40 2020",
          "v.42 2020",
          "v.44 2020",
          "v.46 2020",
          "v.48 2020",
          "v.50 2020",
          "v.52 2020",
          "v.1 2021",
          "v.3 2021",
          "v.5 2021",
          "v.7 2021",
          "v.9 2021",
          "v.11 2021",
          "v.13 2021",
          "v.15 2021",
          "v.17 2021",
          "v.19 2021",
          "v.21 2021",
          "v.23 2021",
          "v.25 2021",
          "v.27 2021",
          "v.29 2021",
          "v.31 2021",
          "v.33 2021",
          "v.35 2021",
          "v.37 2021",
          "v.39 2021",
          "v.41 2021"
         ],
         "tickvals": [
          "2020v6",
          "2020v8",
          "2020v10",
          "2020v12",
          "2020v14",
          "2020v16",
          "2020v18",
          "2020v20",
          "2020v22",
          "2020v24",
          "2020v26",
          "2020v28",
          "2020v30",
          "2020v32",
          "2020v34",
          "2020v36",
          "2020v38",
          "2020v40",
          "2020v42",
          "2020v44",
          "2020v46",
          "2020v48",
          "2020v50",
          "2020v52",
          "2021v1",
          "2021v3",
          "2021v5",
          "2021v7",
          "2021v9",
          "2021v11",
          "2021v13",
          "2021v15",
          "2021v17",
          "2021v19",
          "2021v21",
          "2021v23",
          "2021v25",
          "2021v27",
          "2021v29",
          "2021v31",
          "2021v33",
          "2021v35",
          "2021v37",
          "2021v39",
          "2021v41"
         ],
         "title": {
          "text": "Week"
         }
        },
        "yaxis": {
         "anchor": "x",
         "domain": [
          0,
          1
         ],
         "title": {
          "text": "Cumulative Cases"
         }
        }
       }
      }
     },
     "metadata": {}
    }
   ],
   "metadata": {}
  },
  {
   "cell_type": "markdown",
   "source": [
    "## Exercise 2. Vaccination Data"
   ],
   "metadata": {}
  },
  {
   "cell_type": "code",
   "execution_count": null,
   "source": [
    "vaccination = pd.read_excel(\"data/Folkhalsomyndigheten_Covid19_Vaccine.xlsx\", sheet_name=5)\n",
    "vaccination"
   ],
   "outputs": [],
   "metadata": {}
  },
  {
   "cell_type": "markdown",
   "source": [
    "### a) Number of \"län\" in the data"
   ],
   "metadata": {}
  },
  {
   "cell_type": "code",
   "execution_count": null,
   "source": [
    "print(f\"There are {len(vaccination['Län_namn'].unique())} 'län' in the dataset.\")"
   ],
   "outputs": [],
   "metadata": {}
  },
  {
   "cell_type": "markdown",
   "source": [
    "### b) Number of \"kommuner\" in the dataset."
   ],
   "metadata": {}
  },
  {
   "cell_type": "code",
   "execution_count": null,
   "source": [
    "print(f\"There are {len(vaccination['Kommun_namn'].unique())} 'kommuner' in the dataset.\")"
   ],
   "outputs": [],
   "metadata": {}
  },
  {
   "cell_type": "markdown",
   "source": [
    "### c) Number of people that are are represented in the data."
   ],
   "metadata": {}
  },
  {
   "cell_type": "code",
   "execution_count": null,
   "source": [
    "no_people_represented = sum(vaccination['Befolkning'])\n",
    "print(f\"There are {no_people_represented} people represented in the data\")"
   ],
   "outputs": [],
   "metadata": {}
  },
  {
   "cell_type": "markdown",
   "source": [
    "### d) Number of children, under the age of 16."
   ],
   "metadata": {}
  },
  {
   "cell_type": "code",
   "execution_count": null,
   "source": [
    "print(f\"There are about {10427296-no_people_represented} children (under the age of 16) in Sweden.\") "
   ],
   "outputs": [],
   "metadata": {}
  },
  {
   "cell_type": "markdown",
   "source": [
    "### e) d"
   ],
   "metadata": {}
  },
  {
   "cell_type": "code",
   "execution_count": null,
   "source": [
    "#CREATE FUNCTION OF THIS AND ALSO PLOT THE OTHER PART\n",
    "#CHECK SO NUMBERS ARE CORRECT\n",
    "\n",
    "fig, ax = plt.subplots(dpi=400)\n",
    "ax = sns.barplot(data=vaccination, x=\"Län_namn\", y=\"Andel färdigvaccinerade\", ci=None)\n",
    "ax.tick_params(axis=\"x\", labelsize=8, rotation=90)\n",
    "ax.tick_params(axis=\"y\", labelsize=8)\n",
    "#plt.ticklabel_format(style='plain', axis='y')\n",
    "ax.set(ylabel=\"Personer\", xlabel=\"Län\", title=\"Andel färdigvaccinerade\")"
   ],
   "outputs": [],
   "metadata": {}
  },
  {
   "cell_type": "code",
   "execution_count": null,
   "source": [
    "#CREATE FUNCTION OF THIS AND ALSO PLOT THE OTHER PART\n",
    "#CHECK SO NUMBERS ARE CORRECT\n",
    "\n",
    "fig, ax = plt.subplots(dpi=400)\n",
    "ax = sns.barplot(data=vaccination, x=\"Län_namn\", y=\"Antal färdigvaccinerade\", ci=None, estimator=sum)\n",
    "ax.tick_params(axis=\"x\", labelsize=8, rotation=90)\n",
    "ax.tick_params(axis=\"y\", labelsize=8)\n",
    "#plt.ticklabel_format(style='plain', axis='y')\n",
    "ax.set(ylabel=\"Personer\", xlabel=\"Län\", title=\"Antal färdigvaccinerade\")"
   ],
   "outputs": [],
   "metadata": {}
  },
  {
   "cell_type": "code",
   "execution_count": null,
   "source": [
    "#CREATE FUNCTION OF THIS AND ALSO PLOT THE OTHER PART\n",
    "#CHECK SO NUMBERS ARE CORRECT\n",
    "\n",
    "fig, ax = plt.subplots(dpi=400)\n",
    "ax = sns.barplot(data=vaccination, x=\"Län_namn\", y=\"Andel färdigvaccinerade\", ci=None)\n",
    "ax = sns.barplot(data=vaccination, x=\"Län_namn\", y=\"Antal minst 1 dos\", ci=None)\n",
    "ax.tick_params(axis=\"x\", labelsize=8, rotation=90)\n",
    "ax.tick_params(axis=\"y\", labelsize=8)\n",
    "plt.ticklabel_format(style='plain', axis='y')\n",
    "ax.set(ylabel=\"Personer\", xlabel=\"Län\", title=\"Andel färdigvaccinerade\")"
   ],
   "outputs": [],
   "metadata": {}
  },
  {
   "cell_type": "code",
   "execution_count": null,
   "source": [
    "fig, ax = plt.subplots(dpi=400)\n",
    "ax = sns.barplot(data=vaccination, x=\"Län_namn\", y=(vaccination.groupby(vaccination[\"Län_namn\"]).sum()), ci=None)\n",
    "#ax = sns.barplot(data=vaccination, x=\"Län_namn\", y=\"Antal minst 1 dos\", ci=None)\n",
    "ax.tick_params(axis=\"x\", labelsize=8, rotation=90)\n",
    "ax.tick_params(axis=\"y\", labelsize=8)\n",
    "plt.ticklabel_format(style='plain', axis='y')\n",
    "ax.set(ylabel=\"Personer\", xlabel=\"Län\", title=\"Andel färdigvaccinerade\")"
   ],
   "outputs": [],
   "metadata": {}
  },
  {
   "cell_type": "code",
   "execution_count": null,
   "source": [
    "test = pd.DataFrame(vaccination[\"Antal färdigvaccinerade\"].groupby(vaccination[\"Län_namn\"]).sum())\n",
    "test[\"Antal minst 1 dos\"] = vaccination[\"Antal minst 1 dos\"].groupby(vaccination[\"Län_namn\"]).sum()\n",
    "#test.drop(1, axis=0)\n",
    "#test\n",
    "#fig = px.barplot(vaccination, x=\"Län_namn\", y=[\"Antal färdigva], labels={\"Vecka\":\"Week\", \"Antal_avdlidna_vecka\":\"Number of People\"})\n",
    "\n",
    "#alternative for pandas < 0.20.0\n",
    "#df = pd.melt(df, 'X_Axis', var_name='cols',  value_name='vals')\n",
    "#g = sns.factorplot(x=\"X_Axis\", y=\"vals\", hue='cols', data=df)"
   ],
   "outputs": [],
   "metadata": {}
  },
  {
   "cell_type": "code",
   "execution_count": null,
   "source": [
    "import plotly.graph_objects as go\n",
    "\n",
    "#Change title on y-axis\n",
    "fig = px.bar(test, x=test.index, y=\"Antal minst 1 dos\", labels={\"Län_namn\":\"Län\"})\n",
    "fig.add_bar(x=test.index, y=test[\"Antal färdigvaccinerade\"])\n",
    "fig.update_layout(barmode='group')\n",
    "fig.show()\n",
    "fig.write_html('first_figure.html', auto_open=True)"
   ],
   "outputs": [],
   "metadata": {}
  }
 ],
 "metadata": {
  "orig_nbformat": 4,
  "language_info": {
   "name": "python",
   "version": "3.9.6",
   "mimetype": "text/x-python",
   "codemirror_mode": {
    "name": "ipython",
    "version": 3
   },
   "pygments_lexer": "ipython3",
   "nbconvert_exporter": "python",
   "file_extension": ".py"
  },
  "kernelspec": {
   "name": "python3",
   "display_name": "Python 3.9.6 64-bit ('Databehandling-Anna-Maria-Sj-lund-ciSw9i2p': pipenv)"
  },
  "interpreter": {
   "hash": "448c7bdc29fb3557f07b8a1afe02d766aa28053d638d3b433bafa66a6229fd5d"
  }
 },
 "nbformat": 4,
 "nbformat_minor": 2
}