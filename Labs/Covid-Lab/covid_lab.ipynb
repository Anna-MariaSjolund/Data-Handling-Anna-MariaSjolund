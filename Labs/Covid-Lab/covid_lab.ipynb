{
 "cells": [
  {
   "cell_type": "markdown",
   "source": [
    "# Laboration - Covid-19"
   ],
   "metadata": {}
  },
  {
   "cell_type": "markdown",
   "source": [
    "## Exercise 1. Covid-19 data"
   ],
   "metadata": {}
  },
  {
   "cell_type": "code",
   "execution_count": 1,
   "source": [
    "import pandas as pd\n",
    "import seaborn as sns\n",
    "import matplotlib.pyplot as plt\n",
    "import plotly.express as px\n",
    "import plotly.graph_objects as go"
   ],
   "outputs": [],
   "metadata": {}
  },
  {
   "cell_type": "markdown",
   "source": [
    "### a) Initial analyses"
   ],
   "metadata": {}
  },
  {
   "cell_type": "code",
   "execution_count": 2,
   "source": [
    "covid19 = pd.read_excel(\"data/Folkhalsomyndigheten_Covid19.xlsx\", sheet_name=8)\n",
    "covid19 #Exploring both head and tail at once"
   ],
   "outputs": [
    {
     "output_type": "execute_result",
     "data": {
      "text/plain": [
       "      år  veckonummer  Antal_fall_vecka  Antal_fall_100000inv_vecka  \\\n",
       "0   2020            6                 1                           0   \n",
       "1   2020            7                 0                           0   \n",
       "2   2020            8                 0                           0   \n",
       "3   2020            9                13                           0   \n",
       "4   2020           10               211                           2   \n",
       "..   ...          ...               ...                         ...   \n",
       "84  2021           37              6266                          60   \n",
       "85  2021           38              4298                          41   \n",
       "86  2021           39              4241                          41   \n",
       "87  2021           40              4141                          40   \n",
       "88  2021           41              4062                          39   \n",
       "\n",
       "    Antal_fall_100000inv_14dagar  Kum_antal_fall  Kum_fall_100000inv  \\\n",
       "0                              0               1                   0   \n",
       "1                              0               1                   0   \n",
       "2                              0               1                   0   \n",
       "3                              0              14                   0   \n",
       "4                              2             225                   2   \n",
       "..                           ...             ...                 ...   \n",
       "84                           137         1145764               11039   \n",
       "85                           101         1150062               11080   \n",
       "86                            82         1154303               11121   \n",
       "87                            81         1158444               11161   \n",
       "88                            79         1162506               11200   \n",
       "\n",
       "    Antal_nyaintensivvårdade_vecka  Kum_antal_intensivvårdade  \\\n",
       "0                                0                          0   \n",
       "1                                0                          0   \n",
       "2                                0                          0   \n",
       "3                                0                          0   \n",
       "4                                3                          3   \n",
       "..                             ...                        ...   \n",
       "84                              24                       7823   \n",
       "85                              21                       7844   \n",
       "86                              17                       7861   \n",
       "87                              15                       7876   \n",
       "88                              10                       7886   \n",
       "\n",
       "    Antal_avlidna_vecka  Antal_avlidna_milj_inv_vecka  Kum_antal_avlidna  \\\n",
       "0                     0                           0.0                  0   \n",
       "1                     0                           0.0                  0   \n",
       "2                     0                           0.0                  0   \n",
       "3                     0                           0.0                  0   \n",
       "4                     0                           0.0                  0   \n",
       "..                  ...                           ...                ...   \n",
       "84                   52                           5.0              14807   \n",
       "85                   40                           3.9              14847   \n",
       "86                   37                           3.6              14884   \n",
       "87                   42                           4.0              14926   \n",
       "88                   18                           1.7              14944   \n",
       "\n",
       "    Kum_antal_avlidna_milj_inv  \n",
       "0                     0.000000  \n",
       "1                     0.000000  \n",
       "2                     0.000000  \n",
       "3                     0.000000  \n",
       "4                     0.000000  \n",
       "..                         ...  \n",
       "84                 1426.599976  \n",
       "85                 1430.400024  \n",
       "86                 1434.000000  \n",
       "87                 1438.099976  \n",
       "88                 1439.800049  \n",
       "\n",
       "[89 rows x 13 columns]"
      ],
      "text/html": [
       "<div>\n",
       "<style scoped>\n",
       "    .dataframe tbody tr th:only-of-type {\n",
       "        vertical-align: middle;\n",
       "    }\n",
       "\n",
       "    .dataframe tbody tr th {\n",
       "        vertical-align: top;\n",
       "    }\n",
       "\n",
       "    .dataframe thead th {\n",
       "        text-align: right;\n",
       "    }\n",
       "</style>\n",
       "<table border=\"1\" class=\"dataframe\">\n",
       "  <thead>\n",
       "    <tr style=\"text-align: right;\">\n",
       "      <th></th>\n",
       "      <th>år</th>\n",
       "      <th>veckonummer</th>\n",
       "      <th>Antal_fall_vecka</th>\n",
       "      <th>Antal_fall_100000inv_vecka</th>\n",
       "      <th>Antal_fall_100000inv_14dagar</th>\n",
       "      <th>Kum_antal_fall</th>\n",
       "      <th>Kum_fall_100000inv</th>\n",
       "      <th>Antal_nyaintensivvårdade_vecka</th>\n",
       "      <th>Kum_antal_intensivvårdade</th>\n",
       "      <th>Antal_avlidna_vecka</th>\n",
       "      <th>Antal_avlidna_milj_inv_vecka</th>\n",
       "      <th>Kum_antal_avlidna</th>\n",
       "      <th>Kum_antal_avlidna_milj_inv</th>\n",
       "    </tr>\n",
       "  </thead>\n",
       "  <tbody>\n",
       "    <tr>\n",
       "      <th>0</th>\n",
       "      <td>2020</td>\n",
       "      <td>6</td>\n",
       "      <td>1</td>\n",
       "      <td>0</td>\n",
       "      <td>0</td>\n",
       "      <td>1</td>\n",
       "      <td>0</td>\n",
       "      <td>0</td>\n",
       "      <td>0</td>\n",
       "      <td>0</td>\n",
       "      <td>0.0</td>\n",
       "      <td>0</td>\n",
       "      <td>0.000000</td>\n",
       "    </tr>\n",
       "    <tr>\n",
       "      <th>1</th>\n",
       "      <td>2020</td>\n",
       "      <td>7</td>\n",
       "      <td>0</td>\n",
       "      <td>0</td>\n",
       "      <td>0</td>\n",
       "      <td>1</td>\n",
       "      <td>0</td>\n",
       "      <td>0</td>\n",
       "      <td>0</td>\n",
       "      <td>0</td>\n",
       "      <td>0.0</td>\n",
       "      <td>0</td>\n",
       "      <td>0.000000</td>\n",
       "    </tr>\n",
       "    <tr>\n",
       "      <th>2</th>\n",
       "      <td>2020</td>\n",
       "      <td>8</td>\n",
       "      <td>0</td>\n",
       "      <td>0</td>\n",
       "      <td>0</td>\n",
       "      <td>1</td>\n",
       "      <td>0</td>\n",
       "      <td>0</td>\n",
       "      <td>0</td>\n",
       "      <td>0</td>\n",
       "      <td>0.0</td>\n",
       "      <td>0</td>\n",
       "      <td>0.000000</td>\n",
       "    </tr>\n",
       "    <tr>\n",
       "      <th>3</th>\n",
       "      <td>2020</td>\n",
       "      <td>9</td>\n",
       "      <td>13</td>\n",
       "      <td>0</td>\n",
       "      <td>0</td>\n",
       "      <td>14</td>\n",
       "      <td>0</td>\n",
       "      <td>0</td>\n",
       "      <td>0</td>\n",
       "      <td>0</td>\n",
       "      <td>0.0</td>\n",
       "      <td>0</td>\n",
       "      <td>0.000000</td>\n",
       "    </tr>\n",
       "    <tr>\n",
       "      <th>4</th>\n",
       "      <td>2020</td>\n",
       "      <td>10</td>\n",
       "      <td>211</td>\n",
       "      <td>2</td>\n",
       "      <td>2</td>\n",
       "      <td>225</td>\n",
       "      <td>2</td>\n",
       "      <td>3</td>\n",
       "      <td>3</td>\n",
       "      <td>0</td>\n",
       "      <td>0.0</td>\n",
       "      <td>0</td>\n",
       "      <td>0.000000</td>\n",
       "    </tr>\n",
       "    <tr>\n",
       "      <th>...</th>\n",
       "      <td>...</td>\n",
       "      <td>...</td>\n",
       "      <td>...</td>\n",
       "      <td>...</td>\n",
       "      <td>...</td>\n",
       "      <td>...</td>\n",
       "      <td>...</td>\n",
       "      <td>...</td>\n",
       "      <td>...</td>\n",
       "      <td>...</td>\n",
       "      <td>...</td>\n",
       "      <td>...</td>\n",
       "      <td>...</td>\n",
       "    </tr>\n",
       "    <tr>\n",
       "      <th>84</th>\n",
       "      <td>2021</td>\n",
       "      <td>37</td>\n",
       "      <td>6266</td>\n",
       "      <td>60</td>\n",
       "      <td>137</td>\n",
       "      <td>1145764</td>\n",
       "      <td>11039</td>\n",
       "      <td>24</td>\n",
       "      <td>7823</td>\n",
       "      <td>52</td>\n",
       "      <td>5.0</td>\n",
       "      <td>14807</td>\n",
       "      <td>1426.599976</td>\n",
       "    </tr>\n",
       "    <tr>\n",
       "      <th>85</th>\n",
       "      <td>2021</td>\n",
       "      <td>38</td>\n",
       "      <td>4298</td>\n",
       "      <td>41</td>\n",
       "      <td>101</td>\n",
       "      <td>1150062</td>\n",
       "      <td>11080</td>\n",
       "      <td>21</td>\n",
       "      <td>7844</td>\n",
       "      <td>40</td>\n",
       "      <td>3.9</td>\n",
       "      <td>14847</td>\n",
       "      <td>1430.400024</td>\n",
       "    </tr>\n",
       "    <tr>\n",
       "      <th>86</th>\n",
       "      <td>2021</td>\n",
       "      <td>39</td>\n",
       "      <td>4241</td>\n",
       "      <td>41</td>\n",
       "      <td>82</td>\n",
       "      <td>1154303</td>\n",
       "      <td>11121</td>\n",
       "      <td>17</td>\n",
       "      <td>7861</td>\n",
       "      <td>37</td>\n",
       "      <td>3.6</td>\n",
       "      <td>14884</td>\n",
       "      <td>1434.000000</td>\n",
       "    </tr>\n",
       "    <tr>\n",
       "      <th>87</th>\n",
       "      <td>2021</td>\n",
       "      <td>40</td>\n",
       "      <td>4141</td>\n",
       "      <td>40</td>\n",
       "      <td>81</td>\n",
       "      <td>1158444</td>\n",
       "      <td>11161</td>\n",
       "      <td>15</td>\n",
       "      <td>7876</td>\n",
       "      <td>42</td>\n",
       "      <td>4.0</td>\n",
       "      <td>14926</td>\n",
       "      <td>1438.099976</td>\n",
       "    </tr>\n",
       "    <tr>\n",
       "      <th>88</th>\n",
       "      <td>2021</td>\n",
       "      <td>41</td>\n",
       "      <td>4062</td>\n",
       "      <td>39</td>\n",
       "      <td>79</td>\n",
       "      <td>1162506</td>\n",
       "      <td>11200</td>\n",
       "      <td>10</td>\n",
       "      <td>7886</td>\n",
       "      <td>18</td>\n",
       "      <td>1.7</td>\n",
       "      <td>14944</td>\n",
       "      <td>1439.800049</td>\n",
       "    </tr>\n",
       "  </tbody>\n",
       "</table>\n",
       "<p>89 rows × 13 columns</p>\n",
       "</div>"
      ]
     },
     "metadata": {},
     "execution_count": 2
    }
   ],
   "metadata": {}
  },
  {
   "cell_type": "code",
   "execution_count": 3,
   "source": [
    "#There are no missing values (89 rows/weeks and 89 non-null values).\n",
    "#The data type is either int64 or float64 and seems to be appropriately used.\n",
    "covid19.info() "
   ],
   "outputs": [
    {
     "output_type": "stream",
     "name": "stdout",
     "text": [
      "<class 'pandas.core.frame.DataFrame'>\n",
      "RangeIndex: 89 entries, 0 to 88\n",
      "Data columns (total 13 columns):\n",
      " #   Column                          Non-Null Count  Dtype  \n",
      "---  ------                          --------------  -----  \n",
      " 0   år                              89 non-null     int64  \n",
      " 1   veckonummer                     89 non-null     int64  \n",
      " 2   Antal_fall_vecka                89 non-null     int64  \n",
      " 3   Antal_fall_100000inv_vecka      89 non-null     int64  \n",
      " 4   Antal_fall_100000inv_14dagar    89 non-null     int64  \n",
      " 5   Kum_antal_fall                  89 non-null     int64  \n",
      " 6   Kum_fall_100000inv              89 non-null     int64  \n",
      " 7   Antal_nyaintensivvårdade_vecka  89 non-null     int64  \n",
      " 8   Kum_antal_intensivvårdade       89 non-null     int64  \n",
      " 9   Antal_avlidna_vecka             89 non-null     int64  \n",
      " 10  Antal_avlidna_milj_inv_vecka    89 non-null     float64\n",
      " 11  Kum_antal_avlidna               89 non-null     int64  \n",
      " 12  Kum_antal_avlidna_milj_inv      89 non-null     float64\n",
      "dtypes: float64(2), int64(11)\n",
      "memory usage: 9.2 KB\n"
     ]
    }
   ],
   "metadata": {}
  },
  {
   "cell_type": "code",
   "execution_count": 4,
   "source": [
    "covid19.describe()"
   ],
   "outputs": [
    {
     "output_type": "execute_result",
     "data": {
      "text/plain": [
       "                år  veckonummer  Antal_fall_vecka  Antal_fall_100000inv_vecka  \\\n",
       "count    89.000000    89.000000         89.000000                   89.000000   \n",
       "mean   2020.460674    25.584270      13061.865169                  126.011236   \n",
       "std       0.501275    13.713637      14210.652869                  137.184472   \n",
       "min    2020.000000     1.000000          0.000000                    0.000000   \n",
       "25%    2020.000000    14.000000       2179.000000                   21.000000   \n",
       "50%    2020.000000    25.000000       4608.000000                   44.000000   \n",
       "75%    2021.000000    36.000000      25405.000000                  246.000000   \n",
       "max    2021.000000    53.000000      46177.000000                  447.000000   \n",
       "\n",
       "       Antal_fall_100000inv_14dagar  Kum_antal_fall  Kum_fall_100000inv  \\\n",
       "count                     89.000000    8.900000e+01           89.000000   \n",
       "mean                     251.584270    4.885261e+05         4709.325843   \n",
       "std                      272.989003    4.559136e+05         4391.041264   \n",
       "min                        0.000000    1.000000e+00            0.000000   \n",
       "25%                       46.000000    7.279100e+04          705.000000   \n",
       "50%                      100.000000    3.380260e+05         3273.000000   \n",
       "75%                      485.000000    1.044862e+06        10067.000000   \n",
       "max                      869.000000    1.162506e+06        11200.000000   \n",
       "\n",
       "       Antal_nyaintensivvårdade_vecka  Kum_antal_intensivvårdade  \\\n",
       "count                       89.000000                  89.000000   \n",
       "mean                        88.606742                4261.741573   \n",
       "std                         83.646662                2609.965149   \n",
       "min                          0.000000                   0.000000   \n",
       "25%                         14.000000                2491.000000   \n",
       "50%                         59.000000                3638.000000   \n",
       "75%                        153.000000                7348.000000   \n",
       "max                        289.000000                7886.000000   \n",
       "\n",
       "       Antal_avlidna_vecka  Antal_avlidna_milj_inv_vecka  Kum_antal_avlidna  \\\n",
       "count            89.000000                     89.000000          89.000000   \n",
       "mean            167.910112                     16.233708        8923.303371   \n",
       "std             204.302952                     19.765609        5126.703711   \n",
       "min               0.000000                      0.000000           0.000000   \n",
       "25%              17.000000                      1.600000        5621.000000   \n",
       "50%              82.000000                      7.900000        8135.000000   \n",
       "75%             235.000000                     22.799999       14416.000000   \n",
       "max             664.000000                     64.300003       14944.000000   \n",
       "\n",
       "       Kum_antal_avlidna_milj_inv  \n",
       "count                   89.000000  \n",
       "mean                   860.923595  \n",
       "std                    493.286226  \n",
       "min                      0.000000  \n",
       "25%                    544.299988  \n",
       "50%                    787.700012  \n",
       "75%                   1388.900024  \n",
       "max                   1439.800049  "
      ],
      "text/html": [
       "<div>\n",
       "<style scoped>\n",
       "    .dataframe tbody tr th:only-of-type {\n",
       "        vertical-align: middle;\n",
       "    }\n",
       "\n",
       "    .dataframe tbody tr th {\n",
       "        vertical-align: top;\n",
       "    }\n",
       "\n",
       "    .dataframe thead th {\n",
       "        text-align: right;\n",
       "    }\n",
       "</style>\n",
       "<table border=\"1\" class=\"dataframe\">\n",
       "  <thead>\n",
       "    <tr style=\"text-align: right;\">\n",
       "      <th></th>\n",
       "      <th>år</th>\n",
       "      <th>veckonummer</th>\n",
       "      <th>Antal_fall_vecka</th>\n",
       "      <th>Antal_fall_100000inv_vecka</th>\n",
       "      <th>Antal_fall_100000inv_14dagar</th>\n",
       "      <th>Kum_antal_fall</th>\n",
       "      <th>Kum_fall_100000inv</th>\n",
       "      <th>Antal_nyaintensivvårdade_vecka</th>\n",
       "      <th>Kum_antal_intensivvårdade</th>\n",
       "      <th>Antal_avlidna_vecka</th>\n",
       "      <th>Antal_avlidna_milj_inv_vecka</th>\n",
       "      <th>Kum_antal_avlidna</th>\n",
       "      <th>Kum_antal_avlidna_milj_inv</th>\n",
       "    </tr>\n",
       "  </thead>\n",
       "  <tbody>\n",
       "    <tr>\n",
       "      <th>count</th>\n",
       "      <td>89.000000</td>\n",
       "      <td>89.000000</td>\n",
       "      <td>89.000000</td>\n",
       "      <td>89.000000</td>\n",
       "      <td>89.000000</td>\n",
       "      <td>8.900000e+01</td>\n",
       "      <td>89.000000</td>\n",
       "      <td>89.000000</td>\n",
       "      <td>89.000000</td>\n",
       "      <td>89.000000</td>\n",
       "      <td>89.000000</td>\n",
       "      <td>89.000000</td>\n",
       "      <td>89.000000</td>\n",
       "    </tr>\n",
       "    <tr>\n",
       "      <th>mean</th>\n",
       "      <td>2020.460674</td>\n",
       "      <td>25.584270</td>\n",
       "      <td>13061.865169</td>\n",
       "      <td>126.011236</td>\n",
       "      <td>251.584270</td>\n",
       "      <td>4.885261e+05</td>\n",
       "      <td>4709.325843</td>\n",
       "      <td>88.606742</td>\n",
       "      <td>4261.741573</td>\n",
       "      <td>167.910112</td>\n",
       "      <td>16.233708</td>\n",
       "      <td>8923.303371</td>\n",
       "      <td>860.923595</td>\n",
       "    </tr>\n",
       "    <tr>\n",
       "      <th>std</th>\n",
       "      <td>0.501275</td>\n",
       "      <td>13.713637</td>\n",
       "      <td>14210.652869</td>\n",
       "      <td>137.184472</td>\n",
       "      <td>272.989003</td>\n",
       "      <td>4.559136e+05</td>\n",
       "      <td>4391.041264</td>\n",
       "      <td>83.646662</td>\n",
       "      <td>2609.965149</td>\n",
       "      <td>204.302952</td>\n",
       "      <td>19.765609</td>\n",
       "      <td>5126.703711</td>\n",
       "      <td>493.286226</td>\n",
       "    </tr>\n",
       "    <tr>\n",
       "      <th>min</th>\n",
       "      <td>2020.000000</td>\n",
       "      <td>1.000000</td>\n",
       "      <td>0.000000</td>\n",
       "      <td>0.000000</td>\n",
       "      <td>0.000000</td>\n",
       "      <td>1.000000e+00</td>\n",
       "      <td>0.000000</td>\n",
       "      <td>0.000000</td>\n",
       "      <td>0.000000</td>\n",
       "      <td>0.000000</td>\n",
       "      <td>0.000000</td>\n",
       "      <td>0.000000</td>\n",
       "      <td>0.000000</td>\n",
       "    </tr>\n",
       "    <tr>\n",
       "      <th>25%</th>\n",
       "      <td>2020.000000</td>\n",
       "      <td>14.000000</td>\n",
       "      <td>2179.000000</td>\n",
       "      <td>21.000000</td>\n",
       "      <td>46.000000</td>\n",
       "      <td>7.279100e+04</td>\n",
       "      <td>705.000000</td>\n",
       "      <td>14.000000</td>\n",
       "      <td>2491.000000</td>\n",
       "      <td>17.000000</td>\n",
       "      <td>1.600000</td>\n",
       "      <td>5621.000000</td>\n",
       "      <td>544.299988</td>\n",
       "    </tr>\n",
       "    <tr>\n",
       "      <th>50%</th>\n",
       "      <td>2020.000000</td>\n",
       "      <td>25.000000</td>\n",
       "      <td>4608.000000</td>\n",
       "      <td>44.000000</td>\n",
       "      <td>100.000000</td>\n",
       "      <td>3.380260e+05</td>\n",
       "      <td>3273.000000</td>\n",
       "      <td>59.000000</td>\n",
       "      <td>3638.000000</td>\n",
       "      <td>82.000000</td>\n",
       "      <td>7.900000</td>\n",
       "      <td>8135.000000</td>\n",
       "      <td>787.700012</td>\n",
       "    </tr>\n",
       "    <tr>\n",
       "      <th>75%</th>\n",
       "      <td>2021.000000</td>\n",
       "      <td>36.000000</td>\n",
       "      <td>25405.000000</td>\n",
       "      <td>246.000000</td>\n",
       "      <td>485.000000</td>\n",
       "      <td>1.044862e+06</td>\n",
       "      <td>10067.000000</td>\n",
       "      <td>153.000000</td>\n",
       "      <td>7348.000000</td>\n",
       "      <td>235.000000</td>\n",
       "      <td>22.799999</td>\n",
       "      <td>14416.000000</td>\n",
       "      <td>1388.900024</td>\n",
       "    </tr>\n",
       "    <tr>\n",
       "      <th>max</th>\n",
       "      <td>2021.000000</td>\n",
       "      <td>53.000000</td>\n",
       "      <td>46177.000000</td>\n",
       "      <td>447.000000</td>\n",
       "      <td>869.000000</td>\n",
       "      <td>1.162506e+06</td>\n",
       "      <td>11200.000000</td>\n",
       "      <td>289.000000</td>\n",
       "      <td>7886.000000</td>\n",
       "      <td>664.000000</td>\n",
       "      <td>64.300003</td>\n",
       "      <td>14944.000000</td>\n",
       "      <td>1439.800049</td>\n",
       "    </tr>\n",
       "  </tbody>\n",
       "</table>\n",
       "</div>"
      ]
     },
     "metadata": {},
     "execution_count": 4
    }
   ],
   "metadata": {}
  },
  {
   "cell_type": "code",
   "execution_count": 5,
   "source": [
    "covid19[\"år\"].value_counts() #The data includes 48 weeks from 2020 and 41 weeks for 2021"
   ],
   "outputs": [
    {
     "output_type": "execute_result",
     "data": {
      "text/plain": [
       "2020    48\n",
       "2021    41\n",
       "Name: år, dtype: int64"
      ]
     },
     "metadata": {},
     "execution_count": 5
    }
   ],
   "metadata": {}
  },
  {
   "cell_type": "markdown",
   "source": [
    "### b) Create a \"Vecka\" column"
   ],
   "metadata": {}
  },
  {
   "cell_type": "code",
   "execution_count": 6,
   "source": [
    "covid19[\"veckonummer\"] = covid19[\"år\"].astype(str) + \"v\" + covid19[\"veckonummer\"].astype(str) #Creates a new column with year and week number and overwrites the \"veckonummer\" column\n",
    "covid19 = covid19.rename({\"veckonummer\":\"Vecka\"}, axis=1).drop(\"år\", axis=1) #Renames the \"veckonummer\" column to \"Vecka\" and drops the year column\n",
    "\n",
    "covid19.head()"
   ],
   "outputs": [
    {
     "output_type": "execute_result",
     "data": {
      "text/plain": [
       "     Vecka  Antal_fall_vecka  Antal_fall_100000inv_vecka  \\\n",
       "0   2020v6                 1                           0   \n",
       "1   2020v7                 0                           0   \n",
       "2   2020v8                 0                           0   \n",
       "3   2020v9                13                           0   \n",
       "4  2020v10               211                           2   \n",
       "\n",
       "   Antal_fall_100000inv_14dagar  Kum_antal_fall  Kum_fall_100000inv  \\\n",
       "0                             0               1                   0   \n",
       "1                             0               1                   0   \n",
       "2                             0               1                   0   \n",
       "3                             0              14                   0   \n",
       "4                             2             225                   2   \n",
       "\n",
       "   Antal_nyaintensivvårdade_vecka  Kum_antal_intensivvårdade  \\\n",
       "0                               0                          0   \n",
       "1                               0                          0   \n",
       "2                               0                          0   \n",
       "3                               0                          0   \n",
       "4                               3                          3   \n",
       "\n",
       "   Antal_avlidna_vecka  Antal_avlidna_milj_inv_vecka  Kum_antal_avlidna  \\\n",
       "0                    0                           0.0                  0   \n",
       "1                    0                           0.0                  0   \n",
       "2                    0                           0.0                  0   \n",
       "3                    0                           0.0                  0   \n",
       "4                    0                           0.0                  0   \n",
       "\n",
       "   Kum_antal_avlidna_milj_inv  \n",
       "0                         0.0  \n",
       "1                         0.0  \n",
       "2                         0.0  \n",
       "3                         0.0  \n",
       "4                         0.0  "
      ],
      "text/html": [
       "<div>\n",
       "<style scoped>\n",
       "    .dataframe tbody tr th:only-of-type {\n",
       "        vertical-align: middle;\n",
       "    }\n",
       "\n",
       "    .dataframe tbody tr th {\n",
       "        vertical-align: top;\n",
       "    }\n",
       "\n",
       "    .dataframe thead th {\n",
       "        text-align: right;\n",
       "    }\n",
       "</style>\n",
       "<table border=\"1\" class=\"dataframe\">\n",
       "  <thead>\n",
       "    <tr style=\"text-align: right;\">\n",
       "      <th></th>\n",
       "      <th>Vecka</th>\n",
       "      <th>Antal_fall_vecka</th>\n",
       "      <th>Antal_fall_100000inv_vecka</th>\n",
       "      <th>Antal_fall_100000inv_14dagar</th>\n",
       "      <th>Kum_antal_fall</th>\n",
       "      <th>Kum_fall_100000inv</th>\n",
       "      <th>Antal_nyaintensivvårdade_vecka</th>\n",
       "      <th>Kum_antal_intensivvårdade</th>\n",
       "      <th>Antal_avlidna_vecka</th>\n",
       "      <th>Antal_avlidna_milj_inv_vecka</th>\n",
       "      <th>Kum_antal_avlidna</th>\n",
       "      <th>Kum_antal_avlidna_milj_inv</th>\n",
       "    </tr>\n",
       "  </thead>\n",
       "  <tbody>\n",
       "    <tr>\n",
       "      <th>0</th>\n",
       "      <td>2020v6</td>\n",
       "      <td>1</td>\n",
       "      <td>0</td>\n",
       "      <td>0</td>\n",
       "      <td>1</td>\n",
       "      <td>0</td>\n",
       "      <td>0</td>\n",
       "      <td>0</td>\n",
       "      <td>0</td>\n",
       "      <td>0.0</td>\n",
       "      <td>0</td>\n",
       "      <td>0.0</td>\n",
       "    </tr>\n",
       "    <tr>\n",
       "      <th>1</th>\n",
       "      <td>2020v7</td>\n",
       "      <td>0</td>\n",
       "      <td>0</td>\n",
       "      <td>0</td>\n",
       "      <td>1</td>\n",
       "      <td>0</td>\n",
       "      <td>0</td>\n",
       "      <td>0</td>\n",
       "      <td>0</td>\n",
       "      <td>0.0</td>\n",
       "      <td>0</td>\n",
       "      <td>0.0</td>\n",
       "    </tr>\n",
       "    <tr>\n",
       "      <th>2</th>\n",
       "      <td>2020v8</td>\n",
       "      <td>0</td>\n",
       "      <td>0</td>\n",
       "      <td>0</td>\n",
       "      <td>1</td>\n",
       "      <td>0</td>\n",
       "      <td>0</td>\n",
       "      <td>0</td>\n",
       "      <td>0</td>\n",
       "      <td>0.0</td>\n",
       "      <td>0</td>\n",
       "      <td>0.0</td>\n",
       "    </tr>\n",
       "    <tr>\n",
       "      <th>3</th>\n",
       "      <td>2020v9</td>\n",
       "      <td>13</td>\n",
       "      <td>0</td>\n",
       "      <td>0</td>\n",
       "      <td>14</td>\n",
       "      <td>0</td>\n",
       "      <td>0</td>\n",
       "      <td>0</td>\n",
       "      <td>0</td>\n",
       "      <td>0.0</td>\n",
       "      <td>0</td>\n",
       "      <td>0.0</td>\n",
       "    </tr>\n",
       "    <tr>\n",
       "      <th>4</th>\n",
       "      <td>2020v10</td>\n",
       "      <td>211</td>\n",
       "      <td>2</td>\n",
       "      <td>2</td>\n",
       "      <td>225</td>\n",
       "      <td>2</td>\n",
       "      <td>3</td>\n",
       "      <td>3</td>\n",
       "      <td>0</td>\n",
       "      <td>0.0</td>\n",
       "      <td>0</td>\n",
       "      <td>0.0</td>\n",
       "    </tr>\n",
       "  </tbody>\n",
       "</table>\n",
       "</div>"
      ]
     },
     "metadata": {},
     "execution_count": 6
    }
   ],
   "metadata": {}
  },
  {
   "cell_type": "markdown",
   "source": [
    "### c) Plot number of deceased per week"
   ],
   "metadata": {}
  },
  {
   "cell_type": "code",
   "execution_count": 7,
   "source": [
    "#Check maximum values (to be able to set the ticks for the y-axis)\n",
    "print(f\"Max antal fall per vecka: {covid19['Antal_fall_vecka'].max()}\")\n",
    "print(f\"Max antal avlidna per vecka: {covid19['Antal_avlidna_vecka'].max()}\")\n",
    "print(f\"Max kumulativt antal fall per vecka: {covid19['Kum_antal_fall'].max()}\")"
   ],
   "outputs": [
    {
     "output_type": "stream",
     "name": "stdout",
     "text": [
      "Max antal fall per vecka: 46177\n",
      "Max antal avlidna per vecka: 664\n",
      "Max kumulativt antal fall per vecka: 1162506\n"
     ]
    }
   ],
   "metadata": {}
  },
  {
   "cell_type": "code",
   "execution_count": 8,
   "source": [
    "def set_plot_properties_seaborn(plot:sns.lineplot, title:str, y_label:str, y_tick_values:list) -> None:\n",
    "    '''\n",
    "    Sets the title, adjusts the ticks and changes the labels for the x and y-axis for a seaborn plot.\n",
    "    \n",
    "    Parameters\n",
    "    ----------\n",
    "    plot:sns.lineplot\n",
    "        A seaborn lineplot, with weeks between wk 6 2020 and wk 41 2021.\n",
    "    title:str\n",
    "        The title of the plot\n",
    "    y_label:str\n",
    "        The label of the y-axis.\n",
    "    y_tick_values:list\n",
    "        The tick values for the y-axis.\n",
    "    '''\n",
    "\n",
    "    plot.set_title(title, size=8)\n",
    "    plot.set_xticks([0, 22, 44, 66, 88])\n",
    "    plot.set_xticklabels([\"v.6 2020\", \" v.28 2020\", \"v.50 2020\", \"v.19 2021\", \"v.41 2021\"], size=5)\n",
    "    plot.set_yticks(y_tick_values)\n",
    "    plot.set_yticklabels(labels=plot.get_yticks().astype(int), size=5)\n",
    "    plot.set_xlabel(\"Vecka\", size=6)\n",
    "    plot.set_ylabel(y_label, size=6)\n",
    "    plot.grid()\n",
    "    \n",
    "#Creates the figure for the subplots\n",
    "fig, ax = plt.subplots(2,2, dpi=500, facecolor=\"white\")\n",
    "fig.subplots_adjust(wspace= .4, hspace=.6, top=.85) #Sets the space between plots and the space on top of the plot.\n",
    "fig.suptitle(\"Statistik för Covid-19 i Sverige\")\n",
    "\n",
    "#Plots the first subplot\n",
    "plot1 = sns.lineplot(data=covid19, x=\"Vecka\", y=\"Antal_avlidna_vecka\", ax=ax[0,0])\n",
    "set_plot_properties_seaborn(plot1,\"Antal avlidna per vecka\", \"Antal\", [0, 175, 350, 525, 700])\n",
    "\n",
    "#Plots the second subplot\n",
    "plot2 = sns.lineplot(data=covid19, x=\"Vecka\", y=\"Antal_fall_vecka\", ax=ax[0,1])\n",
    "set_plot_properties_seaborn(plot2, \"Antal nya fall per vecka\", \"Antal\", [0, 12500, 25000, 37500, 50000])\n",
    "\n",
    "#Plots the third subplot\n",
    "plot3 = sns.lineplot(data=covid19, x=\"Vecka\", y=\"Antal_fall_vecka\", ax=ax[1,0])\n",
    "plot3 = sns.lineplot(data=covid19, x=\"Vecka\", y=\"Antal_avlidna_vecka\", ax=ax[1,0])\n",
    "plot3.legend(labels=[\"Nya fall\", \"Avlidna\"], fontsize=4.5, loc=\"upper left\")\n",
    "set_plot_properties_seaborn(plot3, \"Antal avlidna och nya fall per vecka\", \"Antal\", [0, 12500, 25000, 37500, 50000])\n",
    "\n",
    "#Plots the forth subplot\n",
    "plot4 = sns.lineplot(data=covid19, x=\"Vecka\", y=\"Kum_antal_fall\", ax=ax[1,1])\n",
    "set_plot_properties_seaborn(plot4, \"Antal nya fall per vecka (kumulativt)\", \"Kumulativt antal\", [0, 300000, 600000, 900000, 1200000])\n",
    "\n",
    "plt.savefig(\"Visualiseringar/Statistics_for_Covid-19_in_Sweden.png\")"
   ],
   "outputs": [
    {
     "output_type": "display_data",
     "data": {
      "text/plain": [
       "<Figure size 3000x2000 with 4 Axes>"
      ],
      "image/svg+xml": "<?xml version=\"1.0\" encoding=\"utf-8\" standalone=\"no\"?>\n<!DOCTYPE svg PUBLIC \"-//W3C//DTD SVG 1.1//EN\"\n  \"http://www.w3.org/Graphics/SVG/1.1/DTD/svg11.dtd\">\n<svg height=\"282.285937pt\" version=\"1.1\" viewBox=\"0 0 387.990966 282.285937\" width=\"387.990966pt\" xmlns=\"http://www.w3.org/2000/svg\" xmlns:xlink=\"http://www.w3.org/1999/xlink\">\n <metadata>\n  <rdf:RDF xmlns:cc=\"http://creativecommons.org/ns#\" xmlns:dc=\"http://purl.org/dc/elements/1.1/\" xmlns:rdf=\"http://www.w3.org/1999/02/22-rdf-syntax-ns#\">\n   <cc:Work>\n    <dc:type rdf:resource=\"http://purl.org/dc/dcmitype/StillImage\"/>\n    <dc:date>2021-10-31T19:54:42.285109</dc:date>\n    <dc:format>image/svg+xml</dc:format>\n    <dc:creator>\n     <cc:Agent>\n      <dc:title>Matplotlib v3.4.3, https://matplotlib.org/</dc:title>\n     </cc:Agent>\n    </dc:creator>\n   </cc:Work>\n  </rdf:RDF>\n </metadata>\n <defs>\n  <style type=\"text/css\">*{stroke-linecap:butt;stroke-linejoin:round;}</style>\n </defs>\n <g id=\"figure_1\">\n  <g id=\"patch_1\">\n   <path d=\"M 0 282.285937 \nL 387.990966 282.285937 \nL 387.990966 0 \nL 0 0 \nz\n\" style=\"fill:#ffffff;\"/>\n  </g>\n  <g id=\"axes_1\">\n   <g id=\"patch_2\">\n    <path d=\"M 39.913125 124.947692 \nL 179.413125 124.947692 \nL 179.413125 44.64 \nL 39.913125 44.64 \nz\n\" style=\"fill:#ffffff;\"/>\n   </g>\n   <g id=\"matplotlib.axis_1\">\n    <g id=\"xtick_1\">\n     <g id=\"line2d_1\">\n      <path clip-path=\"url(#p2612d39d3a)\" d=\"M 46.254034 124.947692 \nL 46.254034 44.64 \n\" style=\"fill:none;stroke:#b0b0b0;stroke-linecap:square;stroke-width:0.8;\"/>\n     </g>\n     <g id=\"line2d_2\">\n      <defs>\n       <path d=\"M 0 0 \nL 0 3.5 \n\" id=\"m8b27407985\" style=\"stroke:#000000;stroke-width:0.8;\"/>\n      </defs>\n      <g>\n       <use style=\"stroke:#000000;stroke-width:0.8;\" x=\"46.254034\" xlink:href=\"#m8b27407985\" y=\"124.947692\"/>\n      </g>\n     </g>\n     <g id=\"text_1\">\n      <!-- v.6 2020 -->\n      <g transform=\"translate(35.425909 135.746911)scale(0.05 -0.05)\">\n       <defs>\n        <path d=\"M 191 3500 \nL 800 3500 \nL 1894 563 \nL 2988 3500 \nL 3597 3500 \nL 2284 0 \nL 1503 0 \nL 191 3500 \nz\n\" id=\"DejaVuSans-76\" transform=\"scale(0.015625)\"/>\n        <path d=\"M 684 794 \nL 1344 794 \nL 1344 0 \nL 684 0 \nL 684 794 \nz\n\" id=\"DejaVuSans-2e\" transform=\"scale(0.015625)\"/>\n        <path d=\"M 2113 2584 \nQ 1688 2584 1439 2293 \nQ 1191 2003 1191 1497 \nQ 1191 994 1439 701 \nQ 1688 409 2113 409 \nQ 2538 409 2786 701 \nQ 3034 994 3034 1497 \nQ 3034 2003 2786 2293 \nQ 2538 2584 2113 2584 \nz\nM 3366 4563 \nL 3366 3988 \nQ 3128 4100 2886 4159 \nQ 2644 4219 2406 4219 \nQ 1781 4219 1451 3797 \nQ 1122 3375 1075 2522 \nQ 1259 2794 1537 2939 \nQ 1816 3084 2150 3084 \nQ 2853 3084 3261 2657 \nQ 3669 2231 3669 1497 \nQ 3669 778 3244 343 \nQ 2819 -91 2113 -91 \nQ 1303 -91 875 529 \nQ 447 1150 447 2328 \nQ 447 3434 972 4092 \nQ 1497 4750 2381 4750 \nQ 2619 4750 2861 4703 \nQ 3103 4656 3366 4563 \nz\n\" id=\"DejaVuSans-36\" transform=\"scale(0.015625)\"/>\n        <path id=\"DejaVuSans-20\" transform=\"scale(0.015625)\"/>\n        <path d=\"M 1228 531 \nL 3431 531 \nL 3431 0 \nL 469 0 \nL 469 531 \nQ 828 903 1448 1529 \nQ 2069 2156 2228 2338 \nQ 2531 2678 2651 2914 \nQ 2772 3150 2772 3378 \nQ 2772 3750 2511 3984 \nQ 2250 4219 1831 4219 \nQ 1534 4219 1204 4116 \nQ 875 4013 500 3803 \nL 500 4441 \nQ 881 4594 1212 4672 \nQ 1544 4750 1819 4750 \nQ 2544 4750 2975 4387 \nQ 3406 4025 3406 3419 \nQ 3406 3131 3298 2873 \nQ 3191 2616 2906 2266 \nQ 2828 2175 2409 1742 \nQ 1991 1309 1228 531 \nz\n\" id=\"DejaVuSans-32\" transform=\"scale(0.015625)\"/>\n        <path d=\"M 2034 4250 \nQ 1547 4250 1301 3770 \nQ 1056 3291 1056 2328 \nQ 1056 1369 1301 889 \nQ 1547 409 2034 409 \nQ 2525 409 2770 889 \nQ 3016 1369 3016 2328 \nQ 3016 3291 2770 3770 \nQ 2525 4250 2034 4250 \nz\nM 2034 4750 \nQ 2819 4750 3233 4129 \nQ 3647 3509 3647 2328 \nQ 3647 1150 3233 529 \nQ 2819 -91 2034 -91 \nQ 1250 -91 836 529 \nQ 422 1150 422 2328 \nQ 422 3509 836 4129 \nQ 1250 4750 2034 4750 \nz\n\" id=\"DejaVuSans-30\" transform=\"scale(0.015625)\"/>\n       </defs>\n       <use xlink:href=\"#DejaVuSans-76\"/>\n       <use x=\"51.429688\" xlink:href=\"#DejaVuSans-2e\"/>\n       <use x=\"83.216797\" xlink:href=\"#DejaVuSans-36\"/>\n       <use x=\"146.839844\" xlink:href=\"#DejaVuSans-20\"/>\n       <use x=\"178.626953\" xlink:href=\"#DejaVuSans-32\"/>\n       <use x=\"242.25\" xlink:href=\"#DejaVuSans-30\"/>\n       <use x=\"305.873047\" xlink:href=\"#DejaVuSans-32\"/>\n       <use x=\"369.496094\" xlink:href=\"#DejaVuSans-30\"/>\n      </g>\n     </g>\n    </g>\n    <g id=\"xtick_2\">\n     <g id=\"line2d_3\">\n      <path clip-path=\"url(#p2612d39d3a)\" d=\"M 77.95858 124.947692 \nL 77.95858 44.64 \n\" style=\"fill:none;stroke:#b0b0b0;stroke-linecap:square;stroke-width:0.8;\"/>\n     </g>\n     <g id=\"line2d_4\">\n      <g>\n       <use style=\"stroke:#000000;stroke-width:0.8;\" x=\"77.95858\" xlink:href=\"#m8b27407985\" y=\"124.947692\"/>\n      </g>\n     </g>\n     <g id=\"text_2\">\n      <!--  v.28 2020 -->\n      <g transform=\"translate(64.745298 135.746911)scale(0.05 -0.05)\">\n       <defs>\n        <path d=\"M 2034 2216 \nQ 1584 2216 1326 1975 \nQ 1069 1734 1069 1313 \nQ 1069 891 1326 650 \nQ 1584 409 2034 409 \nQ 2484 409 2743 651 \nQ 3003 894 3003 1313 \nQ 3003 1734 2745 1975 \nQ 2488 2216 2034 2216 \nz\nM 1403 2484 \nQ 997 2584 770 2862 \nQ 544 3141 544 3541 \nQ 544 4100 942 4425 \nQ 1341 4750 2034 4750 \nQ 2731 4750 3128 4425 \nQ 3525 4100 3525 3541 \nQ 3525 3141 3298 2862 \nQ 3072 2584 2669 2484 \nQ 3125 2378 3379 2068 \nQ 3634 1759 3634 1313 \nQ 3634 634 3220 271 \nQ 2806 -91 2034 -91 \nQ 1263 -91 848 271 \nQ 434 634 434 1313 \nQ 434 1759 690 2068 \nQ 947 2378 1403 2484 \nz\nM 1172 3481 \nQ 1172 3119 1398 2916 \nQ 1625 2713 2034 2713 \nQ 2441 2713 2670 2916 \nQ 2900 3119 2900 3481 \nQ 2900 3844 2670 4047 \nQ 2441 4250 2034 4250 \nQ 1625 4250 1398 4047 \nQ 1172 3844 1172 3481 \nz\n\" id=\"DejaVuSans-38\" transform=\"scale(0.015625)\"/>\n       </defs>\n       <use xlink:href=\"#DejaVuSans-20\"/>\n       <use x=\"31.787109\" xlink:href=\"#DejaVuSans-76\"/>\n       <use x=\"83.216797\" xlink:href=\"#DejaVuSans-2e\"/>\n       <use x=\"115.003906\" xlink:href=\"#DejaVuSans-32\"/>\n       <use x=\"178.626953\" xlink:href=\"#DejaVuSans-38\"/>\n       <use x=\"242.25\" xlink:href=\"#DejaVuSans-20\"/>\n       <use x=\"274.037109\" xlink:href=\"#DejaVuSans-32\"/>\n       <use x=\"337.660156\" xlink:href=\"#DejaVuSans-30\"/>\n       <use x=\"401.283203\" xlink:href=\"#DejaVuSans-32\"/>\n       <use x=\"464.90625\" xlink:href=\"#DejaVuSans-30\"/>\n      </g>\n     </g>\n    </g>\n    <g id=\"xtick_3\">\n     <g id=\"line2d_5\">\n      <path clip-path=\"url(#p2612d39d3a)\" d=\"M 109.663125 124.947692 \nL 109.663125 44.64 \n\" style=\"fill:none;stroke:#b0b0b0;stroke-linecap:square;stroke-width:0.8;\"/>\n     </g>\n     <g id=\"line2d_6\">\n      <g>\n       <use style=\"stroke:#000000;stroke-width:0.8;\" x=\"109.663125\" xlink:href=\"#m8b27407985\" y=\"124.947692\"/>\n      </g>\n     </g>\n     <g id=\"text_3\">\n      <!-- v.50 2020 -->\n      <g transform=\"translate(97.244375 135.746911)scale(0.05 -0.05)\">\n       <defs>\n        <path d=\"M 691 4666 \nL 3169 4666 \nL 3169 4134 \nL 1269 4134 \nL 1269 2991 \nQ 1406 3038 1543 3061 \nQ 1681 3084 1819 3084 \nQ 2600 3084 3056 2656 \nQ 3513 2228 3513 1497 \nQ 3513 744 3044 326 \nQ 2575 -91 1722 -91 \nQ 1428 -91 1123 -41 \nQ 819 9 494 109 \nL 494 744 \nQ 775 591 1075 516 \nQ 1375 441 1709 441 \nQ 2250 441 2565 725 \nQ 2881 1009 2881 1497 \nQ 2881 1984 2565 2268 \nQ 2250 2553 1709 2553 \nQ 1456 2553 1204 2497 \nQ 953 2441 691 2322 \nL 691 4666 \nz\n\" id=\"DejaVuSans-35\" transform=\"scale(0.015625)\"/>\n       </defs>\n       <use xlink:href=\"#DejaVuSans-76\"/>\n       <use x=\"51.429688\" xlink:href=\"#DejaVuSans-2e\"/>\n       <use x=\"83.216797\" xlink:href=\"#DejaVuSans-35\"/>\n       <use x=\"146.839844\" xlink:href=\"#DejaVuSans-30\"/>\n       <use x=\"210.462891\" xlink:href=\"#DejaVuSans-20\"/>\n       <use x=\"242.25\" xlink:href=\"#DejaVuSans-32\"/>\n       <use x=\"305.873047\" xlink:href=\"#DejaVuSans-30\"/>\n       <use x=\"369.496094\" xlink:href=\"#DejaVuSans-32\"/>\n       <use x=\"433.119141\" xlink:href=\"#DejaVuSans-30\"/>\n      </g>\n     </g>\n    </g>\n    <g id=\"xtick_4\">\n     <g id=\"line2d_7\">\n      <path clip-path=\"url(#p2612d39d3a)\" d=\"M 141.36767 124.947692 \nL 141.36767 44.64 \n\" style=\"fill:none;stroke:#b0b0b0;stroke-linecap:square;stroke-width:0.8;\"/>\n     </g>\n     <g id=\"line2d_8\">\n      <g>\n       <use style=\"stroke:#000000;stroke-width:0.8;\" x=\"141.36767\" xlink:href=\"#m8b27407985\" y=\"124.947692\"/>\n      </g>\n     </g>\n     <g id=\"text_4\">\n      <!-- v.19 2021 -->\n      <g transform=\"translate(128.94892 135.746911)scale(0.05 -0.05)\">\n       <defs>\n        <path d=\"M 794 531 \nL 1825 531 \nL 1825 4091 \nL 703 3866 \nL 703 4441 \nL 1819 4666 \nL 2450 4666 \nL 2450 531 \nL 3481 531 \nL 3481 0 \nL 794 0 \nL 794 531 \nz\n\" id=\"DejaVuSans-31\" transform=\"scale(0.015625)\"/>\n        <path d=\"M 703 97 \nL 703 672 \nQ 941 559 1184 500 \nQ 1428 441 1663 441 \nQ 2288 441 2617 861 \nQ 2947 1281 2994 2138 \nQ 2813 1869 2534 1725 \nQ 2256 1581 1919 1581 \nQ 1219 1581 811 2004 \nQ 403 2428 403 3163 \nQ 403 3881 828 4315 \nQ 1253 4750 1959 4750 \nQ 2769 4750 3195 4129 \nQ 3622 3509 3622 2328 \nQ 3622 1225 3098 567 \nQ 2575 -91 1691 -91 \nQ 1453 -91 1209 -44 \nQ 966 3 703 97 \nz\nM 1959 2075 \nQ 2384 2075 2632 2365 \nQ 2881 2656 2881 3163 \nQ 2881 3666 2632 3958 \nQ 2384 4250 1959 4250 \nQ 1534 4250 1286 3958 \nQ 1038 3666 1038 3163 \nQ 1038 2656 1286 2365 \nQ 1534 2075 1959 2075 \nz\n\" id=\"DejaVuSans-39\" transform=\"scale(0.015625)\"/>\n       </defs>\n       <use xlink:href=\"#DejaVuSans-76\"/>\n       <use x=\"51.429688\" xlink:href=\"#DejaVuSans-2e\"/>\n       <use x=\"83.216797\" xlink:href=\"#DejaVuSans-31\"/>\n       <use x=\"146.839844\" xlink:href=\"#DejaVuSans-39\"/>\n       <use x=\"210.462891\" xlink:href=\"#DejaVuSans-20\"/>\n       <use x=\"242.25\" xlink:href=\"#DejaVuSans-32\"/>\n       <use x=\"305.873047\" xlink:href=\"#DejaVuSans-30\"/>\n       <use x=\"369.496094\" xlink:href=\"#DejaVuSans-32\"/>\n       <use x=\"433.119141\" xlink:href=\"#DejaVuSans-31\"/>\n      </g>\n     </g>\n    </g>\n    <g id=\"xtick_5\">\n     <g id=\"line2d_9\">\n      <path clip-path=\"url(#p2612d39d3a)\" d=\"M 173.072216 124.947692 \nL 173.072216 44.64 \n\" style=\"fill:none;stroke:#b0b0b0;stroke-linecap:square;stroke-width:0.8;\"/>\n     </g>\n     <g id=\"line2d_10\">\n      <g>\n       <use style=\"stroke:#000000;stroke-width:0.8;\" x=\"173.072216\" xlink:href=\"#m8b27407985\" y=\"124.947692\"/>\n      </g>\n     </g>\n     <g id=\"text_5\">\n      <!-- v.41 2021 -->\n      <g transform=\"translate(160.653466 135.746911)scale(0.05 -0.05)\">\n       <defs>\n        <path d=\"M 2419 4116 \nL 825 1625 \nL 2419 1625 \nL 2419 4116 \nz\nM 2253 4666 \nL 3047 4666 \nL 3047 1625 \nL 3713 1625 \nL 3713 1100 \nL 3047 1100 \nL 3047 0 \nL 2419 0 \nL 2419 1100 \nL 313 1100 \nL 313 1709 \nL 2253 4666 \nz\n\" id=\"DejaVuSans-34\" transform=\"scale(0.015625)\"/>\n       </defs>\n       <use xlink:href=\"#DejaVuSans-76\"/>\n       <use x=\"51.429688\" xlink:href=\"#DejaVuSans-2e\"/>\n       <use x=\"83.216797\" xlink:href=\"#DejaVuSans-34\"/>\n       <use x=\"146.839844\" xlink:href=\"#DejaVuSans-31\"/>\n       <use x=\"210.462891\" xlink:href=\"#DejaVuSans-20\"/>\n       <use x=\"242.25\" xlink:href=\"#DejaVuSans-32\"/>\n       <use x=\"305.873047\" xlink:href=\"#DejaVuSans-30\"/>\n       <use x=\"369.496094\" xlink:href=\"#DejaVuSans-32\"/>\n       <use x=\"433.119141\" xlink:href=\"#DejaVuSans-31\"/>\n      </g>\n     </g>\n    </g>\n    <g id=\"text_6\">\n     <!-- Vecka -->\n     <g transform=\"translate(100.824844 145.345817)scale(0.06 -0.06)\">\n      <defs>\n       <path d=\"M 1831 0 \nL 50 4666 \nL 709 4666 \nL 2188 738 \nL 3669 4666 \nL 4325 4666 \nL 2547 0 \nL 1831 0 \nz\n\" id=\"DejaVuSans-56\" transform=\"scale(0.015625)\"/>\n       <path d=\"M 3597 1894 \nL 3597 1613 \nL 953 1613 \nQ 991 1019 1311 708 \nQ 1631 397 2203 397 \nQ 2534 397 2845 478 \nQ 3156 559 3463 722 \nL 3463 178 \nQ 3153 47 2828 -22 \nQ 2503 -91 2169 -91 \nQ 1331 -91 842 396 \nQ 353 884 353 1716 \nQ 353 2575 817 3079 \nQ 1281 3584 2069 3584 \nQ 2775 3584 3186 3129 \nQ 3597 2675 3597 1894 \nz\nM 3022 2063 \nQ 3016 2534 2758 2815 \nQ 2500 3097 2075 3097 \nQ 1594 3097 1305 2825 \nQ 1016 2553 972 2059 \nL 3022 2063 \nz\n\" id=\"DejaVuSans-65\" transform=\"scale(0.015625)\"/>\n       <path d=\"M 3122 3366 \nL 3122 2828 \nQ 2878 2963 2633 3030 \nQ 2388 3097 2138 3097 \nQ 1578 3097 1268 2742 \nQ 959 2388 959 1747 \nQ 959 1106 1268 751 \nQ 1578 397 2138 397 \nQ 2388 397 2633 464 \nQ 2878 531 3122 666 \nL 3122 134 \nQ 2881 22 2623 -34 \nQ 2366 -91 2075 -91 \nQ 1284 -91 818 406 \nQ 353 903 353 1747 \nQ 353 2603 823 3093 \nQ 1294 3584 2113 3584 \nQ 2378 3584 2631 3529 \nQ 2884 3475 3122 3366 \nz\n\" id=\"DejaVuSans-63\" transform=\"scale(0.015625)\"/>\n       <path d=\"M 581 4863 \nL 1159 4863 \nL 1159 1991 \nL 2875 3500 \nL 3609 3500 \nL 1753 1863 \nL 3688 0 \nL 2938 0 \nL 1159 1709 \nL 1159 0 \nL 581 0 \nL 581 4863 \nz\n\" id=\"DejaVuSans-6b\" transform=\"scale(0.015625)\"/>\n       <path d=\"M 2194 1759 \nQ 1497 1759 1228 1600 \nQ 959 1441 959 1056 \nQ 959 750 1161 570 \nQ 1363 391 1709 391 \nQ 2188 391 2477 730 \nQ 2766 1069 2766 1631 \nL 2766 1759 \nL 2194 1759 \nz\nM 3341 1997 \nL 3341 0 \nL 2766 0 \nL 2766 531 \nQ 2569 213 2275 61 \nQ 1981 -91 1556 -91 \nQ 1019 -91 701 211 \nQ 384 513 384 1019 \nQ 384 1609 779 1909 \nQ 1175 2209 1959 2209 \nL 2766 2209 \nL 2766 2266 \nQ 2766 2663 2505 2880 \nQ 2244 3097 1772 3097 \nQ 1472 3097 1187 3025 \nQ 903 2953 641 2809 \nL 641 3341 \nQ 956 3463 1253 3523 \nQ 1550 3584 1831 3584 \nQ 2591 3584 2966 3190 \nQ 3341 2797 3341 1997 \nz\n\" id=\"DejaVuSans-61\" transform=\"scale(0.015625)\"/>\n      </defs>\n      <use xlink:href=\"#DejaVuSans-56\"/>\n      <use x=\"60.658203\" xlink:href=\"#DejaVuSans-65\"/>\n      <use x=\"122.181641\" xlink:href=\"#DejaVuSans-63\"/>\n      <use x=\"177.162109\" xlink:href=\"#DejaVuSans-6b\"/>\n      <use x=\"233.322266\" xlink:href=\"#DejaVuSans-61\"/>\n     </g>\n    </g>\n   </g>\n   <g id=\"matplotlib.axis_2\">\n    <g id=\"ytick_1\">\n     <g id=\"line2d_11\">\n      <path clip-path=\"url(#p2612d39d3a)\" d=\"M 39.913125 121.311283 \nL 179.413125 121.311283 \n\" style=\"fill:none;stroke:#b0b0b0;stroke-linecap:square;stroke-width:0.8;\"/>\n     </g>\n     <g id=\"line2d_12\">\n      <defs>\n       <path d=\"M 0 0 \nL -3.5 0 \n\" id=\"me693e56884\" style=\"stroke:#000000;stroke-width:0.8;\"/>\n      </defs>\n      <g>\n       <use style=\"stroke:#000000;stroke-width:0.8;\" x=\"39.913125\" xlink:href=\"#me693e56884\" y=\"121.311283\"/>\n      </g>\n     </g>\n     <g id=\"text_7\">\n      <!-- 0 -->\n      <g transform=\"translate(29.731875 123.210892)scale(0.05 -0.05)\">\n       <use xlink:href=\"#DejaVuSans-30\"/>\n      </g>\n     </g>\n    </g>\n    <g id=\"ytick_2\">\n     <g id=\"line2d_13\">\n      <path clip-path=\"url(#p2612d39d3a)\" d=\"M 39.913125 102.143462 \nL 179.413125 102.143462 \n\" style=\"fill:none;stroke:#b0b0b0;stroke-linecap:square;stroke-width:0.8;\"/>\n     </g>\n     <g id=\"line2d_14\">\n      <g>\n       <use style=\"stroke:#000000;stroke-width:0.8;\" x=\"39.913125\" xlink:href=\"#me693e56884\" y=\"102.143462\"/>\n      </g>\n     </g>\n     <g id=\"text_8\">\n      <!-- 175 -->\n      <g transform=\"translate(23.369375 104.043072)scale(0.05 -0.05)\">\n       <defs>\n        <path d=\"M 525 4666 \nL 3525 4666 \nL 3525 4397 \nL 1831 0 \nL 1172 0 \nL 2766 4134 \nL 525 4134 \nL 525 4666 \nz\n\" id=\"DejaVuSans-37\" transform=\"scale(0.015625)\"/>\n       </defs>\n       <use xlink:href=\"#DejaVuSans-31\"/>\n       <use x=\"63.623047\" xlink:href=\"#DejaVuSans-37\"/>\n       <use x=\"127.246094\" xlink:href=\"#DejaVuSans-35\"/>\n      </g>\n     </g>\n    </g>\n    <g id=\"ytick_3\">\n     <g id=\"line2d_15\">\n      <path clip-path=\"url(#p2612d39d3a)\" d=\"M 39.913125 82.975641 \nL 179.413125 82.975641 \n\" style=\"fill:none;stroke:#b0b0b0;stroke-linecap:square;stroke-width:0.8;\"/>\n     </g>\n     <g id=\"line2d_16\">\n      <g>\n       <use style=\"stroke:#000000;stroke-width:0.8;\" x=\"39.913125\" xlink:href=\"#me693e56884\" y=\"82.975641\"/>\n      </g>\n     </g>\n     <g id=\"text_9\">\n      <!-- 350 -->\n      <g transform=\"translate(23.369375 84.875251)scale(0.05 -0.05)\">\n       <defs>\n        <path d=\"M 2597 2516 \nQ 3050 2419 3304 2112 \nQ 3559 1806 3559 1356 \nQ 3559 666 3084 287 \nQ 2609 -91 1734 -91 \nQ 1441 -91 1130 -33 \nQ 819 25 488 141 \nL 488 750 \nQ 750 597 1062 519 \nQ 1375 441 1716 441 \nQ 2309 441 2620 675 \nQ 2931 909 2931 1356 \nQ 2931 1769 2642 2001 \nQ 2353 2234 1838 2234 \nL 1294 2234 \nL 1294 2753 \nL 1863 2753 \nQ 2328 2753 2575 2939 \nQ 2822 3125 2822 3475 \nQ 2822 3834 2567 4026 \nQ 2313 4219 1838 4219 \nQ 1578 4219 1281 4162 \nQ 984 4106 628 3988 \nL 628 4550 \nQ 988 4650 1302 4700 \nQ 1616 4750 1894 4750 \nQ 2613 4750 3031 4423 \nQ 3450 4097 3450 3541 \nQ 3450 3153 3228 2886 \nQ 3006 2619 2597 2516 \nz\n\" id=\"DejaVuSans-33\" transform=\"scale(0.015625)\"/>\n       </defs>\n       <use xlink:href=\"#DejaVuSans-33\"/>\n       <use x=\"63.623047\" xlink:href=\"#DejaVuSans-35\"/>\n       <use x=\"127.246094\" xlink:href=\"#DejaVuSans-30\"/>\n      </g>\n     </g>\n    </g>\n    <g id=\"ytick_4\">\n     <g id=\"line2d_17\">\n      <path clip-path=\"url(#p2612d39d3a)\" d=\"M 39.913125 63.807821 \nL 179.413125 63.807821 \n\" style=\"fill:none;stroke:#b0b0b0;stroke-linecap:square;stroke-width:0.8;\"/>\n     </g>\n     <g id=\"line2d_18\">\n      <g>\n       <use style=\"stroke:#000000;stroke-width:0.8;\" x=\"39.913125\" xlink:href=\"#me693e56884\" y=\"63.807821\"/>\n      </g>\n     </g>\n     <g id=\"text_10\">\n      <!-- 525 -->\n      <g transform=\"translate(23.369375 65.70743)scale(0.05 -0.05)\">\n       <use xlink:href=\"#DejaVuSans-35\"/>\n       <use x=\"63.623047\" xlink:href=\"#DejaVuSans-32\"/>\n       <use x=\"127.246094\" xlink:href=\"#DejaVuSans-35\"/>\n      </g>\n     </g>\n    </g>\n    <g id=\"ytick_5\">\n     <g id=\"line2d_19\">\n      <path clip-path=\"url(#p2612d39d3a)\" d=\"M 39.913125 44.64 \nL 179.413125 44.64 \n\" style=\"fill:none;stroke:#b0b0b0;stroke-linecap:square;stroke-width:0.8;\"/>\n     </g>\n     <g id=\"line2d_20\">\n      <g>\n       <use style=\"stroke:#000000;stroke-width:0.8;\" x=\"39.913125\" xlink:href=\"#me693e56884\" y=\"44.64\"/>\n      </g>\n     </g>\n     <g id=\"text_11\">\n      <!-- 700 -->\n      <g transform=\"translate(23.369375 46.539609)scale(0.05 -0.05)\">\n       <use xlink:href=\"#DejaVuSans-37\"/>\n       <use x=\"63.623047\" xlink:href=\"#DejaVuSans-30\"/>\n       <use x=\"127.246094\" xlink:href=\"#DejaVuSans-30\"/>\n      </g>\n     </g>\n    </g>\n    <g id=\"text_12\">\n     <!-- Antal -->\n     <g transform=\"translate(18.121563 92.595252)rotate(-90)scale(0.06 -0.06)\">\n      <defs>\n       <path d=\"M 2188 4044 \nL 1331 1722 \nL 3047 1722 \nL 2188 4044 \nz\nM 1831 4666 \nL 2547 4666 \nL 4325 0 \nL 3669 0 \nL 3244 1197 \nL 1141 1197 \nL 716 0 \nL 50 0 \nL 1831 4666 \nz\n\" id=\"DejaVuSans-41\" transform=\"scale(0.015625)\"/>\n       <path d=\"M 3513 2113 \nL 3513 0 \nL 2938 0 \nL 2938 2094 \nQ 2938 2591 2744 2837 \nQ 2550 3084 2163 3084 \nQ 1697 3084 1428 2787 \nQ 1159 2491 1159 1978 \nL 1159 0 \nL 581 0 \nL 581 3500 \nL 1159 3500 \nL 1159 2956 \nQ 1366 3272 1645 3428 \nQ 1925 3584 2291 3584 \nQ 2894 3584 3203 3211 \nQ 3513 2838 3513 2113 \nz\n\" id=\"DejaVuSans-6e\" transform=\"scale(0.015625)\"/>\n       <path d=\"M 1172 4494 \nL 1172 3500 \nL 2356 3500 \nL 2356 3053 \nL 1172 3053 \nL 1172 1153 \nQ 1172 725 1289 603 \nQ 1406 481 1766 481 \nL 2356 481 \nL 2356 0 \nL 1766 0 \nQ 1100 0 847 248 \nQ 594 497 594 1153 \nL 594 3053 \nL 172 3053 \nL 172 3500 \nL 594 3500 \nL 594 4494 \nL 1172 4494 \nz\n\" id=\"DejaVuSans-74\" transform=\"scale(0.015625)\"/>\n       <path d=\"M 603 4863 \nL 1178 4863 \nL 1178 0 \nL 603 0 \nL 603 4863 \nz\n\" id=\"DejaVuSans-6c\" transform=\"scale(0.015625)\"/>\n      </defs>\n      <use xlink:href=\"#DejaVuSans-41\"/>\n      <use x=\"68.408203\" xlink:href=\"#DejaVuSans-6e\"/>\n      <use x=\"131.787109\" xlink:href=\"#DejaVuSans-74\"/>\n      <use x=\"170.996094\" xlink:href=\"#DejaVuSans-61\"/>\n      <use x=\"232.275391\" xlink:href=\"#DejaVuSans-6c\"/>\n     </g>\n    </g>\n   </g>\n   <g id=\"line2d_21\">\n    <path clip-path=\"url(#p2612d39d3a)\" d=\"M 46.254034 121.311283 \nL 47.69515 121.311283 \nL 49.136265 121.311283 \nL 50.577381 121.311283 \nL 52.018497 121.311283 \nL 53.459613 120.763631 \nL 54.900728 116.491945 \nL 56.341844 100.500506 \nL 57.78296 71.913071 \nL 59.224075 48.583095 \nL 60.665191 49.349807 \nL 62.106307 61.507682 \nL 63.547423 61.836273 \nL 64.988538 65.560307 \nL 66.429654 79.689729 \nL 67.87077 81.880337 \nL 69.311885 91.519013 \nL 70.753001 94.366803 \nL 72.194117 95.681168 \nL 73.635232 99.405202 \nL 75.076348 106.196087 \nL 76.517464 110.577303 \nL 77.95858 112.110729 \nL 79.399695 115.06805 \nL 80.840811 118.025371 \nL 82.281927 119.339736 \nL 83.723042 119.339736 \nL 85.164158 119.558796 \nL 86.605274 119.230205 \nL 88.046389 120.215979 \nL 89.487505 119.996918 \nL 90.928621 119.887388 \nL 92.369737 119.996918 \nL 93.810852 120.106448 \nL 95.251968 119.449266 \nL 96.693084 118.901614 \nL 98.134199 119.558796 \nL 99.575315 116.601476 \nL 101.016431 112.32979 \nL 102.457546 104.115009 \nL 103.898662 95.571638 \nL 105.339778 84.947189 \nL 106.780894 75.637104 \nL 108.222009 69.174811 \nL 109.663125 66.43655 \nL 111.104241 50.664172 \nL 112.545356 50.883233 \nL 113.986472 48.692625 \nL 115.427588 50.773703 \nL 116.868704 55.812101 \nL 118.309819 65.122186 \nL 119.750935 78.703956 \nL 121.192051 91.847604 \nL 122.633166 98.85755 \nL 124.074282 102.581584 \nL 125.515398 105.319844 \nL 126.956513 107.291391 \nL 128.397629 105.977026 \nL 129.838745 107.400922 \nL 131.279861 107.619982 \nL 132.720976 105.867496 \nL 134.162092 106.743739 \nL 135.603208 105.977026 \nL 137.044323 106.9628 \nL 138.485439 108.824817 \nL 139.926555 109.81059 \nL 141.36767 109.153408 \nL 142.808786 113.753685 \nL 144.249902 116.163354 \nL 145.691018 117.039597 \nL 147.132133 118.901614 \nL 148.573249 119.449266 \nL 150.014365 120.325509 \nL 151.45548 120.43504 \nL 152.896596 120.982692 \nL 154.337712 121.092222 \nL 155.778827 120.982692 \nL 157.219943 120.982692 \nL 158.661059 120.54457 \nL 160.102175 120.6541 \nL 161.54329 120.325509 \nL 162.984406 119.120675 \nL 164.425522 118.463492 \nL 165.866637 115.944293 \nL 167.307753 115.615702 \nL 168.748869 116.930067 \nL 170.189985 117.258658 \nL 171.6311 116.711006 \nL 173.072216 119.339736 \n\" style=\"fill:none;stroke:#1f77b4;stroke-linecap:square;stroke-width:1.5;\"/>\n   </g>\n   <g id=\"patch_3\">\n    <path d=\"M 39.913125 124.947692 \nL 39.913125 44.64 \n\" style=\"fill:none;stroke:#000000;stroke-linecap:square;stroke-linejoin:miter;stroke-width:0.8;\"/>\n   </g>\n   <g id=\"patch_4\">\n    <path d=\"M 179.413125 124.947692 \nL 179.413125 44.64 \n\" style=\"fill:none;stroke:#000000;stroke-linecap:square;stroke-linejoin:miter;stroke-width:0.8;\"/>\n   </g>\n   <g id=\"patch_5\">\n    <path d=\"M 39.913125 124.947692 \nL 179.413125 124.947692 \n\" style=\"fill:none;stroke:#000000;stroke-linecap:square;stroke-linejoin:miter;stroke-width:0.8;\"/>\n   </g>\n   <g id=\"patch_6\">\n    <path d=\"M 39.913125 44.64 \nL 179.413125 44.64 \n\" style=\"fill:none;stroke:#000000;stroke-linecap:square;stroke-linejoin:miter;stroke-width:0.8;\"/>\n   </g>\n   <g id=\"text_13\">\n    <!-- Antal avlidna per vecka -->\n    <g transform=\"translate(62.51 38.64)scale(0.08 -0.08)\">\n     <defs>\n      <path d=\"M 603 3500 \nL 1178 3500 \nL 1178 0 \nL 603 0 \nL 603 3500 \nz\nM 603 4863 \nL 1178 4863 \nL 1178 4134 \nL 603 4134 \nL 603 4863 \nz\n\" id=\"DejaVuSans-69\" transform=\"scale(0.015625)\"/>\n      <path d=\"M 2906 2969 \nL 2906 4863 \nL 3481 4863 \nL 3481 0 \nL 2906 0 \nL 2906 525 \nQ 2725 213 2448 61 \nQ 2172 -91 1784 -91 \nQ 1150 -91 751 415 \nQ 353 922 353 1747 \nQ 353 2572 751 3078 \nQ 1150 3584 1784 3584 \nQ 2172 3584 2448 3432 \nQ 2725 3281 2906 2969 \nz\nM 947 1747 \nQ 947 1113 1208 752 \nQ 1469 391 1925 391 \nQ 2381 391 2643 752 \nQ 2906 1113 2906 1747 \nQ 2906 2381 2643 2742 \nQ 2381 3103 1925 3103 \nQ 1469 3103 1208 2742 \nQ 947 2381 947 1747 \nz\n\" id=\"DejaVuSans-64\" transform=\"scale(0.015625)\"/>\n      <path d=\"M 1159 525 \nL 1159 -1331 \nL 581 -1331 \nL 581 3500 \nL 1159 3500 \nL 1159 2969 \nQ 1341 3281 1617 3432 \nQ 1894 3584 2278 3584 \nQ 2916 3584 3314 3078 \nQ 3713 2572 3713 1747 \nQ 3713 922 3314 415 \nQ 2916 -91 2278 -91 \nQ 1894 -91 1617 61 \nQ 1341 213 1159 525 \nz\nM 3116 1747 \nQ 3116 2381 2855 2742 \nQ 2594 3103 2138 3103 \nQ 1681 3103 1420 2742 \nQ 1159 2381 1159 1747 \nQ 1159 1113 1420 752 \nQ 1681 391 2138 391 \nQ 2594 391 2855 752 \nQ 3116 1113 3116 1747 \nz\n\" id=\"DejaVuSans-70\" transform=\"scale(0.015625)\"/>\n      <path d=\"M 2631 2963 \nQ 2534 3019 2420 3045 \nQ 2306 3072 2169 3072 \nQ 1681 3072 1420 2755 \nQ 1159 2438 1159 1844 \nL 1159 0 \nL 581 0 \nL 581 3500 \nL 1159 3500 \nL 1159 2956 \nQ 1341 3275 1631 3429 \nQ 1922 3584 2338 3584 \nQ 2397 3584 2469 3576 \nQ 2541 3569 2628 3553 \nL 2631 2963 \nz\n\" id=\"DejaVuSans-72\" transform=\"scale(0.015625)\"/>\n     </defs>\n     <use xlink:href=\"#DejaVuSans-41\"/>\n     <use x=\"68.408203\" xlink:href=\"#DejaVuSans-6e\"/>\n     <use x=\"131.787109\" xlink:href=\"#DejaVuSans-74\"/>\n     <use x=\"170.996094\" xlink:href=\"#DejaVuSans-61\"/>\n     <use x=\"232.275391\" xlink:href=\"#DejaVuSans-6c\"/>\n     <use x=\"260.058594\" xlink:href=\"#DejaVuSans-20\"/>\n     <use x=\"291.845703\" xlink:href=\"#DejaVuSans-61\"/>\n     <use x=\"353.125\" xlink:href=\"#DejaVuSans-76\"/>\n     <use x=\"412.304688\" xlink:href=\"#DejaVuSans-6c\"/>\n     <use x=\"440.087891\" xlink:href=\"#DejaVuSans-69\"/>\n     <use x=\"467.871094\" xlink:href=\"#DejaVuSans-64\"/>\n     <use x=\"531.347656\" xlink:href=\"#DejaVuSans-6e\"/>\n     <use x=\"594.726562\" xlink:href=\"#DejaVuSans-61\"/>\n     <use x=\"656.005859\" xlink:href=\"#DejaVuSans-20\"/>\n     <use x=\"687.792969\" xlink:href=\"#DejaVuSans-70\"/>\n     <use x=\"751.269531\" xlink:href=\"#DejaVuSans-65\"/>\n     <use x=\"812.792969\" xlink:href=\"#DejaVuSans-72\"/>\n     <use x=\"853.90625\" xlink:href=\"#DejaVuSans-20\"/>\n     <use x=\"885.693359\" xlink:href=\"#DejaVuSans-76\"/>\n     <use x=\"944.873047\" xlink:href=\"#DejaVuSans-65\"/>\n     <use x=\"1006.396484\" xlink:href=\"#DejaVuSans-63\"/>\n     <use x=\"1061.376953\" xlink:href=\"#DejaVuSans-6b\"/>\n     <use x=\"1117.537109\" xlink:href=\"#DejaVuSans-61\"/>\n    </g>\n   </g>\n  </g>\n  <g id=\"axes_2\">\n   <g id=\"patch_7\">\n    <path d=\"M 235.213125 124.947692 \nL 374.713125 124.947692 \nL 374.713125 44.64 \nL 235.213125 44.64 \nz\n\" style=\"fill:#ffffff;\"/>\n   </g>\n   <g id=\"matplotlib.axis_3\">\n    <g id=\"xtick_6\">\n     <g id=\"line2d_22\">\n      <path clip-path=\"url(#p8d5fe97294)\" d=\"M 241.554034 124.947692 \nL 241.554034 44.64 \n\" style=\"fill:none;stroke:#b0b0b0;stroke-linecap:square;stroke-width:0.8;\"/>\n     </g>\n     <g id=\"line2d_23\">\n      <g>\n       <use style=\"stroke:#000000;stroke-width:0.8;\" x=\"241.554034\" xlink:href=\"#m8b27407985\" y=\"124.947692\"/>\n      </g>\n     </g>\n     <g id=\"text_14\">\n      <!-- v.6 2020 -->\n      <g transform=\"translate(230.725909 135.746911)scale(0.05 -0.05)\">\n       <use xlink:href=\"#DejaVuSans-76\"/>\n       <use x=\"51.429688\" xlink:href=\"#DejaVuSans-2e\"/>\n       <use x=\"83.216797\" xlink:href=\"#DejaVuSans-36\"/>\n       <use x=\"146.839844\" xlink:href=\"#DejaVuSans-20\"/>\n       <use x=\"178.626953\" xlink:href=\"#DejaVuSans-32\"/>\n       <use x=\"242.25\" xlink:href=\"#DejaVuSans-30\"/>\n       <use x=\"305.873047\" xlink:href=\"#DejaVuSans-32\"/>\n       <use x=\"369.496094\" xlink:href=\"#DejaVuSans-30\"/>\n      </g>\n     </g>\n    </g>\n    <g id=\"xtick_7\">\n     <g id=\"line2d_24\">\n      <path clip-path=\"url(#p8d5fe97294)\" d=\"M 273.25858 124.947692 \nL 273.25858 44.64 \n\" style=\"fill:none;stroke:#b0b0b0;stroke-linecap:square;stroke-width:0.8;\"/>\n     </g>\n     <g id=\"line2d_25\">\n      <g>\n       <use style=\"stroke:#000000;stroke-width:0.8;\" x=\"273.25858\" xlink:href=\"#m8b27407985\" y=\"124.947692\"/>\n      </g>\n     </g>\n     <g id=\"text_15\">\n      <!--  v.28 2020 -->\n      <g transform=\"translate(260.045298 135.746911)scale(0.05 -0.05)\">\n       <use xlink:href=\"#DejaVuSans-20\"/>\n       <use x=\"31.787109\" xlink:href=\"#DejaVuSans-76\"/>\n       <use x=\"83.216797\" xlink:href=\"#DejaVuSans-2e\"/>\n       <use x=\"115.003906\" xlink:href=\"#DejaVuSans-32\"/>\n       <use x=\"178.626953\" xlink:href=\"#DejaVuSans-38\"/>\n       <use x=\"242.25\" xlink:href=\"#DejaVuSans-20\"/>\n       <use x=\"274.037109\" xlink:href=\"#DejaVuSans-32\"/>\n       <use x=\"337.660156\" xlink:href=\"#DejaVuSans-30\"/>\n       <use x=\"401.283203\" xlink:href=\"#DejaVuSans-32\"/>\n       <use x=\"464.90625\" xlink:href=\"#DejaVuSans-30\"/>\n      </g>\n     </g>\n    </g>\n    <g id=\"xtick_8\">\n     <g id=\"line2d_26\">\n      <path clip-path=\"url(#p8d5fe97294)\" d=\"M 304.963125 124.947692 \nL 304.963125 44.64 \n\" style=\"fill:none;stroke:#b0b0b0;stroke-linecap:square;stroke-width:0.8;\"/>\n     </g>\n     <g id=\"line2d_27\">\n      <g>\n       <use style=\"stroke:#000000;stroke-width:0.8;\" x=\"304.963125\" xlink:href=\"#m8b27407985\" y=\"124.947692\"/>\n      </g>\n     </g>\n     <g id=\"text_16\">\n      <!-- v.50 2020 -->\n      <g transform=\"translate(292.544375 135.746911)scale(0.05 -0.05)\">\n       <use xlink:href=\"#DejaVuSans-76\"/>\n       <use x=\"51.429688\" xlink:href=\"#DejaVuSans-2e\"/>\n       <use x=\"83.216797\" xlink:href=\"#DejaVuSans-35\"/>\n       <use x=\"146.839844\" xlink:href=\"#DejaVuSans-30\"/>\n       <use x=\"210.462891\" xlink:href=\"#DejaVuSans-20\"/>\n       <use x=\"242.25\" xlink:href=\"#DejaVuSans-32\"/>\n       <use x=\"305.873047\" xlink:href=\"#DejaVuSans-30\"/>\n       <use x=\"369.496094\" xlink:href=\"#DejaVuSans-32\"/>\n       <use x=\"433.119141\" xlink:href=\"#DejaVuSans-30\"/>\n      </g>\n     </g>\n    </g>\n    <g id=\"xtick_9\">\n     <g id=\"line2d_28\">\n      <path clip-path=\"url(#p8d5fe97294)\" d=\"M 336.66767 124.947692 \nL 336.66767 44.64 \n\" style=\"fill:none;stroke:#b0b0b0;stroke-linecap:square;stroke-width:0.8;\"/>\n     </g>\n     <g id=\"line2d_29\">\n      <g>\n       <use style=\"stroke:#000000;stroke-width:0.8;\" x=\"336.66767\" xlink:href=\"#m8b27407985\" y=\"124.947692\"/>\n      </g>\n     </g>\n     <g id=\"text_17\">\n      <!-- v.19 2021 -->\n      <g transform=\"translate(324.24892 135.746911)scale(0.05 -0.05)\">\n       <use xlink:href=\"#DejaVuSans-76\"/>\n       <use x=\"51.429688\" xlink:href=\"#DejaVuSans-2e\"/>\n       <use x=\"83.216797\" xlink:href=\"#DejaVuSans-31\"/>\n       <use x=\"146.839844\" xlink:href=\"#DejaVuSans-39\"/>\n       <use x=\"210.462891\" xlink:href=\"#DejaVuSans-20\"/>\n       <use x=\"242.25\" xlink:href=\"#DejaVuSans-32\"/>\n       <use x=\"305.873047\" xlink:href=\"#DejaVuSans-30\"/>\n       <use x=\"369.496094\" xlink:href=\"#DejaVuSans-32\"/>\n       <use x=\"433.119141\" xlink:href=\"#DejaVuSans-31\"/>\n      </g>\n     </g>\n    </g>\n    <g id=\"xtick_10\">\n     <g id=\"line2d_30\">\n      <path clip-path=\"url(#p8d5fe97294)\" d=\"M 368.372216 124.947692 \nL 368.372216 44.64 \n\" style=\"fill:none;stroke:#b0b0b0;stroke-linecap:square;stroke-width:0.8;\"/>\n     </g>\n     <g id=\"line2d_31\">\n      <g>\n       <use style=\"stroke:#000000;stroke-width:0.8;\" x=\"368.372216\" xlink:href=\"#m8b27407985\" y=\"124.947692\"/>\n      </g>\n     </g>\n     <g id=\"text_18\">\n      <!-- v.41 2021 -->\n      <g transform=\"translate(355.953466 135.746911)scale(0.05 -0.05)\">\n       <use xlink:href=\"#DejaVuSans-76\"/>\n       <use x=\"51.429688\" xlink:href=\"#DejaVuSans-2e\"/>\n       <use x=\"83.216797\" xlink:href=\"#DejaVuSans-34\"/>\n       <use x=\"146.839844\" xlink:href=\"#DejaVuSans-31\"/>\n       <use x=\"210.462891\" xlink:href=\"#DejaVuSans-20\"/>\n       <use x=\"242.25\" xlink:href=\"#DejaVuSans-32\"/>\n       <use x=\"305.873047\" xlink:href=\"#DejaVuSans-30\"/>\n       <use x=\"369.496094\" xlink:href=\"#DejaVuSans-32\"/>\n       <use x=\"433.119141\" xlink:href=\"#DejaVuSans-31\"/>\n      </g>\n     </g>\n    </g>\n    <g id=\"text_19\">\n     <!-- Vecka -->\n     <g transform=\"translate(296.124844 145.345817)scale(0.06 -0.06)\">\n      <use xlink:href=\"#DejaVuSans-56\"/>\n      <use x=\"60.658203\" xlink:href=\"#DejaVuSans-65\"/>\n      <use x=\"122.181641\" xlink:href=\"#DejaVuSans-63\"/>\n      <use x=\"177.162109\" xlink:href=\"#DejaVuSans-6b\"/>\n      <use x=\"233.322266\" xlink:href=\"#DejaVuSans-61\"/>\n     </g>\n    </g>\n   </g>\n   <g id=\"matplotlib.axis_4\">\n    <g id=\"ytick_6\">\n     <g id=\"line2d_32\">\n      <path clip-path=\"url(#p8d5fe97294)\" d=\"M 235.213125 121.403007 \nL 374.713125 121.403007 \n\" style=\"fill:none;stroke:#b0b0b0;stroke-linecap:square;stroke-width:0.8;\"/>\n     </g>\n     <g id=\"line2d_33\">\n      <g>\n       <use style=\"stroke:#000000;stroke-width:0.8;\" x=\"235.213125\" xlink:href=\"#me693e56884\" y=\"121.403007\"/>\n      </g>\n     </g>\n     <g id=\"text_20\">\n      <!-- 0 -->\n      <g transform=\"translate(225.031875 123.302616)scale(0.05 -0.05)\">\n       <use xlink:href=\"#DejaVuSans-30\"/>\n      </g>\n     </g>\n    </g>\n    <g id=\"ytick_7\">\n     <g id=\"line2d_34\">\n      <path clip-path=\"url(#p8d5fe97294)\" d=\"M 235.213125 102.212255 \nL 374.713125 102.212255 \n\" style=\"fill:none;stroke:#b0b0b0;stroke-linecap:square;stroke-width:0.8;\"/>\n     </g>\n     <g id=\"line2d_35\">\n      <g>\n       <use style=\"stroke:#000000;stroke-width:0.8;\" x=\"235.213125\" xlink:href=\"#me693e56884\" y=\"102.212255\"/>\n      </g>\n     </g>\n     <g id=\"text_21\">\n      <!-- 12500 -->\n      <g transform=\"translate(212.306875 104.111865)scale(0.05 -0.05)\">\n       <use xlink:href=\"#DejaVuSans-31\"/>\n       <use x=\"63.623047\" xlink:href=\"#DejaVuSans-32\"/>\n       <use x=\"127.246094\" xlink:href=\"#DejaVuSans-35\"/>\n       <use x=\"190.869141\" xlink:href=\"#DejaVuSans-30\"/>\n       <use x=\"254.492188\" xlink:href=\"#DejaVuSans-30\"/>\n      </g>\n     </g>\n    </g>\n    <g id=\"ytick_8\">\n     <g id=\"line2d_36\">\n      <path clip-path=\"url(#p8d5fe97294)\" d=\"M 235.213125 83.021503 \nL 374.713125 83.021503 \n\" style=\"fill:none;stroke:#b0b0b0;stroke-linecap:square;stroke-width:0.8;\"/>\n     </g>\n     <g id=\"line2d_37\">\n      <g>\n       <use style=\"stroke:#000000;stroke-width:0.8;\" x=\"235.213125\" xlink:href=\"#me693e56884\" y=\"83.021503\"/>\n      </g>\n     </g>\n     <g id=\"text_22\">\n      <!-- 25000 -->\n      <g transform=\"translate(212.306875 84.921113)scale(0.05 -0.05)\">\n       <use xlink:href=\"#DejaVuSans-32\"/>\n       <use x=\"63.623047\" xlink:href=\"#DejaVuSans-35\"/>\n       <use x=\"127.246094\" xlink:href=\"#DejaVuSans-30\"/>\n       <use x=\"190.869141\" xlink:href=\"#DejaVuSans-30\"/>\n       <use x=\"254.492188\" xlink:href=\"#DejaVuSans-30\"/>\n      </g>\n     </g>\n    </g>\n    <g id=\"ytick_9\">\n     <g id=\"line2d_38\">\n      <path clip-path=\"url(#p8d5fe97294)\" d=\"M 235.213125 63.830752 \nL 374.713125 63.830752 \n\" style=\"fill:none;stroke:#b0b0b0;stroke-linecap:square;stroke-width:0.8;\"/>\n     </g>\n     <g id=\"line2d_39\">\n      <g>\n       <use style=\"stroke:#000000;stroke-width:0.8;\" x=\"235.213125\" xlink:href=\"#me693e56884\" y=\"63.830752\"/>\n      </g>\n     </g>\n     <g id=\"text_23\">\n      <!-- 37500 -->\n      <g transform=\"translate(212.306875 65.730361)scale(0.05 -0.05)\">\n       <use xlink:href=\"#DejaVuSans-33\"/>\n       <use x=\"63.623047\" xlink:href=\"#DejaVuSans-37\"/>\n       <use x=\"127.246094\" xlink:href=\"#DejaVuSans-35\"/>\n       <use x=\"190.869141\" xlink:href=\"#DejaVuSans-30\"/>\n       <use x=\"254.492188\" xlink:href=\"#DejaVuSans-30\"/>\n      </g>\n     </g>\n    </g>\n    <g id=\"ytick_10\">\n     <g id=\"line2d_40\">\n      <path clip-path=\"url(#p8d5fe97294)\" d=\"M 235.213125 44.64 \nL 374.713125 44.64 \n\" style=\"fill:none;stroke:#b0b0b0;stroke-linecap:square;stroke-width:0.8;\"/>\n     </g>\n     <g id=\"line2d_41\">\n      <g>\n       <use style=\"stroke:#000000;stroke-width:0.8;\" x=\"235.213125\" xlink:href=\"#me693e56884\" y=\"44.64\"/>\n      </g>\n     </g>\n     <g id=\"text_24\">\n      <!-- 50000 -->\n      <g transform=\"translate(212.306875 46.539609)scale(0.05 -0.05)\">\n       <use xlink:href=\"#DejaVuSans-35\"/>\n       <use x=\"63.623047\" xlink:href=\"#DejaVuSans-30\"/>\n       <use x=\"127.246094\" xlink:href=\"#DejaVuSans-30\"/>\n       <use x=\"190.869141\" xlink:href=\"#DejaVuSans-30\"/>\n       <use x=\"254.492188\" xlink:href=\"#DejaVuSans-30\"/>\n      </g>\n     </g>\n    </g>\n    <g id=\"text_25\">\n     <!-- Antal -->\n     <g transform=\"translate(207.059063 92.595252)rotate(-90)scale(0.06 -0.06)\">\n      <use xlink:href=\"#DejaVuSans-41\"/>\n      <use x=\"68.408203\" xlink:href=\"#DejaVuSans-6e\"/>\n      <use x=\"131.787109\" xlink:href=\"#DejaVuSans-74\"/>\n      <use x=\"170.996094\" xlink:href=\"#DejaVuSans-61\"/>\n      <use x=\"232.275391\" xlink:href=\"#DejaVuSans-6c\"/>\n     </g>\n    </g>\n   </g>\n   <g id=\"line2d_42\">\n    <path clip-path=\"url(#p8d5fe97294)\" d=\"M 241.554034 121.401472 \nL 242.99515 121.403007 \nL 244.436265 121.403007 \nL 245.877381 121.383049 \nL 247.318497 121.079067 \nL 248.759613 120.116459 \nL 250.200728 119.984427 \nL 251.641844 118.398503 \nL 253.08296 116.445652 \nL 254.524075 115.661134 \nL 255.965191 115.642711 \nL 257.406307 114.950309 \nL 258.847423 115.51989 \nL 260.288538 115.027072 \nL 261.729654 115.463085 \nL 263.17077 115.78549 \nL 264.611885 114.832094 \nL 266.053001 112.159206 \nL 267.494117 110.467349 \nL 268.935232 110.544112 \nL 270.376348 109.957643 \nL 271.817464 114.833629 \nL 273.25858 118.057675 \nL 274.699695 118.912815 \nL 276.140811 119.382605 \nL 277.581927 119.014142 \nL 279.023042 118.310993 \nL 280.464158 118.252653 \nL 281.905274 118.813023 \nL 283.346389 119.560695 \nL 284.787505 119.35804 \nL 286.228621 118.958873 \nL 287.669737 118.209666 \nL 289.110852 116.921583 \nL 290.551968 115.81159 \nL 291.993084 114.835164 \nL 293.434199 112.774845 \nL 294.875315 107.3477 \nL 296.316431 93.040611 \nL 297.757546 82.399723 \nL 299.198662 73.320195 \nL 300.639778 72.360657 \nL 302.080894 66.809156 \nL 303.522009 64.848629 \nL 304.963125 54.418072 \nL 306.404241 50.5093 \nL 307.845356 64.392657 \nL 309.286472 57.961452 \nL 310.727588 60.829318 \nL 312.168704 76.969508 \nL 313.609819 85.738914 \nL 315.050935 89.684532 \nL 316.492051 91.304232 \nL 317.933166 88.728065 \nL 319.374282 85.147839 \nL 320.815398 80.426914 \nL 322.256513 78.802609 \nL 323.697629 77.563654 \nL 325.138745 70.688759 \nL 326.579861 63.245818 \nL 328.020976 62.470511 \nL 329.462092 58.231658 \nL 330.903208 58.399001 \nL 332.344323 66.084514 \nL 333.785439 67.199112 \nL 335.226555 69.695445 \nL 336.66767 81.615205 \nL 338.108786 93.508865 \nL 339.549902 109.160843 \nL 340.991018 107.441351 \nL 342.432133 114.657074 \nL 343.873249 117.030586 \nL 345.314365 118.360121 \nL 346.75548 118.533606 \nL 348.196596 119.078623 \nL 349.637712 118.515183 \nL 351.078827 117.316144 \nL 352.519943 116.092542 \nL 353.961059 114.328528 \nL 355.402175 112.467793 \nL 356.84329 111.476015 \nL 358.284406 111.135187 \nL 359.725522 110.293865 \nL 361.166637 109.163913 \nL 362.607753 111.783067 \nL 364.048869 114.804459 \nL 365.489985 114.891969 \nL 366.9311 115.045495 \nL 368.372216 115.16678 \n\" style=\"fill:none;stroke:#1f77b4;stroke-linecap:square;stroke-width:1.5;\"/>\n   </g>\n   <g id=\"patch_8\">\n    <path d=\"M 235.213125 124.947692 \nL 235.213125 44.64 \n\" style=\"fill:none;stroke:#000000;stroke-linecap:square;stroke-linejoin:miter;stroke-width:0.8;\"/>\n   </g>\n   <g id=\"patch_9\">\n    <path d=\"M 374.713125 124.947692 \nL 374.713125 44.64 \n\" style=\"fill:none;stroke:#000000;stroke-linecap:square;stroke-linejoin:miter;stroke-width:0.8;\"/>\n   </g>\n   <g id=\"patch_10\">\n    <path d=\"M 235.213125 124.947692 \nL 374.713125 124.947692 \n\" style=\"fill:none;stroke:#000000;stroke-linecap:square;stroke-linejoin:miter;stroke-width:0.8;\"/>\n   </g>\n   <g id=\"patch_11\">\n    <path d=\"M 235.213125 44.64 \nL 374.713125 44.64 \n\" style=\"fill:none;stroke:#000000;stroke-linecap:square;stroke-linejoin:miter;stroke-width:0.8;\"/>\n   </g>\n   <g id=\"text_26\">\n    <!-- Antal nya fall per vecka -->\n    <g transform=\"translate(257.67 38.64)scale(0.08 -0.08)\">\n     <defs>\n      <path d=\"M 2059 -325 \nQ 1816 -950 1584 -1140 \nQ 1353 -1331 966 -1331 \nL 506 -1331 \nL 506 -850 \nL 844 -850 \nQ 1081 -850 1212 -737 \nQ 1344 -625 1503 -206 \nL 1606 56 \nL 191 3500 \nL 800 3500 \nL 1894 763 \nL 2988 3500 \nL 3597 3500 \nL 2059 -325 \nz\n\" id=\"DejaVuSans-79\" transform=\"scale(0.015625)\"/>\n      <path d=\"M 2375 4863 \nL 2375 4384 \nL 1825 4384 \nQ 1516 4384 1395 4259 \nQ 1275 4134 1275 3809 \nL 1275 3500 \nL 2222 3500 \nL 2222 3053 \nL 1275 3053 \nL 1275 0 \nL 697 0 \nL 697 3053 \nL 147 3053 \nL 147 3500 \nL 697 3500 \nL 697 3744 \nQ 697 4328 969 4595 \nQ 1241 4863 1831 4863 \nL 2375 4863 \nz\n\" id=\"DejaVuSans-66\" transform=\"scale(0.015625)\"/>\n     </defs>\n     <use xlink:href=\"#DejaVuSans-41\"/>\n     <use x=\"68.408203\" xlink:href=\"#DejaVuSans-6e\"/>\n     <use x=\"131.787109\" xlink:href=\"#DejaVuSans-74\"/>\n     <use x=\"170.996094\" xlink:href=\"#DejaVuSans-61\"/>\n     <use x=\"232.275391\" xlink:href=\"#DejaVuSans-6c\"/>\n     <use x=\"260.058594\" xlink:href=\"#DejaVuSans-20\"/>\n     <use x=\"291.845703\" xlink:href=\"#DejaVuSans-6e\"/>\n     <use x=\"355.224609\" xlink:href=\"#DejaVuSans-79\"/>\n     <use x=\"414.404297\" xlink:href=\"#DejaVuSans-61\"/>\n     <use x=\"475.683594\" xlink:href=\"#DejaVuSans-20\"/>\n     <use x=\"507.470703\" xlink:href=\"#DejaVuSans-66\"/>\n     <use x=\"542.675781\" xlink:href=\"#DejaVuSans-61\"/>\n     <use x=\"603.955078\" xlink:href=\"#DejaVuSans-6c\"/>\n     <use x=\"631.738281\" xlink:href=\"#DejaVuSans-6c\"/>\n     <use x=\"659.521484\" xlink:href=\"#DejaVuSans-20\"/>\n     <use x=\"691.308594\" xlink:href=\"#DejaVuSans-70\"/>\n     <use x=\"754.785156\" xlink:href=\"#DejaVuSans-65\"/>\n     <use x=\"816.308594\" xlink:href=\"#DejaVuSans-72\"/>\n     <use x=\"857.421875\" xlink:href=\"#DejaVuSans-20\"/>\n     <use x=\"889.208984\" xlink:href=\"#DejaVuSans-76\"/>\n     <use x=\"948.388672\" xlink:href=\"#DejaVuSans-65\"/>\n     <use x=\"1009.912109\" xlink:href=\"#DejaVuSans-63\"/>\n     <use x=\"1064.892578\" xlink:href=\"#DejaVuSans-6b\"/>\n     <use x=\"1121.052734\" xlink:href=\"#DejaVuSans-61\"/>\n    </g>\n   </g>\n  </g>\n  <g id=\"axes_3\">\n   <g id=\"patch_12\">\n    <path d=\"M 39.913125 253.44 \nL 179.413125 253.44 \nL 179.413125 173.132308 \nL 39.913125 173.132308 \nz\n\" style=\"fill:#ffffff;\"/>\n   </g>\n   <g id=\"matplotlib.axis_5\">\n    <g id=\"xtick_11\">\n     <g id=\"line2d_43\">\n      <path clip-path=\"url(#p2b2bc15b53)\" d=\"M 46.254034 253.44 \nL 46.254034 173.132308 \n\" style=\"fill:none;stroke:#b0b0b0;stroke-linecap:square;stroke-width:0.8;\"/>\n     </g>\n     <g id=\"line2d_44\">\n      <g>\n       <use style=\"stroke:#000000;stroke-width:0.8;\" x=\"46.254034\" xlink:href=\"#m8b27407985\" y=\"253.44\"/>\n      </g>\n     </g>\n     <g id=\"text_27\">\n      <!-- v.6 2020 -->\n      <g transform=\"translate(35.425909 264.239219)scale(0.05 -0.05)\">\n       <use xlink:href=\"#DejaVuSans-76\"/>\n       <use x=\"51.429688\" xlink:href=\"#DejaVuSans-2e\"/>\n       <use x=\"83.216797\" xlink:href=\"#DejaVuSans-36\"/>\n       <use x=\"146.839844\" xlink:href=\"#DejaVuSans-20\"/>\n       <use x=\"178.626953\" xlink:href=\"#DejaVuSans-32\"/>\n       <use x=\"242.25\" xlink:href=\"#DejaVuSans-30\"/>\n       <use x=\"305.873047\" xlink:href=\"#DejaVuSans-32\"/>\n       <use x=\"369.496094\" xlink:href=\"#DejaVuSans-30\"/>\n      </g>\n     </g>\n    </g>\n    <g id=\"xtick_12\">\n     <g id=\"line2d_45\">\n      <path clip-path=\"url(#p2b2bc15b53)\" d=\"M 77.95858 253.44 \nL 77.95858 173.132308 \n\" style=\"fill:none;stroke:#b0b0b0;stroke-linecap:square;stroke-width:0.8;\"/>\n     </g>\n     <g id=\"line2d_46\">\n      <g>\n       <use style=\"stroke:#000000;stroke-width:0.8;\" x=\"77.95858\" xlink:href=\"#m8b27407985\" y=\"253.44\"/>\n      </g>\n     </g>\n     <g id=\"text_28\">\n      <!--  v.28 2020 -->\n      <g transform=\"translate(64.745298 264.239219)scale(0.05 -0.05)\">\n       <use xlink:href=\"#DejaVuSans-20\"/>\n       <use x=\"31.787109\" xlink:href=\"#DejaVuSans-76\"/>\n       <use x=\"83.216797\" xlink:href=\"#DejaVuSans-2e\"/>\n       <use x=\"115.003906\" xlink:href=\"#DejaVuSans-32\"/>\n       <use x=\"178.626953\" xlink:href=\"#DejaVuSans-38\"/>\n       <use x=\"242.25\" xlink:href=\"#DejaVuSans-20\"/>\n       <use x=\"274.037109\" xlink:href=\"#DejaVuSans-32\"/>\n       <use x=\"337.660156\" xlink:href=\"#DejaVuSans-30\"/>\n       <use x=\"401.283203\" xlink:href=\"#DejaVuSans-32\"/>\n       <use x=\"464.90625\" xlink:href=\"#DejaVuSans-30\"/>\n      </g>\n     </g>\n    </g>\n    <g id=\"xtick_13\">\n     <g id=\"line2d_47\">\n      <path clip-path=\"url(#p2b2bc15b53)\" d=\"M 109.663125 253.44 \nL 109.663125 173.132308 \n\" style=\"fill:none;stroke:#b0b0b0;stroke-linecap:square;stroke-width:0.8;\"/>\n     </g>\n     <g id=\"line2d_48\">\n      <g>\n       <use style=\"stroke:#000000;stroke-width:0.8;\" x=\"109.663125\" xlink:href=\"#m8b27407985\" y=\"253.44\"/>\n      </g>\n     </g>\n     <g id=\"text_29\">\n      <!-- v.50 2020 -->\n      <g transform=\"translate(97.244375 264.239219)scale(0.05 -0.05)\">\n       <use xlink:href=\"#DejaVuSans-76\"/>\n       <use x=\"51.429688\" xlink:href=\"#DejaVuSans-2e\"/>\n       <use x=\"83.216797\" xlink:href=\"#DejaVuSans-35\"/>\n       <use x=\"146.839844\" xlink:href=\"#DejaVuSans-30\"/>\n       <use x=\"210.462891\" xlink:href=\"#DejaVuSans-20\"/>\n       <use x=\"242.25\" xlink:href=\"#DejaVuSans-32\"/>\n       <use x=\"305.873047\" xlink:href=\"#DejaVuSans-30\"/>\n       <use x=\"369.496094\" xlink:href=\"#DejaVuSans-32\"/>\n       <use x=\"433.119141\" xlink:href=\"#DejaVuSans-30\"/>\n      </g>\n     </g>\n    </g>\n    <g id=\"xtick_14\">\n     <g id=\"line2d_49\">\n      <path clip-path=\"url(#p2b2bc15b53)\" d=\"M 141.36767 253.44 \nL 141.36767 173.132308 \n\" style=\"fill:none;stroke:#b0b0b0;stroke-linecap:square;stroke-width:0.8;\"/>\n     </g>\n     <g id=\"line2d_50\">\n      <g>\n       <use style=\"stroke:#000000;stroke-width:0.8;\" x=\"141.36767\" xlink:href=\"#m8b27407985\" y=\"253.44\"/>\n      </g>\n     </g>\n     <g id=\"text_30\">\n      <!-- v.19 2021 -->\n      <g transform=\"translate(128.94892 264.239219)scale(0.05 -0.05)\">\n       <use xlink:href=\"#DejaVuSans-76\"/>\n       <use x=\"51.429688\" xlink:href=\"#DejaVuSans-2e\"/>\n       <use x=\"83.216797\" xlink:href=\"#DejaVuSans-31\"/>\n       <use x=\"146.839844\" xlink:href=\"#DejaVuSans-39\"/>\n       <use x=\"210.462891\" xlink:href=\"#DejaVuSans-20\"/>\n       <use x=\"242.25\" xlink:href=\"#DejaVuSans-32\"/>\n       <use x=\"305.873047\" xlink:href=\"#DejaVuSans-30\"/>\n       <use x=\"369.496094\" xlink:href=\"#DejaVuSans-32\"/>\n       <use x=\"433.119141\" xlink:href=\"#DejaVuSans-31\"/>\n      </g>\n     </g>\n    </g>\n    <g id=\"xtick_15\">\n     <g id=\"line2d_51\">\n      <path clip-path=\"url(#p2b2bc15b53)\" d=\"M 173.072216 253.44 \nL 173.072216 173.132308 \n\" style=\"fill:none;stroke:#b0b0b0;stroke-linecap:square;stroke-width:0.8;\"/>\n     </g>\n     <g id=\"line2d_52\">\n      <g>\n       <use style=\"stroke:#000000;stroke-width:0.8;\" x=\"173.072216\" xlink:href=\"#m8b27407985\" y=\"253.44\"/>\n      </g>\n     </g>\n     <g id=\"text_31\">\n      <!-- v.41 2021 -->\n      <g transform=\"translate(160.653466 264.239219)scale(0.05 -0.05)\">\n       <use xlink:href=\"#DejaVuSans-76\"/>\n       <use x=\"51.429688\" xlink:href=\"#DejaVuSans-2e\"/>\n       <use x=\"83.216797\" xlink:href=\"#DejaVuSans-34\"/>\n       <use x=\"146.839844\" xlink:href=\"#DejaVuSans-31\"/>\n       <use x=\"210.462891\" xlink:href=\"#DejaVuSans-20\"/>\n       <use x=\"242.25\" xlink:href=\"#DejaVuSans-32\"/>\n       <use x=\"305.873047\" xlink:href=\"#DejaVuSans-30\"/>\n       <use x=\"369.496094\" xlink:href=\"#DejaVuSans-32\"/>\n       <use x=\"433.119141\" xlink:href=\"#DejaVuSans-31\"/>\n      </g>\n     </g>\n    </g>\n    <g id=\"text_32\">\n     <!-- Vecka -->\n     <g transform=\"translate(100.824844 273.838125)scale(0.06 -0.06)\">\n      <use xlink:href=\"#DejaVuSans-56\"/>\n      <use x=\"60.658203\" xlink:href=\"#DejaVuSans-65\"/>\n      <use x=\"122.181641\" xlink:href=\"#DejaVuSans-63\"/>\n      <use x=\"177.162109\" xlink:href=\"#DejaVuSans-6b\"/>\n      <use x=\"233.322266\" xlink:href=\"#DejaVuSans-61\"/>\n     </g>\n    </g>\n   </g>\n   <g id=\"matplotlib.axis_6\">\n    <g id=\"ytick_11\">\n     <g id=\"line2d_53\">\n      <path clip-path=\"url(#p2b2bc15b53)\" d=\"M 39.913125 249.895315 \nL 179.413125 249.895315 \n\" style=\"fill:none;stroke:#b0b0b0;stroke-linecap:square;stroke-width:0.8;\"/>\n     </g>\n     <g id=\"line2d_54\">\n      <g>\n       <use style=\"stroke:#000000;stroke-width:0.8;\" x=\"39.913125\" xlink:href=\"#me693e56884\" y=\"249.895315\"/>\n      </g>\n     </g>\n     <g id=\"text_33\">\n      <!-- 0 -->\n      <g transform=\"translate(29.731875 251.794924)scale(0.05 -0.05)\">\n       <use xlink:href=\"#DejaVuSans-30\"/>\n      </g>\n     </g>\n    </g>\n    <g id=\"ytick_12\">\n     <g id=\"line2d_55\">\n      <path clip-path=\"url(#p2b2bc15b53)\" d=\"M 39.913125 230.704563 \nL 179.413125 230.704563 \n\" style=\"fill:none;stroke:#b0b0b0;stroke-linecap:square;stroke-width:0.8;\"/>\n     </g>\n     <g id=\"line2d_56\">\n      <g>\n       <use style=\"stroke:#000000;stroke-width:0.8;\" x=\"39.913125\" xlink:href=\"#me693e56884\" y=\"230.704563\"/>\n      </g>\n     </g>\n     <g id=\"text_34\">\n      <!-- 12500 -->\n      <g transform=\"translate(17.006875 232.604172)scale(0.05 -0.05)\">\n       <use xlink:href=\"#DejaVuSans-31\"/>\n       <use x=\"63.623047\" xlink:href=\"#DejaVuSans-32\"/>\n       <use x=\"127.246094\" xlink:href=\"#DejaVuSans-35\"/>\n       <use x=\"190.869141\" xlink:href=\"#DejaVuSans-30\"/>\n       <use x=\"254.492188\" xlink:href=\"#DejaVuSans-30\"/>\n      </g>\n     </g>\n    </g>\n    <g id=\"ytick_13\">\n     <g id=\"line2d_57\">\n      <path clip-path=\"url(#p2b2bc15b53)\" d=\"M 39.913125 211.513811 \nL 179.413125 211.513811 \n\" style=\"fill:none;stroke:#b0b0b0;stroke-linecap:square;stroke-width:0.8;\"/>\n     </g>\n     <g id=\"line2d_58\">\n      <g>\n       <use style=\"stroke:#000000;stroke-width:0.8;\" x=\"39.913125\" xlink:href=\"#me693e56884\" y=\"211.513811\"/>\n      </g>\n     </g>\n     <g id=\"text_35\">\n      <!-- 25000 -->\n      <g transform=\"translate(17.006875 213.413421)scale(0.05 -0.05)\">\n       <use xlink:href=\"#DejaVuSans-32\"/>\n       <use x=\"63.623047\" xlink:href=\"#DejaVuSans-35\"/>\n       <use x=\"127.246094\" xlink:href=\"#DejaVuSans-30\"/>\n       <use x=\"190.869141\" xlink:href=\"#DejaVuSans-30\"/>\n       <use x=\"254.492188\" xlink:href=\"#DejaVuSans-30\"/>\n      </g>\n     </g>\n    </g>\n    <g id=\"ytick_14\">\n     <g id=\"line2d_59\">\n      <path clip-path=\"url(#p2b2bc15b53)\" d=\"M 39.913125 192.323059 \nL 179.413125 192.323059 \n\" style=\"fill:none;stroke:#b0b0b0;stroke-linecap:square;stroke-width:0.8;\"/>\n     </g>\n     <g id=\"line2d_60\">\n      <g>\n       <use style=\"stroke:#000000;stroke-width:0.8;\" x=\"39.913125\" xlink:href=\"#me693e56884\" y=\"192.323059\"/>\n      </g>\n     </g>\n     <g id=\"text_36\">\n      <!-- 37500 -->\n      <g transform=\"translate(17.006875 194.222669)scale(0.05 -0.05)\">\n       <use xlink:href=\"#DejaVuSans-33\"/>\n       <use x=\"63.623047\" xlink:href=\"#DejaVuSans-37\"/>\n       <use x=\"127.246094\" xlink:href=\"#DejaVuSans-35\"/>\n       <use x=\"190.869141\" xlink:href=\"#DejaVuSans-30\"/>\n       <use x=\"254.492188\" xlink:href=\"#DejaVuSans-30\"/>\n      </g>\n     </g>\n    </g>\n    <g id=\"ytick_15\">\n     <g id=\"line2d_61\">\n      <path clip-path=\"url(#p2b2bc15b53)\" d=\"M 39.913125 173.132308 \nL 179.413125 173.132308 \n\" style=\"fill:none;stroke:#b0b0b0;stroke-linecap:square;stroke-width:0.8;\"/>\n     </g>\n     <g id=\"line2d_62\">\n      <g>\n       <use style=\"stroke:#000000;stroke-width:0.8;\" x=\"39.913125\" xlink:href=\"#me693e56884\" y=\"173.132308\"/>\n      </g>\n     </g>\n     <g id=\"text_37\">\n      <!-- 50000 -->\n      <g transform=\"translate(17.006875 175.031917)scale(0.05 -0.05)\">\n       <use xlink:href=\"#DejaVuSans-35\"/>\n       <use x=\"63.623047\" xlink:href=\"#DejaVuSans-30\"/>\n       <use x=\"127.246094\" xlink:href=\"#DejaVuSans-30\"/>\n       <use x=\"190.869141\" xlink:href=\"#DejaVuSans-30\"/>\n       <use x=\"254.492188\" xlink:href=\"#DejaVuSans-30\"/>\n      </g>\n     </g>\n    </g>\n    <g id=\"text_38\">\n     <!-- Antal -->\n     <g transform=\"translate(11.759063 221.08756)rotate(-90)scale(0.06 -0.06)\">\n      <use xlink:href=\"#DejaVuSans-41\"/>\n      <use x=\"68.408203\" xlink:href=\"#DejaVuSans-6e\"/>\n      <use x=\"131.787109\" xlink:href=\"#DejaVuSans-74\"/>\n      <use x=\"170.996094\" xlink:href=\"#DejaVuSans-61\"/>\n      <use x=\"232.275391\" xlink:href=\"#DejaVuSans-6c\"/>\n     </g>\n    </g>\n   </g>\n   <g id=\"line2d_63\">\n    <path clip-path=\"url(#p2b2bc15b53)\" d=\"M 46.254034 249.893779 \nL 47.69515 249.895315 \nL 49.136265 249.895315 \nL 50.577381 249.875356 \nL 52.018497 249.571375 \nL 53.459613 248.608767 \nL 54.900728 248.476734 \nL 56.341844 246.890811 \nL 57.78296 244.93796 \nL 59.224075 244.153442 \nL 60.665191 244.135019 \nL 62.106307 243.442616 \nL 63.547423 244.012198 \nL 64.988538 243.519379 \nL 66.429654 243.955393 \nL 67.87077 244.277798 \nL 69.311885 243.324401 \nL 70.753001 240.651513 \nL 72.194117 238.959657 \nL 73.635232 239.03642 \nL 75.076348 238.44995 \nL 76.517464 243.325936 \nL 77.95858 246.549983 \nL 79.399695 247.405123 \nL 80.840811 247.874912 \nL 82.281927 247.50645 \nL 83.723042 246.803301 \nL 85.164158 246.744961 \nL 86.605274 247.305331 \nL 88.046389 248.053002 \nL 89.487505 247.850348 \nL 90.928621 247.45118 \nL 92.369737 246.701974 \nL 93.810852 245.41389 \nL 95.251968 244.303897 \nL 96.693084 243.327472 \nL 98.134199 241.267153 \nL 99.575315 235.840008 \nL 101.016431 221.532919 \nL 102.457546 210.892031 \nL 103.898662 201.812502 \nL 105.339778 200.852965 \nL 106.780894 195.301464 \nL 108.222009 193.340937 \nL 109.663125 182.91038 \nL 111.104241 179.001607 \nL 112.545356 192.884965 \nL 113.986472 186.45376 \nL 115.427588 189.321626 \nL 116.868704 205.461816 \nL 118.309819 214.231222 \nL 119.750935 218.17684 \nL 121.192051 219.79654 \nL 122.633166 217.220373 \nL 124.074282 213.640146 \nL 125.515398 208.919222 \nL 126.956513 207.294916 \nL 128.397629 206.055961 \nL 129.838745 199.181066 \nL 131.279861 191.738125 \nL 132.720976 190.962819 \nL 134.162092 186.723966 \nL 135.603208 186.891309 \nL 137.044323 194.576821 \nL 138.485439 195.69142 \nL 139.926555 198.187753 \nL 141.36767 210.107513 \nL 142.808786 222.001173 \nL 144.249902 237.65315 \nL 145.691018 235.933659 \nL 147.132133 243.149382 \nL 148.573249 245.522894 \nL 150.014365 246.852429 \nL 151.45548 247.025913 \nL 152.896596 247.570931 \nL 154.337712 247.00749 \nL 155.778827 245.808452 \nL 157.219943 244.58485 \nL 158.661059 242.820836 \nL 160.102175 240.960101 \nL 161.54329 239.968323 \nL 162.984406 239.627495 \nL 164.425522 238.786172 \nL 165.866637 237.656221 \nL 167.307753 240.275375 \nL 168.748869 243.296767 \nL 170.189985 243.384276 \nL 171.6311 243.537802 \nL 173.072216 243.659088 \n\" style=\"fill:none;stroke:#1f77b4;stroke-linecap:square;stroke-width:1.5;\"/>\n   </g>\n   <g id=\"line2d_64\">\n    <path clip-path=\"url(#p2b2bc15b53)\" d=\"M 46.254034 249.895315 \nL 47.69515 249.895315 \nL 49.136265 249.895315 \nL 50.577381 249.895315 \nL 52.018497 249.895315 \nL 53.459613 249.887638 \nL 54.900728 249.827763 \nL 56.341844 249.603615 \nL 57.78296 249.202912 \nL 59.224075 248.875902 \nL 60.665191 248.886649 \nL 62.106307 249.057063 \nL 63.547423 249.061668 \nL 64.988538 249.113867 \nL 66.429654 249.311916 \nL 67.87077 249.342621 \nL 69.311885 249.477724 \nL 70.753001 249.517641 \nL 72.194117 249.536064 \nL 73.635232 249.588263 \nL 75.076348 249.683449 \nL 76.517464 249.744859 \nL 77.95858 249.766353 \nL 79.399695 249.807805 \nL 80.840811 249.849257 \nL 82.281927 249.86768 \nL 83.723042 249.86768 \nL 85.164158 249.87075 \nL 86.605274 249.866145 \nL 88.046389 249.879962 \nL 89.487505 249.876892 \nL 90.928621 249.875356 \nL 92.369737 249.876892 \nL 93.810852 249.878427 \nL 95.251968 249.869215 \nL 96.693084 249.861539 \nL 98.134199 249.87075 \nL 99.575315 249.829298 \nL 101.016431 249.769423 \nL 102.457546 249.654279 \nL 103.898662 249.534528 \nL 105.339778 249.385608 \nL 106.780894 249.255111 \nL 108.222009 249.164531 \nL 109.663125 249.126149 \nL 111.104241 248.905072 \nL 112.545356 248.908142 \nL 113.986472 248.877437 \nL 115.427588 248.906607 \nL 116.868704 248.977229 \nL 118.309819 249.107726 \nL 119.750935 249.298098 \nL 121.192051 249.48233 \nL 122.633166 249.580586 \nL 124.074282 249.632785 \nL 125.515398 249.671167 \nL 126.956513 249.698801 \nL 128.397629 249.680378 \nL 129.838745 249.700337 \nL 131.279861 249.703407 \nL 132.720976 249.678843 \nL 134.162092 249.691125 \nL 135.603208 249.680378 \nL 137.044323 249.694196 \nL 138.485439 249.720295 \nL 139.926555 249.734112 \nL 141.36767 249.724901 \nL 142.808786 249.789382 \nL 144.249902 249.823157 \nL 145.691018 249.835439 \nL 147.132133 249.861539 \nL 148.573249 249.869215 \nL 150.014365 249.881497 \nL 151.45548 249.883033 \nL 152.896596 249.890709 \nL 154.337712 249.892244 \nL 155.778827 249.890709 \nL 157.219943 249.890709 \nL 158.661059 249.884568 \nL 160.102175 249.886103 \nL 161.54329 249.881497 \nL 162.984406 249.864609 \nL 164.425522 249.855398 \nL 165.866637 249.820087 \nL 167.307753 249.815481 \nL 168.748869 249.833904 \nL 170.189985 249.83851 \nL 171.6311 249.830834 \nL 173.072216 249.86768 \n\" style=\"fill:none;stroke:#ff7f0e;stroke-linecap:square;stroke-width:1.5;\"/>\n   </g>\n   <g id=\"patch_13\">\n    <path d=\"M 39.913125 253.44 \nL 39.913125 173.132308 \n\" style=\"fill:none;stroke:#000000;stroke-linecap:square;stroke-linejoin:miter;stroke-width:0.8;\"/>\n   </g>\n   <g id=\"patch_14\">\n    <path d=\"M 179.413125 253.44 \nL 179.413125 173.132308 \n\" style=\"fill:none;stroke:#000000;stroke-linecap:square;stroke-linejoin:miter;stroke-width:0.8;\"/>\n   </g>\n   <g id=\"patch_15\">\n    <path d=\"M 39.913125 253.44 \nL 179.413125 253.44 \n\" style=\"fill:none;stroke:#000000;stroke-linecap:square;stroke-linejoin:miter;stroke-width:0.8;\"/>\n   </g>\n   <g id=\"patch_16\">\n    <path d=\"M 39.913125 173.132308 \nL 179.413125 173.132308 \n\" style=\"fill:none;stroke:#000000;stroke-linecap:square;stroke-linejoin:miter;stroke-width:0.8;\"/>\n   </g>\n   <g id=\"text_39\">\n    <!-- Antal avlidna och nya fall per vecka -->\n    <g transform=\"translate(38.07875 167.132308)scale(0.08 -0.08)\">\n     <defs>\n      <path d=\"M 1959 3097 \nQ 1497 3097 1228 2736 \nQ 959 2375 959 1747 \nQ 959 1119 1226 758 \nQ 1494 397 1959 397 \nQ 2419 397 2687 759 \nQ 2956 1122 2956 1747 \nQ 2956 2369 2687 2733 \nQ 2419 3097 1959 3097 \nz\nM 1959 3584 \nQ 2709 3584 3137 3096 \nQ 3566 2609 3566 1747 \nQ 3566 888 3137 398 \nQ 2709 -91 1959 -91 \nQ 1206 -91 779 398 \nQ 353 888 353 1747 \nQ 353 2609 779 3096 \nQ 1206 3584 1959 3584 \nz\n\" id=\"DejaVuSans-6f\" transform=\"scale(0.015625)\"/>\n      <path d=\"M 3513 2113 \nL 3513 0 \nL 2938 0 \nL 2938 2094 \nQ 2938 2591 2744 2837 \nQ 2550 3084 2163 3084 \nQ 1697 3084 1428 2787 \nQ 1159 2491 1159 1978 \nL 1159 0 \nL 581 0 \nL 581 4863 \nL 1159 4863 \nL 1159 2956 \nQ 1366 3272 1645 3428 \nQ 1925 3584 2291 3584 \nQ 2894 3584 3203 3211 \nQ 3513 2838 3513 2113 \nz\n\" id=\"DejaVuSans-68\" transform=\"scale(0.015625)\"/>\n     </defs>\n     <use xlink:href=\"#DejaVuSans-41\"/>\n     <use x=\"68.408203\" xlink:href=\"#DejaVuSans-6e\"/>\n     <use x=\"131.787109\" xlink:href=\"#DejaVuSans-74\"/>\n     <use x=\"170.996094\" xlink:href=\"#DejaVuSans-61\"/>\n     <use x=\"232.275391\" xlink:href=\"#DejaVuSans-6c\"/>\n     <use x=\"260.058594\" xlink:href=\"#DejaVuSans-20\"/>\n     <use x=\"291.845703\" xlink:href=\"#DejaVuSans-61\"/>\n     <use x=\"353.125\" xlink:href=\"#DejaVuSans-76\"/>\n     <use x=\"412.304688\" xlink:href=\"#DejaVuSans-6c\"/>\n     <use x=\"440.087891\" xlink:href=\"#DejaVuSans-69\"/>\n     <use x=\"467.871094\" xlink:href=\"#DejaVuSans-64\"/>\n     <use x=\"531.347656\" xlink:href=\"#DejaVuSans-6e\"/>\n     <use x=\"594.726562\" xlink:href=\"#DejaVuSans-61\"/>\n     <use x=\"656.005859\" xlink:href=\"#DejaVuSans-20\"/>\n     <use x=\"687.792969\" xlink:href=\"#DejaVuSans-6f\"/>\n     <use x=\"748.974609\" xlink:href=\"#DejaVuSans-63\"/>\n     <use x=\"803.955078\" xlink:href=\"#DejaVuSans-68\"/>\n     <use x=\"867.333984\" xlink:href=\"#DejaVuSans-20\"/>\n     <use x=\"899.121094\" xlink:href=\"#DejaVuSans-6e\"/>\n     <use x=\"962.5\" xlink:href=\"#DejaVuSans-79\"/>\n     <use x=\"1021.679688\" xlink:href=\"#DejaVuSans-61\"/>\n     <use x=\"1082.958984\" xlink:href=\"#DejaVuSans-20\"/>\n     <use x=\"1114.746094\" xlink:href=\"#DejaVuSans-66\"/>\n     <use x=\"1149.951172\" xlink:href=\"#DejaVuSans-61\"/>\n     <use x=\"1211.230469\" xlink:href=\"#DejaVuSans-6c\"/>\n     <use x=\"1239.013672\" xlink:href=\"#DejaVuSans-6c\"/>\n     <use x=\"1266.796875\" xlink:href=\"#DejaVuSans-20\"/>\n     <use x=\"1298.583984\" xlink:href=\"#DejaVuSans-70\"/>\n     <use x=\"1362.060547\" xlink:href=\"#DejaVuSans-65\"/>\n     <use x=\"1423.583984\" xlink:href=\"#DejaVuSans-72\"/>\n     <use x=\"1464.697266\" xlink:href=\"#DejaVuSans-20\"/>\n     <use x=\"1496.484375\" xlink:href=\"#DejaVuSans-76\"/>\n     <use x=\"1555.664062\" xlink:href=\"#DejaVuSans-65\"/>\n     <use x=\"1617.1875\" xlink:href=\"#DejaVuSans-63\"/>\n     <use x=\"1672.167969\" xlink:href=\"#DejaVuSans-6b\"/>\n     <use x=\"1728.328125\" xlink:href=\"#DejaVuSans-61\"/>\n    </g>\n   </g>\n   <g id=\"legend_1\">\n    <g id=\"patch_17\">\n     <path d=\"M 43.063125 189.94262 \nL 74.523047 189.94262 \nQ 75.423047 189.94262 75.423047 189.04262 \nL 75.423047 176.282308 \nQ 75.423047 175.382308 74.523047 175.382308 \nL 43.063125 175.382308 \nQ 42.163125 175.382308 42.163125 176.282308 \nL 42.163125 189.04262 \nQ 42.163125 189.94262 43.063125 189.94262 \nz\n\" style=\"fill:#ffffff;opacity:0.8;stroke:#cccccc;stroke-linejoin:miter;\"/>\n    </g>\n    <g id=\"line2d_65\">\n     <path d=\"M 43.963125 179.026605 \nL 52.963125 179.026605 \n\" style=\"fill:none;stroke:#1f77b4;stroke-linecap:square;stroke-width:1.5;\"/>\n    </g>\n    <g id=\"line2d_66\"/>\n    <g id=\"text_40\">\n     <!-- Nya fall -->\n     <g transform=\"translate(56.563125 180.601605)scale(0.045 -0.045)\">\n      <defs>\n       <path d=\"M 628 4666 \nL 1478 4666 \nL 3547 763 \nL 3547 4666 \nL 4159 4666 \nL 4159 0 \nL 3309 0 \nL 1241 3903 \nL 1241 0 \nL 628 0 \nL 628 4666 \nz\n\" id=\"DejaVuSans-4e\" transform=\"scale(0.015625)\"/>\n      </defs>\n      <use xlink:href=\"#DejaVuSans-4e\"/>\n      <use x=\"74.804688\" xlink:href=\"#DejaVuSans-79\"/>\n      <use x=\"133.984375\" xlink:href=\"#DejaVuSans-61\"/>\n      <use x=\"195.263672\" xlink:href=\"#DejaVuSans-20\"/>\n      <use x=\"227.050781\" xlink:href=\"#DejaVuSans-66\"/>\n      <use x=\"262.255859\" xlink:href=\"#DejaVuSans-61\"/>\n      <use x=\"323.535156\" xlink:href=\"#DejaVuSans-6c\"/>\n      <use x=\"351.318359\" xlink:href=\"#DejaVuSans-6c\"/>\n     </g>\n    </g>\n    <g id=\"line2d_67\">\n     <path d=\"M 43.963125 185.631761 \nL 52.963125 185.631761 \n\" style=\"fill:none;stroke:#ff7f0e;stroke-linecap:square;stroke-width:1.5;\"/>\n    </g>\n    <g id=\"line2d_68\"/>\n    <g id=\"text_41\">\n     <!-- Avlidna -->\n     <g transform=\"translate(56.563125 187.206761)scale(0.045 -0.045)\">\n      <use xlink:href=\"#DejaVuSans-41\"/>\n      <use x=\"62.533203\" xlink:href=\"#DejaVuSans-76\"/>\n      <use x=\"121.712891\" xlink:href=\"#DejaVuSans-6c\"/>\n      <use x=\"149.496094\" xlink:href=\"#DejaVuSans-69\"/>\n      <use x=\"177.279297\" xlink:href=\"#DejaVuSans-64\"/>\n      <use x=\"240.755859\" xlink:href=\"#DejaVuSans-6e\"/>\n      <use x=\"304.134766\" xlink:href=\"#DejaVuSans-61\"/>\n     </g>\n    </g>\n   </g>\n  </g>\n  <g id=\"axes_4\">\n   <g id=\"patch_18\">\n    <path d=\"M 235.213125 253.44 \nL 374.713125 253.44 \nL 374.713125 173.132308 \nL 235.213125 173.132308 \nz\n\" style=\"fill:#ffffff;\"/>\n   </g>\n   <g id=\"matplotlib.axis_7\">\n    <g id=\"xtick_16\">\n     <g id=\"line2d_69\">\n      <path clip-path=\"url(#p79bdddc5c1)\" d=\"M 241.554034 253.44 \nL 241.554034 173.132308 \n\" style=\"fill:none;stroke:#b0b0b0;stroke-linecap:square;stroke-width:0.8;\"/>\n     </g>\n     <g id=\"line2d_70\">\n      <g>\n       <use style=\"stroke:#000000;stroke-width:0.8;\" x=\"241.554034\" xlink:href=\"#m8b27407985\" y=\"253.44\"/>\n      </g>\n     </g>\n     <g id=\"text_42\">\n      <!-- v.6 2020 -->\n      <g transform=\"translate(230.725909 264.239219)scale(0.05 -0.05)\">\n       <use xlink:href=\"#DejaVuSans-76\"/>\n       <use x=\"51.429688\" xlink:href=\"#DejaVuSans-2e\"/>\n       <use x=\"83.216797\" xlink:href=\"#DejaVuSans-36\"/>\n       <use x=\"146.839844\" xlink:href=\"#DejaVuSans-20\"/>\n       <use x=\"178.626953\" xlink:href=\"#DejaVuSans-32\"/>\n       <use x=\"242.25\" xlink:href=\"#DejaVuSans-30\"/>\n       <use x=\"305.873047\" xlink:href=\"#DejaVuSans-32\"/>\n       <use x=\"369.496094\" xlink:href=\"#DejaVuSans-30\"/>\n      </g>\n     </g>\n    </g>\n    <g id=\"xtick_17\">\n     <g id=\"line2d_71\">\n      <path clip-path=\"url(#p79bdddc5c1)\" d=\"M 273.25858 253.44 \nL 273.25858 173.132308 \n\" style=\"fill:none;stroke:#b0b0b0;stroke-linecap:square;stroke-width:0.8;\"/>\n     </g>\n     <g id=\"line2d_72\">\n      <g>\n       <use style=\"stroke:#000000;stroke-width:0.8;\" x=\"273.25858\" xlink:href=\"#m8b27407985\" y=\"253.44\"/>\n      </g>\n     </g>\n     <g id=\"text_43\">\n      <!--  v.28 2020 -->\n      <g transform=\"translate(260.045298 264.239219)scale(0.05 -0.05)\">\n       <use xlink:href=\"#DejaVuSans-20\"/>\n       <use x=\"31.787109\" xlink:href=\"#DejaVuSans-76\"/>\n       <use x=\"83.216797\" xlink:href=\"#DejaVuSans-2e\"/>\n       <use x=\"115.003906\" xlink:href=\"#DejaVuSans-32\"/>\n       <use x=\"178.626953\" xlink:href=\"#DejaVuSans-38\"/>\n       <use x=\"242.25\" xlink:href=\"#DejaVuSans-20\"/>\n       <use x=\"274.037109\" xlink:href=\"#DejaVuSans-32\"/>\n       <use x=\"337.660156\" xlink:href=\"#DejaVuSans-30\"/>\n       <use x=\"401.283203\" xlink:href=\"#DejaVuSans-32\"/>\n       <use x=\"464.90625\" xlink:href=\"#DejaVuSans-30\"/>\n      </g>\n     </g>\n    </g>\n    <g id=\"xtick_18\">\n     <g id=\"line2d_73\">\n      <path clip-path=\"url(#p79bdddc5c1)\" d=\"M 304.963125 253.44 \nL 304.963125 173.132308 \n\" style=\"fill:none;stroke:#b0b0b0;stroke-linecap:square;stroke-width:0.8;\"/>\n     </g>\n     <g id=\"line2d_74\">\n      <g>\n       <use style=\"stroke:#000000;stroke-width:0.8;\" x=\"304.963125\" xlink:href=\"#m8b27407985\" y=\"253.44\"/>\n      </g>\n     </g>\n     <g id=\"text_44\">\n      <!-- v.50 2020 -->\n      <g transform=\"translate(292.544375 264.239219)scale(0.05 -0.05)\">\n       <use xlink:href=\"#DejaVuSans-76\"/>\n       <use x=\"51.429688\" xlink:href=\"#DejaVuSans-2e\"/>\n       <use x=\"83.216797\" xlink:href=\"#DejaVuSans-35\"/>\n       <use x=\"146.839844\" xlink:href=\"#DejaVuSans-30\"/>\n       <use x=\"210.462891\" xlink:href=\"#DejaVuSans-20\"/>\n       <use x=\"242.25\" xlink:href=\"#DejaVuSans-32\"/>\n       <use x=\"305.873047\" xlink:href=\"#DejaVuSans-30\"/>\n       <use x=\"369.496094\" xlink:href=\"#DejaVuSans-32\"/>\n       <use x=\"433.119141\" xlink:href=\"#DejaVuSans-30\"/>\n      </g>\n     </g>\n    </g>\n    <g id=\"xtick_19\">\n     <g id=\"line2d_75\">\n      <path clip-path=\"url(#p79bdddc5c1)\" d=\"M 336.66767 253.44 \nL 336.66767 173.132308 \n\" style=\"fill:none;stroke:#b0b0b0;stroke-linecap:square;stroke-width:0.8;\"/>\n     </g>\n     <g id=\"line2d_76\">\n      <g>\n       <use style=\"stroke:#000000;stroke-width:0.8;\" x=\"336.66767\" xlink:href=\"#m8b27407985\" y=\"253.44\"/>\n      </g>\n     </g>\n     <g id=\"text_45\">\n      <!-- v.19 2021 -->\n      <g transform=\"translate(324.24892 264.239219)scale(0.05 -0.05)\">\n       <use xlink:href=\"#DejaVuSans-76\"/>\n       <use x=\"51.429688\" xlink:href=\"#DejaVuSans-2e\"/>\n       <use x=\"83.216797\" xlink:href=\"#DejaVuSans-31\"/>\n       <use x=\"146.839844\" xlink:href=\"#DejaVuSans-39\"/>\n       <use x=\"210.462891\" xlink:href=\"#DejaVuSans-20\"/>\n       <use x=\"242.25\" xlink:href=\"#DejaVuSans-32\"/>\n       <use x=\"305.873047\" xlink:href=\"#DejaVuSans-30\"/>\n       <use x=\"369.496094\" xlink:href=\"#DejaVuSans-32\"/>\n       <use x=\"433.119141\" xlink:href=\"#DejaVuSans-31\"/>\n      </g>\n     </g>\n    </g>\n    <g id=\"xtick_20\">\n     <g id=\"line2d_77\">\n      <path clip-path=\"url(#p79bdddc5c1)\" d=\"M 368.372216 253.44 \nL 368.372216 173.132308 \n\" style=\"fill:none;stroke:#b0b0b0;stroke-linecap:square;stroke-width:0.8;\"/>\n     </g>\n     <g id=\"line2d_78\">\n      <g>\n       <use style=\"stroke:#000000;stroke-width:0.8;\" x=\"368.372216\" xlink:href=\"#m8b27407985\" y=\"253.44\"/>\n      </g>\n     </g>\n     <g id=\"text_46\">\n      <!-- v.41 2021 -->\n      <g transform=\"translate(355.953466 264.239219)scale(0.05 -0.05)\">\n       <use xlink:href=\"#DejaVuSans-76\"/>\n       <use x=\"51.429688\" xlink:href=\"#DejaVuSans-2e\"/>\n       <use x=\"83.216797\" xlink:href=\"#DejaVuSans-34\"/>\n       <use x=\"146.839844\" xlink:href=\"#DejaVuSans-31\"/>\n       <use x=\"210.462891\" xlink:href=\"#DejaVuSans-20\"/>\n       <use x=\"242.25\" xlink:href=\"#DejaVuSans-32\"/>\n       <use x=\"305.873047\" xlink:href=\"#DejaVuSans-30\"/>\n       <use x=\"369.496094\" xlink:href=\"#DejaVuSans-32\"/>\n       <use x=\"433.119141\" xlink:href=\"#DejaVuSans-31\"/>\n      </g>\n     </g>\n    </g>\n    <g id=\"text_47\">\n     <!-- Vecka -->\n     <g transform=\"translate(296.124844 273.838125)scale(0.06 -0.06)\">\n      <use xlink:href=\"#DejaVuSans-56\"/>\n      <use x=\"60.658203\" xlink:href=\"#DejaVuSans-65\"/>\n      <use x=\"122.181641\" xlink:href=\"#DejaVuSans-63\"/>\n      <use x=\"177.162109\" xlink:href=\"#DejaVuSans-6b\"/>\n      <use x=\"233.322266\" xlink:href=\"#DejaVuSans-61\"/>\n     </g>\n    </g>\n   </g>\n   <g id=\"matplotlib.axis_8\">\n    <g id=\"ytick_16\">\n     <g id=\"line2d_79\">\n      <path clip-path=\"url(#p79bdddc5c1)\" d=\"M 235.213125 249.789713 \nL 374.713125 249.789713 \n\" style=\"fill:none;stroke:#b0b0b0;stroke-linecap:square;stroke-width:0.8;\"/>\n     </g>\n     <g id=\"line2d_80\">\n      <g>\n       <use style=\"stroke:#000000;stroke-width:0.8;\" x=\"235.213125\" xlink:href=\"#me693e56884\" y=\"249.789713\"/>\n      </g>\n     </g>\n     <g id=\"text_48\">\n      <!-- 0 -->\n      <g transform=\"translate(225.031875 251.689323)scale(0.05 -0.05)\">\n       <use xlink:href=\"#DejaVuSans-30\"/>\n      </g>\n     </g>\n    </g>\n    <g id=\"ytick_17\">\n     <g id=\"line2d_81\">\n      <path clip-path=\"url(#p79bdddc5c1)\" d=\"M 235.213125 230.94928 \nL 374.713125 230.94928 \n\" style=\"fill:none;stroke:#b0b0b0;stroke-linecap:square;stroke-width:0.8;\"/>\n     </g>\n     <g id=\"line2d_82\">\n      <g>\n       <use style=\"stroke:#000000;stroke-width:0.8;\" x=\"235.213125\" xlink:href=\"#me693e56884\" y=\"230.94928\"/>\n      </g>\n     </g>\n     <g id=\"text_49\">\n      <!-- 300000 -->\n      <g transform=\"translate(209.125625 232.848889)scale(0.05 -0.05)\">\n       <use xlink:href=\"#DejaVuSans-33\"/>\n       <use x=\"63.623047\" xlink:href=\"#DejaVuSans-30\"/>\n       <use x=\"127.246094\" xlink:href=\"#DejaVuSans-30\"/>\n       <use x=\"190.869141\" xlink:href=\"#DejaVuSans-30\"/>\n       <use x=\"254.492188\" xlink:href=\"#DejaVuSans-30\"/>\n       <use x=\"318.115234\" xlink:href=\"#DejaVuSans-30\"/>\n      </g>\n     </g>\n    </g>\n    <g id=\"ytick_18\">\n     <g id=\"line2d_83\">\n      <path clip-path=\"url(#p79bdddc5c1)\" d=\"M 235.213125 212.108847 \nL 374.713125 212.108847 \n\" style=\"fill:none;stroke:#b0b0b0;stroke-linecap:square;stroke-width:0.8;\"/>\n     </g>\n     <g id=\"line2d_84\">\n      <g>\n       <use style=\"stroke:#000000;stroke-width:0.8;\" x=\"235.213125\" xlink:href=\"#me693e56884\" y=\"212.108847\"/>\n      </g>\n     </g>\n     <g id=\"text_50\">\n      <!-- 600000 -->\n      <g transform=\"translate(209.125625 214.008456)scale(0.05 -0.05)\">\n       <use xlink:href=\"#DejaVuSans-36\"/>\n       <use x=\"63.623047\" xlink:href=\"#DejaVuSans-30\"/>\n       <use x=\"127.246094\" xlink:href=\"#DejaVuSans-30\"/>\n       <use x=\"190.869141\" xlink:href=\"#DejaVuSans-30\"/>\n       <use x=\"254.492188\" xlink:href=\"#DejaVuSans-30\"/>\n       <use x=\"318.115234\" xlink:href=\"#DejaVuSans-30\"/>\n      </g>\n     </g>\n    </g>\n    <g id=\"ytick_19\">\n     <g id=\"line2d_85\">\n      <path clip-path=\"url(#p79bdddc5c1)\" d=\"M 235.213125 193.268413 \nL 374.713125 193.268413 \n\" style=\"fill:none;stroke:#b0b0b0;stroke-linecap:square;stroke-width:0.8;\"/>\n     </g>\n     <g id=\"line2d_86\">\n      <g>\n       <use style=\"stroke:#000000;stroke-width:0.8;\" x=\"235.213125\" xlink:href=\"#me693e56884\" y=\"193.268413\"/>\n      </g>\n     </g>\n     <g id=\"text_51\">\n      <!-- 900000 -->\n      <g transform=\"translate(209.125625 195.168023)scale(0.05 -0.05)\">\n       <use xlink:href=\"#DejaVuSans-39\"/>\n       <use x=\"63.623047\" xlink:href=\"#DejaVuSans-30\"/>\n       <use x=\"127.246094\" xlink:href=\"#DejaVuSans-30\"/>\n       <use x=\"190.869141\" xlink:href=\"#DejaVuSans-30\"/>\n       <use x=\"254.492188\" xlink:href=\"#DejaVuSans-30\"/>\n       <use x=\"318.115234\" xlink:href=\"#DejaVuSans-30\"/>\n      </g>\n     </g>\n    </g>\n    <g id=\"ytick_20\">\n     <g id=\"line2d_87\">\n      <path clip-path=\"url(#p79bdddc5c1)\" d=\"M 235.213125 174.42798 \nL 374.713125 174.42798 \n\" style=\"fill:none;stroke:#b0b0b0;stroke-linecap:square;stroke-width:0.8;\"/>\n     </g>\n     <g id=\"line2d_88\">\n      <g>\n       <use style=\"stroke:#000000;stroke-width:0.8;\" x=\"235.213125\" xlink:href=\"#me693e56884\" y=\"174.42798\"/>\n      </g>\n     </g>\n     <g id=\"text_52\">\n      <!-- 1200000 -->\n      <g transform=\"translate(205.944375 176.327589)scale(0.05 -0.05)\">\n       <use xlink:href=\"#DejaVuSans-31\"/>\n       <use x=\"63.623047\" xlink:href=\"#DejaVuSans-32\"/>\n       <use x=\"127.246094\" xlink:href=\"#DejaVuSans-30\"/>\n       <use x=\"190.869141\" xlink:href=\"#DejaVuSans-30\"/>\n       <use x=\"254.492188\" xlink:href=\"#DejaVuSans-30\"/>\n       <use x=\"318.115234\" xlink:href=\"#DejaVuSans-30\"/>\n       <use x=\"381.738281\" xlink:href=\"#DejaVuSans-30\"/>\n      </g>\n     </g>\n    </g>\n    <g id=\"text_53\">\n     <!-- Kumulativt antal -->\n     <g transform=\"translate(200.696562 238.002404)rotate(-90)scale(0.06 -0.06)\">\n      <defs>\n       <path d=\"M 628 4666 \nL 1259 4666 \nL 1259 2694 \nL 3353 4666 \nL 4166 4666 \nL 1850 2491 \nL 4331 0 \nL 3500 0 \nL 1259 2247 \nL 1259 0 \nL 628 0 \nL 628 4666 \nz\n\" id=\"DejaVuSans-4b\" transform=\"scale(0.015625)\"/>\n       <path d=\"M 544 1381 \nL 544 3500 \nL 1119 3500 \nL 1119 1403 \nQ 1119 906 1312 657 \nQ 1506 409 1894 409 \nQ 2359 409 2629 706 \nQ 2900 1003 2900 1516 \nL 2900 3500 \nL 3475 3500 \nL 3475 0 \nL 2900 0 \nL 2900 538 \nQ 2691 219 2414 64 \nQ 2138 -91 1772 -91 \nQ 1169 -91 856 284 \nQ 544 659 544 1381 \nz\nM 1991 3584 \nL 1991 3584 \nz\n\" id=\"DejaVuSans-75\" transform=\"scale(0.015625)\"/>\n       <path d=\"M 3328 2828 \nQ 3544 3216 3844 3400 \nQ 4144 3584 4550 3584 \nQ 5097 3584 5394 3201 \nQ 5691 2819 5691 2113 \nL 5691 0 \nL 5113 0 \nL 5113 2094 \nQ 5113 2597 4934 2840 \nQ 4756 3084 4391 3084 \nQ 3944 3084 3684 2787 \nQ 3425 2491 3425 1978 \nL 3425 0 \nL 2847 0 \nL 2847 2094 \nQ 2847 2600 2669 2842 \nQ 2491 3084 2119 3084 \nQ 1678 3084 1418 2786 \nQ 1159 2488 1159 1978 \nL 1159 0 \nL 581 0 \nL 581 3500 \nL 1159 3500 \nL 1159 2956 \nQ 1356 3278 1631 3431 \nQ 1906 3584 2284 3584 \nQ 2666 3584 2933 3390 \nQ 3200 3197 3328 2828 \nz\n\" id=\"DejaVuSans-6d\" transform=\"scale(0.015625)\"/>\n      </defs>\n      <use xlink:href=\"#DejaVuSans-4b\"/>\n      <use x=\"60.576172\" xlink:href=\"#DejaVuSans-75\"/>\n      <use x=\"123.955078\" xlink:href=\"#DejaVuSans-6d\"/>\n      <use x=\"221.367188\" xlink:href=\"#DejaVuSans-75\"/>\n      <use x=\"284.746094\" xlink:href=\"#DejaVuSans-6c\"/>\n      <use x=\"312.529297\" xlink:href=\"#DejaVuSans-61\"/>\n      <use x=\"373.808594\" xlink:href=\"#DejaVuSans-74\"/>\n      <use x=\"413.017578\" xlink:href=\"#DejaVuSans-69\"/>\n      <use x=\"440.800781\" xlink:href=\"#DejaVuSans-76\"/>\n      <use x=\"499.980469\" xlink:href=\"#DejaVuSans-74\"/>\n      <use x=\"539.189453\" xlink:href=\"#DejaVuSans-20\"/>\n      <use x=\"570.976562\" xlink:href=\"#DejaVuSans-61\"/>\n      <use x=\"632.255859\" xlink:href=\"#DejaVuSans-6e\"/>\n      <use x=\"695.634766\" xlink:href=\"#DejaVuSans-74\"/>\n      <use x=\"734.84375\" xlink:href=\"#DejaVuSans-61\"/>\n      <use x=\"796.123047\" xlink:href=\"#DejaVuSans-6c\"/>\n     </g>\n    </g>\n   </g>\n   <g id=\"line2d_89\">\n    <path clip-path=\"url(#p79bdddc5c1)\" d=\"M 241.554034 249.78965 \nL 242.99515 249.78965 \nL 244.436265 249.78965 \nL 245.877381 249.788834 \nL 247.318497 249.775583 \nL 248.759613 249.722955 \nL 250.200728 249.664927 \nL 251.641844 249.542024 \nL 253.08296 249.339238 \nL 254.524075 249.104361 \nL 255.965191 248.86873 \nL 257.406307 248.604776 \nL 258.847423 248.36412 \nL 260.288538 248.103306 \nL 261.729654 247.860327 \nL 263.17077 247.630537 \nL 264.611885 247.361747 \nL 266.053001 246.983619 \nL 267.494117 246.536284 \nL 268.935232 246.09209 \nL 270.376348 245.623905 \nL 271.817464 245.355178 \nL 273.25858 245.218333 \nL 274.699695 245.116469 \nL 276.140811 245.033823 \nL 277.581927 244.936104 \nL 279.023042 244.809621 \nL 280.464158 244.680753 \nL 281.905274 244.574807 \nL 283.346389 244.499445 \nL 284.787505 244.415794 \nL 286.228621 244.315814 \nL 287.669737 244.185187 \nL 289.110852 244.001869 \nL 290.551968 243.773146 \nL 291.993084 243.504482 \nL 293.434199 243.151538 \nL 294.875315 242.57659 \nL 296.316431 241.416397 \nL 297.757546 239.820926 \nL 299.198662 237.854047 \nL 300.639778 235.847918 \nL 302.080894 233.614699 \nL 303.522009 231.301282 \nL 304.963125 228.561192 \nL 306.404241 225.66121 \nL 307.845356 223.329141 \nL 309.286472 220.733997 \nL 310.727588 218.256166 \nL 312.168704 216.438567 \nL 313.609819 214.979689 \nL 315.050935 213.682211 \nL 316.492051 212.450989 \nL 317.933166 211.114386 \nL 319.374282 209.63133 \nL 320.815398 207.955159 \nL 322.256513 206.212545 \nL 323.697629 204.419249 \nL 325.138745 202.344729 \nL 326.579861 199.965748 \nL 328.020976 197.555051 \nL 329.462092 194.97096 \nL 330.903208 192.393715 \nL 332.344323 190.130853 \nL 333.785439 187.913585 \nL 335.226555 185.798433 \nL 336.66767 184.17087 \nL 338.108786 183.029831 \nL 339.549902 182.529052 \nL 340.991018 181.957936 \nL 342.432133 181.681986 \nL 343.873249 181.503128 \nL 345.314365 181.378655 \nL 346.75548 181.26128 \nL 348.196596 181.166198 \nL 349.637712 181.048069 \nL 351.078827 180.880891 \nL 352.519943 180.663661 \nL 353.961059 180.374272 \nL 355.402175 180.008768 \nL 356.84329 179.602693 \nL 358.284406 179.182677 \nL 359.725522 178.728246 \nL 361.166637 178.227593 \nL 362.607753 177.834079 \nL 364.048869 177.564159 \nL 365.489985 177.297818 \nL 366.9311 177.037757 \nL 368.372216 176.782657 \n\" style=\"fill:none;stroke:#1f77b4;stroke-linecap:square;stroke-width:1.5;\"/>\n   </g>\n   <g id=\"patch_19\">\n    <path d=\"M 235.213125 253.44 \nL 235.213125 173.132308 \n\" style=\"fill:none;stroke:#000000;stroke-linecap:square;stroke-linejoin:miter;stroke-width:0.8;\"/>\n   </g>\n   <g id=\"patch_20\">\n    <path d=\"M 374.713125 253.44 \nL 374.713125 173.132308 \n\" style=\"fill:none;stroke:#000000;stroke-linecap:square;stroke-linejoin:miter;stroke-width:0.8;\"/>\n   </g>\n   <g id=\"patch_21\">\n    <path d=\"M 235.213125 253.44 \nL 374.713125 253.44 \n\" style=\"fill:none;stroke:#000000;stroke-linecap:square;stroke-linejoin:miter;stroke-width:0.8;\"/>\n   </g>\n   <g id=\"patch_22\">\n    <path d=\"M 235.213125 173.132308 \nL 374.713125 173.132308 \n\" style=\"fill:none;stroke:#000000;stroke-linecap:square;stroke-linejoin:miter;stroke-width:0.8;\"/>\n   </g>\n   <g id=\"text_54\">\n    <!-- Antal nya fall per vecka (kumulativt) -->\n    <g transform=\"translate(231.9425 167.132308)scale(0.08 -0.08)\">\n     <defs>\n      <path d=\"M 1984 4856 \nQ 1566 4138 1362 3434 \nQ 1159 2731 1159 2009 \nQ 1159 1288 1364 580 \nQ 1569 -128 1984 -844 \nL 1484 -844 \nQ 1016 -109 783 600 \nQ 550 1309 550 2009 \nQ 550 2706 781 3412 \nQ 1013 4119 1484 4856 \nL 1984 4856 \nz\n\" id=\"DejaVuSans-28\" transform=\"scale(0.015625)\"/>\n      <path d=\"M 513 4856 \nL 1013 4856 \nQ 1481 4119 1714 3412 \nQ 1947 2706 1947 2009 \nQ 1947 1309 1714 600 \nQ 1481 -109 1013 -844 \nL 513 -844 \nQ 928 -128 1133 580 \nQ 1338 1288 1338 2009 \nQ 1338 2731 1133 3434 \nQ 928 4138 513 4856 \nz\n\" id=\"DejaVuSans-29\" transform=\"scale(0.015625)\"/>\n     </defs>\n     <use xlink:href=\"#DejaVuSans-41\"/>\n     <use x=\"68.408203\" xlink:href=\"#DejaVuSans-6e\"/>\n     <use x=\"131.787109\" xlink:href=\"#DejaVuSans-74\"/>\n     <use x=\"170.996094\" xlink:href=\"#DejaVuSans-61\"/>\n     <use x=\"232.275391\" xlink:href=\"#DejaVuSans-6c\"/>\n     <use x=\"260.058594\" xlink:href=\"#DejaVuSans-20\"/>\n     <use x=\"291.845703\" xlink:href=\"#DejaVuSans-6e\"/>\n     <use x=\"355.224609\" xlink:href=\"#DejaVuSans-79\"/>\n     <use x=\"414.404297\" xlink:href=\"#DejaVuSans-61\"/>\n     <use x=\"475.683594\" xlink:href=\"#DejaVuSans-20\"/>\n     <use x=\"507.470703\" xlink:href=\"#DejaVuSans-66\"/>\n     <use x=\"542.675781\" xlink:href=\"#DejaVuSans-61\"/>\n     <use x=\"603.955078\" xlink:href=\"#DejaVuSans-6c\"/>\n     <use x=\"631.738281\" xlink:href=\"#DejaVuSans-6c\"/>\n     <use x=\"659.521484\" xlink:href=\"#DejaVuSans-20\"/>\n     <use x=\"691.308594\" xlink:href=\"#DejaVuSans-70\"/>\n     <use x=\"754.785156\" xlink:href=\"#DejaVuSans-65\"/>\n     <use x=\"816.308594\" xlink:href=\"#DejaVuSans-72\"/>\n     <use x=\"857.421875\" xlink:href=\"#DejaVuSans-20\"/>\n     <use x=\"889.208984\" xlink:href=\"#DejaVuSans-76\"/>\n     <use x=\"948.388672\" xlink:href=\"#DejaVuSans-65\"/>\n     <use x=\"1009.912109\" xlink:href=\"#DejaVuSans-63\"/>\n     <use x=\"1064.892578\" xlink:href=\"#DejaVuSans-6b\"/>\n     <use x=\"1121.052734\" xlink:href=\"#DejaVuSans-61\"/>\n     <use x=\"1182.332031\" xlink:href=\"#DejaVuSans-20\"/>\n     <use x=\"1214.119141\" xlink:href=\"#DejaVuSans-28\"/>\n     <use x=\"1253.132812\" xlink:href=\"#DejaVuSans-6b\"/>\n     <use x=\"1307.917969\" xlink:href=\"#DejaVuSans-75\"/>\n     <use x=\"1371.296875\" xlink:href=\"#DejaVuSans-6d\"/>\n     <use x=\"1468.708984\" xlink:href=\"#DejaVuSans-75\"/>\n     <use x=\"1532.087891\" xlink:href=\"#DejaVuSans-6c\"/>\n     <use x=\"1559.871094\" xlink:href=\"#DejaVuSans-61\"/>\n     <use x=\"1621.150391\" xlink:href=\"#DejaVuSans-74\"/>\n     <use x=\"1660.359375\" xlink:href=\"#DejaVuSans-69\"/>\n     <use x=\"1688.142578\" xlink:href=\"#DejaVuSans-76\"/>\n     <use x=\"1747.322266\" xlink:href=\"#DejaVuSans-74\"/>\n     <use x=\"1786.53125\" xlink:href=\"#DejaVuSans-29\"/>\n    </g>\n   </g>\n  </g>\n  <g id=\"text_55\">\n   <!-- Statistik för Covid-19 i Sverige -->\n   <g transform=\"translate(110.518125 16.318125)scale(0.12 -0.12)\">\n    <defs>\n     <path d=\"M 3425 4513 \nL 3425 3897 \nQ 3066 4069 2747 4153 \nQ 2428 4238 2131 4238 \nQ 1616 4238 1336 4038 \nQ 1056 3838 1056 3469 \nQ 1056 3159 1242 3001 \nQ 1428 2844 1947 2747 \nL 2328 2669 \nQ 3034 2534 3370 2195 \nQ 3706 1856 3706 1288 \nQ 3706 609 3251 259 \nQ 2797 -91 1919 -91 \nQ 1588 -91 1214 -16 \nQ 841 59 441 206 \nL 441 856 \nQ 825 641 1194 531 \nQ 1563 422 1919 422 \nQ 2459 422 2753 634 \nQ 3047 847 3047 1241 \nQ 3047 1584 2836 1778 \nQ 2625 1972 2144 2069 \nL 1759 2144 \nQ 1053 2284 737 2584 \nQ 422 2884 422 3419 \nQ 422 4038 858 4394 \nQ 1294 4750 2059 4750 \nQ 2388 4750 2728 4690 \nQ 3069 4631 3425 4513 \nz\n\" id=\"DejaVuSans-53\" transform=\"scale(0.015625)\"/>\n     <path d=\"M 2834 3397 \nL 2834 2853 \nQ 2591 2978 2328 3040 \nQ 2066 3103 1784 3103 \nQ 1356 3103 1142 2972 \nQ 928 2841 928 2578 \nQ 928 2378 1081 2264 \nQ 1234 2150 1697 2047 \nL 1894 2003 \nQ 2506 1872 2764 1633 \nQ 3022 1394 3022 966 \nQ 3022 478 2636 193 \nQ 2250 -91 1575 -91 \nQ 1294 -91 989 -36 \nQ 684 19 347 128 \nL 347 722 \nQ 666 556 975 473 \nQ 1284 391 1588 391 \nQ 1994 391 2212 530 \nQ 2431 669 2431 922 \nQ 2431 1156 2273 1281 \nQ 2116 1406 1581 1522 \nL 1381 1569 \nQ 847 1681 609 1914 \nQ 372 2147 372 2553 \nQ 372 3047 722 3315 \nQ 1072 3584 1716 3584 \nQ 2034 3584 2315 3537 \nQ 2597 3491 2834 3397 \nz\n\" id=\"DejaVuSans-73\" transform=\"scale(0.015625)\"/>\n     <path d=\"M 1959 3097 \nQ 1497 3097 1228 2736 \nQ 959 2375 959 1747 \nQ 959 1119 1226 758 \nQ 1494 397 1959 397 \nQ 2419 397 2687 759 \nQ 2956 1122 2956 1747 \nQ 2956 2369 2687 2733 \nQ 2419 3097 1959 3097 \nz\nM 1959 3584 \nQ 2709 3584 3137 3096 \nQ 3566 2609 3566 1747 \nQ 3566 888 3137 398 \nQ 2709 -91 1959 -91 \nQ 1206 -91 779 398 \nQ 353 888 353 1747 \nQ 353 2609 779 3096 \nQ 1206 3584 1959 3584 \nz\nM 2254 4850 \nL 2888 4850 \nL 2888 4219 \nL 2254 4219 \nL 2254 4850 \nz\nM 1032 4850 \nL 1666 4850 \nL 1666 4219 \nL 1032 4219 \nL 1032 4850 \nz\n\" id=\"DejaVuSans-f6\" transform=\"scale(0.015625)\"/>\n     <path d=\"M 4122 4306 \nL 4122 3641 \nQ 3803 3938 3442 4084 \nQ 3081 4231 2675 4231 \nQ 1875 4231 1450 3742 \nQ 1025 3253 1025 2328 \nQ 1025 1406 1450 917 \nQ 1875 428 2675 428 \nQ 3081 428 3442 575 \nQ 3803 722 4122 1019 \nL 4122 359 \nQ 3791 134 3420 21 \nQ 3050 -91 2638 -91 \nQ 1578 -91 968 557 \nQ 359 1206 359 2328 \nQ 359 3453 968 4101 \nQ 1578 4750 2638 4750 \nQ 3056 4750 3426 4639 \nQ 3797 4528 4122 4306 \nz\n\" id=\"DejaVuSans-43\" transform=\"scale(0.015625)\"/>\n     <path d=\"M 313 2009 \nL 1997 2009 \nL 1997 1497 \nL 313 1497 \nL 313 2009 \nz\n\" id=\"DejaVuSans-2d\" transform=\"scale(0.015625)\"/>\n     <path d=\"M 2906 1791 \nQ 2906 2416 2648 2759 \nQ 2391 3103 1925 3103 \nQ 1463 3103 1205 2759 \nQ 947 2416 947 1791 \nQ 947 1169 1205 825 \nQ 1463 481 1925 481 \nQ 2391 481 2648 825 \nQ 2906 1169 2906 1791 \nz\nM 3481 434 \nQ 3481 -459 3084 -895 \nQ 2688 -1331 1869 -1331 \nQ 1566 -1331 1297 -1286 \nQ 1028 -1241 775 -1147 \nL 775 -588 \nQ 1028 -725 1275 -790 \nQ 1522 -856 1778 -856 \nQ 2344 -856 2625 -561 \nQ 2906 -266 2906 331 \nL 2906 616 \nQ 2728 306 2450 153 \nQ 2172 0 1784 0 \nQ 1141 0 747 490 \nQ 353 981 353 1791 \nQ 353 2603 747 3093 \nQ 1141 3584 1784 3584 \nQ 2172 3584 2450 3431 \nQ 2728 3278 2906 2969 \nL 2906 3500 \nL 3481 3500 \nL 3481 434 \nz\n\" id=\"DejaVuSans-67\" transform=\"scale(0.015625)\"/>\n    </defs>\n    <use xlink:href=\"#DejaVuSans-53\"/>\n    <use x=\"63.476562\" xlink:href=\"#DejaVuSans-74\"/>\n    <use x=\"102.685547\" xlink:href=\"#DejaVuSans-61\"/>\n    <use x=\"163.964844\" xlink:href=\"#DejaVuSans-74\"/>\n    <use x=\"203.173828\" xlink:href=\"#DejaVuSans-69\"/>\n    <use x=\"230.957031\" xlink:href=\"#DejaVuSans-73\"/>\n    <use x=\"283.056641\" xlink:href=\"#DejaVuSans-74\"/>\n    <use x=\"322.265625\" xlink:href=\"#DejaVuSans-69\"/>\n    <use x=\"350.048828\" xlink:href=\"#DejaVuSans-6b\"/>\n    <use x=\"407.958984\" xlink:href=\"#DejaVuSans-20\"/>\n    <use x=\"439.746094\" xlink:href=\"#DejaVuSans-66\"/>\n    <use x=\"474.951172\" xlink:href=\"#DejaVuSans-f6\"/>\n    <use x=\"536.132812\" xlink:href=\"#DejaVuSans-72\"/>\n    <use x=\"577.246094\" xlink:href=\"#DejaVuSans-20\"/>\n    <use x=\"609.033203\" xlink:href=\"#DejaVuSans-43\"/>\n    <use x=\"678.857422\" xlink:href=\"#DejaVuSans-6f\"/>\n    <use x=\"740.039062\" xlink:href=\"#DejaVuSans-76\"/>\n    <use x=\"799.21875\" xlink:href=\"#DejaVuSans-69\"/>\n    <use x=\"827.001953\" xlink:href=\"#DejaVuSans-64\"/>\n    <use x=\"890.478516\" xlink:href=\"#DejaVuSans-2d\"/>\n    <use x=\"926.5625\" xlink:href=\"#DejaVuSans-31\"/>\n    <use x=\"990.185547\" xlink:href=\"#DejaVuSans-39\"/>\n    <use x=\"1053.808594\" xlink:href=\"#DejaVuSans-20\"/>\n    <use x=\"1085.595703\" xlink:href=\"#DejaVuSans-69\"/>\n    <use x=\"1113.378906\" xlink:href=\"#DejaVuSans-20\"/>\n    <use x=\"1145.166016\" xlink:href=\"#DejaVuSans-53\"/>\n    <use x=\"1208.642578\" xlink:href=\"#DejaVuSans-76\"/>\n    <use x=\"1267.822266\" xlink:href=\"#DejaVuSans-65\"/>\n    <use x=\"1329.345703\" xlink:href=\"#DejaVuSans-72\"/>\n    <use x=\"1370.458984\" xlink:href=\"#DejaVuSans-69\"/>\n    <use x=\"1398.242188\" xlink:href=\"#DejaVuSans-67\"/>\n    <use x=\"1461.71875\" xlink:href=\"#DejaVuSans-65\"/>\n   </g>\n  </g>\n </g>\n <defs>\n  <clipPath id=\"p2612d39d3a\">\n   <rect height=\"80.307692\" width=\"139.5\" x=\"39.913125\" y=\"44.64\"/>\n  </clipPath>\n  <clipPath id=\"p8d5fe97294\">\n   <rect height=\"80.307692\" width=\"139.5\" x=\"235.213125\" y=\"44.64\"/>\n  </clipPath>\n  <clipPath id=\"p2b2bc15b53\">\n   <rect height=\"80.307692\" width=\"139.5\" x=\"39.913125\" y=\"173.132308\"/>\n  </clipPath>\n  <clipPath id=\"p79bdddc5c1\">\n   <rect height=\"80.307692\" width=\"139.5\" x=\"235.213125\" y=\"173.132308\"/>\n  </clipPath>\n </defs>\n</svg>\n",
      "image/png": "[encoded data removed]"
     },
     "metadata": {}
    }
   ],
   "metadata": {}
  },
  {
   "cell_type": "code",
   "execution_count": 9,
   "source": [
    "def create_plotly_linefig(y_data1:str, y_label:str, title:str, y_data2:str=None, y_data1_legend_label:str=None, y_data2_legend_label:str=None) -> px.line:\n",
    "        \"\"\"\n",
    "        Creates a plotly express line plot from the covid19 dataset.\n",
    "        \n",
    "        Parameters\n",
    "        ----------\n",
    "        y_data1:str\n",
    "                The name of the first column to be plotted on the y-axis.\n",
    "        y_label:str\n",
    "                The label on the y-axis.\n",
    "        title:str\n",
    "                The title of the plot.\n",
    "        y_data2:str\n",
    "                The name of the second column to be plotted on the y-axis (default None).\n",
    "        y_data1_legend_label:str\n",
    "                The name of the first y-data, to be shown in the legend (default None).\n",
    "        y_data2_legend_label:str\n",
    "                The name of the first y-data, to be shown in the legend (default None).     \n",
    "        \n",
    "        Returns\n",
    "        -------\n",
    "        A plotly express lineplot figure.\n",
    "        \"\"\"\n",
    "\n",
    "        #Creates a list of labels for the ticks (every other week)\n",
    "        tick_labels = [f\"v.{i} 2020\" for i in range(6, 54, 2)]\n",
    "        tick_labels.extend([f\"v.{i} 2021\" for i in range(1, 42, 2)])\n",
    "\n",
    "        #Creates a list of the real values (every other week)\n",
    "        real_labels = [f\"2020v{i}\" for i in range(6, 54, 2)]\n",
    "        real_labels.extend([f\"2021v{i}\" for i in range(1, 42, 2)])\n",
    "\n",
    "        #Creates labels for hover (all weeks)\n",
    "        hover_labels = [f\"v.{i} 2020\" for i in range(6, 54)]\n",
    "        hover_labels.extend([f\"v.{i} 2021\" for i in range(1, 42)])\n",
    "\n",
    "        #Creates a template to be used in the hover (used in update_traces)\n",
    "        hover_template = '<br>%{customdata}<br>Antal personer: %{y}<br><extra></extra>' #<extra></extra> removes the secondary box\n",
    "        \n",
    "        #Creates the figure\n",
    "        if y_data2 == None:\n",
    "                fig = px.line(covid19, x=\"Vecka\", y=y_data1, title=title)\n",
    "                fig.update_layout(showlegend=False) #Removes the legend\n",
    "        else:\n",
    "                fig = px.line(\n",
    "                        covid19, \n",
    "                        x=\"Vecka\",      \n",
    "                        y=[y_data1, y_data2],\n",
    "                        title=title,\n",
    "                        hover_data={\"Vecka\":False, y_data1:False, y_data2:False} #Removes all information about the data from the hover/legend\n",
    "                        )\n",
    "                #Adds the two lines in one plot and sets a name that will be shown in the legend.\n",
    "                fig.add_trace(go.Scatter(x=covid19[\"Vecka\"], y=covid19[y_data1], name=y_data1_legend_label))\n",
    "                fig.add_trace(go.Scatter(x=covid19[\"Vecka\"], y=covid19[y_data2], name=y_data2_legend_label))\n",
    "\n",
    "        #Customise hover\n",
    "        fig.update_traces(customdata=hover_labels, hovertemplate=hover_template, mode=\"markers+lines\") #hover_labels is assigned to customdata, so that it can be used in the hovertemplate\n",
    "\n",
    "        #Sets the label of the y-axis and the ticks for the x-axis\n",
    "        fig.update_layout(\n",
    "                yaxis=dict(title=y_label),\n",
    "                xaxis = dict(tickmode = 'array', \n",
    "                        tick0 = 0, \n",
    "                        dtick = 2, #Show every other tick/week\n",
    "                        ticktext=tick_labels, #The tick_labels (created above) should be shown\n",
    "                        tickvals=real_labels #These are the old values that should be overwritten in the plot\n",
    "                        ))\n",
    "\n",
    "        return fig"
   ],
   "outputs": [],
   "metadata": {}
  },
  {
   "cell_type": "code",
   "execution_count": 118,
   "source": [
    "#TODO: Check how to save it in html\n",
    "plot1 = create_plotly_linefig(\"Antal_avlidna_vecka\", \"Antal\", \"Avlidna i Covid-19 i Sverige (per vecka)\")\n",
    "plot1.show()\n",
    "plot1.write_html('deceased_per_week.html', auto_open=True)"
   ],
   "outputs": [
    {
     "output_type": "display_data",
     "data": {
      "application/vnd.plotly.v1+json": {
       "config": {
        "plotlyServerURL": "https://plot.ly"
       },
       "data": [
        {
         "customdata": [
          "v.6 2020",
          "v.7 2020",
          "v.8 2020",
          "v.9 2020",
          "v.10 2020",
          "v.11 2020",
          "v.12 2020",
          "v.13 2020",
          "v.14 2020",
          "v.15 2020",
          "v.16 2020",
          "v.17 2020",
          "v.18 2020",
          "v.19 2020",
          "v.20 2020",
          "v.21 2020",
          "v.22 2020",
          "v.23 2020",
          "v.24 2020",
          "v.25 2020",
          "v.26 2020",
          "v.27 2020",
          "v.28 2020",
          "v.29 2020",
          "v.30 2020",
          "v.31 2020",
          "v.32 2020",
          "v.33 2020",
          "v.34 2020",
          "v.35 2020",
          "v.36 2020",
          "v.37 2020",
          "v.38 2020",
          "v.39 2020",
          "v.40 2020",
          "v.41 2020",
          "v.42 2020",
          "v.43 2020",
          "v.44 2020",
          "v.45 2020",
          "v.46 2020",
          "v.47 2020",
          "v.48 2020",
          "v.49 2020",
          "v.50 2020",
          "v.51 2020",
          "v.52 2020",
          "v.53 2020",
          "v.1 2021",
          "v.2 2021",
          "v.3 2021",
          "v.4 2021",
          "v.5 2021",
          "v.6 2021",
          "v.7 2021",
          "v.8 2021",
          "v.9 2021",
          "v.10 2021",
          "v.11 2021",
          "v.12 2021",
          "v.13 2021",
          "v.14 2021",
          "v.15 2021",
          "v.16 2021",
          "v.17 2021",
          "v.18 2021",
          "v.19 2021",
          "v.20 2021",
          "v.21 2021",
          "v.22 2021",
          "v.23 2021",
          "v.24 2021",
          "v.25 2021",
          "v.26 2021",
          "v.27 2021",
          "v.28 2021",
          "v.29 2021",
          "v.30 2021",
          "v.31 2021",
          "v.32 2021",
          "v.33 2021",
          "v.34 2021",
          "v.35 2021",
          "v.36 2021",
          "v.37 2021",
          "v.38 2021",
          "v.39 2021",
          "v.40 2021",
          "v.41 2021"
         ],
         "hovertemplate": "<br>%{customdata}<br>Antal personer: %{y}<br><extra></extra>",
         "legendgroup": "",
         "line": {
          "color": "#636efa",
          "dash": "solid"
         },
         "marker": {
          "symbol": "circle"
         },
         "mode": "markers+lines",
         "name": "",
         "orientation": "v",
         "showlegend": false,
         "type": "scatter",
         "x": [
          "2020v6",
          "2020v7",
          "2020v8",
          "2020v9",
          "2020v10",
          "2020v11",
          "2020v12",
          "2020v13",
          "2020v14",
          "2020v15",
          "2020v16",
          "2020v17",
          "2020v18",
          "2020v19",
          "2020v20",
          "2020v21",
          "2020v22",
          "2020v23",
          "2020v24",
          "2020v25",
          "2020v26",
          "2020v27",
          "2020v28",
          "2020v29",
          "2020v30",
          "2020v31",
          "2020v32",
          "2020v33",
          "2020v34",
          "2020v35",
          "2020v36",
          "2020v37",
          "2020v38",
          "2020v39",
          "2020v40",
          "2020v41",
          "2020v42",
          "2020v43",
          "2020v44",
          "2020v45",
          "2020v46",
          "2020v47",
          "2020v48",
          "2020v49",
          "2020v50",
          "2020v51",
          "2020v52",
          "2020v53",
          "2021v1",
          "2021v2",
          "2021v3",
          "2021v4",
          "2021v5",
          "2021v6",
          "2021v7",
          "2021v8",
          "2021v9",
          "2021v10",
          "2021v11",
          "2021v12",
          "2021v13",
          "2021v14",
          "2021v15",
          "2021v16",
          "2021v17",
          "2021v18",
          "2021v19",
          "2021v20",
          "2021v21",
          "2021v22",
          "2021v23",
          "2021v24",
          "2021v25",
          "2021v26",
          "2021v27",
          "2021v28",
          "2021v29",
          "2021v30",
          "2021v31",
          "2021v32",
          "2021v33",
          "2021v34",
          "2021v35",
          "2021v36",
          "2021v37",
          "2021v38",
          "2021v39",
          "2021v40",
          "2021v41"
         ],
         "xaxis": "x",
         "y": [
          0,
          0,
          0,
          0,
          0,
          5,
          44,
          190,
          451,
          664,
          657,
          546,
          543,
          509,
          380,
          360,
          272,
          246,
          234,
          200,
          138,
          98,
          84,
          57,
          30,
          18,
          18,
          16,
          19,
          10,
          12,
          13,
          12,
          11,
          17,
          22,
          16,
          43,
          82,
          157,
          235,
          332,
          417,
          476,
          501,
          645,
          643,
          663,
          644,
          598,
          513,
          389,
          269,
          205,
          171,
          146,
          128,
          140,
          127,
          125,
          141,
          133,
          140,
          131,
          114,
          105,
          111,
          69,
          47,
          39,
          22,
          17,
          9,
          8,
          3,
          2,
          3,
          3,
          7,
          6,
          9,
          20,
          26,
          49,
          52,
          40,
          37,
          42,
          18
         ],
         "yaxis": "y"
        }
       ],
       "layout": {
        "legend": {
         "tracegroupgap": 0
        },
        "showlegend": false,
        "template": {
         "data": {
          "bar": [
           {
            "error_x": {
             "color": "#2a3f5f"
            },
            "error_y": {
             "color": "#2a3f5f"
            },
            "marker": {
             "line": {
              "color": "#E5ECF6",
              "width": 0.5
             },
             "pattern": {
              "fillmode": "overlay",
              "size": 10,
              "solidity": 0.2
             }
            },
            "type": "bar"
           }
          ],
          "barpolar": [
           {
            "marker": {
             "line": {
              "color": "#E5ECF6",
              "width": 0.5
             },
             "pattern": {
              "fillmode": "overlay",
              "size": 10,
              "solidity": 0.2
             }
            },
            "type": "barpolar"
           }
          ],
          "carpet": [
           {
            "aaxis": {
             "endlinecolor": "#2a3f5f",
             "gridcolor": "white",
             "linecolor": "white",
             "minorgridcolor": "white",
             "startlinecolor": "#2a3f5f"
            },
            "baxis": {
             "endlinecolor": "#2a3f5f",
             "gridcolor": "white",
             "linecolor": "white",
             "minorgridcolor": "white",
             "startlinecolor": "#2a3f5f"
            },
            "type": "carpet"
           }
          ],
          "choropleth": [
           {
            "colorbar": {
             "outlinewidth": 0,
             "ticks": ""
            },
            "type": "choropleth"
           }
          ],
          "contour": [
           {
            "colorbar": {
             "outlinewidth": 0,
             "ticks": ""
            },
            "colorscale": [
             [
              0,
              "#0d0887"
             ],
             [
              0.1111111111111111,
              "#46039f"
             ],
             [
              0.2222222222222222,
              "#7201a8"
             ],
             [
              0.3333333333333333,
              "#9c179e"
             ],
             [
              0.4444444444444444,
              "#bd3786"
             ],
             [
              0.5555555555555556,
              "#d8576b"
             ],
             [
              0.6666666666666666,
              "#ed7953"
             ],
             [
              0.7777777777777778,
              "#fb9f3a"
             ],
             [
              0.8888888888888888,
              "#fdca26"
             ],
             [
              1,
              "#f0f921"
             ]
            ],
            "type": "contour"
           }
          ],
          "contourcarpet": [
           {
            "colorbar": {
             "outlinewidth": 0,
             "ticks": ""
            },
            "type": "contourcarpet"
           }
          ],
          "heatmap": [
           {
            "colorbar": {
             "outlinewidth": 0,
             "ticks": ""
            },
            "colorscale": [
             [
              0,
              "#0d0887"
             ],
             [
              0.1111111111111111,
              "#46039f"
             ],
             [
              0.2222222222222222,
              "#7201a8"
             ],
             [
              0.3333333333333333,
              "#9c179e"
             ],
             [
              0.4444444444444444,
              "#bd3786"
             ],
             [
              0.5555555555555556,
              "#d8576b"
             ],
             [
              0.6666666666666666,
              "#ed7953"
             ],
             [
              0.7777777777777778,
              "#fb9f3a"
             ],
             [
              0.8888888888888888,
              "#fdca26"
             ],
             [
              1,
              "#f0f921"
             ]
            ],
            "type": "heatmap"
           }
          ],
          "heatmapgl": [
           {
            "colorbar": {
             "outlinewidth": 0,
             "ticks": ""
            },
            "colorscale": [
             [
              0,
              "#0d0887"
             ],
             [
              0.1111111111111111,
              "#46039f"
             ],
             [
              0.2222222222222222,
              "#7201a8"
             ],
             [
              0.3333333333333333,
              "#9c179e"
             ],
             [
              0.4444444444444444,
              "#bd3786"
             ],
             [
              0.5555555555555556,
              "#d8576b"
             ],
             [
              0.6666666666666666,
              "#ed7953"
             ],
             [
              0.7777777777777778,
              "#fb9f3a"
             ],
             [
              0.8888888888888888,
              "#fdca26"
             ],
             [
              1,
              "#f0f921"
             ]
            ],
            "type": "heatmapgl"
           }
          ],
          "histogram": [
           {
            "marker": {
             "pattern": {
              "fillmode": "overlay",
              "size": 10,
              "solidity": 0.2
             }
            },
            "type": "histogram"
           }
          ],
          "histogram2d": [
           {
            "colorbar": {
             "outlinewidth": 0,
             "ticks": ""
            },
            "colorscale": [
             [
              0,
              "#0d0887"
             ],
             [
              0.1111111111111111,
              "#46039f"
             ],
             [
              0.2222222222222222,
              "#7201a8"
             ],
             [
              0.3333333333333333,
              "#9c179e"
             ],
             [
              0.4444444444444444,
              "#bd3786"
             ],
             [
              0.5555555555555556,
              "#d8576b"
             ],
             [
              0.6666666666666666,
              "#ed7953"
             ],
             [
              0.7777777777777778,
              "#fb9f3a"
             ],
             [
              0.8888888888888888,
              "#fdca26"
             ],
             [
              1,
              "#f0f921"
             ]
            ],
            "type": "histogram2d"
           }
          ],
          "histogram2dcontour": [
           {
            "colorbar": {
             "outlinewidth": 0,
             "ticks": ""
            },
            "colorscale": [
             [
              0,
              "#0d0887"
             ],
             [
              0.1111111111111111,
              "#46039f"
             ],
             [
              0.2222222222222222,
              "#7201a8"
             ],
             [
              0.3333333333333333,
              "#9c179e"
             ],
             [
              0.4444444444444444,
              "#bd3786"
             ],
             [
              0.5555555555555556,
              "#d8576b"
             ],
             [
              0.6666666666666666,
              "#ed7953"
             ],
             [
              0.7777777777777778,
              "#fb9f3a"
             ],
             [
              0.8888888888888888,
              "#fdca26"
             ],
             [
              1,
              "#f0f921"
             ]
            ],
            "type": "histogram2dcontour"
           }
          ],
          "mesh3d": [
           {
            "colorbar": {
             "outlinewidth": 0,
             "ticks": ""
            },
            "type": "mesh3d"
           }
          ],
          "parcoords": [
           {
            "line": {
             "colorbar": {
              "outlinewidth": 0,
              "ticks": ""
             }
            },
            "type": "parcoords"
           }
          ],
          "pie": [
           {
            "automargin": true,
            "type": "pie"
           }
          ],
          "scatter": [
           {
            "marker": {
             "colorbar": {
              "outlinewidth": 0,
              "ticks": ""
             }
            },
            "type": "scatter"
           }
          ],
          "scatter3d": [
           {
            "line": {
             "colorbar": {
              "outlinewidth": 0,
              "ticks": ""
             }
            },
            "marker": {
             "colorbar": {
              "outlinewidth": 0,
              "ticks": ""
             }
            },
            "type": "scatter3d"
           }
          ],
          "scattercarpet": [
           {
            "marker": {
             "colorbar": {
              "outlinewidth": 0,
              "ticks": ""
             }
            },
            "type": "scattercarpet"
           }
          ],
          "scattergeo": [
           {
            "marker": {
             "colorbar": {
              "outlinewidth": 0,
              "ticks": ""
             }
            },
            "type": "scattergeo"
           }
          ],
          "scattergl": [
           {
            "marker": {
             "colorbar": {
              "outlinewidth": 0,
              "ticks": ""
             }
            },
            "type": "scattergl"
           }
          ],
          "scattermapbox": [
           {
            "marker": {
             "colorbar": {
              "outlinewidth": 0,
              "ticks": ""
             }
            },
            "type": "scattermapbox"
           }
          ],
          "scatterpolar": [
           {
            "marker": {
             "colorbar": {
              "outlinewidth": 0,
              "ticks": ""
             }
            },
            "type": "scatterpolar"
           }
          ],
          "scatterpolargl": [
           {
            "marker": {
             "colorbar": {
              "outlinewidth": 0,
              "ticks": ""
             }
            },
            "type": "scatterpolargl"
           }
          ],
          "scatterternary": [
           {
            "marker": {
             "colorbar": {
              "outlinewidth": 0,
              "ticks": ""
             }
            },
            "type": "scatterternary"
           }
          ],
          "surface": [
           {
            "colorbar": {
             "outlinewidth": 0,
             "ticks": ""
            },
            "colorscale": [
             [
              0,
              "#0d0887"
             ],
             [
              0.1111111111111111,
              "#46039f"
             ],
             [
              0.2222222222222222,
              "#7201a8"
             ],
             [
              0.3333333333333333,
              "#9c179e"
             ],
             [
              0.4444444444444444,
              "#bd3786"
             ],
             [
              0.5555555555555556,
              "#d8576b"
             ],
             [
              0.6666666666666666,
              "#ed7953"
             ],
             [
              0.7777777777777778,
              "#fb9f3a"
             ],
             [
              0.8888888888888888,
              "#fdca26"
             ],
             [
              1,
              "#f0f921"
             ]
            ],
            "type": "surface"
           }
          ],
          "table": [
           {
            "cells": {
             "fill": {
              "color": "#EBF0F8"
             },
             "line": {
              "color": "white"
             }
            },
            "header": {
             "fill": {
              "color": "#C8D4E3"
             },
             "line": {
              "color": "white"
             }
            },
            "type": "table"
           }
          ]
         },
         "layout": {
          "annotationdefaults": {
           "arrowcolor": "#2a3f5f",
           "arrowhead": 0,
           "arrowwidth": 1
          },
          "autotypenumbers": "strict",
          "coloraxis": {
           "colorbar": {
            "outlinewidth": 0,
            "ticks": ""
           }
          },
          "colorscale": {
           "diverging": [
            [
             0,
             "#8e0152"
            ],
            [
             0.1,
             "#c51b7d"
            ],
            [
             0.2,
             "#de77ae"
            ],
            [
             0.3,
             "#f1b6da"
            ],
            [
             0.4,
             "#fde0ef"
            ],
            [
             0.5,
             "#f7f7f7"
            ],
            [
             0.6,
             "#e6f5d0"
            ],
            [
             0.7,
             "#b8e186"
            ],
            [
             0.8,
             "#7fbc41"
            ],
            [
             0.9,
             "#4d9221"
            ],
            [
             1,
             "#276419"
            ]
           ],
           "sequential": [
            [
             0,
             "#0d0887"
            ],
            [
             0.1111111111111111,
             "#46039f"
            ],
            [
             0.2222222222222222,
             "#7201a8"
            ],
            [
             0.3333333333333333,
             "#9c179e"
            ],
            [
             0.4444444444444444,
             "#bd3786"
            ],
            [
             0.5555555555555556,
             "#d8576b"
            ],
            [
             0.6666666666666666,
             "#ed7953"
            ],
            [
             0.7777777777777778,
             "#fb9f3a"
            ],
            [
             0.8888888888888888,
             "#fdca26"
            ],
            [
             1,
             "#f0f921"
            ]
           ],
           "sequentialminus": [
            [
             0,
             "#0d0887"
            ],
            [
             0.1111111111111111,
             "#46039f"
            ],
            [
             0.2222222222222222,
             "#7201a8"
            ],
            [
             0.3333333333333333,
             "#9c179e"
            ],
            [
             0.4444444444444444,
             "#bd3786"
            ],
            [
             0.5555555555555556,
             "#d8576b"
            ],
            [
             0.6666666666666666,
             "#ed7953"
            ],
            [
             0.7777777777777778,
             "#fb9f3a"
            ],
            [
             0.8888888888888888,
             "#fdca26"
            ],
            [
             1,
             "#f0f921"
            ]
           ]
          },
          "colorway": [
           "#636efa",
           "#EF553B",
           "#00cc96",
           "#ab63fa",
           "#FFA15A",
           "#19d3f3",
           "#FF6692",
           "#B6E880",
           "#FF97FF",
           "#FECB52"
          ],
          "font": {
           "color": "#2a3f5f"
          },
          "geo": {
           "bgcolor": "white",
           "lakecolor": "white",
           "landcolor": "#E5ECF6",
           "showlakes": true,
           "showland": true,
           "subunitcolor": "white"
          },
          "hoverlabel": {
           "align": "left"
          },
          "hovermode": "closest",
          "mapbox": {
           "style": "light"
          },
          "paper_bgcolor": "white",
          "plot_bgcolor": "#E5ECF6",
          "polar": {
           "angularaxis": {
            "gridcolor": "white",
            "linecolor": "white",
            "ticks": ""
           },
           "bgcolor": "#E5ECF6",
           "radialaxis": {
            "gridcolor": "white",
            "linecolor": "white",
            "ticks": ""
           }
          },
          "scene": {
           "xaxis": {
            "backgroundcolor": "#E5ECF6",
            "gridcolor": "white",
            "gridwidth": 2,
            "linecolor": "white",
            "showbackground": true,
            "ticks": "",
            "zerolinecolor": "white"
           },
           "yaxis": {
            "backgroundcolor": "#E5ECF6",
            "gridcolor": "white",
            "gridwidth": 2,
            "linecolor": "white",
            "showbackground": true,
            "ticks": "",
            "zerolinecolor": "white"
           },
           "zaxis": {
            "backgroundcolor": "#E5ECF6",
            "gridcolor": "white",
            "gridwidth": 2,
            "linecolor": "white",
            "showbackground": true,
            "ticks": "",
            "zerolinecolor": "white"
           }
          },
          "shapedefaults": {
           "line": {
            "color": "#2a3f5f"
           }
          },
          "ternary": {
           "aaxis": {
            "gridcolor": "white",
            "linecolor": "white",
            "ticks": ""
           },
           "baxis": {
            "gridcolor": "white",
            "linecolor": "white",
            "ticks": ""
           },
           "bgcolor": "#E5ECF6",
           "caxis": {
            "gridcolor": "white",
            "linecolor": "white",
            "ticks": ""
           }
          },
          "title": {
           "x": 0.05
          },
          "xaxis": {
           "automargin": true,
           "gridcolor": "white",
           "linecolor": "white",
           "ticks": "",
           "title": {
            "standoff": 15
           },
           "zerolinecolor": "white",
           "zerolinewidth": 2
          },
          "yaxis": {
           "automargin": true,
           "gridcolor": "white",
           "linecolor": "white",
           "ticks": "",
           "title": {
            "standoff": 15
           },
           "zerolinecolor": "white",
           "zerolinewidth": 2
          }
         }
        },
        "title": {
         "text": "Avlidna i Covid-19 i Sverige (per vecka)"
        },
        "xaxis": {
         "anchor": "y",
         "domain": [
          0,
          1
         ],
         "dtick": 2,
         "tick0": 0,
         "tickmode": "array",
         "ticktext": [
          "v.6 2020",
          "v.8 2020",
          "v.10 2020",
          "v.12 2020",
          "v.14 2020",
          "v.16 2020",
          "v.18 2020",
          "v.20 2020",
          "v.22 2020",
          "v.24 2020",
          "v.26 2020",
          "v.28 2020",
          "v.30 2020",
          "v.32 2020",
          "v.34 2020",
          "v.36 2020",
          "v.38 2020",
          "v.40 2020",
          "v.42 2020",
          "v.44 2020",
          "v.46 2020",
          "v.48 2020",
          "v.50 2020",
          "v.52 2020",
          "v.1 2021",
          "v.3 2021",
          "v.5 2021",
          "v.7 2021",
          "v.9 2021",
          "v.11 2021",
          "v.13 2021",
          "v.15 2021",
          "v.17 2021",
          "v.19 2021",
          "v.21 2021",
          "v.23 2021",
          "v.25 2021",
          "v.27 2021",
          "v.29 2021",
          "v.31 2021",
          "v.33 2021",
          "v.35 2021",
          "v.37 2021",
          "v.39 2021",
          "v.41 2021"
         ],
         "tickvals": [
          "2020v6",
          "2020v8",
          "2020v10",
          "2020v12",
          "2020v14",
          "2020v16",
          "2020v18",
          "2020v20",
          "2020v22",
          "2020v24",
          "2020v26",
          "2020v28",
          "2020v30",
          "2020v32",
          "2020v34",
          "2020v36",
          "2020v38",
          "2020v40",
          "2020v42",
          "2020v44",
          "2020v46",
          "2020v48",
          "2020v50",
          "2020v52",
          "2021v1",
          "2021v3",
          "2021v5",
          "2021v7",
          "2021v9",
          "2021v11",
          "2021v13",
          "2021v15",
          "2021v17",
          "2021v19",
          "2021v21",
          "2021v23",
          "2021v25",
          "2021v27",
          "2021v29",
          "2021v31",
          "2021v33",
          "2021v35",
          "2021v37",
          "2021v39",
          "2021v41"
         ],
         "title": {
          "text": "Vecka"
         }
        },
        "yaxis": {
         "anchor": "x",
         "domain": [
          0,
          1
         ],
         "title": {
          "text": "Antal"
         }
        }
       }
      }
     },
     "metadata": {}
    }
   ],
   "metadata": {}
  },
  {
   "cell_type": "code",
   "execution_count": 11,
   "source": [
    "plot2 = create_plotly_linefig(\"Antal_fall_vecka\", \"Antal\", \"Nya fall av Covid-19 i Sverige (per vecka)\")\n",
    "plot2.show()\n",
    "plot2.write_html('new_cases.html', auto_open=True)"
   ],
   "outputs": [
    {
     "output_type": "display_data",
     "data": {
      "application/vnd.plotly.v1+json": {
       "config": {
        "plotlyServerURL": "https://plot.ly"
       },
       "data": [
        {
         "customdata": [
          "v.6 2020",
          "v.7 2020",
          "v.8 2020",
          "v.9 2020",
          "v.10 2020",
          "v.11 2020",
          "v.12 2020",
          "v.13 2020",
          "v.14 2020",
          "v.15 2020",
          "v.16 2020",
          "v.17 2020",
          "v.18 2020",
          "v.19 2020",
          "v.20 2020",
          "v.21 2020",
          "v.22 2020",
          "v.23 2020",
          "v.24 2020",
          "v.25 2020",
          "v.26 2020",
          "v.27 2020",
          "v.28 2020",
          "v.29 2020",
          "v.30 2020",
          "v.31 2020",
          "v.32 2020",
          "v.33 2020",
          "v.34 2020",
          "v.35 2020",
          "v.36 2020",
          "v.37 2020",
          "v.38 2020",
          "v.39 2020",
          "v.40 2020",
          "v.41 2020",
          "v.42 2020",
          "v.43 2020",
          "v.44 2020",
          "v.45 2020",
          "v.46 2020",
          "v.47 2020",
          "v.48 2020",
          "v.49 2020",
          "v.50 2020",
          "v.51 2020",
          "v.52 2020",
          "v.53 2020",
          "v.1 2021",
          "v.2 2021",
          "v.3 2021",
          "v.4 2021",
          "v.5 2021",
          "v.6 2021",
          "v.7 2021",
          "v.8 2021",
          "v.9 2021",
          "v.10 2021",
          "v.11 2021",
          "v.12 2021",
          "v.13 2021",
          "v.14 2021",
          "v.15 2021",
          "v.16 2021",
          "v.17 2021",
          "v.18 2021",
          "v.19 2021",
          "v.20 2021",
          "v.21 2021",
          "v.22 2021",
          "v.23 2021",
          "v.24 2021",
          "v.25 2021",
          "v.26 2021",
          "v.27 2021",
          "v.28 2021",
          "v.29 2021",
          "v.30 2021",
          "v.31 2021",
          "v.32 2021",
          "v.33 2021",
          "v.34 2021",
          "v.35 2021",
          "v.36 2021",
          "v.37 2021",
          "v.38 2021",
          "v.39 2021",
          "v.40 2021",
          "v.41 2021"
         ],
         "hovertemplate": "<br>%{customdata}<br>Antal personer: %{y}<br><extra></extra>",
         "legendgroup": "",
         "line": {
          "color": "#636efa",
          "dash": "solid"
         },
         "marker": {
          "symbol": "circle"
         },
         "mode": "markers+lines",
         "name": "",
         "orientation": "v",
         "showlegend": false,
         "type": "scatter",
         "x": [
          "2020v6",
          "2020v7",
          "2020v8",
          "2020v9",
          "2020v10",
          "2020v11",
          "2020v12",
          "2020v13",
          "2020v14",
          "2020v15",
          "2020v16",
          "2020v17",
          "2020v18",
          "2020v19",
          "2020v20",
          "2020v21",
          "2020v22",
          "2020v23",
          "2020v24",
          "2020v25",
          "2020v26",
          "2020v27",
          "2020v28",
          "2020v29",
          "2020v30",
          "2020v31",
          "2020v32",
          "2020v33",
          "2020v34",
          "2020v35",
          "2020v36",
          "2020v37",
          "2020v38",
          "2020v39",
          "2020v40",
          "2020v41",
          "2020v42",
          "2020v43",
          "2020v44",
          "2020v45",
          "2020v46",
          "2020v47",
          "2020v48",
          "2020v49",
          "2020v50",
          "2020v51",
          "2020v52",
          "2020v53",
          "2021v1",
          "2021v2",
          "2021v3",
          "2021v4",
          "2021v5",
          "2021v6",
          "2021v7",
          "2021v8",
          "2021v9",
          "2021v10",
          "2021v11",
          "2021v12",
          "2021v13",
          "2021v14",
          "2021v15",
          "2021v16",
          "2021v17",
          "2021v18",
          "2021v19",
          "2021v20",
          "2021v21",
          "2021v22",
          "2021v23",
          "2021v24",
          "2021v25",
          "2021v26",
          "2021v27",
          "2021v28",
          "2021v29",
          "2021v30",
          "2021v31",
          "2021v32",
          "2021v33",
          "2021v34",
          "2021v35",
          "2021v36",
          "2021v37",
          "2021v38",
          "2021v39",
          "2021v40",
          "2021v41"
         ],
         "xaxis": "x",
         "y": [
          1,
          0,
          0,
          13,
          211,
          838,
          924,
          1957,
          3229,
          3740,
          3752,
          4203,
          3832,
          4153,
          3869,
          3659,
          4280,
          6021,
          7123,
          7073,
          7455,
          4279,
          2179,
          1622,
          1316,
          1556,
          2014,
          2052,
          1687,
          1200,
          1332,
          1592,
          2080,
          2919,
          3642,
          4278,
          5620,
          9155,
          18474,
          25405,
          31319,
          31944,
          35560,
          36837,
          43631,
          46177,
          37134,
          41323,
          39455,
          28942,
          23230,
          20660,
          19605,
          21283,
          23615,
          26690,
          27748,
          28555,
          33033,
          37881,
          38386,
          41147,
          41038,
          36032,
          35306,
          33680,
          25916,
          18169,
          7974,
          9094,
          4394,
          2848,
          1982,
          1869,
          1514,
          1881,
          2662,
          3459,
          4608,
          5820,
          6466,
          6688,
          7236,
          7972,
          6266,
          4298,
          4241,
          4141,
          4062
         ],
         "yaxis": "y"
        }
       ],
       "layout": {
        "legend": {
         "tracegroupgap": 0
        },
        "showlegend": false,
        "template": {
         "data": {
          "bar": [
           {
            "error_x": {
             "color": "#2a3f5f"
            },
            "error_y": {
             "color": "#2a3f5f"
            },
            "marker": {
             "line": {
              "color": "#E5ECF6",
              "width": 0.5
             },
             "pattern": {
              "fillmode": "overlay",
              "size": 10,
              "solidity": 0.2
             }
            },
            "type": "bar"
           }
          ],
          "barpolar": [
           {
            "marker": {
             "line": {
              "color": "#E5ECF6",
              "width": 0.5
             },
             "pattern": {
              "fillmode": "overlay",
              "size": 10,
              "solidity": 0.2
             }
            },
            "type": "barpolar"
           }
          ],
          "carpet": [
           {
            "aaxis": {
             "endlinecolor": "#2a3f5f",
             "gridcolor": "white",
             "linecolor": "white",
             "minorgridcolor": "white",
             "startlinecolor": "#2a3f5f"
            },
            "baxis": {
             "endlinecolor": "#2a3f5f",
             "gridcolor": "white",
             "linecolor": "white",
             "minorgridcolor": "white",
             "startlinecolor": "#2a3f5f"
            },
            "type": "carpet"
           }
          ],
          "choropleth": [
           {
            "colorbar": {
             "outlinewidth": 0,
             "ticks": ""
            },
            "type": "choropleth"
           }
          ],
          "contour": [
           {
            "colorbar": {
             "outlinewidth": 0,
             "ticks": ""
            },
            "colorscale": [
             [
              0,
              "#0d0887"
             ],
             [
              0.1111111111111111,
              "#46039f"
             ],
             [
              0.2222222222222222,
              "#7201a8"
             ],
             [
              0.3333333333333333,
              "#9c179e"
             ],
             [
              0.4444444444444444,
              "#bd3786"
             ],
             [
              0.5555555555555556,
              "#d8576b"
             ],
             [
              0.6666666666666666,
              "#ed7953"
             ],
             [
              0.7777777777777778,
              "#fb9f3a"
             ],
             [
              0.8888888888888888,
              "#fdca26"
             ],
             [
              1,
              "#f0f921"
             ]
            ],
            "type": "contour"
           }
          ],
          "contourcarpet": [
           {
            "colorbar": {
             "outlinewidth": 0,
             "ticks": ""
            },
            "type": "contourcarpet"
           }
          ],
          "heatmap": [
           {
            "colorbar": {
             "outlinewidth": 0,
             "ticks": ""
            },
            "colorscale": [
             [
              0,
              "#0d0887"
             ],
             [
              0.1111111111111111,
              "#46039f"
             ],
             [
              0.2222222222222222,
              "#7201a8"
             ],
             [
              0.3333333333333333,
              "#9c179e"
             ],
             [
              0.4444444444444444,
              "#bd3786"
             ],
             [
              0.5555555555555556,
              "#d8576b"
             ],
             [
              0.6666666666666666,
              "#ed7953"
             ],
             [
              0.7777777777777778,
              "#fb9f3a"
             ],
             [
              0.8888888888888888,
              "#fdca26"
             ],
             [
              1,
              "#f0f921"
             ]
            ],
            "type": "heatmap"
           }
          ],
          "heatmapgl": [
           {
            "colorbar": {
             "outlinewidth": 0,
             "ticks": ""
            },
            "colorscale": [
             [
              0,
              "#0d0887"
             ],
             [
              0.1111111111111111,
              "#46039f"
             ],
             [
              0.2222222222222222,
              "#7201a8"
             ],
             [
              0.3333333333333333,
              "#9c179e"
             ],
             [
              0.4444444444444444,
              "#bd3786"
             ],
             [
              0.5555555555555556,
              "#d8576b"
             ],
             [
              0.6666666666666666,
              "#ed7953"
             ],
             [
              0.7777777777777778,
              "#fb9f3a"
             ],
             [
              0.8888888888888888,
              "#fdca26"
             ],
             [
              1,
              "#f0f921"
             ]
            ],
            "type": "heatmapgl"
           }
          ],
          "histogram": [
           {
            "marker": {
             "pattern": {
              "fillmode": "overlay",
              "size": 10,
              "solidity": 0.2
             }
            },
            "type": "histogram"
           }
          ],
          "histogram2d": [
           {
            "colorbar": {
             "outlinewidth": 0,
             "ticks": ""
            },
            "colorscale": [
             [
              0,
              "#0d0887"
             ],
             [
              0.1111111111111111,
              "#46039f"
             ],
             [
              0.2222222222222222,
              "#7201a8"
             ],
             [
              0.3333333333333333,
              "#9c179e"
             ],
             [
              0.4444444444444444,
              "#bd3786"
             ],
             [
              0.5555555555555556,
              "#d8576b"
             ],
             [
              0.6666666666666666,
              "#ed7953"
             ],
             [
              0.7777777777777778,
              "#fb9f3a"
             ],
             [
              0.8888888888888888,
              "#fdca26"
             ],
             [
              1,
              "#f0f921"
             ]
            ],
            "type": "histogram2d"
           }
          ],
          "histogram2dcontour": [
           {
            "colorbar": {
             "outlinewidth": 0,
             "ticks": ""
            },
            "colorscale": [
             [
              0,
              "#0d0887"
             ],
             [
              0.1111111111111111,
              "#46039f"
             ],
             [
              0.2222222222222222,
              "#7201a8"
             ],
             [
              0.3333333333333333,
              "#9c179e"
             ],
             [
              0.4444444444444444,
              "#bd3786"
             ],
             [
              0.5555555555555556,
              "#d8576b"
             ],
             [
              0.6666666666666666,
              "#ed7953"
             ],
             [
              0.7777777777777778,
              "#fb9f3a"
             ],
             [
              0.8888888888888888,
              "#fdca26"
             ],
             [
              1,
              "#f0f921"
             ]
            ],
            "type": "histogram2dcontour"
           }
          ],
          "mesh3d": [
           {
            "colorbar": {
             "outlinewidth": 0,
             "ticks": ""
            },
            "type": "mesh3d"
           }
          ],
          "parcoords": [
           {
            "line": {
             "colorbar": {
              "outlinewidth": 0,
              "ticks": ""
             }
            },
            "type": "parcoords"
           }
          ],
          "pie": [
           {
            "automargin": true,
            "type": "pie"
           }
          ],
          "scatter": [
           {
            "marker": {
             "colorbar": {
              "outlinewidth": 0,
              "ticks": ""
             }
            },
            "type": "scatter"
           }
          ],
          "scatter3d": [
           {
            "line": {
             "colorbar": {
              "outlinewidth": 0,
              "ticks": ""
             }
            },
            "marker": {
             "colorbar": {
              "outlinewidth": 0,
              "ticks": ""
             }
            },
            "type": "scatter3d"
           }
          ],
          "scattercarpet": [
           {
            "marker": {
             "colorbar": {
              "outlinewidth": 0,
              "ticks": ""
             }
            },
            "type": "scattercarpet"
           }
          ],
          "scattergeo": [
           {
            "marker": {
             "colorbar": {
              "outlinewidth": 0,
              "ticks": ""
             }
            },
            "type": "scattergeo"
           }
          ],
          "scattergl": [
           {
            "marker": {
             "colorbar": {
              "outlinewidth": 0,
              "ticks": ""
             }
            },
            "type": "scattergl"
           }
          ],
          "scattermapbox": [
           {
            "marker": {
             "colorbar": {
              "outlinewidth": 0,
              "ticks": ""
             }
            },
            "type": "scattermapbox"
           }
          ],
          "scatterpolar": [
           {
            "marker": {
             "colorbar": {
              "outlinewidth": 0,
              "ticks": ""
             }
            },
            "type": "scatterpolar"
           }
          ],
          "scatterpolargl": [
           {
            "marker": {
             "colorbar": {
              "outlinewidth": 0,
              "ticks": ""
             }
            },
            "type": "scatterpolargl"
           }
          ],
          "scatterternary": [
           {
            "marker": {
             "colorbar": {
              "outlinewidth": 0,
              "ticks": ""
             }
            },
            "type": "scatterternary"
           }
          ],
          "surface": [
           {
            "colorbar": {
             "outlinewidth": 0,
             "ticks": ""
            },
            "colorscale": [
             [
              0,
              "#0d0887"
             ],
             [
              0.1111111111111111,
              "#46039f"
             ],
             [
              0.2222222222222222,
              "#7201a8"
             ],
             [
              0.3333333333333333,
              "#9c179e"
             ],
             [
              0.4444444444444444,
              "#bd3786"
             ],
             [
              0.5555555555555556,
              "#d8576b"
             ],
             [
              0.6666666666666666,
              "#ed7953"
             ],
             [
              0.7777777777777778,
              "#fb9f3a"
             ],
             [
              0.8888888888888888,
              "#fdca26"
             ],
             [
              1,
              "#f0f921"
             ]
            ],
            "type": "surface"
           }
          ],
          "table": [
           {
            "cells": {
             "fill": {
              "color": "#EBF0F8"
             },
             "line": {
              "color": "white"
             }
            },
            "header": {
             "fill": {
              "color": "#C8D4E3"
             },
             "line": {
              "color": "white"
             }
            },
            "type": "table"
           }
          ]
         },
         "layout": {
          "annotationdefaults": {
           "arrowcolor": "#2a3f5f",
           "arrowhead": 0,
           "arrowwidth": 1
          },
          "autotypenumbers": "strict",
          "coloraxis": {
           "colorbar": {
            "outlinewidth": 0,
            "ticks": ""
           }
          },
          "colorscale": {
           "diverging": [
            [
             0,
             "#8e0152"
            ],
            [
             0.1,
             "#c51b7d"
            ],
            [
             0.2,
             "#de77ae"
            ],
            [
             0.3,
             "#f1b6da"
            ],
            [
             0.4,
             "#fde0ef"
            ],
            [
             0.5,
             "#f7f7f7"
            ],
            [
             0.6,
             "#e6f5d0"
            ],
            [
             0.7,
             "#b8e186"
            ],
            [
             0.8,
             "#7fbc41"
            ],
            [
             0.9,
             "#4d9221"
            ],
            [
             1,
             "#276419"
            ]
           ],
           "sequential": [
            [
             0,
             "#0d0887"
            ],
            [
             0.1111111111111111,
             "#46039f"
            ],
            [
             0.2222222222222222,
             "#7201a8"
            ],
            [
             0.3333333333333333,
             "#9c179e"
            ],
            [
             0.4444444444444444,
             "#bd3786"
            ],
            [
             0.5555555555555556,
             "#d8576b"
            ],
            [
             0.6666666666666666,
             "#ed7953"
            ],
            [
             0.7777777777777778,
             "#fb9f3a"
            ],
            [
             0.8888888888888888,
             "#fdca26"
            ],
            [
             1,
             "#f0f921"
            ]
           ],
           "sequentialminus": [
            [
             0,
             "#0d0887"
            ],
            [
             0.1111111111111111,
             "#46039f"
            ],
            [
             0.2222222222222222,
             "#7201a8"
            ],
            [
             0.3333333333333333,
             "#9c179e"
            ],
            [
             0.4444444444444444,
             "#bd3786"
            ],
            [
             0.5555555555555556,
             "#d8576b"
            ],
            [
             0.6666666666666666,
             "#ed7953"
            ],
            [
             0.7777777777777778,
             "#fb9f3a"
            ],
            [
             0.8888888888888888,
             "#fdca26"
            ],
            [
             1,
             "#f0f921"
            ]
           ]
          },
          "colorway": [
           "#636efa",
           "#EF553B",
           "#00cc96",
           "#ab63fa",
           "#FFA15A",
           "#19d3f3",
           "#FF6692",
           "#B6E880",
           "#FF97FF",
           "#FECB52"
          ],
          "font": {
           "color": "#2a3f5f"
          },
          "geo": {
           "bgcolor": "white",
           "lakecolor": "white",
           "landcolor": "#E5ECF6",
           "showlakes": true,
           "showland": true,
           "subunitcolor": "white"
          },
          "hoverlabel": {
           "align": "left"
          },
          "hovermode": "closest",
          "mapbox": {
           "style": "light"
          },
          "paper_bgcolor": "white",
          "plot_bgcolor": "#E5ECF6",
          "polar": {
           "angularaxis": {
            "gridcolor": "white",
            "linecolor": "white",
            "ticks": ""
           },
           "bgcolor": "#E5ECF6",
           "radialaxis": {
            "gridcolor": "white",
            "linecolor": "white",
            "ticks": ""
           }
          },
          "scene": {
           "xaxis": {
            "backgroundcolor": "#E5ECF6",
            "gridcolor": "white",
            "gridwidth": 2,
            "linecolor": "white",
            "showbackground": true,
            "ticks": "",
            "zerolinecolor": "white"
           },
           "yaxis": {
            "backgroundcolor": "#E5ECF6",
            "gridcolor": "white",
            "gridwidth": 2,
            "linecolor": "white",
            "showbackground": true,
            "ticks": "",
            "zerolinecolor": "white"
           },
           "zaxis": {
            "backgroundcolor": "#E5ECF6",
            "gridcolor": "white",
            "gridwidth": 2,
            "linecolor": "white",
            "showbackground": true,
            "ticks": "",
            "zerolinecolor": "white"
           }
          },
          "shapedefaults": {
           "line": {
            "color": "#2a3f5f"
           }
          },
          "ternary": {
           "aaxis": {
            "gridcolor": "white",
            "linecolor": "white",
            "ticks": ""
           },
           "baxis": {
            "gridcolor": "white",
            "linecolor": "white",
            "ticks": ""
           },
           "bgcolor": "#E5ECF6",
           "caxis": {
            "gridcolor": "white",
            "linecolor": "white",
            "ticks": ""
           }
          },
          "title": {
           "x": 0.05
          },
          "xaxis": {
           "automargin": true,
           "gridcolor": "white",
           "linecolor": "white",
           "ticks": "",
           "title": {
            "standoff": 15
           },
           "zerolinecolor": "white",
           "zerolinewidth": 2
          },
          "yaxis": {
           "automargin": true,
           "gridcolor": "white",
           "linecolor": "white",
           "ticks": "",
           "title": {
            "standoff": 15
           },
           "zerolinecolor": "white",
           "zerolinewidth": 2
          }
         }
        },
        "title": {
         "text": "Nya fall av Covid-19 i Sverige (per vecka)"
        },
        "xaxis": {
         "anchor": "y",
         "domain": [
          0,
          1
         ],
         "dtick": 2,
         "tick0": 0,
         "tickmode": "array",
         "ticktext": [
          "v.6 2020",
          "v.8 2020",
          "v.10 2020",
          "v.12 2020",
          "v.14 2020",
          "v.16 2020",
          "v.18 2020",
          "v.20 2020",
          "v.22 2020",
          "v.24 2020",
          "v.26 2020",
          "v.28 2020",
          "v.30 2020",
          "v.32 2020",
          "v.34 2020",
          "v.36 2020",
          "v.38 2020",
          "v.40 2020",
          "v.42 2020",
          "v.44 2020",
          "v.46 2020",
          "v.48 2020",
          "v.50 2020",
          "v.52 2020",
          "v.1 2021",
          "v.3 2021",
          "v.5 2021",
          "v.7 2021",
          "v.9 2021",
          "v.11 2021",
          "v.13 2021",
          "v.15 2021",
          "v.17 2021",
          "v.19 2021",
          "v.21 2021",
          "v.23 2021",
          "v.25 2021",
          "v.27 2021",
          "v.29 2021",
          "v.31 2021",
          "v.33 2021",
          "v.35 2021",
          "v.37 2021",
          "v.39 2021",
          "v.41 2021"
         ],
         "tickvals": [
          "2020v6",
          "2020v8",
          "2020v10",
          "2020v12",
          "2020v14",
          "2020v16",
          "2020v18",
          "2020v20",
          "2020v22",
          "2020v24",
          "2020v26",
          "2020v28",
          "2020v30",
          "2020v32",
          "2020v34",
          "2020v36",
          "2020v38",
          "2020v40",
          "2020v42",
          "2020v44",
          "2020v46",
          "2020v48",
          "2020v50",
          "2020v52",
          "2021v1",
          "2021v3",
          "2021v5",
          "2021v7",
          "2021v9",
          "2021v11",
          "2021v13",
          "2021v15",
          "2021v17",
          "2021v19",
          "2021v21",
          "2021v23",
          "2021v25",
          "2021v27",
          "2021v29",
          "2021v31",
          "2021v33",
          "2021v35",
          "2021v37",
          "2021v39",
          "2021v41"
         ],
         "title": {
          "text": "Vecka"
         }
        },
        "yaxis": {
         "anchor": "x",
         "domain": [
          0,
          1
         ],
         "title": {
          "text": "Antal"
         }
        }
       }
      }
     },
     "metadata": {}
    }
   ],
   "metadata": {}
  },
  {
   "cell_type": "code",
   "execution_count": 12,
   "source": [
    "plot3 = create_plotly_linefig(\"Antal_avlidna_vecka\", \"Antal\", \"Avlidna och nya fall av Covid-19 i Sverige (per vecka)\", \"Antal_fall_vecka\", \"Avlidna\", \"Nya fall\")\n",
    "plot3.show()\n",
    "plot3.write_html('deceased_and_new_cases.html', auto_open=True)"
   ],
   "outputs": [
    {
     "output_type": "display_data",
     "data": {
      "application/vnd.plotly.v1+json": {
       "config": {
        "plotlyServerURL": "https://plot.ly"
       },
       "data": [
        {
         "customdata": [
          "v.6 2020",
          "v.7 2020",
          "v.8 2020",
          "v.9 2020",
          "v.10 2020",
          "v.11 2020",
          "v.12 2020",
          "v.13 2020",
          "v.14 2020",
          "v.15 2020",
          "v.16 2020",
          "v.17 2020",
          "v.18 2020",
          "v.19 2020",
          "v.20 2020",
          "v.21 2020",
          "v.22 2020",
          "v.23 2020",
          "v.24 2020",
          "v.25 2020",
          "v.26 2020",
          "v.27 2020",
          "v.28 2020",
          "v.29 2020",
          "v.30 2020",
          "v.31 2020",
          "v.32 2020",
          "v.33 2020",
          "v.34 2020",
          "v.35 2020",
          "v.36 2020",
          "v.37 2020",
          "v.38 2020",
          "v.39 2020",
          "v.40 2020",
          "v.41 2020",
          "v.42 2020",
          "v.43 2020",
          "v.44 2020",
          "v.45 2020",
          "v.46 2020",
          "v.47 2020",
          "v.48 2020",
          "v.49 2020",
          "v.50 2020",
          "v.51 2020",
          "v.52 2020",
          "v.53 2020",
          "v.1 2021",
          "v.2 2021",
          "v.3 2021",
          "v.4 2021",
          "v.5 2021",
          "v.6 2021",
          "v.7 2021",
          "v.8 2021",
          "v.9 2021",
          "v.10 2021",
          "v.11 2021",
          "v.12 2021",
          "v.13 2021",
          "v.14 2021",
          "v.15 2021",
          "v.16 2021",
          "v.17 2021",
          "v.18 2021",
          "v.19 2021",
          "v.20 2021",
          "v.21 2021",
          "v.22 2021",
          "v.23 2021",
          "v.24 2021",
          "v.25 2021",
          "v.26 2021",
          "v.27 2021",
          "v.28 2021",
          "v.29 2021",
          "v.30 2021",
          "v.31 2021",
          "v.32 2021",
          "v.33 2021",
          "v.34 2021",
          "v.35 2021",
          "v.36 2021",
          "v.37 2021",
          "v.38 2021",
          "v.39 2021",
          "v.40 2021",
          "v.41 2021"
         ],
         "hovertemplate": "<br>%{customdata}<br>Antal personer: %{y}<br><extra></extra>",
         "mode": "markers+lines",
         "name": "Avlidna",
         "type": "scatter",
         "x": [
          "2020v6",
          "2020v7",
          "2020v8",
          "2020v9",
          "2020v10",
          "2020v11",
          "2020v12",
          "2020v13",
          "2020v14",
          "2020v15",
          "2020v16",
          "2020v17",
          "2020v18",
          "2020v19",
          "2020v20",
          "2020v21",
          "2020v22",
          "2020v23",
          "2020v24",
          "2020v25",
          "2020v26",
          "2020v27",
          "2020v28",
          "2020v29",
          "2020v30",
          "2020v31",
          "2020v32",
          "2020v33",
          "2020v34",
          "2020v35",
          "2020v36",
          "2020v37",
          "2020v38",
          "2020v39",
          "2020v40",
          "2020v41",
          "2020v42",
          "2020v43",
          "2020v44",
          "2020v45",
          "2020v46",
          "2020v47",
          "2020v48",
          "2020v49",
          "2020v50",
          "2020v51",
          "2020v52",
          "2020v53",
          "2021v1",
          "2021v2",
          "2021v3",
          "2021v4",
          "2021v5",
          "2021v6",
          "2021v7",
          "2021v8",
          "2021v9",
          "2021v10",
          "2021v11",
          "2021v12",
          "2021v13",
          "2021v14",
          "2021v15",
          "2021v16",
          "2021v17",
          "2021v18",
          "2021v19",
          "2021v20",
          "2021v21",
          "2021v22",
          "2021v23",
          "2021v24",
          "2021v25",
          "2021v26",
          "2021v27",
          "2021v28",
          "2021v29",
          "2021v30",
          "2021v31",
          "2021v32",
          "2021v33",
          "2021v34",
          "2021v35",
          "2021v36",
          "2021v37",
          "2021v38",
          "2021v39",
          "2021v40",
          "2021v41"
         ],
         "y": [
          0,
          0,
          0,
          0,
          0,
          5,
          44,
          190,
          451,
          664,
          657,
          546,
          543,
          509,
          380,
          360,
          272,
          246,
          234,
          200,
          138,
          98,
          84,
          57,
          30,
          18,
          18,
          16,
          19,
          10,
          12,
          13,
          12,
          11,
          17,
          22,
          16,
          43,
          82,
          157,
          235,
          332,
          417,
          476,
          501,
          645,
          643,
          663,
          644,
          598,
          513,
          389,
          269,
          205,
          171,
          146,
          128,
          140,
          127,
          125,
          141,
          133,
          140,
          131,
          114,
          105,
          111,
          69,
          47,
          39,
          22,
          17,
          9,
          8,
          3,
          2,
          3,
          3,
          7,
          6,
          9,
          20,
          26,
          49,
          52,
          40,
          37,
          42,
          18
         ]
        },
        {
         "customdata": [
          "v.6 2020",
          "v.7 2020",
          "v.8 2020",
          "v.9 2020",
          "v.10 2020",
          "v.11 2020",
          "v.12 2020",
          "v.13 2020",
          "v.14 2020",
          "v.15 2020",
          "v.16 2020",
          "v.17 2020",
          "v.18 2020",
          "v.19 2020",
          "v.20 2020",
          "v.21 2020",
          "v.22 2020",
          "v.23 2020",
          "v.24 2020",
          "v.25 2020",
          "v.26 2020",
          "v.27 2020",
          "v.28 2020",
          "v.29 2020",
          "v.30 2020",
          "v.31 2020",
          "v.32 2020",
          "v.33 2020",
          "v.34 2020",
          "v.35 2020",
          "v.36 2020",
          "v.37 2020",
          "v.38 2020",
          "v.39 2020",
          "v.40 2020",
          "v.41 2020",
          "v.42 2020",
          "v.43 2020",
          "v.44 2020",
          "v.45 2020",
          "v.46 2020",
          "v.47 2020",
          "v.48 2020",
          "v.49 2020",
          "v.50 2020",
          "v.51 2020",
          "v.52 2020",
          "v.53 2020",
          "v.1 2021",
          "v.2 2021",
          "v.3 2021",
          "v.4 2021",
          "v.5 2021",
          "v.6 2021",
          "v.7 2021",
          "v.8 2021",
          "v.9 2021",
          "v.10 2021",
          "v.11 2021",
          "v.12 2021",
          "v.13 2021",
          "v.14 2021",
          "v.15 2021",
          "v.16 2021",
          "v.17 2021",
          "v.18 2021",
          "v.19 2021",
          "v.20 2021",
          "v.21 2021",
          "v.22 2021",
          "v.23 2021",
          "v.24 2021",
          "v.25 2021",
          "v.26 2021",
          "v.27 2021",
          "v.28 2021",
          "v.29 2021",
          "v.30 2021",
          "v.31 2021",
          "v.32 2021",
          "v.33 2021",
          "v.34 2021",
          "v.35 2021",
          "v.36 2021",
          "v.37 2021",
          "v.38 2021",
          "v.39 2021",
          "v.40 2021",
          "v.41 2021"
         ],
         "hovertemplate": "<br>%{customdata}<br>Antal personer: %{y}<br><extra></extra>",
         "mode": "markers+lines",
         "name": "Nya fall",
         "type": "scatter",
         "x": [
          "2020v6",
          "2020v7",
          "2020v8",
          "2020v9",
          "2020v10",
          "2020v11",
          "2020v12",
          "2020v13",
          "2020v14",
          "2020v15",
          "2020v16",
          "2020v17",
          "2020v18",
          "2020v19",
          "2020v20",
          "2020v21",
          "2020v22",
          "2020v23",
          "2020v24",
          "2020v25",
          "2020v26",
          "2020v27",
          "2020v28",
          "2020v29",
          "2020v30",
          "2020v31",
          "2020v32",
          "2020v33",
          "2020v34",
          "2020v35",
          "2020v36",
          "2020v37",
          "2020v38",
          "2020v39",
          "2020v40",
          "2020v41",
          "2020v42",
          "2020v43",
          "2020v44",
          "2020v45",
          "2020v46",
          "2020v47",
          "2020v48",
          "2020v49",
          "2020v50",
          "2020v51",
          "2020v52",
          "2020v53",
          "2021v1",
          "2021v2",
          "2021v3",
          "2021v4",
          "2021v5",
          "2021v6",
          "2021v7",
          "2021v8",
          "2021v9",
          "2021v10",
          "2021v11",
          "2021v12",
          "2021v13",
          "2021v14",
          "2021v15",
          "2021v16",
          "2021v17",
          "2021v18",
          "2021v19",
          "2021v20",
          "2021v21",
          "2021v22",
          "2021v23",
          "2021v24",
          "2021v25",
          "2021v26",
          "2021v27",
          "2021v28",
          "2021v29",
          "2021v30",
          "2021v31",
          "2021v32",
          "2021v33",
          "2021v34",
          "2021v35",
          "2021v36",
          "2021v37",
          "2021v38",
          "2021v39",
          "2021v40",
          "2021v41"
         ],
         "y": [
          1,
          0,
          0,
          13,
          211,
          838,
          924,
          1957,
          3229,
          3740,
          3752,
          4203,
          3832,
          4153,
          3869,
          3659,
          4280,
          6021,
          7123,
          7073,
          7455,
          4279,
          2179,
          1622,
          1316,
          1556,
          2014,
          2052,
          1687,
          1200,
          1332,
          1592,
          2080,
          2919,
          3642,
          4278,
          5620,
          9155,
          18474,
          25405,
          31319,
          31944,
          35560,
          36837,
          43631,
          46177,
          37134,
          41323,
          39455,
          28942,
          23230,
          20660,
          19605,
          21283,
          23615,
          26690,
          27748,
          28555,
          33033,
          37881,
          38386,
          41147,
          41038,
          36032,
          35306,
          33680,
          25916,
          18169,
          7974,
          9094,
          4394,
          2848,
          1982,
          1869,
          1514,
          1881,
          2662,
          3459,
          4608,
          5820,
          6466,
          6688,
          7236,
          7972,
          6266,
          4298,
          4241,
          4141,
          4062
         ]
        }
       ],
       "layout": {
        "legend": {
         "tracegroupgap": 0
        },
        "template": {
         "data": {
          "bar": [
           {
            "error_x": {
             "color": "#2a3f5f"
            },
            "error_y": {
             "color": "#2a3f5f"
            },
            "marker": {
             "line": {
              "color": "#E5ECF6",
              "width": 0.5
             },
             "pattern": {
              "fillmode": "overlay",
              "size": 10,
              "solidity": 0.2
             }
            },
            "type": "bar"
           }
          ],
          "barpolar": [
           {
            "marker": {
             "line": {
              "color": "#E5ECF6",
              "width": 0.5
             },
             "pattern": {
              "fillmode": "overlay",
              "size": 10,
              "solidity": 0.2
             }
            },
            "type": "barpolar"
           }
          ],
          "carpet": [
           {
            "aaxis": {
             "endlinecolor": "#2a3f5f",
             "gridcolor": "white",
             "linecolor": "white",
             "minorgridcolor": "white",
             "startlinecolor": "#2a3f5f"
            },
            "baxis": {
             "endlinecolor": "#2a3f5f",
             "gridcolor": "white",
             "linecolor": "white",
             "minorgridcolor": "white",
             "startlinecolor": "#2a3f5f"
            },
            "type": "carpet"
           }
          ],
          "choropleth": [
           {
            "colorbar": {
             "outlinewidth": 0,
             "ticks": ""
            },
            "type": "choropleth"
           }
          ],
          "contour": [
           {
            "colorbar": {
             "outlinewidth": 0,
             "ticks": ""
            },
            "colorscale": [
             [
              0,
              "#0d0887"
             ],
             [
              0.1111111111111111,
              "#46039f"
             ],
             [
              0.2222222222222222,
              "#7201a8"
             ],
             [
              0.3333333333333333,
              "#9c179e"
             ],
             [
              0.4444444444444444,
              "#bd3786"
             ],
             [
              0.5555555555555556,
              "#d8576b"
             ],
             [
              0.6666666666666666,
              "#ed7953"
             ],
             [
              0.7777777777777778,
              "#fb9f3a"
             ],
             [
              0.8888888888888888,
              "#fdca26"
             ],
             [
              1,
              "#f0f921"
             ]
            ],
            "type": "contour"
           }
          ],
          "contourcarpet": [
           {
            "colorbar": {
             "outlinewidth": 0,
             "ticks": ""
            },
            "type": "contourcarpet"
           }
          ],
          "heatmap": [
           {
            "colorbar": {
             "outlinewidth": 0,
             "ticks": ""
            },
            "colorscale": [
             [
              0,
              "#0d0887"
             ],
             [
              0.1111111111111111,
              "#46039f"
             ],
             [
              0.2222222222222222,
              "#7201a8"
             ],
             [
              0.3333333333333333,
              "#9c179e"
             ],
             [
              0.4444444444444444,
              "#bd3786"
             ],
             [
              0.5555555555555556,
              "#d8576b"
             ],
             [
              0.6666666666666666,
              "#ed7953"
             ],
             [
              0.7777777777777778,
              "#fb9f3a"
             ],
             [
              0.8888888888888888,
              "#fdca26"
             ],
             [
              1,
              "#f0f921"
             ]
            ],
            "type": "heatmap"
           }
          ],
          "heatmapgl": [
           {
            "colorbar": {
             "outlinewidth": 0,
             "ticks": ""
            },
            "colorscale": [
             [
              0,
              "#0d0887"
             ],
             [
              0.1111111111111111,
              "#46039f"
             ],
             [
              0.2222222222222222,
              "#7201a8"
             ],
             [
              0.3333333333333333,
              "#9c179e"
             ],
             [
              0.4444444444444444,
              "#bd3786"
             ],
             [
              0.5555555555555556,
              "#d8576b"
             ],
             [
              0.6666666666666666,
              "#ed7953"
             ],
             [
              0.7777777777777778,
              "#fb9f3a"
             ],
             [
              0.8888888888888888,
              "#fdca26"
             ],
             [
              1,
              "#f0f921"
             ]
            ],
            "type": "heatmapgl"
           }
          ],
          "histogram": [
           {
            "marker": {
             "pattern": {
              "fillmode": "overlay",
              "size": 10,
              "solidity": 0.2
             }
            },
            "type": "histogram"
           }
          ],
          "histogram2d": [
           {
            "colorbar": {
             "outlinewidth": 0,
             "ticks": ""
            },
            "colorscale": [
             [
              0,
              "#0d0887"
             ],
             [
              0.1111111111111111,
              "#46039f"
             ],
             [
              0.2222222222222222,
              "#7201a8"
             ],
             [
              0.3333333333333333,
              "#9c179e"
             ],
             [
              0.4444444444444444,
              "#bd3786"
             ],
             [
              0.5555555555555556,
              "#d8576b"
             ],
             [
              0.6666666666666666,
              "#ed7953"
             ],
             [
              0.7777777777777778,
              "#fb9f3a"
             ],
             [
              0.8888888888888888,
              "#fdca26"
             ],
             [
              1,
              "#f0f921"
             ]
            ],
            "type": "histogram2d"
           }
          ],
          "histogram2dcontour": [
           {
            "colorbar": {
             "outlinewidth": 0,
             "ticks": ""
            },
            "colorscale": [
             [
              0,
              "#0d0887"
             ],
             [
              0.1111111111111111,
              "#46039f"
             ],
             [
              0.2222222222222222,
              "#7201a8"
             ],
             [
              0.3333333333333333,
              "#9c179e"
             ],
             [
              0.4444444444444444,
              "#bd3786"
             ],
             [
              0.5555555555555556,
              "#d8576b"
             ],
             [
              0.6666666666666666,
              "#ed7953"
             ],
             [
              0.7777777777777778,
              "#fb9f3a"
             ],
             [
              0.8888888888888888,
              "#fdca26"
             ],
             [
              1,
              "#f0f921"
             ]
            ],
            "type": "histogram2dcontour"
           }
          ],
          "mesh3d": [
           {
            "colorbar": {
             "outlinewidth": 0,
             "ticks": ""
            },
            "type": "mesh3d"
           }
          ],
          "parcoords": [
           {
            "line": {
             "colorbar": {
              "outlinewidth": 0,
              "ticks": ""
             }
            },
            "type": "parcoords"
           }
          ],
          "pie": [
           {
            "automargin": true,
            "type": "pie"
           }
          ],
          "scatter": [
           {
            "marker": {
             "colorbar": {
              "outlinewidth": 0,
              "ticks": ""
             }
            },
            "type": "scatter"
           }
          ],
          "scatter3d": [
           {
            "line": {
             "colorbar": {
              "outlinewidth": 0,
              "ticks": ""
             }
            },
            "marker": {
             "colorbar": {
              "outlinewidth": 0,
              "ticks": ""
             }
            },
            "type": "scatter3d"
           }
          ],
          "scattercarpet": [
           {
            "marker": {
             "colorbar": {
              "outlinewidth": 0,
              "ticks": ""
             }
            },
            "type": "scattercarpet"
           }
          ],
          "scattergeo": [
           {
            "marker": {
             "colorbar": {
              "outlinewidth": 0,
              "ticks": ""
             }
            },
            "type": "scattergeo"
           }
          ],
          "scattergl": [
           {
            "marker": {
             "colorbar": {
              "outlinewidth": 0,
              "ticks": ""
             }
            },
            "type": "scattergl"
           }
          ],
          "scattermapbox": [
           {
            "marker": {
             "colorbar": {
              "outlinewidth": 0,
              "ticks": ""
             }
            },
            "type": "scattermapbox"
           }
          ],
          "scatterpolar": [
           {
            "marker": {
             "colorbar": {
              "outlinewidth": 0,
              "ticks": ""
             }
            },
            "type": "scatterpolar"
           }
          ],
          "scatterpolargl": [
           {
            "marker": {
             "colorbar": {
              "outlinewidth": 0,
              "ticks": ""
             }
            },
            "type": "scatterpolargl"
           }
          ],
          "scatterternary": [
           {
            "marker": {
             "colorbar": {
              "outlinewidth": 0,
              "ticks": ""
             }
            },
            "type": "scatterternary"
           }
          ],
          "surface": [
           {
            "colorbar": {
             "outlinewidth": 0,
             "ticks": ""
            },
            "colorscale": [
             [
              0,
              "#0d0887"
             ],
             [
              0.1111111111111111,
              "#46039f"
             ],
             [
              0.2222222222222222,
              "#7201a8"
             ],
             [
              0.3333333333333333,
              "#9c179e"
             ],
             [
              0.4444444444444444,
              "#bd3786"
             ],
             [
              0.5555555555555556,
              "#d8576b"
             ],
             [
              0.6666666666666666,
              "#ed7953"
             ],
             [
              0.7777777777777778,
              "#fb9f3a"
             ],
             [
              0.8888888888888888,
              "#fdca26"
             ],
             [
              1,
              "#f0f921"
             ]
            ],
            "type": "surface"
           }
          ],
          "table": [
           {
            "cells": {
             "fill": {
              "color": "#EBF0F8"
             },
             "line": {
              "color": "white"
             }
            },
            "header": {
             "fill": {
              "color": "#C8D4E3"
             },
             "line": {
              "color": "white"
             }
            },
            "type": "table"
           }
          ]
         },
         "layout": {
          "annotationdefaults": {
           "arrowcolor": "#2a3f5f",
           "arrowhead": 0,
           "arrowwidth": 1
          },
          "autotypenumbers": "strict",
          "coloraxis": {
           "colorbar": {
            "outlinewidth": 0,
            "ticks": ""
           }
          },
          "colorscale": {
           "diverging": [
            [
             0,
             "#8e0152"
            ],
            [
             0.1,
             "#c51b7d"
            ],
            [
             0.2,
             "#de77ae"
            ],
            [
             0.3,
             "#f1b6da"
            ],
            [
             0.4,
             "#fde0ef"
            ],
            [
             0.5,
             "#f7f7f7"
            ],
            [
             0.6,
             "#e6f5d0"
            ],
            [
             0.7,
             "#b8e186"
            ],
            [
             0.8,
             "#7fbc41"
            ],
            [
             0.9,
             "#4d9221"
            ],
            [
             1,
             "#276419"
            ]
           ],
           "sequential": [
            [
             0,
             "#0d0887"
            ],
            [
             0.1111111111111111,
             "#46039f"
            ],
            [
             0.2222222222222222,
             "#7201a8"
            ],
            [
             0.3333333333333333,
             "#9c179e"
            ],
            [
             0.4444444444444444,
             "#bd3786"
            ],
            [
             0.5555555555555556,
             "#d8576b"
            ],
            [
             0.6666666666666666,
             "#ed7953"
            ],
            [
             0.7777777777777778,
             "#fb9f3a"
            ],
            [
             0.8888888888888888,
             "#fdca26"
            ],
            [
             1,
             "#f0f921"
            ]
           ],
           "sequentialminus": [
            [
             0,
             "#0d0887"
            ],
            [
             0.1111111111111111,
             "#46039f"
            ],
            [
             0.2222222222222222,
             "#7201a8"
            ],
            [
             0.3333333333333333,
             "#9c179e"
            ],
            [
             0.4444444444444444,
             "#bd3786"
            ],
            [
             0.5555555555555556,
             "#d8576b"
            ],
            [
             0.6666666666666666,
             "#ed7953"
            ],
            [
             0.7777777777777778,
             "#fb9f3a"
            ],
            [
             0.8888888888888888,
             "#fdca26"
            ],
            [
             1,
             "#f0f921"
            ]
           ]
          },
          "colorway": [
           "#636efa",
           "#EF553B",
           "#00cc96",
           "#ab63fa",
           "#FFA15A",
           "#19d3f3",
           "#FF6692",
           "#B6E880",
           "#FF97FF",
           "#FECB52"
          ],
          "font": {
           "color": "#2a3f5f"
          },
          "geo": {
           "bgcolor": "white",
           "lakecolor": "white",
           "landcolor": "#E5ECF6",
           "showlakes": true,
           "showland": true,
           "subunitcolor": "white"
          },
          "hoverlabel": {
           "align": "left"
          },
          "hovermode": "closest",
          "mapbox": {
           "style": "light"
          },
          "paper_bgcolor": "white",
          "plot_bgcolor": "#E5ECF6",
          "polar": {
           "angularaxis": {
            "gridcolor": "white",
            "linecolor": "white",
            "ticks": ""
           },
           "bgcolor": "#E5ECF6",
           "radialaxis": {
            "gridcolor": "white",
            "linecolor": "white",
            "ticks": ""
           }
          },
          "scene": {
           "xaxis": {
            "backgroundcolor": "#E5ECF6",
            "gridcolor": "white",
            "gridwidth": 2,
            "linecolor": "white",
            "showbackground": true,
            "ticks": "",
            "zerolinecolor": "white"
           },
           "yaxis": {
            "backgroundcolor": "#E5ECF6",
            "gridcolor": "white",
            "gridwidth": 2,
            "linecolor": "white",
            "showbackground": true,
            "ticks": "",
            "zerolinecolor": "white"
           },
           "zaxis": {
            "backgroundcolor": "#E5ECF6",
            "gridcolor": "white",
            "gridwidth": 2,
            "linecolor": "white",
            "showbackground": true,
            "ticks": "",
            "zerolinecolor": "white"
           }
          },
          "shapedefaults": {
           "line": {
            "color": "#2a3f5f"
           }
          },
          "ternary": {
           "aaxis": {
            "gridcolor": "white",
            "linecolor": "white",
            "ticks": ""
           },
           "baxis": {
            "gridcolor": "white",
            "linecolor": "white",
            "ticks": ""
           },
           "bgcolor": "#E5ECF6",
           "caxis": {
            "gridcolor": "white",
            "linecolor": "white",
            "ticks": ""
           }
          },
          "title": {
           "x": 0.05
          },
          "xaxis": {
           "automargin": true,
           "gridcolor": "white",
           "linecolor": "white",
           "ticks": "",
           "title": {
            "standoff": 15
           },
           "zerolinecolor": "white",
           "zerolinewidth": 2
          },
          "yaxis": {
           "automargin": true,
           "gridcolor": "white",
           "linecolor": "white",
           "ticks": "",
           "title": {
            "standoff": 15
           },
           "zerolinecolor": "white",
           "zerolinewidth": 2
          }
         }
        },
        "title": {
         "text": "Avlidna och nya fall av Covid-19 i Sverige (per vecka)"
        },
        "xaxis": {
         "anchor": "y",
         "domain": [
          0,
          1
         ],
         "dtick": 2,
         "tick0": 0,
         "tickmode": "array",
         "ticktext": [
          "v.6 2020",
          "v.8 2020",
          "v.10 2020",
          "v.12 2020",
          "v.14 2020",
          "v.16 2020",
          "v.18 2020",
          "v.20 2020",
          "v.22 2020",
          "v.24 2020",
          "v.26 2020",
          "v.28 2020",
          "v.30 2020",
          "v.32 2020",
          "v.34 2020",
          "v.36 2020",
          "v.38 2020",
          "v.40 2020",
          "v.42 2020",
          "v.44 2020",
          "v.46 2020",
          "v.48 2020",
          "v.50 2020",
          "v.52 2020",
          "v.1 2021",
          "v.3 2021",
          "v.5 2021",
          "v.7 2021",
          "v.9 2021",
          "v.11 2021",
          "v.13 2021",
          "v.15 2021",
          "v.17 2021",
          "v.19 2021",
          "v.21 2021",
          "v.23 2021",
          "v.25 2021",
          "v.27 2021",
          "v.29 2021",
          "v.31 2021",
          "v.33 2021",
          "v.35 2021",
          "v.37 2021",
          "v.39 2021",
          "v.41 2021"
         ],
         "tickvals": [
          "2020v6",
          "2020v8",
          "2020v10",
          "2020v12",
          "2020v14",
          "2020v16",
          "2020v18",
          "2020v20",
          "2020v22",
          "2020v24",
          "2020v26",
          "2020v28",
          "2020v30",
          "2020v32",
          "2020v34",
          "2020v36",
          "2020v38",
          "2020v40",
          "2020v42",
          "2020v44",
          "2020v46",
          "2020v48",
          "2020v50",
          "2020v52",
          "2021v1",
          "2021v3",
          "2021v5",
          "2021v7",
          "2021v9",
          "2021v11",
          "2021v13",
          "2021v15",
          "2021v17",
          "2021v19",
          "2021v21",
          "2021v23",
          "2021v25",
          "2021v27",
          "2021v29",
          "2021v31",
          "2021v33",
          "2021v35",
          "2021v37",
          "2021v39",
          "2021v41"
         ],
         "title": {
          "text": "Vecka"
         }
        },
        "yaxis": {
         "anchor": "x",
         "domain": [
          0,
          1
         ],
         "title": {
          "text": "Antal"
         }
        }
       }
      }
     },
     "metadata": {}
    }
   ],
   "metadata": {}
  },
  {
   "cell_type": "code",
   "execution_count": 13,
   "source": [
    "plot4 = create_plotly_linefig(\"Kum_antal_fall\", \"Kumulativt antal\", \"Antal nya fall i Sverige per vecka (kumulativt)\")\n",
    "plot4.show()\n",
    "plot4.write_html('cumulative_cases.html', auto_open=True)"
   ],
   "outputs": [
    {
     "output_type": "display_data",
     "data": {
      "application/vnd.plotly.v1+json": {
       "config": {
        "plotlyServerURL": "https://plot.ly"
       },
       "data": [
        {
         "customdata": [
          "v.6 2020",
          "v.7 2020",
          "v.8 2020",
          "v.9 2020",
          "v.10 2020",
          "v.11 2020",
          "v.12 2020",
          "v.13 2020",
          "v.14 2020",
          "v.15 2020",
          "v.16 2020",
          "v.17 2020",
          "v.18 2020",
          "v.19 2020",
          "v.20 2020",
          "v.21 2020",
          "v.22 2020",
          "v.23 2020",
          "v.24 2020",
          "v.25 2020",
          "v.26 2020",
          "v.27 2020",
          "v.28 2020",
          "v.29 2020",
          "v.30 2020",
          "v.31 2020",
          "v.32 2020",
          "v.33 2020",
          "v.34 2020",
          "v.35 2020",
          "v.36 2020",
          "v.37 2020",
          "v.38 2020",
          "v.39 2020",
          "v.40 2020",
          "v.41 2020",
          "v.42 2020",
          "v.43 2020",
          "v.44 2020",
          "v.45 2020",
          "v.46 2020",
          "v.47 2020",
          "v.48 2020",
          "v.49 2020",
          "v.50 2020",
          "v.51 2020",
          "v.52 2020",
          "v.53 2020",
          "v.1 2021",
          "v.2 2021",
          "v.3 2021",
          "v.4 2021",
          "v.5 2021",
          "v.6 2021",
          "v.7 2021",
          "v.8 2021",
          "v.9 2021",
          "v.10 2021",
          "v.11 2021",
          "v.12 2021",
          "v.13 2021",
          "v.14 2021",
          "v.15 2021",
          "v.16 2021",
          "v.17 2021",
          "v.18 2021",
          "v.19 2021",
          "v.20 2021",
          "v.21 2021",
          "v.22 2021",
          "v.23 2021",
          "v.24 2021",
          "v.25 2021",
          "v.26 2021",
          "v.27 2021",
          "v.28 2021",
          "v.29 2021",
          "v.30 2021",
          "v.31 2021",
          "v.32 2021",
          "v.33 2021",
          "v.34 2021",
          "v.35 2021",
          "v.36 2021",
          "v.37 2021",
          "v.38 2021",
          "v.39 2021",
          "v.40 2021",
          "v.41 2021"
         ],
         "hovertemplate": "<br>%{customdata}<br>Antal personer: %{y}<br><extra></extra>",
         "legendgroup": "",
         "line": {
          "color": "#636efa",
          "dash": "solid"
         },
         "marker": {
          "symbol": "circle"
         },
         "mode": "markers+lines",
         "name": "",
         "orientation": "v",
         "showlegend": false,
         "type": "scatter",
         "x": [
          "2020v6",
          "2020v7",
          "2020v8",
          "2020v9",
          "2020v10",
          "2020v11",
          "2020v12",
          "2020v13",
          "2020v14",
          "2020v15",
          "2020v16",
          "2020v17",
          "2020v18",
          "2020v19",
          "2020v20",
          "2020v21",
          "2020v22",
          "2020v23",
          "2020v24",
          "2020v25",
          "2020v26",
          "2020v27",
          "2020v28",
          "2020v29",
          "2020v30",
          "2020v31",
          "2020v32",
          "2020v33",
          "2020v34",
          "2020v35",
          "2020v36",
          "2020v37",
          "2020v38",
          "2020v39",
          "2020v40",
          "2020v41",
          "2020v42",
          "2020v43",
          "2020v44",
          "2020v45",
          "2020v46",
          "2020v47",
          "2020v48",
          "2020v49",
          "2020v50",
          "2020v51",
          "2020v52",
          "2020v53",
          "2021v1",
          "2021v2",
          "2021v3",
          "2021v4",
          "2021v5",
          "2021v6",
          "2021v7",
          "2021v8",
          "2021v9",
          "2021v10",
          "2021v11",
          "2021v12",
          "2021v13",
          "2021v14",
          "2021v15",
          "2021v16",
          "2021v17",
          "2021v18",
          "2021v19",
          "2021v20",
          "2021v21",
          "2021v22",
          "2021v23",
          "2021v24",
          "2021v25",
          "2021v26",
          "2021v27",
          "2021v28",
          "2021v29",
          "2021v30",
          "2021v31",
          "2021v32",
          "2021v33",
          "2021v34",
          "2021v35",
          "2021v36",
          "2021v37",
          "2021v38",
          "2021v39",
          "2021v40",
          "2021v41"
         ],
         "xaxis": "x",
         "y": [
          1,
          1,
          1,
          14,
          225,
          1063,
          1987,
          3944,
          7173,
          10913,
          14665,
          18868,
          22700,
          26853,
          30722,
          34381,
          38661,
          44682,
          51805,
          58878,
          66333,
          70612,
          72791,
          74413,
          75729,
          77285,
          79299,
          81351,
          83038,
          84238,
          85570,
          87162,
          89242,
          92161,
          95803,
          100081,
          105701,
          114856,
          133330,
          158735,
          190054,
          221998,
          257558,
          294395,
          338026,
          384203,
          421337,
          462660,
          502115,
          531057,
          554287,
          574947,
          594552,
          615835,
          639450,
          666140,
          693888,
          722443,
          755476,
          793357,
          831743,
          872890,
          913928,
          949960,
          985266,
          1018946,
          1044862,
          1063031,
          1071005,
          1080099,
          1084493,
          1087341,
          1089323,
          1091192,
          1092706,
          1094587,
          1097249,
          1100708,
          1105316,
          1111136,
          1117602,
          1124290,
          1131526,
          1139498,
          1145764,
          1150062,
          1154303,
          1158444,
          1162506
         ],
         "yaxis": "y"
        }
       ],
       "layout": {
        "legend": {
         "tracegroupgap": 0
        },
        "showlegend": false,
        "template": {
         "data": {
          "bar": [
           {
            "error_x": {
             "color": "#2a3f5f"
            },
            "error_y": {
             "color": "#2a3f5f"
            },
            "marker": {
             "line": {
              "color": "#E5ECF6",
              "width": 0.5
             },
             "pattern": {
              "fillmode": "overlay",
              "size": 10,
              "solidity": 0.2
             }
            },
            "type": "bar"
           }
          ],
          "barpolar": [
           {
            "marker": {
             "line": {
              "color": "#E5ECF6",
              "width": 0.5
             },
             "pattern": {
              "fillmode": "overlay",
              "size": 10,
              "solidity": 0.2
             }
            },
            "type": "barpolar"
           }
          ],
          "carpet": [
           {
            "aaxis": {
             "endlinecolor": "#2a3f5f",
             "gridcolor": "white",
             "linecolor": "white",
             "minorgridcolor": "white",
             "startlinecolor": "#2a3f5f"
            },
            "baxis": {
             "endlinecolor": "#2a3f5f",
             "gridcolor": "white",
             "linecolor": "white",
             "minorgridcolor": "white",
             "startlinecolor": "#2a3f5f"
            },
            "type": "carpet"
           }
          ],
          "choropleth": [
           {
            "colorbar": {
             "outlinewidth": 0,
             "ticks": ""
            },
            "type": "choropleth"
           }
          ],
          "contour": [
           {
            "colorbar": {
             "outlinewidth": 0,
             "ticks": ""
            },
            "colorscale": [
             [
              0,
              "#0d0887"
             ],
             [
              0.1111111111111111,
              "#46039f"
             ],
             [
              0.2222222222222222,
              "#7201a8"
             ],
             [
              0.3333333333333333,
              "#9c179e"
             ],
             [
              0.4444444444444444,
              "#bd3786"
             ],
             [
              0.5555555555555556,
              "#d8576b"
             ],
             [
              0.6666666666666666,
              "#ed7953"
             ],
             [
              0.7777777777777778,
              "#fb9f3a"
             ],
             [
              0.8888888888888888,
              "#fdca26"
             ],
             [
              1,
              "#f0f921"
             ]
            ],
            "type": "contour"
           }
          ],
          "contourcarpet": [
           {
            "colorbar": {
             "outlinewidth": 0,
             "ticks": ""
            },
            "type": "contourcarpet"
           }
          ],
          "heatmap": [
           {
            "colorbar": {
             "outlinewidth": 0,
             "ticks": ""
            },
            "colorscale": [
             [
              0,
              "#0d0887"
             ],
             [
              0.1111111111111111,
              "#46039f"
             ],
             [
              0.2222222222222222,
              "#7201a8"
             ],
             [
              0.3333333333333333,
              "#9c179e"
             ],
             [
              0.4444444444444444,
              "#bd3786"
             ],
             [
              0.5555555555555556,
              "#d8576b"
             ],
             [
              0.6666666666666666,
              "#ed7953"
             ],
             [
              0.7777777777777778,
              "#fb9f3a"
             ],
             [
              0.8888888888888888,
              "#fdca26"
             ],
             [
              1,
              "#f0f921"
             ]
            ],
            "type": "heatmap"
           }
          ],
          "heatmapgl": [
           {
            "colorbar": {
             "outlinewidth": 0,
             "ticks": ""
            },
            "colorscale": [
             [
              0,
              "#0d0887"
             ],
             [
              0.1111111111111111,
              "#46039f"
             ],
             [
              0.2222222222222222,
              "#7201a8"
             ],
             [
              0.3333333333333333,
              "#9c179e"
             ],
             [
              0.4444444444444444,
              "#bd3786"
             ],
             [
              0.5555555555555556,
              "#d8576b"
             ],
             [
              0.6666666666666666,
              "#ed7953"
             ],
             [
              0.7777777777777778,
              "#fb9f3a"
             ],
             [
              0.8888888888888888,
              "#fdca26"
             ],
             [
              1,
              "#f0f921"
             ]
            ],
            "type": "heatmapgl"
           }
          ],
          "histogram": [
           {
            "marker": {
             "pattern": {
              "fillmode": "overlay",
              "size": 10,
              "solidity": 0.2
             }
            },
            "type": "histogram"
           }
          ],
          "histogram2d": [
           {
            "colorbar": {
             "outlinewidth": 0,
             "ticks": ""
            },
            "colorscale": [
             [
              0,
              "#0d0887"
             ],
             [
              0.1111111111111111,
              "#46039f"
             ],
             [
              0.2222222222222222,
              "#7201a8"
             ],
             [
              0.3333333333333333,
              "#9c179e"
             ],
             [
              0.4444444444444444,
              "#bd3786"
             ],
             [
              0.5555555555555556,
              "#d8576b"
             ],
             [
              0.6666666666666666,
              "#ed7953"
             ],
             [
              0.7777777777777778,
              "#fb9f3a"
             ],
             [
              0.8888888888888888,
              "#fdca26"
             ],
             [
              1,
              "#f0f921"
             ]
            ],
            "type": "histogram2d"
           }
          ],
          "histogram2dcontour": [
           {
            "colorbar": {
             "outlinewidth": 0,
             "ticks": ""
            },
            "colorscale": [
             [
              0,
              "#0d0887"
             ],
             [
              0.1111111111111111,
              "#46039f"
             ],
             [
              0.2222222222222222,
              "#7201a8"
             ],
             [
              0.3333333333333333,
              "#9c179e"
             ],
             [
              0.4444444444444444,
              "#bd3786"
             ],
             [
              0.5555555555555556,
              "#d8576b"
             ],
             [
              0.6666666666666666,
              "#ed7953"
             ],
             [
              0.7777777777777778,
              "#fb9f3a"
             ],
             [
              0.8888888888888888,
              "#fdca26"
             ],
             [
              1,
              "#f0f921"
             ]
            ],
            "type": "histogram2dcontour"
           }
          ],
          "mesh3d": [
           {
            "colorbar": {
             "outlinewidth": 0,
             "ticks": ""
            },
            "type": "mesh3d"
           }
          ],
          "parcoords": [
           {
            "line": {
             "colorbar": {
              "outlinewidth": 0,
              "ticks": ""
             }
            },
            "type": "parcoords"
           }
          ],
          "pie": [
           {
            "automargin": true,
            "type": "pie"
           }
          ],
          "scatter": [
           {
            "marker": {
             "colorbar": {
              "outlinewidth": 0,
              "ticks": ""
             }
            },
            "type": "scatter"
           }
          ],
          "scatter3d": [
           {
            "line": {
             "colorbar": {
              "outlinewidth": 0,
              "ticks": ""
             }
            },
            "marker": {
             "colorbar": {
              "outlinewidth": 0,
              "ticks": ""
             }
            },
            "type": "scatter3d"
           }
          ],
          "scattercarpet": [
           {
            "marker": {
             "colorbar": {
              "outlinewidth": 0,
              "ticks": ""
             }
            },
            "type": "scattercarpet"
           }
          ],
          "scattergeo": [
           {
            "marker": {
             "colorbar": {
              "outlinewidth": 0,
              "ticks": ""
             }
            },
            "type": "scattergeo"
           }
          ],
          "scattergl": [
           {
            "marker": {
             "colorbar": {
              "outlinewidth": 0,
              "ticks": ""
             }
            },
            "type": "scattergl"
           }
          ],
          "scattermapbox": [
           {
            "marker": {
             "colorbar": {
              "outlinewidth": 0,
              "ticks": ""
             }
            },
            "type": "scattermapbox"
           }
          ],
          "scatterpolar": [
           {
            "marker": {
             "colorbar": {
              "outlinewidth": 0,
              "ticks": ""
             }
            },
            "type": "scatterpolar"
           }
          ],
          "scatterpolargl": [
           {
            "marker": {
             "colorbar": {
              "outlinewidth": 0,
              "ticks": ""
             }
            },
            "type": "scatterpolargl"
           }
          ],
          "scatterternary": [
           {
            "marker": {
             "colorbar": {
              "outlinewidth": 0,
              "ticks": ""
             }
            },
            "type": "scatterternary"
           }
          ],
          "surface": [
           {
            "colorbar": {
             "outlinewidth": 0,
             "ticks": ""
            },
            "colorscale": [
             [
              0,
              "#0d0887"
             ],
             [
              0.1111111111111111,
              "#46039f"
             ],
             [
              0.2222222222222222,
              "#7201a8"
             ],
             [
              0.3333333333333333,
              "#9c179e"
             ],
             [
              0.4444444444444444,
              "#bd3786"
             ],
             [
              0.5555555555555556,
              "#d8576b"
             ],
             [
              0.6666666666666666,
              "#ed7953"
             ],
             [
              0.7777777777777778,
              "#fb9f3a"
             ],
             [
              0.8888888888888888,
              "#fdca26"
             ],
             [
              1,
              "#f0f921"
             ]
            ],
            "type": "surface"
           }
          ],
          "table": [
           {
            "cells": {
             "fill": {
              "color": "#EBF0F8"
             },
             "line": {
              "color": "white"
             }
            },
            "header": {
             "fill": {
              "color": "#C8D4E3"
             },
             "line": {
              "color": "white"
             }
            },
            "type": "table"
           }
          ]
         },
         "layout": {
          "annotationdefaults": {
           "arrowcolor": "#2a3f5f",
           "arrowhead": 0,
           "arrowwidth": 1
          },
          "autotypenumbers": "strict",
          "coloraxis": {
           "colorbar": {
            "outlinewidth": 0,
            "ticks": ""
           }
          },
          "colorscale": {
           "diverging": [
            [
             0,
             "#8e0152"
            ],
            [
             0.1,
             "#c51b7d"
            ],
            [
             0.2,
             "#de77ae"
            ],
            [
             0.3,
             "#f1b6da"
            ],
            [
             0.4,
             "#fde0ef"
            ],
            [
             0.5,
             "#f7f7f7"
            ],
            [
             0.6,
             "#e6f5d0"
            ],
            [
             0.7,
             "#b8e186"
            ],
            [
             0.8,
             "#7fbc41"
            ],
            [
             0.9,
             "#4d9221"
            ],
            [
             1,
             "#276419"
            ]
           ],
           "sequential": [
            [
             0,
             "#0d0887"
            ],
            [
             0.1111111111111111,
             "#46039f"
            ],
            [
             0.2222222222222222,
             "#7201a8"
            ],
            [
             0.3333333333333333,
             "#9c179e"
            ],
            [
             0.4444444444444444,
             "#bd3786"
            ],
            [
             0.5555555555555556,
             "#d8576b"
            ],
            [
             0.6666666666666666,
             "#ed7953"
            ],
            [
             0.7777777777777778,
             "#fb9f3a"
            ],
            [
             0.8888888888888888,
             "#fdca26"
            ],
            [
             1,
             "#f0f921"
            ]
           ],
           "sequentialminus": [
            [
             0,
             "#0d0887"
            ],
            [
             0.1111111111111111,
             "#46039f"
            ],
            [
             0.2222222222222222,
             "#7201a8"
            ],
            [
             0.3333333333333333,
             "#9c179e"
            ],
            [
             0.4444444444444444,
             "#bd3786"
            ],
            [
             0.5555555555555556,
             "#d8576b"
            ],
            [
             0.6666666666666666,
             "#ed7953"
            ],
            [
             0.7777777777777778,
             "#fb9f3a"
            ],
            [
             0.8888888888888888,
             "#fdca26"
            ],
            [
             1,
             "#f0f921"
            ]
           ]
          },
          "colorway": [
           "#636efa",
           "#EF553B",
           "#00cc96",
           "#ab63fa",
           "#FFA15A",
           "#19d3f3",
           "#FF6692",
           "#B6E880",
           "#FF97FF",
           "#FECB52"
          ],
          "font": {
           "color": "#2a3f5f"
          },
          "geo": {
           "bgcolor": "white",
           "lakecolor": "white",
           "landcolor": "#E5ECF6",
           "showlakes": true,
           "showland": true,
           "subunitcolor": "white"
          },
          "hoverlabel": {
           "align": "left"
          },
          "hovermode": "closest",
          "mapbox": {
           "style": "light"
          },
          "paper_bgcolor": "white",
          "plot_bgcolor": "#E5ECF6",
          "polar": {
           "angularaxis": {
            "gridcolor": "white",
            "linecolor": "white",
            "ticks": ""
           },
           "bgcolor": "#E5ECF6",
           "radialaxis": {
            "gridcolor": "white",
            "linecolor": "white",
            "ticks": ""
           }
          },
          "scene": {
           "xaxis": {
            "backgroundcolor": "#E5ECF6",
            "gridcolor": "white",
            "gridwidth": 2,
            "linecolor": "white",
            "showbackground": true,
            "ticks": "",
            "zerolinecolor": "white"
           },
           "yaxis": {
            "backgroundcolor": "#E5ECF6",
            "gridcolor": "white",
            "gridwidth": 2,
            "linecolor": "white",
            "showbackground": true,
            "ticks": "",
            "zerolinecolor": "white"
           },
           "zaxis": {
            "backgroundcolor": "#E5ECF6",
            "gridcolor": "white",
            "gridwidth": 2,
            "linecolor": "white",
            "showbackground": true,
            "ticks": "",
            "zerolinecolor": "white"
           }
          },
          "shapedefaults": {
           "line": {
            "color": "#2a3f5f"
           }
          },
          "ternary": {
           "aaxis": {
            "gridcolor": "white",
            "linecolor": "white",
            "ticks": ""
           },
           "baxis": {
            "gridcolor": "white",
            "linecolor": "white",
            "ticks": ""
           },
           "bgcolor": "#E5ECF6",
           "caxis": {
            "gridcolor": "white",
            "linecolor": "white",
            "ticks": ""
           }
          },
          "title": {
           "x": 0.05
          },
          "xaxis": {
           "automargin": true,
           "gridcolor": "white",
           "linecolor": "white",
           "ticks": "",
           "title": {
            "standoff": 15
           },
           "zerolinecolor": "white",
           "zerolinewidth": 2
          },
          "yaxis": {
           "automargin": true,
           "gridcolor": "white",
           "linecolor": "white",
           "ticks": "",
           "title": {
            "standoff": 15
           },
           "zerolinecolor": "white",
           "zerolinewidth": 2
          }
         }
        },
        "title": {
         "text": "Antal nya fall i Sverige per vecka (kumulativt)"
        },
        "xaxis": {
         "anchor": "y",
         "domain": [
          0,
          1
         ],
         "dtick": 2,
         "tick0": 0,
         "tickmode": "array",
         "ticktext": [
          "v.6 2020",
          "v.8 2020",
          "v.10 2020",
          "v.12 2020",
          "v.14 2020",
          "v.16 2020",
          "v.18 2020",
          "v.20 2020",
          "v.22 2020",
          "v.24 2020",
          "v.26 2020",
          "v.28 2020",
          "v.30 2020",
          "v.32 2020",
          "v.34 2020",
          "v.36 2020",
          "v.38 2020",
          "v.40 2020",
          "v.42 2020",
          "v.44 2020",
          "v.46 2020",
          "v.48 2020",
          "v.50 2020",
          "v.52 2020",
          "v.1 2021",
          "v.3 2021",
          "v.5 2021",
          "v.7 2021",
          "v.9 2021",
          "v.11 2021",
          "v.13 2021",
          "v.15 2021",
          "v.17 2021",
          "v.19 2021",
          "v.21 2021",
          "v.23 2021",
          "v.25 2021",
          "v.27 2021",
          "v.29 2021",
          "v.31 2021",
          "v.33 2021",
          "v.35 2021",
          "v.37 2021",
          "v.39 2021",
          "v.41 2021"
         ],
         "tickvals": [
          "2020v6",
          "2020v8",
          "2020v10",
          "2020v12",
          "2020v14",
          "2020v16",
          "2020v18",
          "2020v20",
          "2020v22",
          "2020v24",
          "2020v26",
          "2020v28",
          "2020v30",
          "2020v32",
          "2020v34",
          "2020v36",
          "2020v38",
          "2020v40",
          "2020v42",
          "2020v44",
          "2020v46",
          "2020v48",
          "2020v50",
          "2020v52",
          "2021v1",
          "2021v3",
          "2021v5",
          "2021v7",
          "2021v9",
          "2021v11",
          "2021v13",
          "2021v15",
          "2021v17",
          "2021v19",
          "2021v21",
          "2021v23",
          "2021v25",
          "2021v27",
          "2021v29",
          "2021v31",
          "2021v33",
          "2021v35",
          "2021v37",
          "2021v39",
          "2021v41"
         ],
         "title": {
          "text": "Vecka"
         }
        },
        "yaxis": {
         "anchor": "x",
         "domain": [
          0,
          1
         ],
         "title": {
          "text": "Kumulativt antal"
         }
        }
       }
      }
     },
     "metadata": {}
    }
   ],
   "metadata": {}
  },
  {
   "cell_type": "markdown",
   "source": [
    "## Exercise 2. Vaccination Data"
   ],
   "metadata": {}
  },
  {
   "cell_type": "code",
   "execution_count": 14,
   "source": [
    "vaccination = pd.read_excel(\"data/Folkhalsomyndigheten_Covid19_Vaccine.xlsx\", sheet_name=5)\n",
    "vaccination"
   ],
   "outputs": [
    {
     "output_type": "execute_result",
     "data": {
      "text/plain": [
       "      Län    Län_namn  Kommun     Kommun_namn           Ålder  Befolkning  \\\n",
       "0       1   Stockholm     114  Upplands Väsby           16-17        1122   \n",
       "1       1   Stockholm     114  Upplands Väsby           18-29        6428   \n",
       "2       1   Stockholm     114  Upplands Väsby           30-39        7088   \n",
       "3       1   Stockholm     114  Upplands Väsby           40-49        6802   \n",
       "4       1   Stockholm     114  Upplands Väsby           50-59        6185   \n",
       "...   ...         ...     ...             ...             ...         ...   \n",
       "2605   25  Norrbotten    2584          Kiruna           50-59        3134   \n",
       "2606   25  Norrbotten    2584          Kiruna           60-69        2768   \n",
       "2607   25  Norrbotten    2584          Kiruna           70-79        2287   \n",
       "2608   25  Norrbotten    2584          Kiruna           80-89        1280   \n",
       "2609   25  Norrbotten    2584          Kiruna  90 eller äldre         247   \n",
       "\n",
       "      Antal minst 1 dos  Antal färdigvaccinerade  Andel minst 1 dos  \\\n",
       "0                   671                      450           0.598039   \n",
       "1                  4174                     3324           0.649347   \n",
       "2                  4976                     4341           0.702032   \n",
       "3                  5308                     5010           0.780359   \n",
       "4                  5360                     5190           0.866613   \n",
       "...                 ...                      ...                ...   \n",
       "2605               2911                     2852           0.928845   \n",
       "2606               2596                     2537           0.937861   \n",
       "2607               2160                     2074           0.944469   \n",
       "2608               1233                     1157           0.963281   \n",
       "2609                222                      192           0.898785   \n",
       "\n",
       "      Andel färdigvaccinerade  \n",
       "0                    0.401070  \n",
       "1                    0.517113  \n",
       "2                    0.612444  \n",
       "3                    0.736548  \n",
       "4                    0.839127  \n",
       "...                       ...  \n",
       "2605                 0.910019  \n",
       "2606                 0.916546  \n",
       "2607                 0.906865  \n",
       "2608                 0.903906  \n",
       "2609                 0.777328  \n",
       "\n",
       "[2610 rows x 10 columns]"
      ],
      "text/html": [
       "<div>\n",
       "<style scoped>\n",
       "    .dataframe tbody tr th:only-of-type {\n",
       "        vertical-align: middle;\n",
       "    }\n",
       "\n",
       "    .dataframe tbody tr th {\n",
       "        vertical-align: top;\n",
       "    }\n",
       "\n",
       "    .dataframe thead th {\n",
       "        text-align: right;\n",
       "    }\n",
       "</style>\n",
       "<table border=\"1\" class=\"dataframe\">\n",
       "  <thead>\n",
       "    <tr style=\"text-align: right;\">\n",
       "      <th></th>\n",
       "      <th>Län</th>\n",
       "      <th>Län_namn</th>\n",
       "      <th>Kommun</th>\n",
       "      <th>Kommun_namn</th>\n",
       "      <th>Ålder</th>\n",
       "      <th>Befolkning</th>\n",
       "      <th>Antal minst 1 dos</th>\n",
       "      <th>Antal färdigvaccinerade</th>\n",
       "      <th>Andel minst 1 dos</th>\n",
       "      <th>Andel färdigvaccinerade</th>\n",
       "    </tr>\n",
       "  </thead>\n",
       "  <tbody>\n",
       "    <tr>\n",
       "      <th>0</th>\n",
       "      <td>1</td>\n",
       "      <td>Stockholm</td>\n",
       "      <td>114</td>\n",
       "      <td>Upplands Väsby</td>\n",
       "      <td>16-17</td>\n",
       "      <td>1122</td>\n",
       "      <td>671</td>\n",
       "      <td>450</td>\n",
       "      <td>0.598039</td>\n",
       "      <td>0.401070</td>\n",
       "    </tr>\n",
       "    <tr>\n",
       "      <th>1</th>\n",
       "      <td>1</td>\n",
       "      <td>Stockholm</td>\n",
       "      <td>114</td>\n",
       "      <td>Upplands Väsby</td>\n",
       "      <td>18-29</td>\n",
       "      <td>6428</td>\n",
       "      <td>4174</td>\n",
       "      <td>3324</td>\n",
       "      <td>0.649347</td>\n",
       "      <td>0.517113</td>\n",
       "    </tr>\n",
       "    <tr>\n",
       "      <th>2</th>\n",
       "      <td>1</td>\n",
       "      <td>Stockholm</td>\n",
       "      <td>114</td>\n",
       "      <td>Upplands Väsby</td>\n",
       "      <td>30-39</td>\n",
       "      <td>7088</td>\n",
       "      <td>4976</td>\n",
       "      <td>4341</td>\n",
       "      <td>0.702032</td>\n",
       "      <td>0.612444</td>\n",
       "    </tr>\n",
       "    <tr>\n",
       "      <th>3</th>\n",
       "      <td>1</td>\n",
       "      <td>Stockholm</td>\n",
       "      <td>114</td>\n",
       "      <td>Upplands Väsby</td>\n",
       "      <td>40-49</td>\n",
       "      <td>6802</td>\n",
       "      <td>5308</td>\n",
       "      <td>5010</td>\n",
       "      <td>0.780359</td>\n",
       "      <td>0.736548</td>\n",
       "    </tr>\n",
       "    <tr>\n",
       "      <th>4</th>\n",
       "      <td>1</td>\n",
       "      <td>Stockholm</td>\n",
       "      <td>114</td>\n",
       "      <td>Upplands Väsby</td>\n",
       "      <td>50-59</td>\n",
       "      <td>6185</td>\n",
       "      <td>5360</td>\n",
       "      <td>5190</td>\n",
       "      <td>0.866613</td>\n",
       "      <td>0.839127</td>\n",
       "    </tr>\n",
       "    <tr>\n",
       "      <th>...</th>\n",
       "      <td>...</td>\n",
       "      <td>...</td>\n",
       "      <td>...</td>\n",
       "      <td>...</td>\n",
       "      <td>...</td>\n",
       "      <td>...</td>\n",
       "      <td>...</td>\n",
       "      <td>...</td>\n",
       "      <td>...</td>\n",
       "      <td>...</td>\n",
       "    </tr>\n",
       "    <tr>\n",
       "      <th>2605</th>\n",
       "      <td>25</td>\n",
       "      <td>Norrbotten</td>\n",
       "      <td>2584</td>\n",
       "      <td>Kiruna</td>\n",
       "      <td>50-59</td>\n",
       "      <td>3134</td>\n",
       "      <td>2911</td>\n",
       "      <td>2852</td>\n",
       "      <td>0.928845</td>\n",
       "      <td>0.910019</td>\n",
       "    </tr>\n",
       "    <tr>\n",
       "      <th>2606</th>\n",
       "      <td>25</td>\n",
       "      <td>Norrbotten</td>\n",
       "      <td>2584</td>\n",
       "      <td>Kiruna</td>\n",
       "      <td>60-69</td>\n",
       "      <td>2768</td>\n",
       "      <td>2596</td>\n",
       "      <td>2537</td>\n",
       "      <td>0.937861</td>\n",
       "      <td>0.916546</td>\n",
       "    </tr>\n",
       "    <tr>\n",
       "      <th>2607</th>\n",
       "      <td>25</td>\n",
       "      <td>Norrbotten</td>\n",
       "      <td>2584</td>\n",
       "      <td>Kiruna</td>\n",
       "      <td>70-79</td>\n",
       "      <td>2287</td>\n",
       "      <td>2160</td>\n",
       "      <td>2074</td>\n",
       "      <td>0.944469</td>\n",
       "      <td>0.906865</td>\n",
       "    </tr>\n",
       "    <tr>\n",
       "      <th>2608</th>\n",
       "      <td>25</td>\n",
       "      <td>Norrbotten</td>\n",
       "      <td>2584</td>\n",
       "      <td>Kiruna</td>\n",
       "      <td>80-89</td>\n",
       "      <td>1280</td>\n",
       "      <td>1233</td>\n",
       "      <td>1157</td>\n",
       "      <td>0.963281</td>\n",
       "      <td>0.903906</td>\n",
       "    </tr>\n",
       "    <tr>\n",
       "      <th>2609</th>\n",
       "      <td>25</td>\n",
       "      <td>Norrbotten</td>\n",
       "      <td>2584</td>\n",
       "      <td>Kiruna</td>\n",
       "      <td>90 eller äldre</td>\n",
       "      <td>247</td>\n",
       "      <td>222</td>\n",
       "      <td>192</td>\n",
       "      <td>0.898785</td>\n",
       "      <td>0.777328</td>\n",
       "    </tr>\n",
       "  </tbody>\n",
       "</table>\n",
       "<p>2610 rows × 10 columns</p>\n",
       "</div>"
      ]
     },
     "metadata": {},
     "execution_count": 14
    }
   ],
   "metadata": {}
  },
  {
   "cell_type": "markdown",
   "source": [
    "### a) Number of \"län\" in the data"
   ],
   "metadata": {}
  },
  {
   "cell_type": "code",
   "execution_count": 15,
   "source": [
    "print(f\"There are {len(vaccination['Län_namn'].unique())} 'län' in the dataset.\")"
   ],
   "outputs": [
    {
     "output_type": "stream",
     "name": "stdout",
     "text": [
      "There are 21 'län' in the dataset.\n"
     ]
    }
   ],
   "metadata": {}
  },
  {
   "cell_type": "markdown",
   "source": [
    "### b) Number of \"kommuner\" in the dataset."
   ],
   "metadata": {}
  },
  {
   "cell_type": "code",
   "execution_count": 16,
   "source": [
    "print(f\"There are {len(vaccination['Kommun_namn'].unique())} 'kommuner' in the dataset.\")"
   ],
   "outputs": [
    {
     "output_type": "stream",
     "name": "stdout",
     "text": [
      "There are 290 'kommuner' in the dataset.\n"
     ]
    }
   ],
   "metadata": {}
  },
  {
   "cell_type": "markdown",
   "source": [
    "### c) Number of people that are are represented in the data."
   ],
   "metadata": {}
  },
  {
   "cell_type": "code",
   "execution_count": 17,
   "source": [
    "no_people_represented = sum(vaccination['Befolkning'])\n",
    "print(f\"There are {no_people_represented} people represented in the data\")"
   ],
   "outputs": [
    {
     "output_type": "stream",
     "name": "stdout",
     "text": [
      "There are 8541497 people represented in the data\n"
     ]
    }
   ],
   "metadata": {}
  },
  {
   "cell_type": "markdown",
   "source": [
    "### d) Number of children, under the age of 16."
   ],
   "metadata": {}
  },
  {
   "cell_type": "code",
   "execution_count": 18,
   "source": [
    "print(f\"There are about {10427296-no_people_represented} children (under the age of 16) in Sweden.\") "
   ],
   "outputs": [
    {
     "output_type": "stream",
     "name": "stdout",
     "text": [
      "There are about 1885799 children (under the age of 16) in Sweden.\n"
     ]
    }
   ],
   "metadata": {}
  },
  {
   "cell_type": "markdown",
   "source": [
    "### e) Bar chart for number of people vaccinated with at least one dose and fully vaccinated people (two plots)"
   ],
   "metadata": {}
  },
  {
   "cell_type": "code",
   "execution_count": 136,
   "source": [
    "#Creates a new dataframe to be used for plotting vaccination for each \"län\"\n",
    "vaccination_summed = pd.DataFrame(vaccination[\"Antal färdigvaccinerade\"].groupby(vaccination[\"Län_namn\"]).sum())\n",
    "vaccination_summed[\"Antal minst 1 dos\"] = vaccination[\"Antal minst 1 dos\"].groupby(vaccination[\"Län_namn\"]).sum()\n",
    "vaccination_summed[\"Andel färdigvaccinerade\"] = vaccination[\"Andel färdigvaccinerade\"].groupby(vaccination[\"Län_namn\"]).mean()*100\n",
    "vaccination_summed[\"Andel minst 1 dos\"] = vaccination[\"Andel minst 1 dos\"].groupby(vaccination[\"Län_namn\"]).mean()*100\n",
    "vaccination_summed"
   ],
   "outputs": [
    {
     "output_type": "execute_result",
     "data": {
      "text/plain": [
       "                 Antal färdigvaccinerade  Antal minst 1 dos  \\\n",
       "Län_namn                                                      \n",
       "Blekinge                          110497             114711   \n",
       "Dalarna                           198688             207596   \n",
       "Gotland                            44359              46143   \n",
       "Gävleborg                         193853             205563   \n",
       "Halland                           230634             239400   \n",
       "Jämtland                           90406              95357   \n",
       "Jönköping                         238710             252915   \n",
       "Kalmar                            170670             178030   \n",
       "Kronoberg                         130930             138254   \n",
       "Norrbotten                        179118             188604   \n",
       "Skåne                             875634             924401   \n",
       "Stockholm                        1459095            1584895   \n",
       "Södermanland                      198260             209702   \n",
       "Uppsala                           271144             284138   \n",
       "Värmland                          206427             212359   \n",
       "Västerbotten                      196346             206223   \n",
       "Västernorrland                    174331             179601   \n",
       "Västmanland                       182788             193000   \n",
       "Västra Götaland                  1108998            1198310   \n",
       "Örebro                            207926             216725   \n",
       "Östergötland                      322632             336692   \n",
       "\n",
       "                 Andel färdigvaccinerade  Andel minst 1 dos  \n",
       "Län_namn                                                     \n",
       "Blekinge                       80.724895          85.059633  \n",
       "Dalarna                        81.844990          86.534151  \n",
       "Gotland                        87.282728          90.833365  \n",
       "Gävleborg                      79.024386          84.874367  \n",
       "Halland                        81.718873          86.018333  \n",
       "Jämtland                       80.701877          86.907285  \n",
       "Jönköping                      79.700853          85.958028  \n",
       "Kalmar                         80.272115          84.599188  \n",
       "Kronoberg                      76.953930          82.253200  \n",
       "Norrbotten                     80.963583          87.804766  \n",
       "Skåne                          77.456629          82.845292  \n",
       "Stockholm                      75.772253          83.322521  \n",
       "Södermanland                   79.979826          85.866564  \n",
       "Uppsala                        85.358151          89.605703  \n",
       "Värmland                       84.825258          88.250399  \n",
       "Västerbotten                   83.200474          89.230572  \n",
       "Västernorrland                 83.345596          86.648368  \n",
       "Västmanland                    78.594595          83.936126  \n",
       "Västra Götaland                78.243521          86.195392  \n",
       "Örebro                         81.766627          85.902790  \n",
       "Östergötland                   83.018222          88.144865  "
      ],
      "text/html": [
       "<div>\n",
       "<style scoped>\n",
       "    .dataframe tbody tr th:only-of-type {\n",
       "        vertical-align: middle;\n",
       "    }\n",
       "\n",
       "    .dataframe tbody tr th {\n",
       "        vertical-align: top;\n",
       "    }\n",
       "\n",
       "    .dataframe thead th {\n",
       "        text-align: right;\n",
       "    }\n",
       "</style>\n",
       "<table border=\"1\" class=\"dataframe\">\n",
       "  <thead>\n",
       "    <tr style=\"text-align: right;\">\n",
       "      <th></th>\n",
       "      <th>Antal färdigvaccinerade</th>\n",
       "      <th>Antal minst 1 dos</th>\n",
       "      <th>Andel färdigvaccinerade</th>\n",
       "      <th>Andel minst 1 dos</th>\n",
       "    </tr>\n",
       "    <tr>\n",
       "      <th>Län_namn</th>\n",
       "      <th></th>\n",
       "      <th></th>\n",
       "      <th></th>\n",
       "      <th></th>\n",
       "    </tr>\n",
       "  </thead>\n",
       "  <tbody>\n",
       "    <tr>\n",
       "      <th>Blekinge</th>\n",
       "      <td>110497</td>\n",
       "      <td>114711</td>\n",
       "      <td>80.724895</td>\n",
       "      <td>85.059633</td>\n",
       "    </tr>\n",
       "    <tr>\n",
       "      <th>Dalarna</th>\n",
       "      <td>198688</td>\n",
       "      <td>207596</td>\n",
       "      <td>81.844990</td>\n",
       "      <td>86.534151</td>\n",
       "    </tr>\n",
       "    <tr>\n",
       "      <th>Gotland</th>\n",
       "      <td>44359</td>\n",
       "      <td>46143</td>\n",
       "      <td>87.282728</td>\n",
       "      <td>90.833365</td>\n",
       "    </tr>\n",
       "    <tr>\n",
       "      <th>Gävleborg</th>\n",
       "      <td>193853</td>\n",
       "      <td>205563</td>\n",
       "      <td>79.024386</td>\n",
       "      <td>84.874367</td>\n",
       "    </tr>\n",
       "    <tr>\n",
       "      <th>Halland</th>\n",
       "      <td>230634</td>\n",
       "      <td>239400</td>\n",
       "      <td>81.718873</td>\n",
       "      <td>86.018333</td>\n",
       "    </tr>\n",
       "    <tr>\n",
       "      <th>Jämtland</th>\n",
       "      <td>90406</td>\n",
       "      <td>95357</td>\n",
       "      <td>80.701877</td>\n",
       "      <td>86.907285</td>\n",
       "    </tr>\n",
       "    <tr>\n",
       "      <th>Jönköping</th>\n",
       "      <td>238710</td>\n",
       "      <td>252915</td>\n",
       "      <td>79.700853</td>\n",
       "      <td>85.958028</td>\n",
       "    </tr>\n",
       "    <tr>\n",
       "      <th>Kalmar</th>\n",
       "      <td>170670</td>\n",
       "      <td>178030</td>\n",
       "      <td>80.272115</td>\n",
       "      <td>84.599188</td>\n",
       "    </tr>\n",
       "    <tr>\n",
       "      <th>Kronoberg</th>\n",
       "      <td>130930</td>\n",
       "      <td>138254</td>\n",
       "      <td>76.953930</td>\n",
       "      <td>82.253200</td>\n",
       "    </tr>\n",
       "    <tr>\n",
       "      <th>Norrbotten</th>\n",
       "      <td>179118</td>\n",
       "      <td>188604</td>\n",
       "      <td>80.963583</td>\n",
       "      <td>87.804766</td>\n",
       "    </tr>\n",
       "    <tr>\n",
       "      <th>Skåne</th>\n",
       "      <td>875634</td>\n",
       "      <td>924401</td>\n",
       "      <td>77.456629</td>\n",
       "      <td>82.845292</td>\n",
       "    </tr>\n",
       "    <tr>\n",
       "      <th>Stockholm</th>\n",
       "      <td>1459095</td>\n",
       "      <td>1584895</td>\n",
       "      <td>75.772253</td>\n",
       "      <td>83.322521</td>\n",
       "    </tr>\n",
       "    <tr>\n",
       "      <th>Södermanland</th>\n",
       "      <td>198260</td>\n",
       "      <td>209702</td>\n",
       "      <td>79.979826</td>\n",
       "      <td>85.866564</td>\n",
       "    </tr>\n",
       "    <tr>\n",
       "      <th>Uppsala</th>\n",
       "      <td>271144</td>\n",
       "      <td>284138</td>\n",
       "      <td>85.358151</td>\n",
       "      <td>89.605703</td>\n",
       "    </tr>\n",
       "    <tr>\n",
       "      <th>Värmland</th>\n",
       "      <td>206427</td>\n",
       "      <td>212359</td>\n",
       "      <td>84.825258</td>\n",
       "      <td>88.250399</td>\n",
       "    </tr>\n",
       "    <tr>\n",
       "      <th>Västerbotten</th>\n",
       "      <td>196346</td>\n",
       "      <td>206223</td>\n",
       "      <td>83.200474</td>\n",
       "      <td>89.230572</td>\n",
       "    </tr>\n",
       "    <tr>\n",
       "      <th>Västernorrland</th>\n",
       "      <td>174331</td>\n",
       "      <td>179601</td>\n",
       "      <td>83.345596</td>\n",
       "      <td>86.648368</td>\n",
       "    </tr>\n",
       "    <tr>\n",
       "      <th>Västmanland</th>\n",
       "      <td>182788</td>\n",
       "      <td>193000</td>\n",
       "      <td>78.594595</td>\n",
       "      <td>83.936126</td>\n",
       "    </tr>\n",
       "    <tr>\n",
       "      <th>Västra Götaland</th>\n",
       "      <td>1108998</td>\n",
       "      <td>1198310</td>\n",
       "      <td>78.243521</td>\n",
       "      <td>86.195392</td>\n",
       "    </tr>\n",
       "    <tr>\n",
       "      <th>Örebro</th>\n",
       "      <td>207926</td>\n",
       "      <td>216725</td>\n",
       "      <td>81.766627</td>\n",
       "      <td>85.902790</td>\n",
       "    </tr>\n",
       "    <tr>\n",
       "      <th>Östergötland</th>\n",
       "      <td>322632</td>\n",
       "      <td>336692</td>\n",
       "      <td>83.018222</td>\n",
       "      <td>88.144865</td>\n",
       "    </tr>\n",
       "  </tbody>\n",
       "</table>\n",
       "</div>"
      ]
     },
     "metadata": {},
     "execution_count": 136
    }
   ],
   "metadata": {}
  },
  {
   "cell_type": "code",
   "execution_count": 132,
   "source": [
    "#Creates a template to be shown in hover\n",
    "def create_plotly_barfig(y_data1:str, title:str, y_data2:str=None) -> px.bar:\n",
    "        \"\"\"\n",
    "        Creates a plotly express bar plot from the vaccination dataset.\n",
    "        \n",
    "        Parameters\n",
    "        ----------\n",
    "        y_data1:str\n",
    "                The name of the first column to be plotted on the y-axis.\n",
    "        title:str\n",
    "                The title of the plot.\n",
    "        y_data2:str\n",
    "                The name of the second column to be plotted on the y-axis (default None).    \n",
    "        \n",
    "        Returns\n",
    "        -------\n",
    "        A plotly express barplot figure.\n",
    "        \"\"\"        \n",
    "\n",
    "        if y_data2 == None:\n",
    "                fig = px.bar(\n",
    "                        vaccination_summed, \n",
    "                        x=vaccination_summed.index,      \n",
    "                        y=y_data1,\n",
    "                        title=title,\n",
    "                        labels={\"Län_namn\":\"Län\"}\n",
    "                        )\n",
    "        else:\n",
    "                fig = px.bar(\n",
    "                        vaccination_summed, \n",
    "                        x=vaccination_summed.index, \n",
    "                        y=[y_data1, y_data2], \n",
    "                        barmode=\"group\",\n",
    "                        title=title,\n",
    "                        labels={\"Län_namn\":\"Län\", \"value\":\"Antal vaccinerade\", \"variable\":\"Variabel\"}\n",
    "                        )\n",
    "        if y_data1 == \"Andel minst 1 dos\" or y_data1 == \"Andel färdigvaccinerade\":\n",
    "                fig.update_layout(\n",
    "                        yaxis=dict(title=\"Andel (%)\"), \n",
    "                        xaxis=dict(title=\"Län\"),\n",
    "                        )\n",
    "        else:\n",
    "                fig.update_layout(\n",
    "                        yaxis=dict(title=\"Antal\"), \n",
    "                        xaxis=dict(title=\"Län\"),\n",
    "                        )\n",
    "\n",
    "        return fig      "
   ],
   "outputs": [],
   "metadata": {}
  },
  {
   "cell_type": "code",
   "execution_count": 133,
   "source": [
    "plot5 = create_plotly_barfig(\"Andel minst 1 dos\", \"Andel vaccinerade med minst en dos (per län)\")\n",
    "plot5.show()"
   ],
   "outputs": [
    {
     "output_type": "display_data",
     "data": {
      "application/vnd.plotly.v1+json": {
       "config": {
        "plotlyServerURL": "https://plot.ly"
       },
       "data": [
        {
         "alignmentgroup": "True",
         "hovertemplate": "Län=%{x}<br>Andel minst 1 dos=%{y}<extra></extra>",
         "legendgroup": "",
         "marker": {
          "color": "#636efa",
          "pattern": {
           "shape": ""
          }
         },
         "name": "",
         "offsetgroup": "",
         "orientation": "v",
         "showlegend": false,
         "textposition": "auto",
         "type": "bar",
         "x": [
          "Blekinge",
          "Dalarna",
          "Gotland",
          "Gävleborg",
          "Halland",
          "Jämtland",
          "Jönköping",
          "Kalmar",
          "Kronoberg",
          "Norrbotten",
          "Skåne",
          "Stockholm",
          "Södermanland",
          "Uppsala",
          "Värmland",
          "Västerbotten",
          "Västernorrland",
          "Västmanland",
          "Västra Götaland",
          "Örebro",
          "Östergötland"
         ],
         "xaxis": "x",
         "y": [
          85.05963324034423,
          86.53415071238913,
          90.83336456807066,
          84.8743667586509,
          86.01833323816925,
          86.90728546074706,
          85.9580277604931,
          84.5991878635509,
          82.25320023181844,
          87.80476640488318,
          82.8452915334967,
          83.32252082760616,
          85.86656438053491,
          89.60570257675755,
          88.25039866175418,
          89.23057206622819,
          86.64836841445094,
          83.93612593501446,
          86.19539215877711,
          85.90279036406271,
          88.14486519736225
         ],
         "yaxis": "y"
        }
       ],
       "layout": {
        "barmode": "relative",
        "legend": {
         "tracegroupgap": 0
        },
        "template": {
         "data": {
          "bar": [
           {
            "error_x": {
             "color": "#2a3f5f"
            },
            "error_y": {
             "color": "#2a3f5f"
            },
            "marker": {
             "line": {
              "color": "#E5ECF6",
              "width": 0.5
             },
             "pattern": {
              "fillmode": "overlay",
              "size": 10,
              "solidity": 0.2
             }
            },
            "type": "bar"
           }
          ],
          "barpolar": [
           {
            "marker": {
             "line": {
              "color": "#E5ECF6",
              "width": 0.5
             },
             "pattern": {
              "fillmode": "overlay",
              "size": 10,
              "solidity": 0.2
             }
            },
            "type": "barpolar"
           }
          ],
          "carpet": [
           {
            "aaxis": {
             "endlinecolor": "#2a3f5f",
             "gridcolor": "white",
             "linecolor": "white",
             "minorgridcolor": "white",
             "startlinecolor": "#2a3f5f"
            },
            "baxis": {
             "endlinecolor": "#2a3f5f",
             "gridcolor": "white",
             "linecolor": "white",
             "minorgridcolor": "white",
             "startlinecolor": "#2a3f5f"
            },
            "type": "carpet"
           }
          ],
          "choropleth": [
           {
            "colorbar": {
             "outlinewidth": 0,
             "ticks": ""
            },
            "type": "choropleth"
           }
          ],
          "contour": [
           {
            "colorbar": {
             "outlinewidth": 0,
             "ticks": ""
            },
            "colorscale": [
             [
              0,
              "#0d0887"
             ],
             [
              0.1111111111111111,
              "#46039f"
             ],
             [
              0.2222222222222222,
              "#7201a8"
             ],
             [
              0.3333333333333333,
              "#9c179e"
             ],
             [
              0.4444444444444444,
              "#bd3786"
             ],
             [
              0.5555555555555556,
              "#d8576b"
             ],
             [
              0.6666666666666666,
              "#ed7953"
             ],
             [
              0.7777777777777778,
              "#fb9f3a"
             ],
             [
              0.8888888888888888,
              "#fdca26"
             ],
             [
              1,
              "#f0f921"
             ]
            ],
            "type": "contour"
           }
          ],
          "contourcarpet": [
           {
            "colorbar": {
             "outlinewidth": 0,
             "ticks": ""
            },
            "type": "contourcarpet"
           }
          ],
          "heatmap": [
           {
            "colorbar": {
             "outlinewidth": 0,
             "ticks": ""
            },
            "colorscale": [
             [
              0,
              "#0d0887"
             ],
             [
              0.1111111111111111,
              "#46039f"
             ],
             [
              0.2222222222222222,
              "#7201a8"
             ],
             [
              0.3333333333333333,
              "#9c179e"
             ],
             [
              0.4444444444444444,
              "#bd3786"
             ],
             [
              0.5555555555555556,
              "#d8576b"
             ],
             [
              0.6666666666666666,
              "#ed7953"
             ],
             [
              0.7777777777777778,
              "#fb9f3a"
             ],
             [
              0.8888888888888888,
              "#fdca26"
             ],
             [
              1,
              "#f0f921"
             ]
            ],
            "type": "heatmap"
           }
          ],
          "heatmapgl": [
           {
            "colorbar": {
             "outlinewidth": 0,
             "ticks": ""
            },
            "colorscale": [
             [
              0,
              "#0d0887"
             ],
             [
              0.1111111111111111,
              "#46039f"
             ],
             [
              0.2222222222222222,
              "#7201a8"
             ],
             [
              0.3333333333333333,
              "#9c179e"
             ],
             [
              0.4444444444444444,
              "#bd3786"
             ],
             [
              0.5555555555555556,
              "#d8576b"
             ],
             [
              0.6666666666666666,
              "#ed7953"
             ],
             [
              0.7777777777777778,
              "#fb9f3a"
             ],
             [
              0.8888888888888888,
              "#fdca26"
             ],
             [
              1,
              "#f0f921"
             ]
            ],
            "type": "heatmapgl"
           }
          ],
          "histogram": [
           {
            "marker": {
             "pattern": {
              "fillmode": "overlay",
              "size": 10,
              "solidity": 0.2
             }
            },
            "type": "histogram"
           }
          ],
          "histogram2d": [
           {
            "colorbar": {
             "outlinewidth": 0,
             "ticks": ""
            },
            "colorscale": [
             [
              0,
              "#0d0887"
             ],
             [
              0.1111111111111111,
              "#46039f"
             ],
             [
              0.2222222222222222,
              "#7201a8"
             ],
             [
              0.3333333333333333,
              "#9c179e"
             ],
             [
              0.4444444444444444,
              "#bd3786"
             ],
             [
              0.5555555555555556,
              "#d8576b"
             ],
             [
              0.6666666666666666,
              "#ed7953"
             ],
             [
              0.7777777777777778,
              "#fb9f3a"
             ],
             [
              0.8888888888888888,
              "#fdca26"
             ],
             [
              1,
              "#f0f921"
             ]
            ],
            "type": "histogram2d"
           }
          ],
          "histogram2dcontour": [
           {
            "colorbar": {
             "outlinewidth": 0,
             "ticks": ""
            },
            "colorscale": [
             [
              0,
              "#0d0887"
             ],
             [
              0.1111111111111111,
              "#46039f"
             ],
             [
              0.2222222222222222,
              "#7201a8"
             ],
             [
              0.3333333333333333,
              "#9c179e"
             ],
             [
              0.4444444444444444,
              "#bd3786"
             ],
             [
              0.5555555555555556,
              "#d8576b"
             ],
             [
              0.6666666666666666,
              "#ed7953"
             ],
             [
              0.7777777777777778,
              "#fb9f3a"
             ],
             [
              0.8888888888888888,
              "#fdca26"
             ],
             [
              1,
              "#f0f921"
             ]
            ],
            "type": "histogram2dcontour"
           }
          ],
          "mesh3d": [
           {
            "colorbar": {
             "outlinewidth": 0,
             "ticks": ""
            },
            "type": "mesh3d"
           }
          ],
          "parcoords": [
           {
            "line": {
             "colorbar": {
              "outlinewidth": 0,
              "ticks": ""
             }
            },
            "type": "parcoords"
           }
          ],
          "pie": [
           {
            "automargin": true,
            "type": "pie"
           }
          ],
          "scatter": [
           {
            "marker": {
             "colorbar": {
              "outlinewidth": 0,
              "ticks": ""
             }
            },
            "type": "scatter"
           }
          ],
          "scatter3d": [
           {
            "line": {
             "colorbar": {
              "outlinewidth": 0,
              "ticks": ""
             }
            },
            "marker": {
             "colorbar": {
              "outlinewidth": 0,
              "ticks": ""
             }
            },
            "type": "scatter3d"
           }
          ],
          "scattercarpet": [
           {
            "marker": {
             "colorbar": {
              "outlinewidth": 0,
              "ticks": ""
             }
            },
            "type": "scattercarpet"
           }
          ],
          "scattergeo": [
           {
            "marker": {
             "colorbar": {
              "outlinewidth": 0,
              "ticks": ""
             }
            },
            "type": "scattergeo"
           }
          ],
          "scattergl": [
           {
            "marker": {
             "colorbar": {
              "outlinewidth": 0,
              "ticks": ""
             }
            },
            "type": "scattergl"
           }
          ],
          "scattermapbox": [
           {
            "marker": {
             "colorbar": {
              "outlinewidth": 0,
              "ticks": ""
             }
            },
            "type": "scattermapbox"
           }
          ],
          "scatterpolar": [
           {
            "marker": {
             "colorbar": {
              "outlinewidth": 0,
              "ticks": ""
             }
            },
            "type": "scatterpolar"
           }
          ],
          "scatterpolargl": [
           {
            "marker": {
             "colorbar": {
              "outlinewidth": 0,
              "ticks": ""
             }
            },
            "type": "scatterpolargl"
           }
          ],
          "scatterternary": [
           {
            "marker": {
             "colorbar": {
              "outlinewidth": 0,
              "ticks": ""
             }
            },
            "type": "scatterternary"
           }
          ],
          "surface": [
           {
            "colorbar": {
             "outlinewidth": 0,
             "ticks": ""
            },
            "colorscale": [
             [
              0,
              "#0d0887"
             ],
             [
              0.1111111111111111,
              "#46039f"
             ],
             [
              0.2222222222222222,
              "#7201a8"
             ],
             [
              0.3333333333333333,
              "#9c179e"
             ],
             [
              0.4444444444444444,
              "#bd3786"
             ],
             [
              0.5555555555555556,
              "#d8576b"
             ],
             [
              0.6666666666666666,
              "#ed7953"
             ],
             [
              0.7777777777777778,
              "#fb9f3a"
             ],
             [
              0.8888888888888888,
              "#fdca26"
             ],
             [
              1,
              "#f0f921"
             ]
            ],
            "type": "surface"
           }
          ],
          "table": [
           {
            "cells": {
             "fill": {
              "color": "#EBF0F8"
             },
             "line": {
              "color": "white"
             }
            },
            "header": {
             "fill": {
              "color": "#C8D4E3"
             },
             "line": {
              "color": "white"
             }
            },
            "type": "table"
           }
          ]
         },
         "layout": {
          "annotationdefaults": {
           "arrowcolor": "#2a3f5f",
           "arrowhead": 0,
           "arrowwidth": 1
          },
          "autotypenumbers": "strict",
          "coloraxis": {
           "colorbar": {
            "outlinewidth": 0,
            "ticks": ""
           }
          },
          "colorscale": {
           "diverging": [
            [
             0,
             "#8e0152"
            ],
            [
             0.1,
             "#c51b7d"
            ],
            [
             0.2,
             "#de77ae"
            ],
            [
             0.3,
             "#f1b6da"
            ],
            [
             0.4,
             "#fde0ef"
            ],
            [
             0.5,
             "#f7f7f7"
            ],
            [
             0.6,
             "#e6f5d0"
            ],
            [
             0.7,
             "#b8e186"
            ],
            [
             0.8,
             "#7fbc41"
            ],
            [
             0.9,
             "#4d9221"
            ],
            [
             1,
             "#276419"
            ]
           ],
           "sequential": [
            [
             0,
             "#0d0887"
            ],
            [
             0.1111111111111111,
             "#46039f"
            ],
            [
             0.2222222222222222,
             "#7201a8"
            ],
            [
             0.3333333333333333,
             "#9c179e"
            ],
            [
             0.4444444444444444,
             "#bd3786"
            ],
            [
             0.5555555555555556,
             "#d8576b"
            ],
            [
             0.6666666666666666,
             "#ed7953"
            ],
            [
             0.7777777777777778,
             "#fb9f3a"
            ],
            [
             0.8888888888888888,
             "#fdca26"
            ],
            [
             1,
             "#f0f921"
            ]
           ],
           "sequentialminus": [
            [
             0,
             "#0d0887"
            ],
            [
             0.1111111111111111,
             "#46039f"
            ],
            [
             0.2222222222222222,
             "#7201a8"
            ],
            [
             0.3333333333333333,
             "#9c179e"
            ],
            [
             0.4444444444444444,
             "#bd3786"
            ],
            [
             0.5555555555555556,
             "#d8576b"
            ],
            [
             0.6666666666666666,
             "#ed7953"
            ],
            [
             0.7777777777777778,
             "#fb9f3a"
            ],
            [
             0.8888888888888888,
             "#fdca26"
            ],
            [
             1,
             "#f0f921"
            ]
           ]
          },
          "colorway": [
           "#636efa",
           "#EF553B",
           "#00cc96",
           "#ab63fa",
           "#FFA15A",
           "#19d3f3",
           "#FF6692",
           "#B6E880",
           "#FF97FF",
           "#FECB52"
          ],
          "font": {
           "color": "#2a3f5f"
          },
          "geo": {
           "bgcolor": "white",
           "lakecolor": "white",
           "landcolor": "#E5ECF6",
           "showlakes": true,
           "showland": true,
           "subunitcolor": "white"
          },
          "hoverlabel": {
           "align": "left"
          },
          "hovermode": "closest",
          "mapbox": {
           "style": "light"
          },
          "paper_bgcolor": "white",
          "plot_bgcolor": "#E5ECF6",
          "polar": {
           "angularaxis": {
            "gridcolor": "white",
            "linecolor": "white",
            "ticks": ""
           },
           "bgcolor": "#E5ECF6",
           "radialaxis": {
            "gridcolor": "white",
            "linecolor": "white",
            "ticks": ""
           }
          },
          "scene": {
           "xaxis": {
            "backgroundcolor": "#E5ECF6",
            "gridcolor": "white",
            "gridwidth": 2,
            "linecolor": "white",
            "showbackground": true,
            "ticks": "",
            "zerolinecolor": "white"
           },
           "yaxis": {
            "backgroundcolor": "#E5ECF6",
            "gridcolor": "white",
            "gridwidth": 2,
            "linecolor": "white",
            "showbackground": true,
            "ticks": "",
            "zerolinecolor": "white"
           },
           "zaxis": {
            "backgroundcolor": "#E5ECF6",
            "gridcolor": "white",
            "gridwidth": 2,
            "linecolor": "white",
            "showbackground": true,
            "ticks": "",
            "zerolinecolor": "white"
           }
          },
          "shapedefaults": {
           "line": {
            "color": "#2a3f5f"
           }
          },
          "ternary": {
           "aaxis": {
            "gridcolor": "white",
            "linecolor": "white",
            "ticks": ""
           },
           "baxis": {
            "gridcolor": "white",
            "linecolor": "white",
            "ticks": ""
           },
           "bgcolor": "#E5ECF6",
           "caxis": {
            "gridcolor": "white",
            "linecolor": "white",
            "ticks": ""
           }
          },
          "title": {
           "x": 0.05
          },
          "xaxis": {
           "automargin": true,
           "gridcolor": "white",
           "linecolor": "white",
           "ticks": "",
           "title": {
            "standoff": 15
           },
           "zerolinecolor": "white",
           "zerolinewidth": 2
          },
          "yaxis": {
           "automargin": true,
           "gridcolor": "white",
           "linecolor": "white",
           "ticks": "",
           "title": {
            "standoff": 15
           },
           "zerolinecolor": "white",
           "zerolinewidth": 2
          }
         }
        },
        "title": {
         "text": "Andel vaccinerade med minst en dos (per län)"
        },
        "xaxis": {
         "anchor": "y",
         "domain": [
          0,
          1
         ],
         "title": {
          "text": "Län"
         }
        },
        "yaxis": {
         "anchor": "x",
         "domain": [
          0,
          1
         ],
         "title": {
          "text": "Andel (%)"
         }
        }
       }
      }
     },
     "metadata": {}
    }
   ],
   "metadata": {}
  },
  {
   "cell_type": "code",
   "execution_count": 134,
   "source": [
    "plot6 = create_plotly_barfig(\"Andel färdigvaccinerade\", \"Andel färdigvaccinerade (per län)\")\n",
    "plot6.show()"
   ],
   "outputs": [
    {
     "output_type": "display_data",
     "data": {
      "application/vnd.plotly.v1+json": {
       "config": {
        "plotlyServerURL": "https://plot.ly"
       },
       "data": [
        {
         "alignmentgroup": "True",
         "hovertemplate": "Län=%{x}<br>Andel färdigvaccinerade=%{y}<extra></extra>",
         "legendgroup": "",
         "marker": {
          "color": "#636efa",
          "pattern": {
           "shape": ""
          }
         },
         "name": "",
         "offsetgroup": "",
         "orientation": "v",
         "showlegend": false,
         "textposition": "auto",
         "type": "bar",
         "x": [
          "Blekinge",
          "Dalarna",
          "Gotland",
          "Gävleborg",
          "Halland",
          "Jämtland",
          "Jönköping",
          "Kalmar",
          "Kronoberg",
          "Norrbotten",
          "Skåne",
          "Stockholm",
          "Södermanland",
          "Uppsala",
          "Värmland",
          "Västerbotten",
          "Västernorrland",
          "Västmanland",
          "Västra Götaland",
          "Örebro",
          "Östergötland"
         ],
         "xaxis": "x",
         "y": [
          80.72489497358336,
          81.84499012780533,
          87.28272795153214,
          79.02438561364195,
          81.71887303305665,
          80.70187682279985,
          79.70085302764151,
          80.27211537105501,
          76.95393003354684,
          80.96358323455553,
          77.45662895286885,
          75.77225283380146,
          79.97982551182497,
          85.35815050289295,
          84.82525778672156,
          83.20047432938284,
          83.3455962522702,
          78.59459506393219,
          78.24352129187882,
          81.7666272909731,
          83.01822170480587
         ],
         "yaxis": "y"
        }
       ],
       "layout": {
        "barmode": "relative",
        "legend": {
         "tracegroupgap": 0
        },
        "template": {
         "data": {
          "bar": [
           {
            "error_x": {
             "color": "#2a3f5f"
            },
            "error_y": {
             "color": "#2a3f5f"
            },
            "marker": {
             "line": {
              "color": "#E5ECF6",
              "width": 0.5
             },
             "pattern": {
              "fillmode": "overlay",
              "size": 10,
              "solidity": 0.2
             }
            },
            "type": "bar"
           }
          ],
          "barpolar": [
           {
            "marker": {
             "line": {
              "color": "#E5ECF6",
              "width": 0.5
             },
             "pattern": {
              "fillmode": "overlay",
              "size": 10,
              "solidity": 0.2
             }
            },
            "type": "barpolar"
           }
          ],
          "carpet": [
           {
            "aaxis": {
             "endlinecolor": "#2a3f5f",
             "gridcolor": "white",
             "linecolor": "white",
             "minorgridcolor": "white",
             "startlinecolor": "#2a3f5f"
            },
            "baxis": {
             "endlinecolor": "#2a3f5f",
             "gridcolor": "white",
             "linecolor": "white",
             "minorgridcolor": "white",
             "startlinecolor": "#2a3f5f"
            },
            "type": "carpet"
           }
          ],
          "choropleth": [
           {
            "colorbar": {
             "outlinewidth": 0,
             "ticks": ""
            },
            "type": "choropleth"
           }
          ],
          "contour": [
           {
            "colorbar": {
             "outlinewidth": 0,
             "ticks": ""
            },
            "colorscale": [
             [
              0,
              "#0d0887"
             ],
             [
              0.1111111111111111,
              "#46039f"
             ],
             [
              0.2222222222222222,
              "#7201a8"
             ],
             [
              0.3333333333333333,
              "#9c179e"
             ],
             [
              0.4444444444444444,
              "#bd3786"
             ],
             [
              0.5555555555555556,
              "#d8576b"
             ],
             [
              0.6666666666666666,
              "#ed7953"
             ],
             [
              0.7777777777777778,
              "#fb9f3a"
             ],
             [
              0.8888888888888888,
              "#fdca26"
             ],
             [
              1,
              "#f0f921"
             ]
            ],
            "type": "contour"
           }
          ],
          "contourcarpet": [
           {
            "colorbar": {
             "outlinewidth": 0,
             "ticks": ""
            },
            "type": "contourcarpet"
           }
          ],
          "heatmap": [
           {
            "colorbar": {
             "outlinewidth": 0,
             "ticks": ""
            },
            "colorscale": [
             [
              0,
              "#0d0887"
             ],
             [
              0.1111111111111111,
              "#46039f"
             ],
             [
              0.2222222222222222,
              "#7201a8"
             ],
             [
              0.3333333333333333,
              "#9c179e"
             ],
             [
              0.4444444444444444,
              "#bd3786"
             ],
             [
              0.5555555555555556,
              "#d8576b"
             ],
             [
              0.6666666666666666,
              "#ed7953"
             ],
             [
              0.7777777777777778,
              "#fb9f3a"
             ],
             [
              0.8888888888888888,
              "#fdca26"
             ],
             [
              1,
              "#f0f921"
             ]
            ],
            "type": "heatmap"
           }
          ],
          "heatmapgl": [
           {
            "colorbar": {
             "outlinewidth": 0,
             "ticks": ""
            },
            "colorscale": [
             [
              0,
              "#0d0887"
             ],
             [
              0.1111111111111111,
              "#46039f"
             ],
             [
              0.2222222222222222,
              "#7201a8"
             ],
             [
              0.3333333333333333,
              "#9c179e"
             ],
             [
              0.4444444444444444,
              "#bd3786"
             ],
             [
              0.5555555555555556,
              "#d8576b"
             ],
             [
              0.6666666666666666,
              "#ed7953"
             ],
             [
              0.7777777777777778,
              "#fb9f3a"
             ],
             [
              0.8888888888888888,
              "#fdca26"
             ],
             [
              1,
              "#f0f921"
             ]
            ],
            "type": "heatmapgl"
           }
          ],
          "histogram": [
           {
            "marker": {
             "pattern": {
              "fillmode": "overlay",
              "size": 10,
              "solidity": 0.2
             }
            },
            "type": "histogram"
           }
          ],
          "histogram2d": [
           {
            "colorbar": {
             "outlinewidth": 0,
             "ticks": ""
            },
            "colorscale": [
             [
              0,
              "#0d0887"
             ],
             [
              0.1111111111111111,
              "#46039f"
             ],
             [
              0.2222222222222222,
              "#7201a8"
             ],
             [
              0.3333333333333333,
              "#9c179e"
             ],
             [
              0.4444444444444444,
              "#bd3786"
             ],
             [
              0.5555555555555556,
              "#d8576b"
             ],
             [
              0.6666666666666666,
              "#ed7953"
             ],
             [
              0.7777777777777778,
              "#fb9f3a"
             ],
             [
              0.8888888888888888,
              "#fdca26"
             ],
             [
              1,
              "#f0f921"
             ]
            ],
            "type": "histogram2d"
           }
          ],
          "histogram2dcontour": [
           {
            "colorbar": {
             "outlinewidth": 0,
             "ticks": ""
            },
            "colorscale": [
             [
              0,
              "#0d0887"
             ],
             [
              0.1111111111111111,
              "#46039f"
             ],
             [
              0.2222222222222222,
              "#7201a8"
             ],
             [
              0.3333333333333333,
              "#9c179e"
             ],
             [
              0.4444444444444444,
              "#bd3786"
             ],
             [
              0.5555555555555556,
              "#d8576b"
             ],
             [
              0.6666666666666666,
              "#ed7953"
             ],
             [
              0.7777777777777778,
              "#fb9f3a"
             ],
             [
              0.8888888888888888,
              "#fdca26"
             ],
             [
              1,
              "#f0f921"
             ]
            ],
            "type": "histogram2dcontour"
           }
          ],
          "mesh3d": [
           {
            "colorbar": {
             "outlinewidth": 0,
             "ticks": ""
            },
            "type": "mesh3d"
           }
          ],
          "parcoords": [
           {
            "line": {
             "colorbar": {
              "outlinewidth": 0,
              "ticks": ""
             }
            },
            "type": "parcoords"
           }
          ],
          "pie": [
           {
            "automargin": true,
            "type": "pie"
           }
          ],
          "scatter": [
           {
            "marker": {
             "colorbar": {
              "outlinewidth": 0,
              "ticks": ""
             }
            },
            "type": "scatter"
           }
          ],
          "scatter3d": [
           {
            "line": {
             "colorbar": {
              "outlinewidth": 0,
              "ticks": ""
             }
            },
            "marker": {
             "colorbar": {
              "outlinewidth": 0,
              "ticks": ""
             }
            },
            "type": "scatter3d"
           }
          ],
          "scattercarpet": [
           {
            "marker": {
             "colorbar": {
              "outlinewidth": 0,
              "ticks": ""
             }
            },
            "type": "scattercarpet"
           }
          ],
          "scattergeo": [
           {
            "marker": {
             "colorbar": {
              "outlinewidth": 0,
              "ticks": ""
             }
            },
            "type": "scattergeo"
           }
          ],
          "scattergl": [
           {
            "marker": {
             "colorbar": {
              "outlinewidth": 0,
              "ticks": ""
             }
            },
            "type": "scattergl"
           }
          ],
          "scattermapbox": [
           {
            "marker": {
             "colorbar": {
              "outlinewidth": 0,
              "ticks": ""
             }
            },
            "type": "scattermapbox"
           }
          ],
          "scatterpolar": [
           {
            "marker": {
             "colorbar": {
              "outlinewidth": 0,
              "ticks": ""
             }
            },
            "type": "scatterpolar"
           }
          ],
          "scatterpolargl": [
           {
            "marker": {
             "colorbar": {
              "outlinewidth": 0,
              "ticks": ""
             }
            },
            "type": "scatterpolargl"
           }
          ],
          "scatterternary": [
           {
            "marker": {
             "colorbar": {
              "outlinewidth": 0,
              "ticks": ""
             }
            },
            "type": "scatterternary"
           }
          ],
          "surface": [
           {
            "colorbar": {
             "outlinewidth": 0,
             "ticks": ""
            },
            "colorscale": [
             [
              0,
              "#0d0887"
             ],
             [
              0.1111111111111111,
              "#46039f"
             ],
             [
              0.2222222222222222,
              "#7201a8"
             ],
             [
              0.3333333333333333,
              "#9c179e"
             ],
             [
              0.4444444444444444,
              "#bd3786"
             ],
             [
              0.5555555555555556,
              "#d8576b"
             ],
             [
              0.6666666666666666,
              "#ed7953"
             ],
             [
              0.7777777777777778,
              "#fb9f3a"
             ],
             [
              0.8888888888888888,
              "#fdca26"
             ],
             [
              1,
              "#f0f921"
             ]
            ],
            "type": "surface"
           }
          ],
          "table": [
           {
            "cells": {
             "fill": {
              "color": "#EBF0F8"
             },
             "line": {
              "color": "white"
             }
            },
            "header": {
             "fill": {
              "color": "#C8D4E3"
             },
             "line": {
              "color": "white"
             }
            },
            "type": "table"
           }
          ]
         },
         "layout": {
          "annotationdefaults": {
           "arrowcolor": "#2a3f5f",
           "arrowhead": 0,
           "arrowwidth": 1
          },
          "autotypenumbers": "strict",
          "coloraxis": {
           "colorbar": {
            "outlinewidth": 0,
            "ticks": ""
           }
          },
          "colorscale": {
           "diverging": [
            [
             0,
             "#8e0152"
            ],
            [
             0.1,
             "#c51b7d"
            ],
            [
             0.2,
             "#de77ae"
            ],
            [
             0.3,
             "#f1b6da"
            ],
            [
             0.4,
             "#fde0ef"
            ],
            [
             0.5,
             "#f7f7f7"
            ],
            [
             0.6,
             "#e6f5d0"
            ],
            [
             0.7,
             "#b8e186"
            ],
            [
             0.8,
             "#7fbc41"
            ],
            [
             0.9,
             "#4d9221"
            ],
            [
             1,
             "#276419"
            ]
           ],
           "sequential": [
            [
             0,
             "#0d0887"
            ],
            [
             0.1111111111111111,
             "#46039f"
            ],
            [
             0.2222222222222222,
             "#7201a8"
            ],
            [
             0.3333333333333333,
             "#9c179e"
            ],
            [
             0.4444444444444444,
             "#bd3786"
            ],
            [
             0.5555555555555556,
             "#d8576b"
            ],
            [
             0.6666666666666666,
             "#ed7953"
            ],
            [
             0.7777777777777778,
             "#fb9f3a"
            ],
            [
             0.8888888888888888,
             "#fdca26"
            ],
            [
             1,
             "#f0f921"
            ]
           ],
           "sequentialminus": [
            [
             0,
             "#0d0887"
            ],
            [
             0.1111111111111111,
             "#46039f"
            ],
            [
             0.2222222222222222,
             "#7201a8"
            ],
            [
             0.3333333333333333,
             "#9c179e"
            ],
            [
             0.4444444444444444,
             "#bd3786"
            ],
            [
             0.5555555555555556,
             "#d8576b"
            ],
            [
             0.6666666666666666,
             "#ed7953"
            ],
            [
             0.7777777777777778,
             "#fb9f3a"
            ],
            [
             0.8888888888888888,
             "#fdca26"
            ],
            [
             1,
             "#f0f921"
            ]
           ]
          },
          "colorway": [
           "#636efa",
           "#EF553B",
           "#00cc96",
           "#ab63fa",
           "#FFA15A",
           "#19d3f3",
           "#FF6692",
           "#B6E880",
           "#FF97FF",
           "#FECB52"
          ],
          "font": {
           "color": "#2a3f5f"
          },
          "geo": {
           "bgcolor": "white",
           "lakecolor": "white",
           "landcolor": "#E5ECF6",
           "showlakes": true,
           "showland": true,
           "subunitcolor": "white"
          },
          "hoverlabel": {
           "align": "left"
          },
          "hovermode": "closest",
          "mapbox": {
           "style": "light"
          },
          "paper_bgcolor": "white",
          "plot_bgcolor": "#E5ECF6",
          "polar": {
           "angularaxis": {
            "gridcolor": "white",
            "linecolor": "white",
            "ticks": ""
           },
           "bgcolor": "#E5ECF6",
           "radialaxis": {
            "gridcolor": "white",
            "linecolor": "white",
            "ticks": ""
           }
          },
          "scene": {
           "xaxis": {
            "backgroundcolor": "#E5ECF6",
            "gridcolor": "white",
            "gridwidth": 2,
            "linecolor": "white",
            "showbackground": true,
            "ticks": "",
            "zerolinecolor": "white"
           },
           "yaxis": {
            "backgroundcolor": "#E5ECF6",
            "gridcolor": "white",
            "gridwidth": 2,
            "linecolor": "white",
            "showbackground": true,
            "ticks": "",
            "zerolinecolor": "white"
           },
           "zaxis": {
            "backgroundcolor": "#E5ECF6",
            "gridcolor": "white",
            "gridwidth": 2,
            "linecolor": "white",
            "showbackground": true,
            "ticks": "",
            "zerolinecolor": "white"
           }
          },
          "shapedefaults": {
           "line": {
            "color": "#2a3f5f"
           }
          },
          "ternary": {
           "aaxis": {
            "gridcolor": "white",
            "linecolor": "white",
            "ticks": ""
           },
           "baxis": {
            "gridcolor": "white",
            "linecolor": "white",
            "ticks": ""
           },
           "bgcolor": "#E5ECF6",
           "caxis": {
            "gridcolor": "white",
            "linecolor": "white",
            "ticks": ""
           }
          },
          "title": {
           "x": 0.05
          },
          "xaxis": {
           "automargin": true,
           "gridcolor": "white",
           "linecolor": "white",
           "ticks": "",
           "title": {
            "standoff": 15
           },
           "zerolinecolor": "white",
           "zerolinewidth": 2
          },
          "yaxis": {
           "automargin": true,
           "gridcolor": "white",
           "linecolor": "white",
           "ticks": "",
           "title": {
            "standoff": 15
           },
           "zerolinecolor": "white",
           "zerolinewidth": 2
          }
         }
        },
        "title": {
         "text": "Andel färdigvaccinerade (per län)"
        },
        "xaxis": {
         "anchor": "y",
         "domain": [
          0,
          1
         ],
         "title": {
          "text": "Län"
         }
        },
        "yaxis": {
         "anchor": "x",
         "domain": [
          0,
          1
         ],
         "title": {
          "text": "Andel (%)"
         }
        }
       }
      }
     },
     "metadata": {}
    }
   ],
   "metadata": {}
  },
  {
   "cell_type": "markdown",
   "source": [
    "### f) Bar chart for number of people vaccinated with at least one dose and fully vaccinated people (one plot)"
   ],
   "metadata": {}
  },
  {
   "cell_type": "code",
   "execution_count": 135,
   "source": [
    "plot7 = create_plotly_barfig(\"Antal minst 1 dos\", \"Antal vaccinerade med minst en dos och antal färdigvaccinerade\", \"Antal färdigvaccinerade\")\n",
    "plot7.show()"
   ],
   "outputs": [
    {
     "output_type": "display_data",
     "data": {
      "application/vnd.plotly.v1+json": {
       "config": {
        "plotlyServerURL": "https://plot.ly"
       },
       "data": [
        {
         "alignmentgroup": "True",
         "hovertemplate": "Variabel=Antal minst 1 dos<br>Län=%{x}<br>Antal vaccinerade=%{y}<extra></extra>",
         "legendgroup": "Antal minst 1 dos",
         "marker": {
          "color": "#636efa",
          "pattern": {
           "shape": ""
          }
         },
         "name": "Antal minst 1 dos",
         "offsetgroup": "Antal minst 1 dos",
         "orientation": "v",
         "showlegend": true,
         "textposition": "auto",
         "type": "bar",
         "x": [
          "Blekinge",
          "Dalarna",
          "Gotland",
          "Gävleborg",
          "Halland",
          "Jämtland",
          "Jönköping",
          "Kalmar",
          "Kronoberg",
          "Norrbotten",
          "Skåne",
          "Stockholm",
          "Södermanland",
          "Uppsala",
          "Värmland",
          "Västerbotten",
          "Västernorrland",
          "Västmanland",
          "Västra Götaland",
          "Örebro",
          "Östergötland"
         ],
         "xaxis": "x",
         "y": [
          114711,
          207596,
          46143,
          205563,
          239400,
          95357,
          252915,
          178030,
          138254,
          188604,
          924401,
          1584895,
          209702,
          284138,
          212359,
          206223,
          179601,
          193000,
          1198310,
          216725,
          336692
         ],
         "yaxis": "y"
        },
        {
         "alignmentgroup": "True",
         "hovertemplate": "Variabel=Antal färdigvaccinerade<br>Län=%{x}<br>Antal vaccinerade=%{y}<extra></extra>",
         "legendgroup": "Antal färdigvaccinerade",
         "marker": {
          "color": "#EF553B",
          "pattern": {
           "shape": ""
          }
         },
         "name": "Antal färdigvaccinerade",
         "offsetgroup": "Antal färdigvaccinerade",
         "orientation": "v",
         "showlegend": true,
         "textposition": "auto",
         "type": "bar",
         "x": [
          "Blekinge",
          "Dalarna",
          "Gotland",
          "Gävleborg",
          "Halland",
          "Jämtland",
          "Jönköping",
          "Kalmar",
          "Kronoberg",
          "Norrbotten",
          "Skåne",
          "Stockholm",
          "Södermanland",
          "Uppsala",
          "Värmland",
          "Västerbotten",
          "Västernorrland",
          "Västmanland",
          "Västra Götaland",
          "Örebro",
          "Östergötland"
         ],
         "xaxis": "x",
         "y": [
          110497,
          198688,
          44359,
          193853,
          230634,
          90406,
          238710,
          170670,
          130930,
          179118,
          875634,
          1459095,
          198260,
          271144,
          206427,
          196346,
          174331,
          182788,
          1108998,
          207926,
          322632
         ],
         "yaxis": "y"
        }
       ],
       "layout": {
        "barmode": "group",
        "legend": {
         "title": {
          "text": "Variabel"
         },
         "tracegroupgap": 0
        },
        "template": {
         "data": {
          "bar": [
           {
            "error_x": {
             "color": "#2a3f5f"
            },
            "error_y": {
             "color": "#2a3f5f"
            },
            "marker": {
             "line": {
              "color": "#E5ECF6",
              "width": 0.5
             },
             "pattern": {
              "fillmode": "overlay",
              "size": 10,
              "solidity": 0.2
             }
            },
            "type": "bar"
           }
          ],
          "barpolar": [
           {
            "marker": {
             "line": {
              "color": "#E5ECF6",
              "width": 0.5
             },
             "pattern": {
              "fillmode": "overlay",
              "size": 10,
              "solidity": 0.2
             }
            },
            "type": "barpolar"
           }
          ],
          "carpet": [
           {
            "aaxis": {
             "endlinecolor": "#2a3f5f",
             "gridcolor": "white",
             "linecolor": "white",
             "minorgridcolor": "white",
             "startlinecolor": "#2a3f5f"
            },
            "baxis": {
             "endlinecolor": "#2a3f5f",
             "gridcolor": "white",
             "linecolor": "white",
             "minorgridcolor": "white",
             "startlinecolor": "#2a3f5f"
            },
            "type": "carpet"
           }
          ],
          "choropleth": [
           {
            "colorbar": {
             "outlinewidth": 0,
             "ticks": ""
            },
            "type": "choropleth"
           }
          ],
          "contour": [
           {
            "colorbar": {
             "outlinewidth": 0,
             "ticks": ""
            },
            "colorscale": [
             [
              0,
              "#0d0887"
             ],
             [
              0.1111111111111111,
              "#46039f"
             ],
             [
              0.2222222222222222,
              "#7201a8"
             ],
             [
              0.3333333333333333,
              "#9c179e"
             ],
             [
              0.4444444444444444,
              "#bd3786"
             ],
             [
              0.5555555555555556,
              "#d8576b"
             ],
             [
              0.6666666666666666,
              "#ed7953"
             ],
             [
              0.7777777777777778,
              "#fb9f3a"
             ],
             [
              0.8888888888888888,
              "#fdca26"
             ],
             [
              1,
              "#f0f921"
             ]
            ],
            "type": "contour"
           }
          ],
          "contourcarpet": [
           {
            "colorbar": {
             "outlinewidth": 0,
             "ticks": ""
            },
            "type": "contourcarpet"
           }
          ],
          "heatmap": [
           {
            "colorbar": {
             "outlinewidth": 0,
             "ticks": ""
            },
            "colorscale": [
             [
              0,
              "#0d0887"
             ],
             [
              0.1111111111111111,
              "#46039f"
             ],
             [
              0.2222222222222222,
              "#7201a8"
             ],
             [
              0.3333333333333333,
              "#9c179e"
             ],
             [
              0.4444444444444444,
              "#bd3786"
             ],
             [
              0.5555555555555556,
              "#d8576b"
             ],
             [
              0.6666666666666666,
              "#ed7953"
             ],
             [
              0.7777777777777778,
              "#fb9f3a"
             ],
             [
              0.8888888888888888,
              "#fdca26"
             ],
             [
              1,
              "#f0f921"
             ]
            ],
            "type": "heatmap"
           }
          ],
          "heatmapgl": [
           {
            "colorbar": {
             "outlinewidth": 0,
             "ticks": ""
            },
            "colorscale": [
             [
              0,
              "#0d0887"
             ],
             [
              0.1111111111111111,
              "#46039f"
             ],
             [
              0.2222222222222222,
              "#7201a8"
             ],
             [
              0.3333333333333333,
              "#9c179e"
             ],
             [
              0.4444444444444444,
              "#bd3786"
             ],
             [
              0.5555555555555556,
              "#d8576b"
             ],
             [
              0.6666666666666666,
              "#ed7953"
             ],
             [
              0.7777777777777778,
              "#fb9f3a"
             ],
             [
              0.8888888888888888,
              "#fdca26"
             ],
             [
              1,
              "#f0f921"
             ]
            ],
            "type": "heatmapgl"
           }
          ],
          "histogram": [
           {
            "marker": {
             "pattern": {
              "fillmode": "overlay",
              "size": 10,
              "solidity": 0.2
             }
            },
            "type": "histogram"
           }
          ],
          "histogram2d": [
           {
            "colorbar": {
             "outlinewidth": 0,
             "ticks": ""
            },
            "colorscale": [
             [
              0,
              "#0d0887"
             ],
             [
              0.1111111111111111,
              "#46039f"
             ],
             [
              0.2222222222222222,
              "#7201a8"
             ],
             [
              0.3333333333333333,
              "#9c179e"
             ],
             [
              0.4444444444444444,
              "#bd3786"
             ],
             [
              0.5555555555555556,
              "#d8576b"
             ],
             [
              0.6666666666666666,
              "#ed7953"
             ],
             [
              0.7777777777777778,
              "#fb9f3a"
             ],
             [
              0.8888888888888888,
              "#fdca26"
             ],
             [
              1,
              "#f0f921"
             ]
            ],
            "type": "histogram2d"
           }
          ],
          "histogram2dcontour": [
           {
            "colorbar": {
             "outlinewidth": 0,
             "ticks": ""
            },
            "colorscale": [
             [
              0,
              "#0d0887"
             ],
             [
              0.1111111111111111,
              "#46039f"
             ],
             [
              0.2222222222222222,
              "#7201a8"
             ],
             [
              0.3333333333333333,
              "#9c179e"
             ],
             [
              0.4444444444444444,
              "#bd3786"
             ],
             [
              0.5555555555555556,
              "#d8576b"
             ],
             [
              0.6666666666666666,
              "#ed7953"
             ],
             [
              0.7777777777777778,
              "#fb9f3a"
             ],
             [
              0.8888888888888888,
              "#fdca26"
             ],
             [
              1,
              "#f0f921"
             ]
            ],
            "type": "histogram2dcontour"
           }
          ],
          "mesh3d": [
           {
            "colorbar": {
             "outlinewidth": 0,
             "ticks": ""
            },
            "type": "mesh3d"
           }
          ],
          "parcoords": [
           {
            "line": {
             "colorbar": {
              "outlinewidth": 0,
              "ticks": ""
             }
            },
            "type": "parcoords"
           }
          ],
          "pie": [
           {
            "automargin": true,
            "type": "pie"
           }
          ],
          "scatter": [
           {
            "marker": {
             "colorbar": {
              "outlinewidth": 0,
              "ticks": ""
             }
            },
            "type": "scatter"
           }
          ],
          "scatter3d": [
           {
            "line": {
             "colorbar": {
              "outlinewidth": 0,
              "ticks": ""
             }
            },
            "marker": {
             "colorbar": {
              "outlinewidth": 0,
              "ticks": ""
             }
            },
            "type": "scatter3d"
           }
          ],
          "scattercarpet": [
           {
            "marker": {
             "colorbar": {
              "outlinewidth": 0,
              "ticks": ""
             }
            },
            "type": "scattercarpet"
           }
          ],
          "scattergeo": [
           {
            "marker": {
             "colorbar": {
              "outlinewidth": 0,
              "ticks": ""
             }
            },
            "type": "scattergeo"
           }
          ],
          "scattergl": [
           {
            "marker": {
             "colorbar": {
              "outlinewidth": 0,
              "ticks": ""
             }
            },
            "type": "scattergl"
           }
          ],
          "scattermapbox": [
           {
            "marker": {
             "colorbar": {
              "outlinewidth": 0,
              "ticks": ""
             }
            },
            "type": "scattermapbox"
           }
          ],
          "scatterpolar": [
           {
            "marker": {
             "colorbar": {
              "outlinewidth": 0,
              "ticks": ""
             }
            },
            "type": "scatterpolar"
           }
          ],
          "scatterpolargl": [
           {
            "marker": {
             "colorbar": {
              "outlinewidth": 0,
              "ticks": ""
             }
            },
            "type": "scatterpolargl"
           }
          ],
          "scatterternary": [
           {
            "marker": {
             "colorbar": {
              "outlinewidth": 0,
              "ticks": ""
             }
            },
            "type": "scatterternary"
           }
          ],
          "surface": [
           {
            "colorbar": {
             "outlinewidth": 0,
             "ticks": ""
            },
            "colorscale": [
             [
              0,
              "#0d0887"
             ],
             [
              0.1111111111111111,
              "#46039f"
             ],
             [
              0.2222222222222222,
              "#7201a8"
             ],
             [
              0.3333333333333333,
              "#9c179e"
             ],
             [
              0.4444444444444444,
              "#bd3786"
             ],
             [
              0.5555555555555556,
              "#d8576b"
             ],
             [
              0.6666666666666666,
              "#ed7953"
             ],
             [
              0.7777777777777778,
              "#fb9f3a"
             ],
             [
              0.8888888888888888,
              "#fdca26"
             ],
             [
              1,
              "#f0f921"
             ]
            ],
            "type": "surface"
           }
          ],
          "table": [
           {
            "cells": {
             "fill": {
              "color": "#EBF0F8"
             },
             "line": {
              "color": "white"
             }
            },
            "header": {
             "fill": {
              "color": "#C8D4E3"
             },
             "line": {
              "color": "white"
             }
            },
            "type": "table"
           }
          ]
         },
         "layout": {
          "annotationdefaults": {
           "arrowcolor": "#2a3f5f",
           "arrowhead": 0,
           "arrowwidth": 1
          },
          "autotypenumbers": "strict",
          "coloraxis": {
           "colorbar": {
            "outlinewidth": 0,
            "ticks": ""
           }
          },
          "colorscale": {
           "diverging": [
            [
             0,
             "#8e0152"
            ],
            [
             0.1,
             "#c51b7d"
            ],
            [
             0.2,
             "#de77ae"
            ],
            [
             0.3,
             "#f1b6da"
            ],
            [
             0.4,
             "#fde0ef"
            ],
            [
             0.5,
             "#f7f7f7"
            ],
            [
             0.6,
             "#e6f5d0"
            ],
            [
             0.7,
             "#b8e186"
            ],
            [
             0.8,
             "#7fbc41"
            ],
            [
             0.9,
             "#4d9221"
            ],
            [
             1,
             "#276419"
            ]
           ],
           "sequential": [
            [
             0,
             "#0d0887"
            ],
            [
             0.1111111111111111,
             "#46039f"
            ],
            [
             0.2222222222222222,
             "#7201a8"
            ],
            [
             0.3333333333333333,
             "#9c179e"
            ],
            [
             0.4444444444444444,
             "#bd3786"
            ],
            [
             0.5555555555555556,
             "#d8576b"
            ],
            [
             0.6666666666666666,
             "#ed7953"
            ],
            [
             0.7777777777777778,
             "#fb9f3a"
            ],
            [
             0.8888888888888888,
             "#fdca26"
            ],
            [
             1,
             "#f0f921"
            ]
           ],
           "sequentialminus": [
            [
             0,
             "#0d0887"
            ],
            [
             0.1111111111111111,
             "#46039f"
            ],
            [
             0.2222222222222222,
             "#7201a8"
            ],
            [
             0.3333333333333333,
             "#9c179e"
            ],
            [
             0.4444444444444444,
             "#bd3786"
            ],
            [
             0.5555555555555556,
             "#d8576b"
            ],
            [
             0.6666666666666666,
             "#ed7953"
            ],
            [
             0.7777777777777778,
             "#fb9f3a"
            ],
            [
             0.8888888888888888,
             "#fdca26"
            ],
            [
             1,
             "#f0f921"
            ]
           ]
          },
          "colorway": [
           "#636efa",
           "#EF553B",
           "#00cc96",
           "#ab63fa",
           "#FFA15A",
           "#19d3f3",
           "#FF6692",
           "#B6E880",
           "#FF97FF",
           "#FECB52"
          ],
          "font": {
           "color": "#2a3f5f"
          },
          "geo": {
           "bgcolor": "white",
           "lakecolor": "white",
           "landcolor": "#E5ECF6",
           "showlakes": true,
           "showland": true,
           "subunitcolor": "white"
          },
          "hoverlabel": {
           "align": "left"
          },
          "hovermode": "closest",
          "mapbox": {
           "style": "light"
          },
          "paper_bgcolor": "white",
          "plot_bgcolor": "#E5ECF6",
          "polar": {
           "angularaxis": {
            "gridcolor": "white",
            "linecolor": "white",
            "ticks": ""
           },
           "bgcolor": "#E5ECF6",
           "radialaxis": {
            "gridcolor": "white",
            "linecolor": "white",
            "ticks": ""
           }
          },
          "scene": {
           "xaxis": {
            "backgroundcolor": "#E5ECF6",
            "gridcolor": "white",
            "gridwidth": 2,
            "linecolor": "white",
            "showbackground": true,
            "ticks": "",
            "zerolinecolor": "white"
           },
           "yaxis": {
            "backgroundcolor": "#E5ECF6",
            "gridcolor": "white",
            "gridwidth": 2,
            "linecolor": "white",
            "showbackground": true,
            "ticks": "",
            "zerolinecolor": "white"
           },
           "zaxis": {
            "backgroundcolor": "#E5ECF6",
            "gridcolor": "white",
            "gridwidth": 2,
            "linecolor": "white",
            "showbackground": true,
            "ticks": "",
            "zerolinecolor": "white"
           }
          },
          "shapedefaults": {
           "line": {
            "color": "#2a3f5f"
           }
          },
          "ternary": {
           "aaxis": {
            "gridcolor": "white",
            "linecolor": "white",
            "ticks": ""
           },
           "baxis": {
            "gridcolor": "white",
            "linecolor": "white",
            "ticks": ""
           },
           "bgcolor": "#E5ECF6",
           "caxis": {
            "gridcolor": "white",
            "linecolor": "white",
            "ticks": ""
           }
          },
          "title": {
           "x": 0.05
          },
          "xaxis": {
           "automargin": true,
           "gridcolor": "white",
           "linecolor": "white",
           "ticks": "",
           "title": {
            "standoff": 15
           },
           "zerolinecolor": "white",
           "zerolinewidth": 2
          },
          "yaxis": {
           "automargin": true,
           "gridcolor": "white",
           "linecolor": "white",
           "ticks": "",
           "title": {
            "standoff": 15
           },
           "zerolinecolor": "white",
           "zerolinewidth": 2
          }
         }
        },
        "title": {
         "text": "Antal vaccinerade med minst en dos och antal färdigvaccinerade"
        },
        "xaxis": {
         "anchor": "y",
         "domain": [
          0,
          1
         ],
         "title": {
          "text": "Län"
         }
        },
        "yaxis": {
         "anchor": "x",
         "domain": [
          0,
          1
         ],
         "title": {
          "text": "Antal"
         }
        }
       }
      }
     },
     "metadata": {}
    }
   ],
   "metadata": {}
  },
  {
   "cell_type": "markdown",
   "source": [
    "TODO: Save all the plots to html and rename them"
   ],
   "metadata": {}
  },
  {
   "cell_type": "markdown",
   "source": [
    "## Exercise 3. KPI"
   ],
   "metadata": {}
  },
  {
   "cell_type": "markdown",
   "source": [
    "1. Does death rate decrease when vaccination increase? One dose and two doses - veckodata riket\n",
    "2. Does number of cases decrease when vaccination increase? One dose and two doses - veckodata riket\n",
    "3. Looking at the oldest people, does the death rate continue to decrease or does it increase?\n",
    "4. Antal intensivvårdade per dag - veckodata riket\n",
    "5. Något med stadsdelar i Gbg\n",
    "6. Något med ålder\n"
   ],
   "metadata": {}
  }
 ],
 "metadata": {
  "orig_nbformat": 4,
  "language_info": {
   "name": "python",
   "version": "3.9.6",
   "mimetype": "text/x-python",
   "codemirror_mode": {
    "name": "ipython",
    "version": 3
   },
   "pygments_lexer": "ipython3",
   "nbconvert_exporter": "python",
   "file_extension": ".py"
  },
  "kernelspec": {
   "name": "python3",
   "display_name": "Python 3.9.6 64-bit ('Databehandling-Anna-Maria-Sj-lund-ciSw9i2p': pipenv)"
  },
  "interpreter": {
   "hash": "448c7bdc29fb3557f07b8a1afe02d766aa28053d638d3b433bafa66a6229fd5d"
  }
 },
 "nbformat": 4,
 "nbformat_minor": 2
}