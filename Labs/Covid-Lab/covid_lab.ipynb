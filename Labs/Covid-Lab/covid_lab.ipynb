{
 "cells": [
  {
   "cell_type": "markdown",
   "source": [
    "# Laboration - Covid-19"
   ],
   "metadata": {}
  },
  {
   "cell_type": "markdown",
   "source": [
    "## Exercise 1. Covid-19 data"
   ],
   "metadata": {}
  },
  {
   "cell_type": "code",
   "execution_count": null,
   "source": [
    "import pandas as pd\n",
    "import seaborn as sns\n",
    "import matplotlib.pyplot as plt\n",
    "import plotly.express as px"
   ],
   "outputs": [],
   "metadata": {}
  },
  {
   "cell_type": "markdown",
   "source": [
    "### a) Initial analyses"
   ],
   "metadata": {}
  },
  {
   "cell_type": "code",
   "execution_count": null,
   "source": [
    "covid = pd.read_excel(\"data/Folkhalsomyndigheten_Covid19.xlsx\", sheet_name=8)\n",
    "covid #Exploring both head and tail at once"
   ],
   "outputs": [],
   "metadata": {}
  },
  {
   "cell_type": "code",
   "execution_count": null,
   "source": [
    "#There are no missing values (89 rows/weeks and 89 non-null values).\n",
    "#The data type is either int or float and seems to be appropriately used.\n",
    "covid.info() "
   ],
   "outputs": [],
   "metadata": {}
  },
  {
   "cell_type": "code",
   "execution_count": null,
   "source": [
    "covid.describe()"
   ],
   "outputs": [],
   "metadata": {}
  },
  {
   "cell_type": "code",
   "execution_count": null,
   "source": [
    "covid[\"år\"].value_counts() #The data includes 48 weeks from 2020 and 41 weeks for 2021"
   ],
   "outputs": [],
   "metadata": {}
  },
  {
   "cell_type": "markdown",
   "source": [
    "### b) Create a \"Vecka\" column"
   ],
   "metadata": {}
  },
  {
   "cell_type": "code",
   "execution_count": null,
   "source": [
    "#covid[\"veckonummer\"] = covid[\"år\"].astype(str) + \"v\" + covid[\"veckonummer\"].astype(str) #\n",
    "#covid = covid.rename({\"veckonummer\":\"Vecka\"}, axis=1).drop(\"år\", axis=1)\n",
    "covid[\"Vecka\"] = covid[\"år\"].astype(str) + \"v\" + covid[\"veckonummer\"].astype(str) #\n",
    "#covid = covid.rename({\"veckonummer\":\"Vecka\"}, axis=1).drop(\"år\", axis=1)\n",
    "\n",
    "covid.head()"
   ],
   "outputs": [],
   "metadata": {}
  },
  {
   "cell_type": "code",
   "execution_count": null,
   "source": [
    "covid[\"Vecka\"].iloc[88]"
   ],
   "outputs": [],
   "metadata": {}
  },
  {
   "cell_type": "markdown",
   "source": [
    "left  = 0.125  # the left side of the subplots of the figure\n",
    "right = 0.9    # the right side of the subplots of the figure\n",
    "bottom = 0.1   # the bottom of the subplots of the figure\n",
    "top = 0.9      # the top of the subplots of the figure\n",
    "wspace = 0.2   # the amount of width reserved for blank space between subplots\n",
    "hspace = 0.2   "
   ],
   "metadata": {}
  },
  {
   "cell_type": "markdown",
   "source": [
    "### c) Plot number of deceased per week"
   ],
   "metadata": {}
  },
  {
   "cell_type": "code",
   "execution_count": null,
   "source": [
    "def adjust_x_and_y(plot:str, title:str, y_label:str) -> None:\n",
    "    '''Adjusts the ticks and changes the labels for the x and y-axis for a plot.'''\n",
    "\n",
    "    plot.set_title(title, size=9)\n",
    "    plot.set_xticks([0, 22, 44, 66, 88])\n",
    "    plot.set_xticklabels([\"v.6 2020\", \"v.28 2020\", \"v.50 2020\", \"v.19 2021\", \"v.41 2021\"], size=5)\n",
    "    plot.set_yticklabels(labels=plot.get_yticks().astype(int), size=5)\n",
    "    plot.set_xlabel(\"Week\", size=7)\n",
    "    plot.set_ylabel(y_label, size=7)\n",
    "    plot.grid()\n",
    "    \n",
    "\n",
    "#Creates the figure for the subplots\n",
    "fig, ax = plt.subplots(2,2, dpi=500, facecolor=\"white\")\n",
    "fig.subplots_adjust(wspace= .4, hspace=.6)\n",
    "fig.suptitle(\"Statistics for Covid-19 in Sweden\")\n",
    "\n",
    "#Plots the first subplot\n",
    "plot1 = sns.lineplot(data=covid, x=\"Vecka\", y=\"Antal_avlidna_vecka\", ax=ax[0,0])\n",
    "adjust_x_and_y(plot1,\"Deceased per Week\", \"Number of Deceased\")\n",
    "\n",
    "#Plots the second subplot\n",
    "plot2 = sns.lineplot(data=covid, x=\"Vecka\", y=\"Antal_fall_vecka\", ax=ax[0,1])\n",
    "adjust_x_and_y(plot2, \"New Cases per Week\", \"New Cases\")\n",
    "\n",
    "#Plots the third subplot\n",
    "plot3 = sns.lineplot(data=covid, x=\"Vecka\", y=\"Antal_avlidna_vecka\", ax=ax[1,0])\n",
    "plot3 = sns.lineplot(data=covid, x=\"Vecka\", y=\"Antal_fall_vecka\", ax=ax[1,0])\n",
    "plot3.legend([\"Antal_avlidna_vecka\", \"Antal_fall_vecka\"], labels=[\"Deceased per Week\", \"New Cases per Week\"], fontsize=4.5, loc=\"upper left\")\n",
    "adjust_x_and_y(plot3, \"Deceased and New Cases per Week\", \"Number of People\")\n",
    "\n",
    "#Plots the forth subplot\n",
    "plot4 = sns.lineplot(data=covid, x=\"Vecka\", y=\"Kum_antal_fall\", ax=ax[1,1])\n",
    "adjust_x_and_y(plot4, \"Cumulative Cases per Week\", \"Cumulative Cases\")\n",
    "\n",
    "plt.savefig(\"visualiseringar/Statistics_for_Covid-19_in_Sweden.png\")"
   ],
   "outputs": [],
   "metadata": {}
  },
  {
   "cell_type": "code",
   "execution_count": null,
   "source": [
    "labels = [f\"v.{i} 2020\" for i in range(6, 54)]\n",
    "labels.extend([f\"v.{i} 2021\" for i in range(1, 42)])\n",
    "\n",
    "labels2 = [f\"v.{i} 2020\" for i in range(6, 54)]\n",
    "labels2.extend([f\"v.{i} 2021\" for i in range(1, 42)])\n",
    "\n",
    "\n",
    "values = [f\"2020v{i}\" for i in range(6, 54)]\n",
    "values.extend([f\"2021v{i}\" for i in range(1, 42)])\n",
    "\n",
    "\"\"\"fig = px.line(covid, x=\"Vecka\", y=\"Antal_avlidna_vecka\", \n",
    "            labels={\"Vecka\":\"Week\", \"Antal_avlidna_vecka\":\"Number of deceased\"},\n",
    "            title=\"Deceased in Covid-19 in Sweden (per week)\")\n",
    "fig.update_xaxes(ticktext=labels, tickvals=covid[\"Vecka\"])\"\"\"\n",
    "fig = px.line(covid, x=\"Vecka\", y=\"Antal_avlidna_vecka\", \n",
    "            labels={\"Vecka\":\"Week\", \"Antal_avlidna_vecka\":\"Number of deceased\"},\n",
    "            title=\"Deceased in Covid-19 in Sweden (per week)\",\n",
    "            #hover_name=labels2, \n",
    "            #hover_data={\"Vecka\":False}\n",
    "            )\n",
    "fig.update_xaxes(tickmode=\"array\", ticktext=labels, tickvals=values, ticksize=4) #nticks=number with tickmode=\"auto\"\n",
    "#fig.update_traces(mode=\"markers+lines\", hovertemplate=None, hoverinfo=None) #selector={\"Vecka\":labels2}\n",
    "fig.update_layout(hovermode=\"x unified\")\n",
    "fig.show()\n",
    "fig.write_html('first_figure.html', auto_open=True)"
   ],
   "outputs": [],
   "metadata": {}
  },
  {
   "cell_type": "code",
   "execution_count": 10,
   "source": [
    "#PATRIK KOLLA\n",
    "\n",
    "#import plotly.graph_objects as go\n",
    "\n",
    "labels = [f\"v.{i} 2020\" for i in range(6, 54, 2)]\n",
    "labels.extend([f\"v.{i} 2021\" for i in range(1, 42, 2)])\n",
    "\n",
    "labels2 = [f\"v.{i} 2020\" for i in range(6, 54)]\n",
    "labels2.extend([f\"v.{i} 2021\" for i in range(1, 42)])\n",
    "\n",
    "\n",
    "values = [f\"2020v{i}\" for i in range(6, 54, 2)]\n",
    "values.extend([f\"2021v{i}\" for i in range(1, 42, 2)])\n",
    "\n",
    "\n",
    "fig = px.line(covid, x=\"Vecka\", y=\"Antal_avlidna_vecka\", \n",
    "            labels={\"Vecka\":\"Week\", \"Antal_avlidna_vecka\":\"Number of deceased\"},\n",
    "            title=\"Deceased in Covid-19 in Sweden (per week)\",\n",
    "            #custom_data=['Vecka', 'Antal_avlidna_vecka']\n",
    "            hover_name=labels2,\n",
    "            hover_data={\"Vecka\":False},\n",
    "            )\n",
    "#fig.update_xaxes(ticktext=labels, tickvals=values) #nticks=number with tickmode=\"auto\"\n",
    "#fig.update_layout(xaxis_tickformat=) \n",
    "#fig.add_trace(go.Scatter(x=covid[\"veckonummer\"],y=covid[\"år\"],hovertemplate='<br>x:%{x}<br>y:%{y}'), row=1,col=1)\n",
    "fig.update_traces(mode=\"markers+lines\") #selector={\"Vecka\":labels2}\n",
    "#fig.update_layout(hovermode=\"x unified\")\n",
    "fig.update_layout(xaxis = dict(\n",
    "        tickmode = 'array',\n",
    "        tick0 = 0,\n",
    "        dtick = 2,\n",
    "        ticktext=labels, \n",
    "        tickvals=values)\n",
    ")\n",
    "fig.show()\n",
    "fig.write_html('first_figure.html', auto_open=True)"
   ],
   "outputs": [
    {
     "output_type": "display_data",
     "data": {
      "application/vnd.plotly.v1+json": {
       "config": {
        "plotlyServerURL": "https://plot.ly"
       },
       "data": [
        {
         "hovertemplate": "<b>%{hovertext}</b><br><br>Number of deceased=%{y}<extra></extra>",
         "hovertext": [
          "v.6 2020",
          "v.7 2020",
          "v.8 2020",
          "v.9 2020",
          "v.10 2020",
          "v.11 2020",
          "v.12 2020",
          "v.13 2020",
          "v.14 2020",
          "v.15 2020",
          "v.16 2020",
          "v.17 2020",
          "v.18 2020",
          "v.19 2020",
          "v.20 2020",
          "v.21 2020",
          "v.22 2020",
          "v.23 2020",
          "v.24 2020",
          "v.25 2020",
          "v.26 2020",
          "v.27 2020",
          "v.28 2020",
          "v.29 2020",
          "v.30 2020",
          "v.31 2020",
          "v.32 2020",
          "v.33 2020",
          "v.34 2020",
          "v.35 2020",
          "v.36 2020",
          "v.37 2020",
          "v.38 2020",
          "v.39 2020",
          "v.40 2020",
          "v.41 2020",
          "v.42 2020",
          "v.43 2020",
          "v.44 2020",
          "v.45 2020",
          "v.46 2020",
          "v.47 2020",
          "v.48 2020",
          "v.49 2020",
          "v.50 2020",
          "v.51 2020",
          "v.52 2020",
          "v.53 2020",
          "v.1 2021",
          "v.2 2021",
          "v.3 2021",
          "v.4 2021",
          "v.5 2021",
          "v.6 2021",
          "v.7 2021",
          "v.8 2021",
          "v.9 2021",
          "v.10 2021",
          "v.11 2021",
          "v.12 2021",
          "v.13 2021",
          "v.14 2021",
          "v.15 2021",
          "v.16 2021",
          "v.17 2021",
          "v.18 2021",
          "v.19 2021",
          "v.20 2021",
          "v.21 2021",
          "v.22 2021",
          "v.23 2021",
          "v.24 2021",
          "v.25 2021",
          "v.26 2021",
          "v.27 2021",
          "v.28 2021",
          "v.29 2021",
          "v.30 2021",
          "v.31 2021",
          "v.32 2021",
          "v.33 2021",
          "v.34 2021",
          "v.35 2021",
          "v.36 2021",
          "v.37 2021",
          "v.38 2021",
          "v.39 2021",
          "v.40 2021",
          "v.41 2021"
         ],
         "legendgroup": "",
         "line": {
          "color": "#636efa",
          "dash": "solid"
         },
         "marker": {
          "symbol": "circle"
         },
         "mode": "markers+lines",
         "name": "",
         "orientation": "v",
         "showlegend": false,
         "type": "scatter",
         "x": [
          "2020v6",
          "2020v7",
          "2020v8",
          "2020v9",
          "2020v10",
          "2020v11",
          "2020v12",
          "2020v13",
          "2020v14",
          "2020v15",
          "2020v16",
          "2020v17",
          "2020v18",
          "2020v19",
          "2020v20",
          "2020v21",
          "2020v22",
          "2020v23",
          "2020v24",
          "2020v25",
          "2020v26",
          "2020v27",
          "2020v28",
          "2020v29",
          "2020v30",
          "2020v31",
          "2020v32",
          "2020v33",
          "2020v34",
          "2020v35",
          "2020v36",
          "2020v37",
          "2020v38",
          "2020v39",
          "2020v40",
          "2020v41",
          "2020v42",
          "2020v43",
          "2020v44",
          "2020v45",
          "2020v46",
          "2020v47",
          "2020v48",
          "2020v49",
          "2020v50",
          "2020v51",
          "2020v52",
          "2020v53",
          "2021v1",
          "2021v2",
          "2021v3",
          "2021v4",
          "2021v5",
          "2021v6",
          "2021v7",
          "2021v8",
          "2021v9",
          "2021v10",
          "2021v11",
          "2021v12",
          "2021v13",
          "2021v14",
          "2021v15",
          "2021v16",
          "2021v17",
          "2021v18",
          "2021v19",
          "2021v20",
          "2021v21",
          "2021v22",
          "2021v23",
          "2021v24",
          "2021v25",
          "2021v26",
          "2021v27",
          "2021v28",
          "2021v29",
          "2021v30",
          "2021v31",
          "2021v32",
          "2021v33",
          "2021v34",
          "2021v35",
          "2021v36",
          "2021v37",
          "2021v38",
          "2021v39",
          "2021v40",
          "2021v41"
         ],
         "xaxis": "x",
         "y": [
          0,
          0,
          0,
          0,
          0,
          5,
          44,
          190,
          451,
          664,
          657,
          546,
          543,
          509,
          380,
          360,
          272,
          246,
          234,
          200,
          138,
          98,
          84,
          57,
          30,
          18,
          18,
          16,
          19,
          10,
          12,
          13,
          12,
          11,
          17,
          22,
          16,
          43,
          82,
          157,
          235,
          332,
          417,
          476,
          501,
          645,
          643,
          663,
          644,
          598,
          513,
          389,
          269,
          205,
          171,
          146,
          128,
          140,
          127,
          125,
          141,
          133,
          140,
          131,
          114,
          105,
          111,
          69,
          47,
          39,
          22,
          17,
          9,
          8,
          3,
          2,
          3,
          3,
          7,
          6,
          9,
          20,
          26,
          49,
          52,
          40,
          37,
          42,
          18
         ],
         "yaxis": "y"
        }
       ],
       "layout": {
        "legend": {
         "tracegroupgap": 0
        },
        "template": {
         "data": {
          "bar": [
           {
            "error_x": {
             "color": "#2a3f5f"
            },
            "error_y": {
             "color": "#2a3f5f"
            },
            "marker": {
             "line": {
              "color": "#E5ECF6",
              "width": 0.5
             },
             "pattern": {
              "fillmode": "overlay",
              "size": 10,
              "solidity": 0.2
             }
            },
            "type": "bar"
           }
          ],
          "barpolar": [
           {
            "marker": {
             "line": {
              "color": "#E5ECF6",
              "width": 0.5
             },
             "pattern": {
              "fillmode": "overlay",
              "size": 10,
              "solidity": 0.2
             }
            },
            "type": "barpolar"
           }
          ],
          "carpet": [
           {
            "aaxis": {
             "endlinecolor": "#2a3f5f",
             "gridcolor": "white",
             "linecolor": "white",
             "minorgridcolor": "white",
             "startlinecolor": "#2a3f5f"
            },
            "baxis": {
             "endlinecolor": "#2a3f5f",
             "gridcolor": "white",
             "linecolor": "white",
             "minorgridcolor": "white",
             "startlinecolor": "#2a3f5f"
            },
            "type": "carpet"
           }
          ],
          "choropleth": [
           {
            "colorbar": {
             "outlinewidth": 0,
             "ticks": ""
            },
            "type": "choropleth"
           }
          ],
          "contour": [
           {
            "colorbar": {
             "outlinewidth": 0,
             "ticks": ""
            },
            "colorscale": [
             [
              0,
              "#0d0887"
             ],
             [
              0.1111111111111111,
              "#46039f"
             ],
             [
              0.2222222222222222,
              "#7201a8"
             ],
             [
              0.3333333333333333,
              "#9c179e"
             ],
             [
              0.4444444444444444,
              "#bd3786"
             ],
             [
              0.5555555555555556,
              "#d8576b"
             ],
             [
              0.6666666666666666,
              "#ed7953"
             ],
             [
              0.7777777777777778,
              "#fb9f3a"
             ],
             [
              0.8888888888888888,
              "#fdca26"
             ],
             [
              1,
              "#f0f921"
             ]
            ],
            "type": "contour"
           }
          ],
          "contourcarpet": [
           {
            "colorbar": {
             "outlinewidth": 0,
             "ticks": ""
            },
            "type": "contourcarpet"
           }
          ],
          "heatmap": [
           {
            "colorbar": {
             "outlinewidth": 0,
             "ticks": ""
            },
            "colorscale": [
             [
              0,
              "#0d0887"
             ],
             [
              0.1111111111111111,
              "#46039f"
             ],
             [
              0.2222222222222222,
              "#7201a8"
             ],
             [
              0.3333333333333333,
              "#9c179e"
             ],
             [
              0.4444444444444444,
              "#bd3786"
             ],
             [
              0.5555555555555556,
              "#d8576b"
             ],
             [
              0.6666666666666666,
              "#ed7953"
             ],
             [
              0.7777777777777778,
              "#fb9f3a"
             ],
             [
              0.8888888888888888,
              "#fdca26"
             ],
             [
              1,
              "#f0f921"
             ]
            ],
            "type": "heatmap"
           }
          ],
          "heatmapgl": [
           {
            "colorbar": {
             "outlinewidth": 0,
             "ticks": ""
            },
            "colorscale": [
             [
              0,
              "#0d0887"
             ],
             [
              0.1111111111111111,
              "#46039f"
             ],
             [
              0.2222222222222222,
              "#7201a8"
             ],
             [
              0.3333333333333333,
              "#9c179e"
             ],
             [
              0.4444444444444444,
              "#bd3786"
             ],
             [
              0.5555555555555556,
              "#d8576b"
             ],
             [
              0.6666666666666666,
              "#ed7953"
             ],
             [
              0.7777777777777778,
              "#fb9f3a"
             ],
             [
              0.8888888888888888,
              "#fdca26"
             ],
             [
              1,
              "#f0f921"
             ]
            ],
            "type": "heatmapgl"
           }
          ],
          "histogram": [
           {
            "marker": {
             "pattern": {
              "fillmode": "overlay",
              "size": 10,
              "solidity": 0.2
             }
            },
            "type": "histogram"
           }
          ],
          "histogram2d": [
           {
            "colorbar": {
             "outlinewidth": 0,
             "ticks": ""
            },
            "colorscale": [
             [
              0,
              "#0d0887"
             ],
             [
              0.1111111111111111,
              "#46039f"
             ],
             [
              0.2222222222222222,
              "#7201a8"
             ],
             [
              0.3333333333333333,
              "#9c179e"
             ],
             [
              0.4444444444444444,
              "#bd3786"
             ],
             [
              0.5555555555555556,
              "#d8576b"
             ],
             [
              0.6666666666666666,
              "#ed7953"
             ],
             [
              0.7777777777777778,
              "#fb9f3a"
             ],
             [
              0.8888888888888888,
              "#fdca26"
             ],
             [
              1,
              "#f0f921"
             ]
            ],
            "type": "histogram2d"
           }
          ],
          "histogram2dcontour": [
           {
            "colorbar": {
             "outlinewidth": 0,
             "ticks": ""
            },
            "colorscale": [
             [
              0,
              "#0d0887"
             ],
             [
              0.1111111111111111,
              "#46039f"
             ],
             [
              0.2222222222222222,
              "#7201a8"
             ],
             [
              0.3333333333333333,
              "#9c179e"
             ],
             [
              0.4444444444444444,
              "#bd3786"
             ],
             [
              0.5555555555555556,
              "#d8576b"
             ],
             [
              0.6666666666666666,
              "#ed7953"
             ],
             [
              0.7777777777777778,
              "#fb9f3a"
             ],
             [
              0.8888888888888888,
              "#fdca26"
             ],
             [
              1,
              "#f0f921"
             ]
            ],
            "type": "histogram2dcontour"
           }
          ],
          "mesh3d": [
           {
            "colorbar": {
             "outlinewidth": 0,
             "ticks": ""
            },
            "type": "mesh3d"
           }
          ],
          "parcoords": [
           {
            "line": {
             "colorbar": {
              "outlinewidth": 0,
              "ticks": ""
             }
            },
            "type": "parcoords"
           }
          ],
          "pie": [
           {
            "automargin": true,
            "type": "pie"
           }
          ],
          "scatter": [
           {
            "marker": {
             "colorbar": {
              "outlinewidth": 0,
              "ticks": ""
             }
            },
            "type": "scatter"
           }
          ],
          "scatter3d": [
           {
            "line": {
             "colorbar": {
              "outlinewidth": 0,
              "ticks": ""
             }
            },
            "marker": {
             "colorbar": {
              "outlinewidth": 0,
              "ticks": ""
             }
            },
            "type": "scatter3d"
           }
          ],
          "scattercarpet": [
           {
            "marker": {
             "colorbar": {
              "outlinewidth": 0,
              "ticks": ""
             }
            },
            "type": "scattercarpet"
           }
          ],
          "scattergeo": [
           {
            "marker": {
             "colorbar": {
              "outlinewidth": 0,
              "ticks": ""
             }
            },
            "type": "scattergeo"
           }
          ],
          "scattergl": [
           {
            "marker": {
             "colorbar": {
              "outlinewidth": 0,
              "ticks": ""
             }
            },
            "type": "scattergl"
           }
          ],
          "scattermapbox": [
           {
            "marker": {
             "colorbar": {
              "outlinewidth": 0,
              "ticks": ""
             }
            },
            "type": "scattermapbox"
           }
          ],
          "scatterpolar": [
           {
            "marker": {
             "colorbar": {
              "outlinewidth": 0,
              "ticks": ""
             }
            },
            "type": "scatterpolar"
           }
          ],
          "scatterpolargl": [
           {
            "marker": {
             "colorbar": {
              "outlinewidth": 0,
              "ticks": ""
             }
            },
            "type": "scatterpolargl"
           }
          ],
          "scatterternary": [
           {
            "marker": {
             "colorbar": {
              "outlinewidth": 0,
              "ticks": ""
             }
            },
            "type": "scatterternary"
           }
          ],
          "surface": [
           {
            "colorbar": {
             "outlinewidth": 0,
             "ticks": ""
            },
            "colorscale": [
             [
              0,
              "#0d0887"
             ],
             [
              0.1111111111111111,
              "#46039f"
             ],
             [
              0.2222222222222222,
              "#7201a8"
             ],
             [
              0.3333333333333333,
              "#9c179e"
             ],
             [
              0.4444444444444444,
              "#bd3786"
             ],
             [
              0.5555555555555556,
              "#d8576b"
             ],
             [
              0.6666666666666666,
              "#ed7953"
             ],
             [
              0.7777777777777778,
              "#fb9f3a"
             ],
             [
              0.8888888888888888,
              "#fdca26"
             ],
             [
              1,
              "#f0f921"
             ]
            ],
            "type": "surface"
           }
          ],
          "table": [
           {
            "cells": {
             "fill": {
              "color": "#EBF0F8"
             },
             "line": {
              "color": "white"
             }
            },
            "header": {
             "fill": {
              "color": "#C8D4E3"
             },
             "line": {
              "color": "white"
             }
            },
            "type": "table"
           }
          ]
         },
         "layout": {
          "annotationdefaults": {
           "arrowcolor": "#2a3f5f",
           "arrowhead": 0,
           "arrowwidth": 1
          },
          "autotypenumbers": "strict",
          "coloraxis": {
           "colorbar": {
            "outlinewidth": 0,
            "ticks": ""
           }
          },
          "colorscale": {
           "diverging": [
            [
             0,
             "#8e0152"
            ],
            [
             0.1,
             "#c51b7d"
            ],
            [
             0.2,
             "#de77ae"
            ],
            [
             0.3,
             "#f1b6da"
            ],
            [
             0.4,
             "#fde0ef"
            ],
            [
             0.5,
             "#f7f7f7"
            ],
            [
             0.6,
             "#e6f5d0"
            ],
            [
             0.7,
             "#b8e186"
            ],
            [
             0.8,
             "#7fbc41"
            ],
            [
             0.9,
             "#4d9221"
            ],
            [
             1,
             "#276419"
            ]
           ],
           "sequential": [
            [
             0,
             "#0d0887"
            ],
            [
             0.1111111111111111,
             "#46039f"
            ],
            [
             0.2222222222222222,
             "#7201a8"
            ],
            [
             0.3333333333333333,
             "#9c179e"
            ],
            [
             0.4444444444444444,
             "#bd3786"
            ],
            [
             0.5555555555555556,
             "#d8576b"
            ],
            [
             0.6666666666666666,
             "#ed7953"
            ],
            [
             0.7777777777777778,
             "#fb9f3a"
            ],
            [
             0.8888888888888888,
             "#fdca26"
            ],
            [
             1,
             "#f0f921"
            ]
           ],
           "sequentialminus": [
            [
             0,
             "#0d0887"
            ],
            [
             0.1111111111111111,
             "#46039f"
            ],
            [
             0.2222222222222222,
             "#7201a8"
            ],
            [
             0.3333333333333333,
             "#9c179e"
            ],
            [
             0.4444444444444444,
             "#bd3786"
            ],
            [
             0.5555555555555556,
             "#d8576b"
            ],
            [
             0.6666666666666666,
             "#ed7953"
            ],
            [
             0.7777777777777778,
             "#fb9f3a"
            ],
            [
             0.8888888888888888,
             "#fdca26"
            ],
            [
             1,
             "#f0f921"
            ]
           ]
          },
          "colorway": [
           "#636efa",
           "#EF553B",
           "#00cc96",
           "#ab63fa",
           "#FFA15A",
           "#19d3f3",
           "#FF6692",
           "#B6E880",
           "#FF97FF",
           "#FECB52"
          ],
          "font": {
           "color": "#2a3f5f"
          },
          "geo": {
           "bgcolor": "white",
           "lakecolor": "white",
           "landcolor": "#E5ECF6",
           "showlakes": true,
           "showland": true,
           "subunitcolor": "white"
          },
          "hoverlabel": {
           "align": "left"
          },
          "hovermode": "closest",
          "mapbox": {
           "style": "light"
          },
          "paper_bgcolor": "white",
          "plot_bgcolor": "#E5ECF6",
          "polar": {
           "angularaxis": {
            "gridcolor": "white",
            "linecolor": "white",
            "ticks": ""
           },
           "bgcolor": "#E5ECF6",
           "radialaxis": {
            "gridcolor": "white",
            "linecolor": "white",
            "ticks": ""
           }
          },
          "scene": {
           "xaxis": {
            "backgroundcolor": "#E5ECF6",
            "gridcolor": "white",
            "gridwidth": 2,
            "linecolor": "white",
            "showbackground": true,
            "ticks": "",
            "zerolinecolor": "white"
           },
           "yaxis": {
            "backgroundcolor": "#E5ECF6",
            "gridcolor": "white",
            "gridwidth": 2,
            "linecolor": "white",
            "showbackground": true,
            "ticks": "",
            "zerolinecolor": "white"
           },
           "zaxis": {
            "backgroundcolor": "#E5ECF6",
            "gridcolor": "white",
            "gridwidth": 2,
            "linecolor": "white",
            "showbackground": true,
            "ticks": "",
            "zerolinecolor": "white"
           }
          },
          "shapedefaults": {
           "line": {
            "color": "#2a3f5f"
           }
          },
          "ternary": {
           "aaxis": {
            "gridcolor": "white",
            "linecolor": "white",
            "ticks": ""
           },
           "baxis": {
            "gridcolor": "white",
            "linecolor": "white",
            "ticks": ""
           },
           "bgcolor": "#E5ECF6",
           "caxis": {
            "gridcolor": "white",
            "linecolor": "white",
            "ticks": ""
           }
          },
          "title": {
           "x": 0.05
          },
          "xaxis": {
           "automargin": true,
           "gridcolor": "white",
           "linecolor": "white",
           "ticks": "",
           "title": {
            "standoff": 15
           },
           "zerolinecolor": "white",
           "zerolinewidth": 2
          },
          "yaxis": {
           "automargin": true,
           "gridcolor": "white",
           "linecolor": "white",
           "ticks": "",
           "title": {
            "standoff": 15
           },
           "zerolinecolor": "white",
           "zerolinewidth": 2
          }
         }
        },
        "title": {
         "text": "Deceased in Covid-19 in Sweden (per week)"
        },
        "xaxis": {
         "anchor": "y",
         "domain": [
          0,
          1
         ],
         "dtick": 2,
         "tick0": 0,
         "tickmode": "array",
         "ticktext": [
          "v.6 2020",
          "v.8 2020",
          "v.10 2020",
          "v.12 2020",
          "v.14 2020",
          "v.16 2020",
          "v.18 2020",
          "v.20 2020",
          "v.22 2020",
          "v.24 2020",
          "v.26 2020",
          "v.28 2020",
          "v.30 2020",
          "v.32 2020",
          "v.34 2020",
          "v.36 2020",
          "v.38 2020",
          "v.40 2020",
          "v.42 2020",
          "v.44 2020",
          "v.46 2020",
          "v.48 2020",
          "v.50 2020",
          "v.52 2020",
          "v.1 2021",
          "v.3 2021",
          "v.5 2021",
          "v.7 2021",
          "v.9 2021",
          "v.11 2021",
          "v.13 2021",
          "v.15 2021",
          "v.17 2021",
          "v.19 2021",
          "v.21 2021",
          "v.23 2021",
          "v.25 2021",
          "v.27 2021",
          "v.29 2021",
          "v.31 2021",
          "v.33 2021",
          "v.35 2021",
          "v.37 2021",
          "v.39 2021",
          "v.41 2021"
         ],
         "tickvals": [
          "2020v6",
          "2020v8",
          "2020v10",
          "2020v12",
          "2020v14",
          "2020v16",
          "2020v18",
          "2020v20",
          "2020v22",
          "2020v24",
          "2020v26",
          "2020v28",
          "2020v30",
          "2020v32",
          "2020v34",
          "2020v36",
          "2020v38",
          "2020v40",
          "2020v42",
          "2020v44",
          "2020v46",
          "2020v48",
          "2020v50",
          "2020v52",
          "2021v1",
          "2021v3",
          "2021v5",
          "2021v7",
          "2021v9",
          "2021v11",
          "2021v13",
          "2021v15",
          "2021v17",
          "2021v19",
          "2021v21",
          "2021v23",
          "2021v25",
          "2021v27",
          "2021v29",
          "2021v31",
          "2021v33",
          "2021v35",
          "2021v37",
          "2021v39",
          "2021v41"
         ],
         "title": {
          "text": "Week"
         }
        },
        "yaxis": {
         "anchor": "x",
         "domain": [
          0,
          1
         ],
         "title": {
          "text": "Number of deceased"
         }
        }
       }
      }
     },
     "metadata": {}
    }
   ],
   "metadata": {}
  },
  {
   "cell_type": "code",
   "execution_count": 17,
   "source": [
    "#RÄTT RENSAD KOD TICKS FIXADE\n",
    "\n",
    "tick_labels = [f\"v.{i} 2020\" for i in range(6, 54, 2)]\n",
    "tick_labels.extend([f\"v.{i} 2021\" for i in range(1, 42, 2)])\n",
    "\n",
    "hoover_labels = [f\"v.{i} 2020\" for i in range(6, 54)]\n",
    "hoover_labels.extend([f\"v.{i} 2021\" for i in range(1, 42)])\n",
    "\n",
    "real_labels = [f\"2020v{i}\" for i in range(6, 54, 2)]\n",
    "real_labels.extend([f\"2021v{i}\" for i in range(1, 42, 2)])\n",
    "\n",
    "fig = px.line(covid, x=\"Vecka\", y=\"Antal_avlidna_vecka\", \n",
    "            labels={\"Vecka\":\"Week\", \"Antal_avlidna_vecka\":\"Number of deceased\"},\n",
    "            title=\"Deceased in Covid-19 in Sweden (per week)\",\n",
    "            hover_name=labels2,\n",
    "            hover_data={\"Vecka\":False},\n",
    "            )\n",
    "\n",
    "fig.update_traces(mode=\"markers+lines\") \n",
    "\n",
    "fig.update_layout(xaxis = dict(\n",
    "        tickmode = 'array',\n",
    "        tick0 = 0,\n",
    "        dtick = 2,\n",
    "        ticktext=labels, \n",
    "        tickvals=values))\n",
    "fig.show()\n",
    "fig.write_html('first_figure.html', auto_open=True)"
   ],
   "outputs": [
    {
     "output_type": "display_data",
     "data": {
      "application/vnd.plotly.v1+json": {
       "config": {
        "plotlyServerURL": "https://plot.ly"
       },
       "data": [
        {
         "hovertemplate": "<b>%{hovertext}</b><br><br>Number of deceased=%{y}<extra></extra>",
         "hovertext": [
          "v.6 2020",
          "v.7 2020",
          "v.8 2020",
          "v.9 2020",
          "v.10 2020",
          "v.11 2020",
          "v.12 2020",
          "v.13 2020",
          "v.14 2020",
          "v.15 2020",
          "v.16 2020",
          "v.17 2020",
          "v.18 2020",
          "v.19 2020",
          "v.20 2020",
          "v.21 2020",
          "v.22 2020",
          "v.23 2020",
          "v.24 2020",
          "v.25 2020",
          "v.26 2020",
          "v.27 2020",
          "v.28 2020",
          "v.29 2020",
          "v.30 2020",
          "v.31 2020",
          "v.32 2020",
          "v.33 2020",
          "v.34 2020",
          "v.35 2020",
          "v.36 2020",
          "v.37 2020",
          "v.38 2020",
          "v.39 2020",
          "v.40 2020",
          "v.41 2020",
          "v.42 2020",
          "v.43 2020",
          "v.44 2020",
          "v.45 2020",
          "v.46 2020",
          "v.47 2020",
          "v.48 2020",
          "v.49 2020",
          "v.50 2020",
          "v.51 2020",
          "v.52 2020",
          "v.53 2020",
          "v.1 2021",
          "v.2 2021",
          "v.3 2021",
          "v.4 2021",
          "v.5 2021",
          "v.6 2021",
          "v.7 2021",
          "v.8 2021",
          "v.9 2021",
          "v.10 2021",
          "v.11 2021",
          "v.12 2021",
          "v.13 2021",
          "v.14 2021",
          "v.15 2021",
          "v.16 2021",
          "v.17 2021",
          "v.18 2021",
          "v.19 2021",
          "v.20 2021",
          "v.21 2021",
          "v.22 2021",
          "v.23 2021",
          "v.24 2021",
          "v.25 2021",
          "v.26 2021",
          "v.27 2021",
          "v.28 2021",
          "v.29 2021",
          "v.30 2021",
          "v.31 2021",
          "v.32 2021",
          "v.33 2021",
          "v.34 2021",
          "v.35 2021",
          "v.36 2021",
          "v.37 2021",
          "v.38 2021",
          "v.39 2021",
          "v.40 2021",
          "v.41 2021"
         ],
         "legendgroup": "",
         "line": {
          "color": "#636efa",
          "dash": "solid"
         },
         "marker": {
          "symbol": "circle"
         },
         "mode": "markers+lines",
         "name": "",
         "orientation": "v",
         "showlegend": false,
         "type": "scatter",
         "x": [
          "2020v6",
          "2020v7",
          "2020v8",
          "2020v9",
          "2020v10",
          "2020v11",
          "2020v12",
          "2020v13",
          "2020v14",
          "2020v15",
          "2020v16",
          "2020v17",
          "2020v18",
          "2020v19",
          "2020v20",
          "2020v21",
          "2020v22",
          "2020v23",
          "2020v24",
          "2020v25",
          "2020v26",
          "2020v27",
          "2020v28",
          "2020v29",
          "2020v30",
          "2020v31",
          "2020v32",
          "2020v33",
          "2020v34",
          "2020v35",
          "2020v36",
          "2020v37",
          "2020v38",
          "2020v39",
          "2020v40",
          "2020v41",
          "2020v42",
          "2020v43",
          "2020v44",
          "2020v45",
          "2020v46",
          "2020v47",
          "2020v48",
          "2020v49",
          "2020v50",
          "2020v51",
          "2020v52",
          "2020v53",
          "2021v1",
          "2021v2",
          "2021v3",
          "2021v4",
          "2021v5",
          "2021v6",
          "2021v7",
          "2021v8",
          "2021v9",
          "2021v10",
          "2021v11",
          "2021v12",
          "2021v13",
          "2021v14",
          "2021v15",
          "2021v16",
          "2021v17",
          "2021v18",
          "2021v19",
          "2021v20",
          "2021v21",
          "2021v22",
          "2021v23",
          "2021v24",
          "2021v25",
          "2021v26",
          "2021v27",
          "2021v28",
          "2021v29",
          "2021v30",
          "2021v31",
          "2021v32",
          "2021v33",
          "2021v34",
          "2021v35",
          "2021v36",
          "2021v37",
          "2021v38",
          "2021v39",
          "2021v40",
          "2021v41"
         ],
         "xaxis": "x",
         "y": [
          0,
          0,
          0,
          0,
          0,
          5,
          44,
          190,
          451,
          664,
          657,
          546,
          543,
          509,
          380,
          360,
          272,
          246,
          234,
          200,
          138,
          98,
          84,
          57,
          30,
          18,
          18,
          16,
          19,
          10,
          12,
          13,
          12,
          11,
          17,
          22,
          16,
          43,
          82,
          157,
          235,
          332,
          417,
          476,
          501,
          645,
          643,
          663,
          644,
          598,
          513,
          389,
          269,
          205,
          171,
          146,
          128,
          140,
          127,
          125,
          141,
          133,
          140,
          131,
          114,
          105,
          111,
          69,
          47,
          39,
          22,
          17,
          9,
          8,
          3,
          2,
          3,
          3,
          7,
          6,
          9,
          20,
          26,
          49,
          52,
          40,
          37,
          42,
          18
         ],
         "yaxis": "y"
        }
       ],
       "layout": {
        "legend": {
         "tracegroupgap": 0
        },
        "template": {
         "data": {
          "bar": [
           {
            "error_x": {
             "color": "#2a3f5f"
            },
            "error_y": {
             "color": "#2a3f5f"
            },
            "marker": {
             "line": {
              "color": "#E5ECF6",
              "width": 0.5
             },
             "pattern": {
              "fillmode": "overlay",
              "size": 10,
              "solidity": 0.2
             }
            },
            "type": "bar"
           }
          ],
          "barpolar": [
           {
            "marker": {
             "line": {
              "color": "#E5ECF6",
              "width": 0.5
             },
             "pattern": {
              "fillmode": "overlay",
              "size": 10,
              "solidity": 0.2
             }
            },
            "type": "barpolar"
           }
          ],
          "carpet": [
           {
            "aaxis": {
             "endlinecolor": "#2a3f5f",
             "gridcolor": "white",
             "linecolor": "white",
             "minorgridcolor": "white",
             "startlinecolor": "#2a3f5f"
            },
            "baxis": {
             "endlinecolor": "#2a3f5f",
             "gridcolor": "white",
             "linecolor": "white",
             "minorgridcolor": "white",
             "startlinecolor": "#2a3f5f"
            },
            "type": "carpet"
           }
          ],
          "choropleth": [
           {
            "colorbar": {
             "outlinewidth": 0,
             "ticks": ""
            },
            "type": "choropleth"
           }
          ],
          "contour": [
           {
            "colorbar": {
             "outlinewidth": 0,
             "ticks": ""
            },
            "colorscale": [
             [
              0,
              "#0d0887"
             ],
             [
              0.1111111111111111,
              "#46039f"
             ],
             [
              0.2222222222222222,
              "#7201a8"
             ],
             [
              0.3333333333333333,
              "#9c179e"
             ],
             [
              0.4444444444444444,
              "#bd3786"
             ],
             [
              0.5555555555555556,
              "#d8576b"
             ],
             [
              0.6666666666666666,
              "#ed7953"
             ],
             [
              0.7777777777777778,
              "#fb9f3a"
             ],
             [
              0.8888888888888888,
              "#fdca26"
             ],
             [
              1,
              "#f0f921"
             ]
            ],
            "type": "contour"
           }
          ],
          "contourcarpet": [
           {
            "colorbar": {
             "outlinewidth": 0,
             "ticks": ""
            },
            "type": "contourcarpet"
           }
          ],
          "heatmap": [
           {
            "colorbar": {
             "outlinewidth": 0,
             "ticks": ""
            },
            "colorscale": [
             [
              0,
              "#0d0887"
             ],
             [
              0.1111111111111111,
              "#46039f"
             ],
             [
              0.2222222222222222,
              "#7201a8"
             ],
             [
              0.3333333333333333,
              "#9c179e"
             ],
             [
              0.4444444444444444,
              "#bd3786"
             ],
             [
              0.5555555555555556,
              "#d8576b"
             ],
             [
              0.6666666666666666,
              "#ed7953"
             ],
             [
              0.7777777777777778,
              "#fb9f3a"
             ],
             [
              0.8888888888888888,
              "#fdca26"
             ],
             [
              1,
              "#f0f921"
             ]
            ],
            "type": "heatmap"
           }
          ],
          "heatmapgl": [
           {
            "colorbar": {
             "outlinewidth": 0,
             "ticks": ""
            },
            "colorscale": [
             [
              0,
              "#0d0887"
             ],
             [
              0.1111111111111111,
              "#46039f"
             ],
             [
              0.2222222222222222,
              "#7201a8"
             ],
             [
              0.3333333333333333,
              "#9c179e"
             ],
             [
              0.4444444444444444,
              "#bd3786"
             ],
             [
              0.5555555555555556,
              "#d8576b"
             ],
             [
              0.6666666666666666,
              "#ed7953"
             ],
             [
              0.7777777777777778,
              "#fb9f3a"
             ],
             [
              0.8888888888888888,
              "#fdca26"
             ],
             [
              1,
              "#f0f921"
             ]
            ],
            "type": "heatmapgl"
           }
          ],
          "histogram": [
           {
            "marker": {
             "pattern": {
              "fillmode": "overlay",
              "size": 10,
              "solidity": 0.2
             }
            },
            "type": "histogram"
           }
          ],
          "histogram2d": [
           {
            "colorbar": {
             "outlinewidth": 0,
             "ticks": ""
            },
            "colorscale": [
             [
              0,
              "#0d0887"
             ],
             [
              0.1111111111111111,
              "#46039f"
             ],
             [
              0.2222222222222222,
              "#7201a8"
             ],
             [
              0.3333333333333333,
              "#9c179e"
             ],
             [
              0.4444444444444444,
              "#bd3786"
             ],
             [
              0.5555555555555556,
              "#d8576b"
             ],
             [
              0.6666666666666666,
              "#ed7953"
             ],
             [
              0.7777777777777778,
              "#fb9f3a"
             ],
             [
              0.8888888888888888,
              "#fdca26"
             ],
             [
              1,
              "#f0f921"
             ]
            ],
            "type": "histogram2d"
           }
          ],
          "histogram2dcontour": [
           {
            "colorbar": {
             "outlinewidth": 0,
             "ticks": ""
            },
            "colorscale": [
             [
              0,
              "#0d0887"
             ],
             [
              0.1111111111111111,
              "#46039f"
             ],
             [
              0.2222222222222222,
              "#7201a8"
             ],
             [
              0.3333333333333333,
              "#9c179e"
             ],
             [
              0.4444444444444444,
              "#bd3786"
             ],
             [
              0.5555555555555556,
              "#d8576b"
             ],
             [
              0.6666666666666666,
              "#ed7953"
             ],
             [
              0.7777777777777778,
              "#fb9f3a"
             ],
             [
              0.8888888888888888,
              "#fdca26"
             ],
             [
              1,
              "#f0f921"
             ]
            ],
            "type": "histogram2dcontour"
           }
          ],
          "mesh3d": [
           {
            "colorbar": {
             "outlinewidth": 0,
             "ticks": ""
            },
            "type": "mesh3d"
           }
          ],
          "parcoords": [
           {
            "line": {
             "colorbar": {
              "outlinewidth": 0,
              "ticks": ""
             }
            },
            "type": "parcoords"
           }
          ],
          "pie": [
           {
            "automargin": true,
            "type": "pie"
           }
          ],
          "scatter": [
           {
            "marker": {
             "colorbar": {
              "outlinewidth": 0,
              "ticks": ""
             }
            },
            "type": "scatter"
           }
          ],
          "scatter3d": [
           {
            "line": {
             "colorbar": {
              "outlinewidth": 0,
              "ticks": ""
             }
            },
            "marker": {
             "colorbar": {
              "outlinewidth": 0,
              "ticks": ""
             }
            },
            "type": "scatter3d"
           }
          ],
          "scattercarpet": [
           {
            "marker": {
             "colorbar": {
              "outlinewidth": 0,
              "ticks": ""
             }
            },
            "type": "scattercarpet"
           }
          ],
          "scattergeo": [
           {
            "marker": {
             "colorbar": {
              "outlinewidth": 0,
              "ticks": ""
             }
            },
            "type": "scattergeo"
           }
          ],
          "scattergl": [
           {
            "marker": {
             "colorbar": {
              "outlinewidth": 0,
              "ticks": ""
             }
            },
            "type": "scattergl"
           }
          ],
          "scattermapbox": [
           {
            "marker": {
             "colorbar": {
              "outlinewidth": 0,
              "ticks": ""
             }
            },
            "type": "scattermapbox"
           }
          ],
          "scatterpolar": [
           {
            "marker": {
             "colorbar": {
              "outlinewidth": 0,
              "ticks": ""
             }
            },
            "type": "scatterpolar"
           }
          ],
          "scatterpolargl": [
           {
            "marker": {
             "colorbar": {
              "outlinewidth": 0,
              "ticks": ""
             }
            },
            "type": "scatterpolargl"
           }
          ],
          "scatterternary": [
           {
            "marker": {
             "colorbar": {
              "outlinewidth": 0,
              "ticks": ""
             }
            },
            "type": "scatterternary"
           }
          ],
          "surface": [
           {
            "colorbar": {
             "outlinewidth": 0,
             "ticks": ""
            },
            "colorscale": [
             [
              0,
              "#0d0887"
             ],
             [
              0.1111111111111111,
              "#46039f"
             ],
             [
              0.2222222222222222,
              "#7201a8"
             ],
             [
              0.3333333333333333,
              "#9c179e"
             ],
             [
              0.4444444444444444,
              "#bd3786"
             ],
             [
              0.5555555555555556,
              "#d8576b"
             ],
             [
              0.6666666666666666,
              "#ed7953"
             ],
             [
              0.7777777777777778,
              "#fb9f3a"
             ],
             [
              0.8888888888888888,
              "#fdca26"
             ],
             [
              1,
              "#f0f921"
             ]
            ],
            "type": "surface"
           }
          ],
          "table": [
           {
            "cells": {
             "fill": {
              "color": "#EBF0F8"
             },
             "line": {
              "color": "white"
             }
            },
            "header": {
             "fill": {
              "color": "#C8D4E3"
             },
             "line": {
              "color": "white"
             }
            },
            "type": "table"
           }
          ]
         },
         "layout": {
          "annotationdefaults": {
           "arrowcolor": "#2a3f5f",
           "arrowhead": 0,
           "arrowwidth": 1
          },
          "autotypenumbers": "strict",
          "coloraxis": {
           "colorbar": {
            "outlinewidth": 0,
            "ticks": ""
           }
          },
          "colorscale": {
           "diverging": [
            [
             0,
             "#8e0152"
            ],
            [
             0.1,
             "#c51b7d"
            ],
            [
             0.2,
             "#de77ae"
            ],
            [
             0.3,
             "#f1b6da"
            ],
            [
             0.4,
             "#fde0ef"
            ],
            [
             0.5,
             "#f7f7f7"
            ],
            [
             0.6,
             "#e6f5d0"
            ],
            [
             0.7,
             "#b8e186"
            ],
            [
             0.8,
             "#7fbc41"
            ],
            [
             0.9,
             "#4d9221"
            ],
            [
             1,
             "#276419"
            ]
           ],
           "sequential": [
            [
             0,
             "#0d0887"
            ],
            [
             0.1111111111111111,
             "#46039f"
            ],
            [
             0.2222222222222222,
             "#7201a8"
            ],
            [
             0.3333333333333333,
             "#9c179e"
            ],
            [
             0.4444444444444444,
             "#bd3786"
            ],
            [
             0.5555555555555556,
             "#d8576b"
            ],
            [
             0.6666666666666666,
             "#ed7953"
            ],
            [
             0.7777777777777778,
             "#fb9f3a"
            ],
            [
             0.8888888888888888,
             "#fdca26"
            ],
            [
             1,
             "#f0f921"
            ]
           ],
           "sequentialminus": [
            [
             0,
             "#0d0887"
            ],
            [
             0.1111111111111111,
             "#46039f"
            ],
            [
             0.2222222222222222,
             "#7201a8"
            ],
            [
             0.3333333333333333,
             "#9c179e"
            ],
            [
             0.4444444444444444,
             "#bd3786"
            ],
            [
             0.5555555555555556,
             "#d8576b"
            ],
            [
             0.6666666666666666,
             "#ed7953"
            ],
            [
             0.7777777777777778,
             "#fb9f3a"
            ],
            [
             0.8888888888888888,
             "#fdca26"
            ],
            [
             1,
             "#f0f921"
            ]
           ]
          },
          "colorway": [
           "#636efa",
           "#EF553B",
           "#00cc96",
           "#ab63fa",
           "#FFA15A",
           "#19d3f3",
           "#FF6692",
           "#B6E880",
           "#FF97FF",
           "#FECB52"
          ],
          "font": {
           "color": "#2a3f5f"
          },
          "geo": {
           "bgcolor": "white",
           "lakecolor": "white",
           "landcolor": "#E5ECF6",
           "showlakes": true,
           "showland": true,
           "subunitcolor": "white"
          },
          "hoverlabel": {
           "align": "left"
          },
          "hovermode": "closest",
          "mapbox": {
           "style": "light"
          },
          "paper_bgcolor": "white",
          "plot_bgcolor": "#E5ECF6",
          "polar": {
           "angularaxis": {
            "gridcolor": "white",
            "linecolor": "white",
            "ticks": ""
           },
           "bgcolor": "#E5ECF6",
           "radialaxis": {
            "gridcolor": "white",
            "linecolor": "white",
            "ticks": ""
           }
          },
          "scene": {
           "xaxis": {
            "backgroundcolor": "#E5ECF6",
            "gridcolor": "white",
            "gridwidth": 2,
            "linecolor": "white",
            "showbackground": true,
            "ticks": "",
            "zerolinecolor": "white"
           },
           "yaxis": {
            "backgroundcolor": "#E5ECF6",
            "gridcolor": "white",
            "gridwidth": 2,
            "linecolor": "white",
            "showbackground": true,
            "ticks": "",
            "zerolinecolor": "white"
           },
           "zaxis": {
            "backgroundcolor": "#E5ECF6",
            "gridcolor": "white",
            "gridwidth": 2,
            "linecolor": "white",
            "showbackground": true,
            "ticks": "",
            "zerolinecolor": "white"
           }
          },
          "shapedefaults": {
           "line": {
            "color": "#2a3f5f"
           }
          },
          "ternary": {
           "aaxis": {
            "gridcolor": "white",
            "linecolor": "white",
            "ticks": ""
           },
           "baxis": {
            "gridcolor": "white",
            "linecolor": "white",
            "ticks": ""
           },
           "bgcolor": "#E5ECF6",
           "caxis": {
            "gridcolor": "white",
            "linecolor": "white",
            "ticks": ""
           }
          },
          "title": {
           "x": 0.05
          },
          "xaxis": {
           "automargin": true,
           "gridcolor": "white",
           "linecolor": "white",
           "ticks": "",
           "title": {
            "standoff": 15
           },
           "zerolinecolor": "white",
           "zerolinewidth": 2
          },
          "yaxis": {
           "automargin": true,
           "gridcolor": "white",
           "linecolor": "white",
           "ticks": "",
           "title": {
            "standoff": 15
           },
           "zerolinecolor": "white",
           "zerolinewidth": 2
          }
         }
        },
        "title": {
         "text": "Deceased in Covid-19 in Sweden (per week)"
        },
        "xaxis": {
         "anchor": "y",
         "domain": [
          0,
          1
         ],
         "dtick": 2,
         "tick0": 0,
         "tickmode": "array",
         "ticktext": [
          "v.6 2020",
          "v.8 2020",
          "v.10 2020",
          "v.12 2020",
          "v.14 2020",
          "v.16 2020",
          "v.18 2020",
          "v.20 2020",
          "v.22 2020",
          "v.24 2020",
          "v.26 2020",
          "v.28 2020",
          "v.30 2020",
          "v.32 2020",
          "v.34 2020",
          "v.36 2020",
          "v.38 2020",
          "v.40 2020",
          "v.42 2020",
          "v.44 2020",
          "v.46 2020",
          "v.48 2020",
          "v.50 2020",
          "v.52 2020",
          "v.1 2021",
          "v.3 2021",
          "v.5 2021",
          "v.7 2021",
          "v.9 2021",
          "v.11 2021",
          "v.13 2021",
          "v.15 2021",
          "v.17 2021",
          "v.19 2021",
          "v.21 2021",
          "v.23 2021",
          "v.25 2021",
          "v.27 2021",
          "v.29 2021",
          "v.31 2021",
          "v.33 2021",
          "v.35 2021",
          "v.37 2021",
          "v.39 2021",
          "v.41 2021"
         ],
         "tickvals": [
          "2020v6",
          "2020v8",
          "2020v10",
          "2020v12",
          "2020v14",
          "2020v16",
          "2020v18",
          "2020v20",
          "2020v22",
          "2020v24",
          "2020v26",
          "2020v28",
          "2020v30",
          "2020v32",
          "2020v34",
          "2020v36",
          "2020v38",
          "2020v40",
          "2020v42",
          "2020v44",
          "2020v46",
          "2020v48",
          "2020v50",
          "2020v52",
          "2021v1",
          "2021v3",
          "2021v5",
          "2021v7",
          "2021v9",
          "2021v11",
          "2021v13",
          "2021v15",
          "2021v17",
          "2021v19",
          "2021v21",
          "2021v23",
          "2021v25",
          "2021v27",
          "2021v29",
          "2021v31",
          "2021v33",
          "2021v35",
          "2021v37",
          "2021v39",
          "2021v41"
         ],
         "title": {
          "text": "Week"
         }
        },
        "yaxis": {
         "anchor": "x",
         "domain": [
          0,
          1
         ],
         "title": {
          "text": "Number of deceased"
         }
        }
       }
      }
     },
     "metadata": {}
    }
   ],
   "metadata": {}
  },
  {
   "cell_type": "code",
   "execution_count": null,
   "source": [
    "fig = make_subplots(rows=1,cols=2,subplot_titles=('First plot','Second plot'),\n",
    "                   specs=[[{'type': 'scene'}, {'type': 'scene'}]])\n",
    "\n",
    "fig.add_trace(go.Scatter3d(x=[0,1,2,3],y=[0,1,2,3],z=[0,1,2,3]), row=1,col=1)\n",
    "fig.add_trace(go.Scatter3d(x=[0,1,2,3],y=[0,1,2,3], z=[0,1,2,3]), row=1,col=2)\n",
    "\n",
    "fig.update_layout(title='Add Custom Data')\n",
    "\n",
    "fig.show()"
   ],
   "outputs": [],
   "metadata": {}
  },
  {
   "cell_type": "code",
   "execution_count": null,
   "source": [
    "labels = [f\"v.{i} 2020\" for i in range(6, 54, 2)]\n",
    "labels.extend([f\"v.{i} 2021\" for i in range(1, 42, 2)])\n",
    "\n",
    "labels2 = [f\"v.{i} 2020\" for i in range(6, 54)]\n",
    "labels2.extend([f\"v.{i} 2021\" for i in range(1, 42)])\n",
    "\n",
    "\n",
    "values = [f\"2020v{i}\" for i in range(6, 54, 2)]\n",
    "values.extend([f\"2021v{i}\" for i in range(1, 42, 2)])\n",
    "\n",
    "hover_name = \"hover_name\"\n",
    "\n",
    "\"\"\"fig = px.line(covid, x=\"Vecka\", y=\"Antal_avlidna_vecka\", \n",
    "            labels={\"Vecka\":\"Week\", \"Antal_avlidna_vecka\":\"Number of deceased\"},\n",
    "            title=\"Deceased in Covid-19 in Sweden (per week)\")\n",
    "fig.update_xaxes(ticktext=labels, tickvals=covid[\"Vecka\"])\"\"\"\n",
    "fig = px.line(covid, x=\"Vecka\", y=\"Antal_avlidna_vecka\", \n",
    "            labels={\"Vecka\":\"Week\", \"Antal_avlidna_vecka\":\"Number of deceased\"},\n",
    "            title=\"Deceased in Covid-19 in Sweden (per week)\",\n",
    "            )\n",
    "fig.update_xaxes(tickmode=\"array\", ticktext=labels, tickvals=values) #nticks=number with tickmode=\"auto\"\n",
    "fig.update_traces(mode=\"markers+lines\",selector={\"Vecka\":labels2})\n",
    "#fig.update_layout(hovermode=\"x unified\")\n",
    "fig.show()\n",
    "fig.write_html('first_figure.html', auto_open=True)"
   ],
   "outputs": [],
   "metadata": {}
  },
  {
   "cell_type": "code",
   "execution_count": null,
   "source": [
    "covid.iloc[47]"
   ],
   "outputs": [],
   "metadata": {}
  },
  {
   "cell_type": "code",
   "execution_count": null,
   "source": [
    "fig = px.line(covid, x=\"Vecka\", y=\"Antal_fall_vecka\", labels={\"Vecka\":\"Week\", \"Antal_fall_vecka\":\"New cases\"})\n",
    "fig.show()"
   ],
   "outputs": [],
   "metadata": {}
  },
  {
   "cell_type": "code",
   "execution_count": null,
   "source": [
    "fig = px.line(covid, x=\"Vecka\", y=\"Antal_avlidna_vecka\", labels={\"Vecka\":\"Week\", \"Antal_avdlidna_vecka\":\"Number of People\"})\n",
    "fig = px.line(covid, x=\"Vecka\", y=\"Antal_fall_vecka\", labels={\"Vecka\":\"Week\", \"Antal_fall_vecka\":\"Number of People\"})\n",
    "fig.show()"
   ],
   "outputs": [],
   "metadata": {}
  },
  {
   "cell_type": "code",
   "execution_count": null,
   "source": [
    "#TODO: PLOT IN PLOTLY EXPRESS"
   ],
   "outputs": [],
   "metadata": {}
  },
  {
   "cell_type": "markdown",
   "source": [
    "## Exercise 2. Vaccination Data"
   ],
   "metadata": {}
  },
  {
   "cell_type": "code",
   "execution_count": null,
   "source": [
    "vaccination = pd.read_excel(\"data/Folkhalsomyndigheten_Covid19_Vaccine.xlsx\", sheet_name=5)\n",
    "vaccination"
   ],
   "outputs": [],
   "metadata": {}
  },
  {
   "cell_type": "markdown",
   "source": [
    "### a) Number of \"län\" in the data"
   ],
   "metadata": {}
  },
  {
   "cell_type": "code",
   "execution_count": null,
   "source": [
    "print(f\"There are {len(vaccination['Län_namn'].unique())} 'län' in the dataset.\")"
   ],
   "outputs": [],
   "metadata": {}
  },
  {
   "cell_type": "markdown",
   "source": [
    "### b) Number of \"kommuner\" in the dataset."
   ],
   "metadata": {}
  },
  {
   "cell_type": "code",
   "execution_count": null,
   "source": [
    "print(f\"There are {len(vaccination['Kommun_namn'].unique())} 'kommuner' in the dataset.\")"
   ],
   "outputs": [],
   "metadata": {}
  },
  {
   "cell_type": "markdown",
   "source": [
    "### c) Number of people that are are represented in the data."
   ],
   "metadata": {}
  },
  {
   "cell_type": "code",
   "execution_count": null,
   "source": [
    "no_people_represented = sum(vaccination['Befolkning'])\n",
    "print(f\"There are {no_people_represented} people represented in the data\")"
   ],
   "outputs": [],
   "metadata": {}
  },
  {
   "cell_type": "markdown",
   "source": [
    "### d) Number of children, under the age of 16."
   ],
   "metadata": {}
  },
  {
   "cell_type": "code",
   "execution_count": null,
   "source": [
    "print(f\"There are about {10427296-no_people_represented} children (under the age of 16) in Sweden.\") "
   ],
   "outputs": [],
   "metadata": {}
  },
  {
   "cell_type": "markdown",
   "source": [
    "### e) d"
   ],
   "metadata": {}
  },
  {
   "cell_type": "code",
   "execution_count": null,
   "source": [
    "#CREATE FUNCTION OF THIS AND ALSO PLOT THE OTHER PART\n",
    "#CHECK SO NUMBERS ARE CORRECT\n",
    "\n",
    "fig, ax = plt.subplots(dpi=400)\n",
    "ax = sns.barplot(data=vaccination, x=\"Län_namn\", y=\"Andel färdigvaccinerade\", ci=None)\n",
    "ax.tick_params(axis=\"x\", labelsize=8, rotation=90)\n",
    "ax.tick_params(axis=\"y\", labelsize=8)\n",
    "#plt.ticklabel_format(style='plain', axis='y')\n",
    "ax.set(ylabel=\"Personer\", xlabel=\"Län\", title=\"Andel färdigvaccinerade\")"
   ],
   "outputs": [],
   "metadata": {}
  },
  {
   "cell_type": "code",
   "execution_count": null,
   "source": [
    "#CREATE FUNCTION OF THIS AND ALSO PLOT THE OTHER PART\n",
    "#CHECK SO NUMBERS ARE CORRECT\n",
    "\n",
    "fig, ax = plt.subplots(dpi=400)\n",
    "ax = sns.barplot(data=vaccination, x=\"Län_namn\", y=\"Antal färdigvaccinerade\", ci=None, estimator=sum)\n",
    "ax.tick_params(axis=\"x\", labelsize=8, rotation=90)\n",
    "ax.tick_params(axis=\"y\", labelsize=8)\n",
    "#plt.ticklabel_format(style='plain', axis='y')\n",
    "ax.set(ylabel=\"Personer\", xlabel=\"Län\", title=\"Antal färdigvaccinerade\")"
   ],
   "outputs": [],
   "metadata": {}
  },
  {
   "cell_type": "code",
   "execution_count": null,
   "source": [
    "#CREATE FUNCTION OF THIS AND ALSO PLOT THE OTHER PART\n",
    "#CHECK SO NUMBERS ARE CORRECT\n",
    "\n",
    "fig, ax = plt.subplots(dpi=400)\n",
    "ax = sns.barplot(data=vaccination, x=\"Län_namn\", y=\"Andel färdigvaccinerade\", ci=None)\n",
    "ax = sns.barplot(data=vaccination, x=\"Län_namn\", y=\"Antal minst 1 dos\", ci=None)\n",
    "ax.tick_params(axis=\"x\", labelsize=8, rotation=90)\n",
    "ax.tick_params(axis=\"y\", labelsize=8)\n",
    "plt.ticklabel_format(style='plain', axis='y')\n",
    "ax.set(ylabel=\"Personer\", xlabel=\"Län\", title=\"Andel färdigvaccinerade\")"
   ],
   "outputs": [],
   "metadata": {}
  },
  {
   "cell_type": "code",
   "execution_count": null,
   "source": [
    "fig, ax = plt.subplots(dpi=400)\n",
    "ax = sns.barplot(data=vaccination, x=\"Län_namn\", y=(vaccination.groupby(vaccination[\"Län_namn\"]).sum()), ci=None)\n",
    "#ax = sns.barplot(data=vaccination, x=\"Län_namn\", y=\"Antal minst 1 dos\", ci=None)\n",
    "ax.tick_params(axis=\"x\", labelsize=8, rotation=90)\n",
    "ax.tick_params(axis=\"y\", labelsize=8)\n",
    "plt.ticklabel_format(style='plain', axis='y')\n",
    "ax.set(ylabel=\"Personer\", xlabel=\"Län\", title=\"Andel färdigvaccinerade\")"
   ],
   "outputs": [],
   "metadata": {}
  },
  {
   "cell_type": "code",
   "execution_count": null,
   "source": [
    "test = pd.DataFrame(vaccination[\"Antal färdigvaccinerade\"].groupby(vaccination[\"Län_namn\"]).sum())\n",
    "test[\"Antal minst 1 dos\"] = vaccination[\"Antal minst 1 dos\"].groupby(vaccination[\"Län_namn\"]).sum()\n",
    "#test.drop(1, axis=0)\n",
    "#test\n",
    "#fig = px.barplot(vaccination, x=\"Län_namn\", y=[\"Antal färdigva], labels={\"Vecka\":\"Week\", \"Antal_avdlidna_vecka\":\"Number of People\"})\n",
    "\n",
    "#alternative for pandas < 0.20.0\n",
    "#df = pd.melt(df, 'X_Axis', var_name='cols',  value_name='vals')\n",
    "#g = sns.factorplot(x=\"X_Axis\", y=\"vals\", hue='cols', data=df)"
   ],
   "outputs": [],
   "metadata": {}
  },
  {
   "cell_type": "code",
   "execution_count": null,
   "source": [
    "import plotly.graph_objects as go\n",
    "\n",
    "#Change title on y-axis\n",
    "fig = px.bar(test, x=test.index, y=\"Antal minst 1 dos\", labels={\"Län_namn\":\"Län\"})\n",
    "fig.add_bar(x=test.index, y=test[\"Antal färdigvaccinerade\"])\n",
    "fig.update_layout(barmode='group')\n",
    "fig.show()\n",
    "fig.write_html('first_figure.html', auto_open=True)"
   ],
   "outputs": [],
   "metadata": {}
  }
 ],
 "metadata": {
  "orig_nbformat": 4,
  "language_info": {
   "name": "python",
   "version": "3.9.6",
   "mimetype": "text/x-python",
   "codemirror_mode": {
    "name": "ipython",
    "version": 3
   },
   "pygments_lexer": "ipython3",
   "nbconvert_exporter": "python",
   "file_extension": ".py"
  },
  "kernelspec": {
   "name": "python3",
   "display_name": "Python 3.9.6 64-bit ('Databehandling-Anna-Maria-Sj-lund-ciSw9i2p': pipenv)"
  },
  "interpreter": {
   "hash": "448c7bdc29fb3557f07b8a1afe02d766aa28053d638d3b433bafa66a6229fd5d"
  }
 },
 "nbformat": 4,
 "nbformat_minor": 2
}