{
 "cells": [
  {
   "cell_type": "markdown",
   "source": [
    "## Linear equations"
   ],
   "metadata": {}
  },
  {
   "cell_type": "code",
   "execution_count": 1,
   "source": [
    "import numpy as np\n",
    "\n",
    "#We create a tuple\n",
    "#Do not use matrix, use array \n",
    "A = np.array(([2, -1], \n",
    "            [-2, 1],\n",
    "            [-1, 2])) \n",
    "\n",
    "B = np.array(([4, -3], \n",
    "            [3, 5]))\n",
    "\n",
    "print(A)\n",
    "print(B)\n",
    "\n",
    "#matmul matrix multiplication\n",
    "A@B #@is operated overloaded for matrix multiplication"
   ],
   "outputs": [
    {
     "output_type": "stream",
     "name": "stdout",
     "text": [
      "[[ 2 -1]\n",
      " [-2  1]\n",
      " [-1  2]]\n",
      "[[ 4 -3]\n",
      " [ 3  5]]\n"
     ]
    },
    {
     "output_type": "execute_result",
     "data": {
      "text/plain": [
       "array([[  5, -11],\n",
       "       [ -5,  11],\n",
       "       [  2,  13]])"
      ]
     },
     "metadata": {},
     "execution_count": 1
    }
   ],
   "metadata": {}
  },
  {
   "cell_type": "code",
   "execution_count": 2,
   "source": [
    "A = np.array(([2, 5],\n",
    "            [1, 3]))\n",
    "\n",
    "print(\"Inverse A\\n\", np.linalg.inv(A))\n",
    "\n",
    "np.linalg.inv(A)@A #Out identity matrix"
   ],
   "outputs": [
    {
     "output_type": "stream",
     "name": "stdout",
     "text": [
      "Inverse A\n",
      " [[ 3. -5.]\n",
      " [-1.  2.]]\n"
     ]
    },
    {
     "output_type": "execute_result",
     "data": {
      "text/plain": [
       "array([[1., 0.],\n",
       "       [0., 1.]])"
      ]
     },
     "metadata": {},
     "execution_count": 2
    }
   ],
   "metadata": {}
  },
  {
   "cell_type": "code",
   "execution_count": 3,
   "source": [
    "B.T #Gives the transposed matrix"
   ],
   "outputs": [
    {
     "output_type": "execute_result",
     "data": {
      "text/plain": [
       "array([[ 4,  3],\n",
       "       [-3,  5]])"
      ]
     },
     "metadata": {},
     "execution_count": 3
    }
   ],
   "metadata": {}
  },
  {
   "cell_type": "markdown",
   "source": [
    "## LInear regression"
   ],
   "metadata": {}
  },
  {
   "cell_type": "code",
   "execution_count": 5,
   "source": [
    "import pandas as pd\n",
    "df = pd.read_csv(\"löndata.csv\")\n",
    "df.head()"
   ],
   "outputs": [
    {
     "output_type": "execute_result",
     "data": {
      "text/plain": [
       "   Utbildning    Lön\n",
       "0         3.5  34652\n",
       "1         2.9  33467\n",
       "2         3.6  37553\n",
       "3         4.5  41010\n",
       "4         2.8  33506"
      ],
      "text/html": [
       "<div>\n",
       "<style scoped>\n",
       "    .dataframe tbody tr th:only-of-type {\n",
       "        vertical-align: middle;\n",
       "    }\n",
       "\n",
       "    .dataframe tbody tr th {\n",
       "        vertical-align: top;\n",
       "    }\n",
       "\n",
       "    .dataframe thead th {\n",
       "        text-align: right;\n",
       "    }\n",
       "</style>\n",
       "<table border=\"1\" class=\"dataframe\">\n",
       "  <thead>\n",
       "    <tr style=\"text-align: right;\">\n",
       "      <th></th>\n",
       "      <th>Utbildning</th>\n",
       "      <th>Lön</th>\n",
       "    </tr>\n",
       "  </thead>\n",
       "  <tbody>\n",
       "    <tr>\n",
       "      <th>0</th>\n",
       "      <td>3.5</td>\n",
       "      <td>34652</td>\n",
       "    </tr>\n",
       "    <tr>\n",
       "      <th>1</th>\n",
       "      <td>2.9</td>\n",
       "      <td>33467</td>\n",
       "    </tr>\n",
       "    <tr>\n",
       "      <th>2</th>\n",
       "      <td>3.6</td>\n",
       "      <td>37553</td>\n",
       "    </tr>\n",
       "    <tr>\n",
       "      <th>3</th>\n",
       "      <td>4.5</td>\n",
       "      <td>41010</td>\n",
       "    </tr>\n",
       "    <tr>\n",
       "      <th>4</th>\n",
       "      <td>2.8</td>\n",
       "      <td>33506</td>\n",
       "    </tr>\n",
       "  </tbody>\n",
       "</table>\n",
       "</div>"
      ]
     },
     "metadata": {},
     "execution_count": 5
    }
   ],
   "metadata": {}
  },
  {
   "cell_type": "code",
   "execution_count": 6,
   "source": [
    "df.to_numpy()[:, 0] #We get it as a numpy array, here we get all the years\n",
    "#[:, 0] all rows, first column\n",
    "#[:, 1] all rows, second column"
   ],
   "outputs": [
    {
     "output_type": "execute_result",
     "data": {
      "text/plain": [
       "array([[3.5000e+00, 3.4652e+04],\n",
       "       [2.9000e+00, 3.3467e+04],\n",
       "       [3.6000e+00, 3.7553e+04],\n",
       "       [4.5000e+00, 4.1010e+04],\n",
       "       [2.8000e+00, 3.3506e+04],\n",
       "       [2.8000e+00, 3.4637e+04],\n",
       "       [4.6000e+00, 4.6668e+04],\n",
       "       [3.8000e+00, 3.9186e+04],\n",
       "       [2.5000e+00, 3.3167e+04],\n",
       "       [3.5000e+00, 3.7563e+04],\n",
       "       [2.5000e+00, 2.8845e+04],\n",
       "       [2.5000e+00, 3.2618e+04],\n",
       "       [3.2000e+00, 3.6330e+04],\n",
       "       [1.1000e+00, 3.0360e+04],\n",
       "       [1.3000e+00, 2.5990e+04],\n",
       "       [2.4000e+00, 3.2791e+04],\n",
       "       [2.0000e+00, 2.9866e+04],\n",
       "       [3.3000e+00, 3.4233e+04],\n",
       "       [2.1000e+00, 3.2745e+04],\n",
       "       [1.6000e+00, 2.9442e+04],\n",
       "       [4.5000e+00, 4.3910e+04],\n",
       "       [2.8000e+00, 3.2052e+04],\n",
       "       [3.1000e+00, 3.8143e+04],\n",
       "       [1.6000e+00, 2.5072e+04],\n",
       "       [2.5000e+00, 3.3451e+04],\n",
       "       [3.1000e+00, 3.9935e+04],\n",
       "       [1.8000e+00, 2.7264e+04],\n",
       "       [3.4000e+00, 3.5745e+04],\n",
       "       [2.4000e+00, 3.2196e+04],\n",
       "       [2.7000e+00, 3.2534e+04],\n",
       "       [2.4000e+00, 2.8890e+04],\n",
       "       [4.9000e+00, 4.4398e+04],\n",
       "       [3.0000e+00, 3.2807e+04],\n",
       "       [1.9000e+00, 3.0658e+04],\n",
       "       [3.8000e+00, 3.7273e+04],\n",
       "       [1.8000e+00, 3.1995e+04],\n",
       "       [3.2000e+00, 3.4477e+04],\n",
       "       [1.0000e+00, 2.4557e+04],\n",
       "       [1.7000e+00, 2.9986e+04],\n",
       "       [3.2000e+00, 3.3522e+04],\n",
       "       [3.7000e+00, 3.9147e+04],\n",
       "       [3.2000e+00, 3.8471e+04],\n",
       "       [2.9000e+00, 3.1206e+04],\n",
       "       [2.7000e+00, 3.3863e+04],\n",
       "       [1.5000e+00, 2.8127e+04],\n",
       "       [2.3000e+00, 3.2964e+04],\n",
       "       [2.5000e+00, 3.0222e+04],\n",
       "       [4.1000e+00, 3.7644e+04],\n",
       "       [3.3000e+00, 3.7762e+04],\n",
       "       [1.2000e+00, 2.6778e+04],\n",
       "       [3.3000e+00, 3.7121e+04],\n",
       "       [2.6000e+00, 3.3767e+04],\n",
       "       [2.3000e+00, 3.0255e+04],\n",
       "       [3.6000e+00, 3.8522e+04],\n",
       "       [4.0000e+00, 4.0741e+04],\n",
       "       [3.9000e+00, 3.8227e+04],\n",
       "       [2.2000e+00, 3.4535e+04],\n",
       "       [2.7000e+00, 3.4401e+04],\n",
       "       [3.3000e+00, 3.4273e+04],\n",
       "       [4.0000e+00, 4.1190e+04],\n",
       "       [2.5000e+00, 3.0654e+04],\n",
       "       [2.8000e+00, 3.5645e+04],\n",
       "       [1.9000e+00, 3.1785e+04],\n",
       "       [1.8000e+00, 2.7377e+04],\n",
       "       [3.8000e+00, 4.0989e+04],\n",
       "       [4.4000e+00, 4.2606e+04],\n",
       "       [2.9000e+00, 3.6284e+04],\n",
       "       [4.0000e+00, 4.3811e+04],\n",
       "       [3.4000e+00, 3.6317e+04],\n",
       "       [2.4000e+00, 3.0266e+04],\n",
       "       [3.4000e+00, 3.5027e+04],\n",
       "       [4.5000e+00, 4.1058e+04],\n",
       "       [3.0000e+00, 3.4666e+04],\n",
       "       [4.6000e+00, 4.3505e+04],\n",
       "       [4.0000e-01, 2.2454e+04],\n",
       "       [3.8000e+00, 4.0763e+04],\n",
       "       [3.1000e+00, 3.5461e+04],\n",
       "       [2.7000e+00, 3.6412e+04],\n",
       "       [3.1000e+00, 3.4929e+04],\n",
       "       [1.0000e+00, 3.0502e+04],\n",
       "       [2.8000e+00, 3.5153e+04],\n",
       "       [3.4000e+00, 3.5071e+04],\n",
       "       [4.5000e+00, 4.0247e+04],\n",
       "       [2.5000e+00, 3.3373e+04],\n",
       "       [2.2000e+00, 3.0510e+04],\n",
       "       [2.5000e+00, 3.3919e+04],\n",
       "       [3.9000e+00, 4.0523e+04],\n",
       "       [3.3000e+00, 3.6498e+04],\n",
       "       [2.5000e+00, 3.0657e+04],\n",
       "       [3.5000e+00, 3.4536e+04],\n",
       "       [3.1000e+00, 3.4592e+04],\n",
       "       [4.0000e+00, 4.1556e+04],\n",
       "       [2.3000e+00, 3.1917e+04],\n",
       "       [2.7000e+00, 3.0870e+04],\n",
       "       [2.6000e+00, 3.3385e+04],\n",
       "       [1.5000e+00, 2.8453e+04],\n",
       "       [3.3000e+00, 3.4712e+04],\n",
       "       [3.3000e+00, 3.6612e+04],\n",
       "       [3.0000e+00, 3.5142e+04],\n",
       "       [2.8000e+00, 3.1541e+04]])"
      ]
     },
     "metadata": {},
     "execution_count": 6
    }
   ],
   "metadata": {}
  },
  {
   "cell_type": "code",
   "execution_count": 13,
   "source": [
    "educ_time, y = df.to_numpy()[:, 0], df.to_numpy()[:, 1]\n",
    "#np.ones(len(educ_time)) #We get a lot of ones (as many as the length of educ_time), see lecture notes (we want 1:s together with the x:s to be able to multiple it with the betas)\n",
    "X = np.vstack([np.ones(len(educ_time)), educ_time]).transpose() #We stack it (however we have to tranpose it to get in correct)\n",
    "X"
   ],
   "outputs": [
    {
     "output_type": "execute_result",
     "data": {
      "text/plain": [
       "array([[1. , 3.5],\n",
       "       [1. , 2.9],\n",
       "       [1. , 3.6],\n",
       "       [1. , 4.5],\n",
       "       [1. , 2.8],\n",
       "       [1. , 2.8],\n",
       "       [1. , 4.6],\n",
       "       [1. , 3.8],\n",
       "       [1. , 2.5],\n",
       "       [1. , 3.5],\n",
       "       [1. , 2.5],\n",
       "       [1. , 2.5],\n",
       "       [1. , 3.2],\n",
       "       [1. , 1.1],\n",
       "       [1. , 1.3],\n",
       "       [1. , 2.4],\n",
       "       [1. , 2. ],\n",
       "       [1. , 3.3],\n",
       "       [1. , 2.1],\n",
       "       [1. , 1.6],\n",
       "       [1. , 4.5],\n",
       "       [1. , 2.8],\n",
       "       [1. , 3.1],\n",
       "       [1. , 1.6],\n",
       "       [1. , 2.5],\n",
       "       [1. , 3.1],\n",
       "       [1. , 1.8],\n",
       "       [1. , 3.4],\n",
       "       [1. , 2.4],\n",
       "       [1. , 2.7],\n",
       "       [1. , 2.4],\n",
       "       [1. , 4.9],\n",
       "       [1. , 3. ],\n",
       "       [1. , 1.9],\n",
       "       [1. , 3.8],\n",
       "       [1. , 1.8],\n",
       "       [1. , 3.2],\n",
       "       [1. , 1. ],\n",
       "       [1. , 1.7],\n",
       "       [1. , 3.2],\n",
       "       [1. , 3.7],\n",
       "       [1. , 3.2],\n",
       "       [1. , 2.9],\n",
       "       [1. , 2.7],\n",
       "       [1. , 1.5],\n",
       "       [1. , 2.3],\n",
       "       [1. , 2.5],\n",
       "       [1. , 4.1],\n",
       "       [1. , 3.3],\n",
       "       [1. , 1.2],\n",
       "       [1. , 3.3],\n",
       "       [1. , 2.6],\n",
       "       [1. , 2.3],\n",
       "       [1. , 3.6],\n",
       "       [1. , 4. ],\n",
       "       [1. , 3.9],\n",
       "       [1. , 2.2],\n",
       "       [1. , 2.7],\n",
       "       [1. , 3.3],\n",
       "       [1. , 4. ],\n",
       "       [1. , 2.5],\n",
       "       [1. , 2.8],\n",
       "       [1. , 1.9],\n",
       "       [1. , 1.8],\n",
       "       [1. , 3.8],\n",
       "       [1. , 4.4],\n",
       "       [1. , 2.9],\n",
       "       [1. , 4. ],\n",
       "       [1. , 3.4],\n",
       "       [1. , 2.4],\n",
       "       [1. , 3.4],\n",
       "       [1. , 4.5],\n",
       "       [1. , 3. ],\n",
       "       [1. , 4.6],\n",
       "       [1. , 0.4],\n",
       "       [1. , 3.8],\n",
       "       [1. , 3.1],\n",
       "       [1. , 2.7],\n",
       "       [1. , 3.1],\n",
       "       [1. , 1. ],\n",
       "       [1. , 2.8],\n",
       "       [1. , 3.4],\n",
       "       [1. , 4.5],\n",
       "       [1. , 2.5],\n",
       "       [1. , 2.2],\n",
       "       [1. , 2.5],\n",
       "       [1. , 3.9],\n",
       "       [1. , 3.3],\n",
       "       [1. , 2.5],\n",
       "       [1. , 3.5],\n",
       "       [1. , 3.1],\n",
       "       [1. , 4. ],\n",
       "       [1. , 2.3],\n",
       "       [1. , 2.7],\n",
       "       [1. , 2.6],\n",
       "       [1. , 1.5],\n",
       "       [1. , 3.3],\n",
       "       [1. , 3.3],\n",
       "       [1. , 3. ],\n",
       "       [1. , 2.8]])"
      ]
     },
     "metadata": {},
     "execution_count": 13
    }
   ],
   "metadata": {}
  },
  {
   "cell_type": "code",
   "execution_count": 15,
   "source": [
    "#beta = (X^TX)^-1 X^T y\n",
    "beta_hat = np.linalg.inv(X.T@X)@X.T@y\n",
    "print(beta_hat) #First value is where it cuts the y-axis and the second value is lutning (how much the salary increases for each additional year education)\n",
    "\n",
    "y_hat = X@beta_hat\n",
    "y_hat"
   ],
   "outputs": [
    {
     "output_type": "stream",
     "name": "stdout",
     "text": [
      "[20893.83571523  4703.603963  ]\n"
     ]
    },
    {
     "output_type": "execute_result",
     "data": {
      "text/plain": [
       "array([37356.44958573, 34534.28720793, 37826.80998203, 42060.05354873,\n",
       "       34063.92681163, 34063.92681163, 42530.41394503, 38767.53077463,\n",
       "       32652.84562273, 37356.44958573, 32652.84562273, 32652.84562273,\n",
       "       35945.36839683, 26067.80007453, 27008.52086713, 32182.48522643,\n",
       "       30301.04364123, 36415.72879313, 30771.40403753, 28419.60205603,\n",
       "       42060.05354873, 34063.92681163, 35475.00800053, 28419.60205603,\n",
       "       32652.84562273, 35475.00800053, 29360.32284863, 36886.08918943,\n",
       "       32182.48522643, 33593.56641533, 32182.48522643, 43941.49513393,\n",
       "       35004.64760423, 29830.68324493, 38767.53077463, 29360.32284863,\n",
       "       35945.36839683, 25597.43967823, 28889.96245233, 35945.36839683,\n",
       "       38297.17037833, 35945.36839683, 34534.28720793, 33593.56641533,\n",
       "       27949.24165973, 31712.12483013, 32652.84562273, 40178.61196353,\n",
       "       36415.72879313, 26538.16047083, 36415.72879313, 33123.20601903,\n",
       "       31712.12483013, 37826.80998203, 39708.25156723, 39237.89117093,\n",
       "       31241.76443383, 33593.56641533, 36415.72879313, 39708.25156723,\n",
       "       32652.84562273, 34063.92681163, 29830.68324493, 29360.32284863,\n",
       "       38767.53077463, 41589.69315243, 34534.28720793, 39708.25156723,\n",
       "       36886.08918943, 32182.48522643, 36886.08918943, 42060.05354873,\n",
       "       35004.64760423, 42530.41394503, 22775.27730043, 38767.53077463,\n",
       "       35475.00800053, 33593.56641533, 35475.00800053, 25597.43967823,\n",
       "       34063.92681163, 36886.08918943, 42060.05354873, 32652.84562273,\n",
       "       31241.76443383, 32652.84562273, 39237.89117093, 36415.72879313,\n",
       "       32652.84562273, 37356.44958573, 35475.00800053, 39708.25156723,\n",
       "       31712.12483013, 33593.56641533, 33123.20601903, 27949.24165973,\n",
       "       36415.72879313, 36415.72879313, 35004.64760423, 34063.92681163])"
      ]
     },
     "metadata": {},
     "execution_count": 15
    }
   ],
   "metadata": {}
  },
  {
   "cell_type": "code",
   "execution_count": 20,
   "source": [
    "import seaborn as sns\n",
    "\n",
    "ax = sns.lineplot(x = educ_time, y = y_hat, color=\"red\")\n",
    "ax = sns.scatterplot(data = df, x = \"Utbildning\", y = \"Lön\")\n",
    "ax.set(title = \"Linjär regression på utbildning och lön\");"
   ],
   "outputs": [
    {
     "output_type": "display_data",
     "data": {
      "text/plain": [
       "<Figure size 432x288 with 1 Axes>"
      ],
      "image/svg+xml": "<?xml version=\"1.0\" encoding=\"utf-8\" standalone=\"no\"?>\n<!DOCTYPE svg PUBLIC \"-//W3C//DTD SVG 1.1//EN\"\n  \"http://www.w3.org/Graphics/SVG/1.1/DTD/svg11.dtd\">\n<svg height=\"278.731875pt\" version=\"1.1\" viewBox=\"0 0 401.690625 278.731875\" width=\"401.690625pt\" xmlns=\"http://www.w3.org/2000/svg\" xmlns:xlink=\"http://www.w3.org/1999/xlink\">\n <metadata>\n  <rdf:RDF xmlns:cc=\"http://creativecommons.org/ns#\" xmlns:dc=\"http://purl.org/dc/elements/1.1/\" xmlns:rdf=\"http://www.w3.org/1999/02/22-rdf-syntax-ns#\">\n   <cc:Work>\n    <dc:type rdf:resource=\"http://purl.org/dc/dcmitype/StillImage\"/>\n    <dc:date>2021-12-06T11:41:03.978954</dc:date>\n    <dc:format>image/svg+xml</dc:format>\n    <dc:creator>\n     <cc:Agent>\n      <dc:title>Matplotlib v3.4.3, https://matplotlib.org/</dc:title>\n     </cc:Agent>\n    </dc:creator>\n   </cc:Work>\n  </rdf:RDF>\n </metadata>\n <defs>\n  <style type=\"text/css\">*{stroke-linecap:butt;stroke-linejoin:round;}</style>\n </defs>\n <g id=\"figure_1\">\n  <g id=\"patch_1\">\n   <path d=\"M 0 278.731875 \nL 401.690625 278.731875 \nL 401.690625 0 \nL 0 0 \nz\n\" style=\"fill:none;\"/>\n  </g>\n  <g id=\"axes_1\">\n   <g id=\"patch_2\">\n    <path d=\"M 59.690625 241.175625 \nL 394.490625 241.175625 \nL 394.490625 23.735625 \nL 59.690625 23.735625 \nz\n\" style=\"fill:#ffffff;\"/>\n   </g>\n   <g id=\"PolyCollection_1\">\n    <path clip-path=\"url(#p5caefe02a9)\" d=\"M 115.490625 205.630293 \nL 115.490625 205.630293 \nL 115.490625 205.630293 \nL 115.490625 205.630293 \nz\n\" style=\"fill:#ff0000;fill-opacity:0.2;stroke:#ff0000;stroke-opacity:0.2;\"/>\n    <path clip-path=\"url(#p5caefe02a9)\" d=\"M 149.308807 186.431189 \nL 149.308807 186.431189 \nL 156.072443 182.591368 \nL 156.072443 182.591368 \nL 156.072443 182.591368 \nL 149.308807 186.431189 \nz\n\" style=\"fill:#ff0000;fill-opacity:0.2;stroke:#ff0000;stroke-opacity:0.2;\"/>\n    <path clip-path=\"url(#p5caefe02a9)\" d=\"M 169.599716 174.911726 \nL 169.599716 174.911726 \nL 176.363352 171.071905 \nL 176.363352 171.071905 \nL 176.363352 171.071905 \nL 169.599716 174.911726 \nz\n\" style=\"fill:#ff0000;fill-opacity:0.2;stroke:#ff0000;stroke-opacity:0.2;\"/>\n    <path clip-path=\"url(#p5caefe02a9)\" d=\"M 196.654261 159.552443 \nL 196.654261 159.552443 \nL 203.417898 155.712622 \nL 210.181534 151.872801 \nL 216.94517 148.03298 \nL 223.708807 144.193159 \nL 230.472443 140.353339 \nL 237.23608 136.513518 \nL 243.999716 132.673697 \nL 250.763352 128.833876 \nL 257.526989 124.994055 \nL 264.290625 121.154234 \nL 271.054261 117.314413 \nL 277.817898 113.474592 \nL 284.581534 109.634772 \nL 291.34517 105.794951 \nL 291.34517 105.794951 \nL 291.34517 105.794951 \nL 284.581534 109.634772 \nL 277.817898 113.474592 \nL 271.054261 117.314413 \nL 264.290625 121.154234 \nL 257.526989 124.994055 \nL 250.763352 128.833876 \nL 243.999716 132.673697 \nL 237.23608 136.513518 \nL 230.472443 140.353339 \nL 223.708807 144.193159 \nL 216.94517 148.03298 \nL 210.181534 151.872801 \nL 203.417898 155.712622 \nL 196.654261 159.552443 \nz\n\" style=\"fill:#ff0000;fill-opacity:0.2;stroke:#ff0000;stroke-opacity:0.2;\"/>\n    <path clip-path=\"url(#p5caefe02a9)\" d=\"M 304.872443 98.115309 \nL 304.872443 98.115309 \nL 311.63608 94.275488 \nL 318.399716 90.435667 \nL 318.399716 90.435667 \nL 318.399716 90.435667 \nL 311.63608 94.275488 \nL 304.872443 98.115309 \nz\n\" style=\"fill:#ff0000;fill-opacity:0.2;stroke:#ff0000;stroke-opacity:0.2;\"/>\n    <path clip-path=\"url(#p5caefe02a9)\" d=\"M 352.217898 71.236563 \nL 352.217898 71.236563 \nL 358.981534 67.396742 \nL 358.981534 67.396742 \nL 358.981534 67.396742 \nL 352.217898 71.236563 \nz\n\" style=\"fill:#ff0000;fill-opacity:0.2;stroke:#ff0000;stroke-opacity:0.2;\"/>\n   </g>\n   <g id=\"PathCollection_1\">\n    <defs>\n     <path d=\"M 0 3 \nC 0.795609 3 1.55874 2.683901 2.12132 2.12132 \nC 2.683901 1.55874 3 0.795609 3 0 \nC 3 -0.795609 2.683901 -1.55874 2.12132 -2.12132 \nC 1.55874 -2.683901 0.795609 -3 0 -3 \nC -0.795609 -3 -1.55874 -2.683901 -2.12132 -2.12132 \nC -2.683901 -1.55874 -3 -0.795609 -3 0 \nC -3 0.795609 -2.683901 1.55874 -2.12132 2.12132 \nC -1.55874 2.683901 -0.795609 3 0 3 \nz\n\" id=\"m29bc145cfa\" style=\"stroke:#ffffff;stroke-width:0.48;\"/>\n    </defs>\n    <g clip-path=\"url(#p5caefe02a9)\">\n     <use style=\"fill:#1f77b4;stroke:#ffffff;stroke-width:0.48;\" x=\"284.581534\" xlink:href=\"#m29bc145cfa\" y=\"131.71274\"/>\n     <use style=\"fill:#1f77b4;stroke:#ffffff;stroke-width:0.48;\" x=\"243.999716\" xlink:href=\"#m29bc145cfa\" y=\"141.386573\"/>\n     <use style=\"fill:#1f77b4;stroke:#ffffff;stroke-width:0.48;\" x=\"291.34517\" xlink:href=\"#m29bc145cfa\" y=\"108.030218\"/>\n     <use style=\"fill:#1f77b4;stroke:#ffffff;stroke-width:0.48;\" x=\"352.217898\" xlink:href=\"#m29bc145cfa\" y=\"79.808751\"/>\n     <use style=\"fill:#1f77b4;stroke:#ffffff;stroke-width:0.48;\" x=\"237.23608\" xlink:href=\"#m29bc145cfa\" y=\"141.068193\"/>\n     <use style=\"fill:#1f77b4;stroke:#ffffff;stroke-width:0.48;\" x=\"237.23608\" xlink:href=\"#m29bc145cfa\" y=\"131.835194\"/>\n     <use style=\"fill:#1f77b4;stroke:#ffffff;stroke-width:0.48;\" x=\"358.981534\" xlink:href=\"#m29bc145cfa\" y=\"33.619261\"/>\n     <use style=\"fill:#1f77b4;stroke:#ffffff;stroke-width:0.48;\" x=\"304.872443\" xlink:href=\"#m29bc145cfa\" y=\"94.699105\"/>\n     <use style=\"fill:#1f77b4;stroke:#ffffff;stroke-width:0.48;\" x=\"216.94517\" xlink:href=\"#m29bc145cfa\" y=\"143.835644\"/>\n     <use style=\"fill:#1f77b4;stroke:#ffffff;stroke-width:0.48;\" x=\"284.581534\" xlink:href=\"#m29bc145cfa\" y=\"107.948582\"/>\n     <use style=\"fill:#1f77b4;stroke:#ffffff;stroke-width:0.48;\" x=\"216.94517\" xlink:href=\"#m29bc145cfa\" y=\"179.118601\"/>\n     <use style=\"fill:#1f77b4;stroke:#ffffff;stroke-width:0.48;\" x=\"216.94517\" xlink:href=\"#m29bc145cfa\" y=\"148.317445\"/>\n     <use style=\"fill:#1f77b4;stroke:#ffffff;stroke-width:0.48;\" x=\"264.290625\" xlink:href=\"#m29bc145cfa\" y=\"118.014267\"/>\n     <use style=\"fill:#1f77b4;stroke:#ffffff;stroke-width:0.48;\" x=\"122.254261\" xlink:href=\"#m29bc145cfa\" y=\"166.75079\"/>\n     <use style=\"fill:#1f77b4;stroke:#ffffff;stroke-width:0.48;\" x=\"135.781534\" xlink:href=\"#m29bc145cfa\" y=\"202.425599\"/>\n     <use style=\"fill:#1f77b4;stroke:#ffffff;stroke-width:0.48;\" x=\"210.181534\" xlink:href=\"#m29bc145cfa\" y=\"146.905147\"/>\n     <use style=\"fill:#1f77b4;stroke:#ffffff;stroke-width:0.48;\" x=\"183.126989\" xlink:href=\"#m29bc145cfa\" y=\"170.783595\"/>\n     <use style=\"fill:#1f77b4;stroke:#ffffff;stroke-width:0.48;\" x=\"271.054261\" xlink:href=\"#m29bc145cfa\" y=\"135.133277\"/>\n     <use style=\"fill:#1f77b4;stroke:#ffffff;stroke-width:0.48;\" x=\"189.890625\" xlink:href=\"#m29bc145cfa\" y=\"147.280671\"/>\n     <use style=\"fill:#1f77b4;stroke:#ffffff;stroke-width:0.48;\" x=\"156.072443\" xlink:href=\"#m29bc145cfa\" y=\"174.244949\"/>\n     <use style=\"fill:#1f77b4;stroke:#ffffff;stroke-width:0.48;\" x=\"352.217898\" xlink:href=\"#m29bc145cfa\" y=\"56.134392\"/>\n     <use style=\"fill:#1f77b4;stroke:#ffffff;stroke-width:0.48;\" x=\"237.23608\" xlink:href=\"#m29bc145cfa\" y=\"152.938027\"/>\n     <use style=\"fill:#1f77b4;stroke:#ffffff;stroke-width:0.48;\" x=\"257.526989\" xlink:href=\"#m29bc145cfa\" y=\"103.213711\"/>\n     <use style=\"fill:#1f77b4;stroke:#ffffff;stroke-width:0.48;\" x=\"156.072443\" xlink:href=\"#m29bc145cfa\" y=\"209.919758\"/>\n     <use style=\"fill:#1f77b4;stroke:#ffffff;stroke-width:0.48;\" x=\"216.94517\" xlink:href=\"#m29bc145cfa\" y=\"141.51719\"/>\n     <use style=\"fill:#1f77b4;stroke:#ffffff;stroke-width:0.48;\" x=\"257.526989\" xlink:href=\"#m29bc145cfa\" y=\"88.58459\"/>\n     <use style=\"fill:#1f77b4;stroke:#ffffff;stroke-width:0.48;\" x=\"169.599716\" xlink:href=\"#m29bc145cfa\" y=\"192.025208\"/>\n     <use style=\"fill:#1f77b4;stroke:#ffffff;stroke-width:0.48;\" x=\"277.817898\" xlink:href=\"#m29bc145cfa\" y=\"122.789956\"/>\n     <use style=\"fill:#1f77b4;stroke:#ffffff;stroke-width:0.48;\" x=\"210.181534\" xlink:href=\"#m29bc145cfa\" y=\"151.762472\"/>\n     <use style=\"fill:#1f77b4;stroke:#ffffff;stroke-width:0.48;\" x=\"230.472443\" xlink:href=\"#m29bc145cfa\" y=\"149.003185\"/>\n     <use style=\"fill:#1f77b4;stroke:#ffffff;stroke-width:0.48;\" x=\"210.181534\" xlink:href=\"#m29bc145cfa\" y=\"178.751241\"/>\n     <use style=\"fill:#1f77b4;stroke:#ffffff;stroke-width:0.48;\" x=\"379.272443\" xlink:href=\"#m29bc145cfa\" y=\"52.150569\"/>\n     <use style=\"fill:#1f77b4;stroke:#ffffff;stroke-width:0.48;\" x=\"250.763352\" xlink:href=\"#m29bc145cfa\" y=\"146.77453\"/>\n     <use style=\"fill:#1f77b4;stroke:#ffffff;stroke-width:0.48;\" x=\"176.363352\" xlink:href=\"#m29bc145cfa\" y=\"164.318046\"/>\n     <use style=\"fill:#1f77b4;stroke:#ffffff;stroke-width:0.48;\" x=\"304.872443\" xlink:href=\"#m29bc145cfa\" y=\"110.316018\"/>\n     <use style=\"fill:#1f77b4;stroke:#ffffff;stroke-width:0.48;\" x=\"169.599716\" xlink:href=\"#m29bc145cfa\" y=\"153.40335\"/>\n     <use style=\"fill:#1f77b4;stroke:#ffffff;stroke-width:0.48;\" x=\"264.290625\" xlink:href=\"#m29bc145cfa\" y=\"133.141365\"/>\n     <use style=\"fill:#1f77b4;stroke:#ffffff;stroke-width:0.48;\" x=\"115.490625\" xlink:href=\"#m29bc145cfa\" y=\"214.123997\"/>\n     <use style=\"fill:#1f77b4;stroke:#ffffff;stroke-width:0.48;\" x=\"162.83608\" xlink:href=\"#m29bc145cfa\" y=\"169.803966\"/>\n     <use style=\"fill:#1f77b4;stroke:#ffffff;stroke-width:0.48;\" x=\"264.290625\" xlink:href=\"#m29bc145cfa\" y=\"140.937576\"/>\n     <use style=\"fill:#1f77b4;stroke:#ffffff;stroke-width:0.48;\" x=\"298.108807\" xlink:href=\"#m29bc145cfa\" y=\"95.017485\"/>\n     <use style=\"fill:#1f77b4;stroke:#ffffff;stroke-width:0.48;\" x=\"264.290625\" xlink:href=\"#m29bc145cfa\" y=\"100.536059\"/>\n     <use style=\"fill:#1f77b4;stroke:#ffffff;stroke-width:0.48;\" x=\"243.999716\" xlink:href=\"#m29bc145cfa\" y=\"159.844408\"/>\n     <use style=\"fill:#1f77b4;stroke:#ffffff;stroke-width:0.48;\" x=\"230.472443\" xlink:href=\"#m29bc145cfa\" y=\"138.153798\"/>\n     <use style=\"fill:#1f77b4;stroke:#ffffff;stroke-width:0.48;\" x=\"149.308807\" xlink:href=\"#m29bc145cfa\" y=\"184.980046\"/>\n     <use style=\"fill:#1f77b4;stroke:#ffffff;stroke-width:0.48;\" x=\"203.417898\" xlink:href=\"#m29bc145cfa\" y=\"145.492849\"/>\n     <use style=\"fill:#1f77b4;stroke:#ffffff;stroke-width:0.48;\" x=\"216.94517\" xlink:href=\"#m29bc145cfa\" y=\"167.877363\"/>\n     <use style=\"fill:#1f77b4;stroke:#ffffff;stroke-width:0.48;\" x=\"325.163352\" xlink:href=\"#m29bc145cfa\" y=\"107.287333\"/>\n     <use style=\"fill:#1f77b4;stroke:#ffffff;stroke-width:0.48;\" x=\"271.054261\" xlink:href=\"#m29bc145cfa\" y=\"106.324032\"/>\n     <use style=\"fill:#1f77b4;stroke:#ffffff;stroke-width:0.48;\" x=\"129.017898\" xlink:href=\"#m29bc145cfa\" y=\"195.992704\"/>\n     <use style=\"fill:#1f77b4;stroke:#ffffff;stroke-width:0.48;\" x=\"271.054261\" xlink:href=\"#m29bc145cfa\" y=\"111.556881\"/>\n     <use style=\"fill:#1f77b4;stroke:#ffffff;stroke-width:0.48;\" x=\"223.708807\" xlink:href=\"#m29bc145cfa\" y=\"138.937501\"/>\n     <use style=\"fill:#1f77b4;stroke:#ffffff;stroke-width:0.48;\" x=\"203.417898\" xlink:href=\"#m29bc145cfa\" y=\"167.607965\"/>\n     <use style=\"fill:#1f77b4;stroke:#ffffff;stroke-width:0.48;\" x=\"291.34517\" xlink:href=\"#m29bc145cfa\" y=\"100.119717\"/>\n     <use style=\"fill:#1f77b4;stroke:#ffffff;stroke-width:0.48;\" x=\"318.399716\" xlink:href=\"#m29bc145cfa\" y=\"82.004751\"/>\n     <use style=\"fill:#1f77b4;stroke:#ffffff;stroke-width:0.48;\" x=\"311.63608\" xlink:href=\"#m29bc145cfa\" y=\"102.527971\"/>\n     <use style=\"fill:#1f77b4;stroke:#ffffff;stroke-width:0.48;\" x=\"196.654261\" xlink:href=\"#m29bc145cfa\" y=\"132.667878\"/>\n     <use style=\"fill:#1f77b4;stroke:#ffffff;stroke-width:0.48;\" x=\"230.472443\" xlink:href=\"#m29bc145cfa\" y=\"133.761796\"/>\n     <use style=\"fill:#1f77b4;stroke:#ffffff;stroke-width:0.48;\" x=\"271.054261\" xlink:href=\"#m29bc145cfa\" y=\"134.806734\"/>\n     <use style=\"fill:#1f77b4;stroke:#ffffff;stroke-width:0.48;\" x=\"318.399716\" xlink:href=\"#m29bc145cfa\" y=\"78.339308\"/>\n     <use style=\"fill:#1f77b4;stroke:#ffffff;stroke-width:0.48;\" x=\"216.94517\" xlink:href=\"#m29bc145cfa\" y=\"164.3507\"/>\n     <use style=\"fill:#1f77b4;stroke:#ffffff;stroke-width:0.48;\" x=\"237.23608\" xlink:href=\"#m29bc145cfa\" y=\"123.606313\"/>\n     <use style=\"fill:#1f77b4;stroke:#ffffff;stroke-width:0.48;\" x=\"176.363352\" xlink:href=\"#m29bc145cfa\" y=\"155.1177\"/>\n     <use style=\"fill:#1f77b4;stroke:#ffffff;stroke-width:0.48;\" x=\"169.599716\" xlink:href=\"#m29bc145cfa\" y=\"191.102725\"/>\n     <use style=\"fill:#1f77b4;stroke:#ffffff;stroke-width:0.48;\" x=\"304.872443\" xlink:href=\"#m29bc145cfa\" y=\"79.980186\"/>\n     <use style=\"fill:#1f77b4;stroke:#ffffff;stroke-width:0.48;\" x=\"345.454261\" xlink:href=\"#m29bc145cfa\" y=\"66.77969\"/>\n     <use style=\"fill:#1f77b4;stroke:#ffffff;stroke-width:0.48;\" x=\"243.999716\" xlink:href=\"#m29bc145cfa\" y=\"118.389791\"/>\n     <use style=\"fill:#1f77b4;stroke:#ffffff;stroke-width:0.48;\" x=\"318.399716\" xlink:href=\"#m29bc145cfa\" y=\"56.942586\"/>\n     <use style=\"fill:#1f77b4;stroke:#ffffff;stroke-width:0.48;\" x=\"277.817898\" xlink:href=\"#m29bc145cfa\" y=\"118.120393\"/>\n     <use style=\"fill:#1f77b4;stroke:#ffffff;stroke-width:0.48;\" x=\"210.181534\" xlink:href=\"#m29bc145cfa\" y=\"167.518166\"/>\n     <use style=\"fill:#1f77b4;stroke:#ffffff;stroke-width:0.48;\" x=\"277.817898\" xlink:href=\"#m29bc145cfa\" y=\"128.651401\"/>\n     <use style=\"fill:#1f77b4;stroke:#ffffff;stroke-width:0.48;\" x=\"352.217898\" xlink:href=\"#m29bc145cfa\" y=\"79.416899\"/>\n     <use style=\"fill:#1f77b4;stroke:#ffffff;stroke-width:0.48;\" x=\"250.763352\" xlink:href=\"#m29bc145cfa\" y=\"131.59845\"/>\n     <use style=\"fill:#1f77b4;stroke:#ffffff;stroke-width:0.48;\" x=\"358.981534\" xlink:href=\"#m29bc145cfa\" y=\"59.440639\"/>\n     <use style=\"fill:#1f77b4;stroke:#ffffff;stroke-width:0.48;\" x=\"74.908807\" xlink:href=\"#m29bc145cfa\" y=\"231.291989\"/>\n     <use style=\"fill:#1f77b4;stroke:#ffffff;stroke-width:0.48;\" x=\"304.872443\" xlink:href=\"#m29bc145cfa\" y=\"81.825153\"/>\n     <use style=\"fill:#1f77b4;stroke:#ffffff;stroke-width:0.48;\" x=\"257.526989\" xlink:href=\"#m29bc145cfa\" y=\"125.10841\"/>\n     <use style=\"fill:#1f77b4;stroke:#ffffff;stroke-width:0.48;\" x=\"230.472443\" xlink:href=\"#m29bc145cfa\" y=\"117.344854\"/>\n     <use style=\"fill:#1f77b4;stroke:#ffffff;stroke-width:0.48;\" x=\"257.526989\" xlink:href=\"#m29bc145cfa\" y=\"129.451431\"/>\n     <use style=\"fill:#1f77b4;stroke:#ffffff;stroke-width:0.48;\" x=\"115.490625\" xlink:href=\"#m29bc145cfa\" y=\"165.591563\"/>\n     <use style=\"fill:#1f77b4;stroke:#ffffff;stroke-width:0.48;\" x=\"237.23608\" xlink:href=\"#m29bc145cfa\" y=\"127.622791\"/>\n     <use style=\"fill:#1f77b4;stroke:#ffffff;stroke-width:0.48;\" x=\"277.817898\" xlink:href=\"#m29bc145cfa\" y=\"128.292203\"/>\n     <use style=\"fill:#1f77b4;stroke:#ffffff;stroke-width:0.48;\" x=\"352.217898\" xlink:href=\"#m29bc145cfa\" y=\"86.037556\"/>\n     <use style=\"fill:#1f77b4;stroke:#ffffff;stroke-width:0.48;\" x=\"216.94517\" xlink:href=\"#m29bc145cfa\" y=\"142.153948\"/>\n     <use style=\"fill:#1f77b4;stroke:#ffffff;stroke-width:0.48;\" x=\"196.654261\" xlink:href=\"#m29bc145cfa\" y=\"165.526254\"/>\n     <use style=\"fill:#1f77b4;stroke:#ffffff;stroke-width:0.48;\" x=\"216.94517\" xlink:href=\"#m29bc145cfa\" y=\"137.696638\"/>\n     <use style=\"fill:#1f77b4;stroke:#ffffff;stroke-width:0.48;\" x=\"311.63608\" xlink:href=\"#m29bc145cfa\" y=\"83.78441\"/>\n     <use style=\"fill:#1f77b4;stroke:#ffffff;stroke-width:0.48;\" x=\"271.054261\" xlink:href=\"#m29bc145cfa\" y=\"116.642786\"/>\n     <use style=\"fill:#1f77b4;stroke:#ffffff;stroke-width:0.48;\" x=\"216.94517\" xlink:href=\"#m29bc145cfa\" y=\"164.326209\"/>\n     <use style=\"fill:#1f77b4;stroke:#ffffff;stroke-width:0.48;\" x=\"284.581534\" xlink:href=\"#m29bc145cfa\" y=\"132.659714\"/>\n     <use style=\"fill:#1f77b4;stroke:#ffffff;stroke-width:0.48;\" x=\"257.526989\" xlink:href=\"#m29bc145cfa\" y=\"132.202554\"/>\n     <use style=\"fill:#1f77b4;stroke:#ffffff;stroke-width:0.48;\" x=\"318.399716\" xlink:href=\"#m29bc145cfa\" y=\"75.35144\"/>\n     <use style=\"fill:#1f77b4;stroke:#ffffff;stroke-width:0.48;\" x=\"203.417898\" xlink:href=\"#m29bc145cfa\" y=\"154.040109\"/>\n     <use style=\"fill:#1f77b4;stroke:#ffffff;stroke-width:0.48;\" x=\"230.472443\" xlink:href=\"#m29bc145cfa\" y=\"162.587368\"/>\n     <use style=\"fill:#1f77b4;stroke:#ffffff;stroke-width:0.48;\" x=\"223.708807\" xlink:href=\"#m29bc145cfa\" y=\"142.055985\"/>\n     <use style=\"fill:#1f77b4;stroke:#ffffff;stroke-width:0.48;\" x=\"149.308807\" xlink:href=\"#m29bc145cfa\" y=\"182.318721\"/>\n     <use style=\"fill:#1f77b4;stroke:#ffffff;stroke-width:0.48;\" x=\"271.054261\" xlink:href=\"#m29bc145cfa\" y=\"131.222926\"/>\n     <use style=\"fill:#1f77b4;stroke:#ffffff;stroke-width:0.48;\" x=\"271.054261\" xlink:href=\"#m29bc145cfa\" y=\"115.712139\"/>\n     <use style=\"fill:#1f77b4;stroke:#ffffff;stroke-width:0.48;\" x=\"250.763352\" xlink:href=\"#m29bc145cfa\" y=\"127.71259\"/>\n     <use style=\"fill:#1f77b4;stroke:#ffffff;stroke-width:0.48;\" x=\"237.23608\" xlink:href=\"#m29bc145cfa\" y=\"157.109612\"/>\n    </g>\n   </g>\n   <g id=\"matplotlib.axis_1\">\n    <g id=\"xtick_1\">\n     <g id=\"line2d_1\">\n      <defs>\n       <path d=\"M 0 0 \nL 0 3.5 \n\" id=\"mf9ef34d6c5\" style=\"stroke:#000000;stroke-width:0.8;\"/>\n      </defs>\n      <g>\n       <use style=\"stroke:#000000;stroke-width:0.8;\" x=\"115.490625\" xlink:href=\"#mf9ef34d6c5\" y=\"241.175625\"/>\n      </g>\n     </g>\n     <g id=\"text_1\">\n      <!-- 1 -->\n      <g transform=\"translate(112.309375 255.774062)scale(0.1 -0.1)\">\n       <defs>\n        <path d=\"M 794 531 \nL 1825 531 \nL 1825 4091 \nL 703 3866 \nL 703 4441 \nL 1819 4666 \nL 2450 4666 \nL 2450 531 \nL 3481 531 \nL 3481 0 \nL 794 0 \nL 794 531 \nz\n\" id=\"DejaVuSans-31\" transform=\"scale(0.015625)\"/>\n       </defs>\n       <use xlink:href=\"#DejaVuSans-31\"/>\n      </g>\n     </g>\n    </g>\n    <g id=\"xtick_2\">\n     <g id=\"line2d_2\">\n      <g>\n       <use style=\"stroke:#000000;stroke-width:0.8;\" x=\"183.126989\" xlink:href=\"#mf9ef34d6c5\" y=\"241.175625\"/>\n      </g>\n     </g>\n     <g id=\"text_2\">\n      <!-- 2 -->\n      <g transform=\"translate(179.945739 255.774062)scale(0.1 -0.1)\">\n       <defs>\n        <path d=\"M 1228 531 \nL 3431 531 \nL 3431 0 \nL 469 0 \nL 469 531 \nQ 828 903 1448 1529 \nQ 2069 2156 2228 2338 \nQ 2531 2678 2651 2914 \nQ 2772 3150 2772 3378 \nQ 2772 3750 2511 3984 \nQ 2250 4219 1831 4219 \nQ 1534 4219 1204 4116 \nQ 875 4013 500 3803 \nL 500 4441 \nQ 881 4594 1212 4672 \nQ 1544 4750 1819 4750 \nQ 2544 4750 2975 4387 \nQ 3406 4025 3406 3419 \nQ 3406 3131 3298 2873 \nQ 3191 2616 2906 2266 \nQ 2828 2175 2409 1742 \nQ 1991 1309 1228 531 \nz\n\" id=\"DejaVuSans-32\" transform=\"scale(0.015625)\"/>\n       </defs>\n       <use xlink:href=\"#DejaVuSans-32\"/>\n      </g>\n     </g>\n    </g>\n    <g id=\"xtick_3\">\n     <g id=\"line2d_3\">\n      <g>\n       <use style=\"stroke:#000000;stroke-width:0.8;\" x=\"250.763352\" xlink:href=\"#mf9ef34d6c5\" y=\"241.175625\"/>\n      </g>\n     </g>\n     <g id=\"text_3\">\n      <!-- 3 -->\n      <g transform=\"translate(247.582102 255.774062)scale(0.1 -0.1)\">\n       <defs>\n        <path d=\"M 2597 2516 \nQ 3050 2419 3304 2112 \nQ 3559 1806 3559 1356 \nQ 3559 666 3084 287 \nQ 2609 -91 1734 -91 \nQ 1441 -91 1130 -33 \nQ 819 25 488 141 \nL 488 750 \nQ 750 597 1062 519 \nQ 1375 441 1716 441 \nQ 2309 441 2620 675 \nQ 2931 909 2931 1356 \nQ 2931 1769 2642 2001 \nQ 2353 2234 1838 2234 \nL 1294 2234 \nL 1294 2753 \nL 1863 2753 \nQ 2328 2753 2575 2939 \nQ 2822 3125 2822 3475 \nQ 2822 3834 2567 4026 \nQ 2313 4219 1838 4219 \nQ 1578 4219 1281 4162 \nQ 984 4106 628 3988 \nL 628 4550 \nQ 988 4650 1302 4700 \nQ 1616 4750 1894 4750 \nQ 2613 4750 3031 4423 \nQ 3450 4097 3450 3541 \nQ 3450 3153 3228 2886 \nQ 3006 2619 2597 2516 \nz\n\" id=\"DejaVuSans-33\" transform=\"scale(0.015625)\"/>\n       </defs>\n       <use xlink:href=\"#DejaVuSans-33\"/>\n      </g>\n     </g>\n    </g>\n    <g id=\"xtick_4\">\n     <g id=\"line2d_4\">\n      <g>\n       <use style=\"stroke:#000000;stroke-width:0.8;\" x=\"318.399716\" xlink:href=\"#mf9ef34d6c5\" y=\"241.175625\"/>\n      </g>\n     </g>\n     <g id=\"text_4\">\n      <!-- 4 -->\n      <g transform=\"translate(315.218466 255.774062)scale(0.1 -0.1)\">\n       <defs>\n        <path d=\"M 2419 4116 \nL 825 1625 \nL 2419 1625 \nL 2419 4116 \nz\nM 2253 4666 \nL 3047 4666 \nL 3047 1625 \nL 3713 1625 \nL 3713 1100 \nL 3047 1100 \nL 3047 0 \nL 2419 0 \nL 2419 1100 \nL 313 1100 \nL 313 1709 \nL 2253 4666 \nz\n\" id=\"DejaVuSans-34\" transform=\"scale(0.015625)\"/>\n       </defs>\n       <use xlink:href=\"#DejaVuSans-34\"/>\n      </g>\n     </g>\n    </g>\n    <g id=\"xtick_5\">\n     <g id=\"line2d_5\">\n      <g>\n       <use style=\"stroke:#000000;stroke-width:0.8;\" x=\"386.03608\" xlink:href=\"#mf9ef34d6c5\" y=\"241.175625\"/>\n      </g>\n     </g>\n     <g id=\"text_5\">\n      <!-- 5 -->\n      <g transform=\"translate(382.85483 255.774062)scale(0.1 -0.1)\">\n       <defs>\n        <path d=\"M 691 4666 \nL 3169 4666 \nL 3169 4134 \nL 1269 4134 \nL 1269 2991 \nQ 1406 3038 1543 3061 \nQ 1681 3084 1819 3084 \nQ 2600 3084 3056 2656 \nQ 3513 2228 3513 1497 \nQ 3513 744 3044 326 \nQ 2575 -91 1722 -91 \nQ 1428 -91 1123 -41 \nQ 819 9 494 109 \nL 494 744 \nQ 775 591 1075 516 \nQ 1375 441 1709 441 \nQ 2250 441 2565 725 \nQ 2881 1009 2881 1497 \nQ 2881 1984 2565 2268 \nQ 2250 2553 1709 2553 \nQ 1456 2553 1204 2497 \nQ 953 2441 691 2322 \nL 691 4666 \nz\n\" id=\"DejaVuSans-35\" transform=\"scale(0.015625)\"/>\n       </defs>\n       <use xlink:href=\"#DejaVuSans-35\"/>\n      </g>\n     </g>\n    </g>\n    <g id=\"text_6\">\n     <!-- Utbildning -->\n     <g transform=\"translate(201.44375 269.452187)scale(0.1 -0.1)\">\n      <defs>\n       <path d=\"M 556 4666 \nL 1191 4666 \nL 1191 1831 \nQ 1191 1081 1462 751 \nQ 1734 422 2344 422 \nQ 2950 422 3222 751 \nQ 3494 1081 3494 1831 \nL 3494 4666 \nL 4128 4666 \nL 4128 1753 \nQ 4128 841 3676 375 \nQ 3225 -91 2344 -91 \nQ 1459 -91 1007 375 \nQ 556 841 556 1753 \nL 556 4666 \nz\n\" id=\"DejaVuSans-55\" transform=\"scale(0.015625)\"/>\n       <path d=\"M 1172 4494 \nL 1172 3500 \nL 2356 3500 \nL 2356 3053 \nL 1172 3053 \nL 1172 1153 \nQ 1172 725 1289 603 \nQ 1406 481 1766 481 \nL 2356 481 \nL 2356 0 \nL 1766 0 \nQ 1100 0 847 248 \nQ 594 497 594 1153 \nL 594 3053 \nL 172 3053 \nL 172 3500 \nL 594 3500 \nL 594 4494 \nL 1172 4494 \nz\n\" id=\"DejaVuSans-74\" transform=\"scale(0.015625)\"/>\n       <path d=\"M 3116 1747 \nQ 3116 2381 2855 2742 \nQ 2594 3103 2138 3103 \nQ 1681 3103 1420 2742 \nQ 1159 2381 1159 1747 \nQ 1159 1113 1420 752 \nQ 1681 391 2138 391 \nQ 2594 391 2855 752 \nQ 3116 1113 3116 1747 \nz\nM 1159 2969 \nQ 1341 3281 1617 3432 \nQ 1894 3584 2278 3584 \nQ 2916 3584 3314 3078 \nQ 3713 2572 3713 1747 \nQ 3713 922 3314 415 \nQ 2916 -91 2278 -91 \nQ 1894 -91 1617 61 \nQ 1341 213 1159 525 \nL 1159 0 \nL 581 0 \nL 581 4863 \nL 1159 4863 \nL 1159 2969 \nz\n\" id=\"DejaVuSans-62\" transform=\"scale(0.015625)\"/>\n       <path d=\"M 603 3500 \nL 1178 3500 \nL 1178 0 \nL 603 0 \nL 603 3500 \nz\nM 603 4863 \nL 1178 4863 \nL 1178 4134 \nL 603 4134 \nL 603 4863 \nz\n\" id=\"DejaVuSans-69\" transform=\"scale(0.015625)\"/>\n       <path d=\"M 603 4863 \nL 1178 4863 \nL 1178 0 \nL 603 0 \nL 603 4863 \nz\n\" id=\"DejaVuSans-6c\" transform=\"scale(0.015625)\"/>\n       <path d=\"M 2906 2969 \nL 2906 4863 \nL 3481 4863 \nL 3481 0 \nL 2906 0 \nL 2906 525 \nQ 2725 213 2448 61 \nQ 2172 -91 1784 -91 \nQ 1150 -91 751 415 \nQ 353 922 353 1747 \nQ 353 2572 751 3078 \nQ 1150 3584 1784 3584 \nQ 2172 3584 2448 3432 \nQ 2725 3281 2906 2969 \nz\nM 947 1747 \nQ 947 1113 1208 752 \nQ 1469 391 1925 391 \nQ 2381 391 2643 752 \nQ 2906 1113 2906 1747 \nQ 2906 2381 2643 2742 \nQ 2381 3103 1925 3103 \nQ 1469 3103 1208 2742 \nQ 947 2381 947 1747 \nz\n\" id=\"DejaVuSans-64\" transform=\"scale(0.015625)\"/>\n       <path d=\"M 3513 2113 \nL 3513 0 \nL 2938 0 \nL 2938 2094 \nQ 2938 2591 2744 2837 \nQ 2550 3084 2163 3084 \nQ 1697 3084 1428 2787 \nQ 1159 2491 1159 1978 \nL 1159 0 \nL 581 0 \nL 581 3500 \nL 1159 3500 \nL 1159 2956 \nQ 1366 3272 1645 3428 \nQ 1925 3584 2291 3584 \nQ 2894 3584 3203 3211 \nQ 3513 2838 3513 2113 \nz\n\" id=\"DejaVuSans-6e\" transform=\"scale(0.015625)\"/>\n       <path d=\"M 2906 1791 \nQ 2906 2416 2648 2759 \nQ 2391 3103 1925 3103 \nQ 1463 3103 1205 2759 \nQ 947 2416 947 1791 \nQ 947 1169 1205 825 \nQ 1463 481 1925 481 \nQ 2391 481 2648 825 \nQ 2906 1169 2906 1791 \nz\nM 3481 434 \nQ 3481 -459 3084 -895 \nQ 2688 -1331 1869 -1331 \nQ 1566 -1331 1297 -1286 \nQ 1028 -1241 775 -1147 \nL 775 -588 \nQ 1028 -725 1275 -790 \nQ 1522 -856 1778 -856 \nQ 2344 -856 2625 -561 \nQ 2906 -266 2906 331 \nL 2906 616 \nQ 2728 306 2450 153 \nQ 2172 0 1784 0 \nQ 1141 0 747 490 \nQ 353 981 353 1791 \nQ 353 2603 747 3093 \nQ 1141 3584 1784 3584 \nQ 2172 3584 2450 3431 \nQ 2728 3278 2906 2969 \nL 2906 3500 \nL 3481 3500 \nL 3481 434 \nz\n\" id=\"DejaVuSans-67\" transform=\"scale(0.015625)\"/>\n      </defs>\n      <use xlink:href=\"#DejaVuSans-55\"/>\n      <use x=\"73.193359\" xlink:href=\"#DejaVuSans-74\"/>\n      <use x=\"112.402344\" xlink:href=\"#DejaVuSans-62\"/>\n      <use x=\"175.878906\" xlink:href=\"#DejaVuSans-69\"/>\n      <use x=\"203.662109\" xlink:href=\"#DejaVuSans-6c\"/>\n      <use x=\"231.445312\" xlink:href=\"#DejaVuSans-64\"/>\n      <use x=\"294.921875\" xlink:href=\"#DejaVuSans-6e\"/>\n      <use x=\"358.300781\" xlink:href=\"#DejaVuSans-69\"/>\n      <use x=\"386.083984\" xlink:href=\"#DejaVuSans-6e\"/>\n      <use x=\"449.462891\" xlink:href=\"#DejaVuSans-67\"/>\n     </g>\n    </g>\n   </g>\n   <g id=\"matplotlib.axis_2\">\n    <g id=\"ytick_1\">\n     <g id=\"line2d_6\">\n      <defs>\n       <path d=\"M 0 0 \nL -3.5 0 \n\" id=\"m3ee958e88a\" style=\"stroke:#000000;stroke-width:0.8;\"/>\n      </defs>\n      <g>\n       <use style=\"stroke:#000000;stroke-width:0.8;\" x=\"59.690625\" xlink:href=\"#m3ee958e88a\" y=\"210.507535\"/>\n      </g>\n     </g>\n     <g id=\"text_7\">\n      <!-- 25000 -->\n      <g transform=\"translate(20.878125 214.306754)scale(0.1 -0.1)\">\n       <defs>\n        <path d=\"M 2034 4250 \nQ 1547 4250 1301 3770 \nQ 1056 3291 1056 2328 \nQ 1056 1369 1301 889 \nQ 1547 409 2034 409 \nQ 2525 409 2770 889 \nQ 3016 1369 3016 2328 \nQ 3016 3291 2770 3770 \nQ 2525 4250 2034 4250 \nz\nM 2034 4750 \nQ 2819 4750 3233 4129 \nQ 3647 3509 3647 2328 \nQ 3647 1150 3233 529 \nQ 2819 -91 2034 -91 \nQ 1250 -91 836 529 \nQ 422 1150 422 2328 \nQ 422 3509 836 4129 \nQ 1250 4750 2034 4750 \nz\n\" id=\"DejaVuSans-30\" transform=\"scale(0.015625)\"/>\n       </defs>\n       <use xlink:href=\"#DejaVuSans-32\"/>\n       <use x=\"63.623047\" xlink:href=\"#DejaVuSans-35\"/>\n       <use x=\"127.246094\" xlink:href=\"#DejaVuSans-30\"/>\n       <use x=\"190.869141\" xlink:href=\"#DejaVuSans-30\"/>\n       <use x=\"254.492188\" xlink:href=\"#DejaVuSans-30\"/>\n      </g>\n     </g>\n    </g>\n    <g id=\"ytick_2\">\n     <g id=\"line2d_7\">\n      <g>\n       <use style=\"stroke:#000000;stroke-width:0.8;\" x=\"59.690625\" xlink:href=\"#m3ee958e88a\" y=\"169.689676\"/>\n      </g>\n     </g>\n     <g id=\"text_8\">\n      <!-- 30000 -->\n      <g transform=\"translate(20.878125 173.488895)scale(0.1 -0.1)\">\n       <use xlink:href=\"#DejaVuSans-33\"/>\n       <use x=\"63.623047\" xlink:href=\"#DejaVuSans-30\"/>\n       <use x=\"127.246094\" xlink:href=\"#DejaVuSans-30\"/>\n       <use x=\"190.869141\" xlink:href=\"#DejaVuSans-30\"/>\n       <use x=\"254.492188\" xlink:href=\"#DejaVuSans-30\"/>\n      </g>\n     </g>\n    </g>\n    <g id=\"ytick_3\">\n     <g id=\"line2d_8\">\n      <g>\n       <use style=\"stroke:#000000;stroke-width:0.8;\" x=\"59.690625\" xlink:href=\"#m3ee958e88a\" y=\"128.871817\"/>\n      </g>\n     </g>\n     <g id=\"text_9\">\n      <!-- 35000 -->\n      <g transform=\"translate(20.878125 132.671036)scale(0.1 -0.1)\">\n       <use xlink:href=\"#DejaVuSans-33\"/>\n       <use x=\"63.623047\" xlink:href=\"#DejaVuSans-35\"/>\n       <use x=\"127.246094\" xlink:href=\"#DejaVuSans-30\"/>\n       <use x=\"190.869141\" xlink:href=\"#DejaVuSans-30\"/>\n       <use x=\"254.492188\" xlink:href=\"#DejaVuSans-30\"/>\n      </g>\n     </g>\n    </g>\n    <g id=\"ytick_4\">\n     <g id=\"line2d_9\">\n      <g>\n       <use style=\"stroke:#000000;stroke-width:0.8;\" x=\"59.690625\" xlink:href=\"#m3ee958e88a\" y=\"88.053958\"/>\n      </g>\n     </g>\n     <g id=\"text_10\">\n      <!-- 40000 -->\n      <g transform=\"translate(20.878125 91.853177)scale(0.1 -0.1)\">\n       <use xlink:href=\"#DejaVuSans-34\"/>\n       <use x=\"63.623047\" xlink:href=\"#DejaVuSans-30\"/>\n       <use x=\"127.246094\" xlink:href=\"#DejaVuSans-30\"/>\n       <use x=\"190.869141\" xlink:href=\"#DejaVuSans-30\"/>\n       <use x=\"254.492188\" xlink:href=\"#DejaVuSans-30\"/>\n      </g>\n     </g>\n    </g>\n    <g id=\"ytick_5\">\n     <g id=\"line2d_10\">\n      <g>\n       <use style=\"stroke:#000000;stroke-width:0.8;\" x=\"59.690625\" xlink:href=\"#m3ee958e88a\" y=\"47.236099\"/>\n      </g>\n     </g>\n     <g id=\"text_11\">\n      <!-- 45000 -->\n      <g transform=\"translate(20.878125 51.035318)scale(0.1 -0.1)\">\n       <use xlink:href=\"#DejaVuSans-34\"/>\n       <use x=\"63.623047\" xlink:href=\"#DejaVuSans-35\"/>\n       <use x=\"127.246094\" xlink:href=\"#DejaVuSans-30\"/>\n       <use x=\"190.869141\" xlink:href=\"#DejaVuSans-30\"/>\n       <use x=\"254.492188\" xlink:href=\"#DejaVuSans-30\"/>\n      </g>\n     </g>\n    </g>\n    <g id=\"text_12\">\n     <!-- Lön -->\n     <g transform=\"translate(14.798438 141.382187)rotate(-90)scale(0.1 -0.1)\">\n      <defs>\n       <path d=\"M 628 4666 \nL 1259 4666 \nL 1259 531 \nL 3531 531 \nL 3531 0 \nL 628 0 \nL 628 4666 \nz\n\" id=\"DejaVuSans-4c\" transform=\"scale(0.015625)\"/>\n       <path d=\"M 1959 3097 \nQ 1497 3097 1228 2736 \nQ 959 2375 959 1747 \nQ 959 1119 1226 758 \nQ 1494 397 1959 397 \nQ 2419 397 2687 759 \nQ 2956 1122 2956 1747 \nQ 2956 2369 2687 2733 \nQ 2419 3097 1959 3097 \nz\nM 1959 3584 \nQ 2709 3584 3137 3096 \nQ 3566 2609 3566 1747 \nQ 3566 888 3137 398 \nQ 2709 -91 1959 -91 \nQ 1206 -91 779 398 \nQ 353 888 353 1747 \nQ 353 2609 779 3096 \nQ 1206 3584 1959 3584 \nz\nM 2254 4850 \nL 2888 4850 \nL 2888 4219 \nL 2254 4219 \nL 2254 4850 \nz\nM 1032 4850 \nL 1666 4850 \nL 1666 4219 \nL 1032 4219 \nL 1032 4850 \nz\n\" id=\"DejaVuSans-f6\" transform=\"scale(0.015625)\"/>\n      </defs>\n      <use xlink:href=\"#DejaVuSans-4c\"/>\n      <use x=\"53.962891\" xlink:href=\"#DejaVuSans-f6\"/>\n      <use x=\"115.144531\" xlink:href=\"#DejaVuSans-6e\"/>\n     </g>\n    </g>\n   </g>\n   <g id=\"line2d_11\">\n    <path clip-path=\"url(#p5caefe02a9)\" d=\"M 74.908807 228.669218 \nL 115.490625 205.630293 \nL 122.254261 201.790472 \nL 129.017898 197.950651 \nL 135.781534 194.110831 \nL 149.308807 186.431189 \nL 156.072443 182.591368 \nL 162.83608 178.751547 \nL 169.599716 174.911726 \nL 176.363352 171.071905 \nL 183.126989 167.232085 \nL 189.890625 163.392264 \nL 196.654261 159.552443 \nL 203.417898 155.712622 \nL 210.181534 151.872801 \nL 216.94517 148.03298 \nL 223.708807 144.193159 \nL 230.472443 140.353339 \nL 237.23608 136.513518 \nL 243.999716 132.673697 \nL 250.763352 128.833876 \nL 257.526989 124.994055 \nL 264.290625 121.154234 \nL 271.054261 117.314413 \nL 277.817898 113.474592 \nL 284.581534 109.634772 \nL 291.34517 105.794951 \nL 298.108807 101.95513 \nL 304.872443 98.115309 \nL 311.63608 94.275488 \nL 318.399716 90.435667 \nL 325.163352 86.595846 \nL 345.454261 75.076384 \nL 352.217898 71.236563 \nL 358.981534 67.396742 \nL 379.272443 55.87728 \n\" style=\"fill:none;stroke:#ff0000;stroke-linecap:square;stroke-width:1.5;\"/>\n   </g>\n   <g id=\"patch_3\">\n    <path d=\"M 59.690625 241.175625 \nL 59.690625 23.735625 \n\" style=\"fill:none;stroke:#000000;stroke-linecap:square;stroke-linejoin:miter;stroke-width:0.8;\"/>\n   </g>\n   <g id=\"patch_4\">\n    <path d=\"M 394.490625 241.175625 \nL 394.490625 23.735625 \n\" style=\"fill:none;stroke:#000000;stroke-linecap:square;stroke-linejoin:miter;stroke-width:0.8;\"/>\n   </g>\n   <g id=\"patch_5\">\n    <path d=\"M 59.690625 241.175625 \nL 394.490625 241.175625 \n\" style=\"fill:none;stroke:#000000;stroke-linecap:square;stroke-linejoin:miter;stroke-width:0.8;\"/>\n   </g>\n   <g id=\"patch_6\">\n    <path d=\"M 59.690625 23.735625 \nL 394.490625 23.735625 \n\" style=\"fill:none;stroke:#000000;stroke-linecap:square;stroke-linejoin:miter;stroke-width:0.8;\"/>\n   </g>\n   <g id=\"text_13\">\n    <!-- Linjär regression på utbildning och lön -->\n    <g transform=\"translate(112.09875 17.735625)scale(0.12 -0.12)\">\n     <defs>\n      <path d=\"M 603 3500 \nL 1178 3500 \nL 1178 -63 \nQ 1178 -731 923 -1031 \nQ 669 -1331 103 -1331 \nL -116 -1331 \nL -116 -844 \nL 38 -844 \nQ 366 -844 484 -692 \nQ 603 -541 603 -63 \nL 603 3500 \nz\nM 603 4863 \nL 1178 4863 \nL 1178 4134 \nL 603 4134 \nL 603 4863 \nz\n\" id=\"DejaVuSans-6a\" transform=\"scale(0.015625)\"/>\n      <path d=\"M 2194 1759 \nQ 1497 1759 1228 1600 \nQ 959 1441 959 1056 \nQ 959 750 1161 570 \nQ 1363 391 1709 391 \nQ 2188 391 2477 730 \nQ 2766 1069 2766 1631 \nL 2766 1759 \nL 2194 1759 \nz\nM 3341 1997 \nL 3341 0 \nL 2766 0 \nL 2766 531 \nQ 2569 213 2275 61 \nQ 1981 -91 1556 -91 \nQ 1019 -91 701 211 \nQ 384 513 384 1019 \nQ 384 1609 779 1909 \nQ 1175 2209 1959 2209 \nL 2766 2209 \nL 2766 2266 \nQ 2766 2663 2505 2880 \nQ 2244 3097 1772 3097 \nQ 1472 3097 1187 3025 \nQ 903 2953 641 2809 \nL 641 3341 \nQ 956 3463 1253 3523 \nQ 1550 3584 1831 3584 \nQ 2591 3584 2966 3190 \nQ 3341 2797 3341 1997 \nz\nM 2150 4850 \nL 2784 4850 \nL 2784 4219 \nL 2150 4219 \nL 2150 4850 \nz\nM 928 4850 \nL 1562 4850 \nL 1562 4219 \nL 928 4219 \nL 928 4850 \nz\n\" id=\"DejaVuSans-e4\" transform=\"scale(0.015625)\"/>\n      <path d=\"M 2631 2963 \nQ 2534 3019 2420 3045 \nQ 2306 3072 2169 3072 \nQ 1681 3072 1420 2755 \nQ 1159 2438 1159 1844 \nL 1159 0 \nL 581 0 \nL 581 3500 \nL 1159 3500 \nL 1159 2956 \nQ 1341 3275 1631 3429 \nQ 1922 3584 2338 3584 \nQ 2397 3584 2469 3576 \nQ 2541 3569 2628 3553 \nL 2631 2963 \nz\n\" id=\"DejaVuSans-72\" transform=\"scale(0.015625)\"/>\n      <path id=\"DejaVuSans-20\" transform=\"scale(0.015625)\"/>\n      <path d=\"M 3597 1894 \nL 3597 1613 \nL 953 1613 \nQ 991 1019 1311 708 \nQ 1631 397 2203 397 \nQ 2534 397 2845 478 \nQ 3156 559 3463 722 \nL 3463 178 \nQ 3153 47 2828 -22 \nQ 2503 -91 2169 -91 \nQ 1331 -91 842 396 \nQ 353 884 353 1716 \nQ 353 2575 817 3079 \nQ 1281 3584 2069 3584 \nQ 2775 3584 3186 3129 \nQ 3597 2675 3597 1894 \nz\nM 3022 2063 \nQ 3016 2534 2758 2815 \nQ 2500 3097 2075 3097 \nQ 1594 3097 1305 2825 \nQ 1016 2553 972 2059 \nL 3022 2063 \nz\n\" id=\"DejaVuSans-65\" transform=\"scale(0.015625)\"/>\n      <path d=\"M 2834 3397 \nL 2834 2853 \nQ 2591 2978 2328 3040 \nQ 2066 3103 1784 3103 \nQ 1356 3103 1142 2972 \nQ 928 2841 928 2578 \nQ 928 2378 1081 2264 \nQ 1234 2150 1697 2047 \nL 1894 2003 \nQ 2506 1872 2764 1633 \nQ 3022 1394 3022 966 \nQ 3022 478 2636 193 \nQ 2250 -91 1575 -91 \nQ 1294 -91 989 -36 \nQ 684 19 347 128 \nL 347 722 \nQ 666 556 975 473 \nQ 1284 391 1588 391 \nQ 1994 391 2212 530 \nQ 2431 669 2431 922 \nQ 2431 1156 2273 1281 \nQ 2116 1406 1581 1522 \nL 1381 1569 \nQ 847 1681 609 1914 \nQ 372 2147 372 2553 \nQ 372 3047 722 3315 \nQ 1072 3584 1716 3584 \nQ 2034 3584 2315 3537 \nQ 2597 3491 2834 3397 \nz\n\" id=\"DejaVuSans-73\" transform=\"scale(0.015625)\"/>\n      <path d=\"M 1959 3097 \nQ 1497 3097 1228 2736 \nQ 959 2375 959 1747 \nQ 959 1119 1226 758 \nQ 1494 397 1959 397 \nQ 2419 397 2687 759 \nQ 2956 1122 2956 1747 \nQ 2956 2369 2687 2733 \nQ 2419 3097 1959 3097 \nz\nM 1959 3584 \nQ 2709 3584 3137 3096 \nQ 3566 2609 3566 1747 \nQ 3566 888 3137 398 \nQ 2709 -91 1959 -91 \nQ 1206 -91 779 398 \nQ 353 888 353 1747 \nQ 353 2609 779 3096 \nQ 1206 3584 1959 3584 \nz\n\" id=\"DejaVuSans-6f\" transform=\"scale(0.015625)\"/>\n      <path d=\"M 1159 525 \nL 1159 -1331 \nL 581 -1331 \nL 581 3500 \nL 1159 3500 \nL 1159 2969 \nQ 1341 3281 1617 3432 \nQ 1894 3584 2278 3584 \nQ 2916 3584 3314 3078 \nQ 3713 2572 3713 1747 \nQ 3713 922 3314 415 \nQ 2916 -91 2278 -91 \nQ 1894 -91 1617 61 \nQ 1341 213 1159 525 \nz\nM 3116 1747 \nQ 3116 2381 2855 2742 \nQ 2594 3103 2138 3103 \nQ 1681 3103 1420 2742 \nQ 1159 2381 1159 1747 \nQ 1159 1113 1420 752 \nQ 1681 391 2138 391 \nQ 2594 391 2855 752 \nQ 3116 1113 3116 1747 \nz\n\" id=\"DejaVuSans-70\" transform=\"scale(0.015625)\"/>\n      <path d=\"M 2194 1759 \nQ 1497 1759 1228 1600 \nQ 959 1441 959 1056 \nQ 959 750 1161 570 \nQ 1363 391 1709 391 \nQ 2188 391 2477 730 \nQ 2766 1069 2766 1631 \nL 2766 1759 \nL 2194 1759 \nz\nM 3341 1997 \nL 3341 0 \nL 2766 0 \nL 2766 531 \nQ 2569 213 2275 61 \nQ 1981 -91 1556 -91 \nQ 1019 -91 701 211 \nQ 384 513 384 1019 \nQ 384 1609 779 1909 \nQ 1175 2209 1959 2209 \nL 2766 2209 \nL 2766 2266 \nQ 2766 2663 2505 2880 \nQ 2244 3097 1772 3097 \nQ 1472 3097 1187 3025 \nQ 903 2953 641 2809 \nL 641 3341 \nQ 956 3463 1253 3523 \nQ 1550 3584 1831 3584 \nQ 2591 3584 2966 3190 \nQ 3341 2797 3341 1997 \nz\nM 2331 4763 \nQ 2331 4959 2193 5096 \nQ 2056 5234 1856 5234 \nQ 1653 5234 1517 5098 \nQ 1381 4963 1381 4763 \nQ 1381 4559 1517 4423 \nQ 1653 4288 1856 4288 \nQ 2056 4288 2193 4425 \nQ 2331 4563 2331 4763 \nz\nM 2712 4763 \nQ 2712 4403 2463 4153 \nQ 2215 3903 1856 3903 \nQ 1497 3903 1248 4153 \nQ 1000 4403 1000 4763 \nQ 1000 5122 1248 5370 \nQ 1497 5619 1856 5619 \nQ 2215 5619 2463 5370 \nQ 2712 5122 2712 4763 \nz\n\" id=\"DejaVuSans-e5\" transform=\"scale(0.015625)\"/>\n      <path d=\"M 544 1381 \nL 544 3500 \nL 1119 3500 \nL 1119 1403 \nQ 1119 906 1312 657 \nQ 1506 409 1894 409 \nQ 2359 409 2629 706 \nQ 2900 1003 2900 1516 \nL 2900 3500 \nL 3475 3500 \nL 3475 0 \nL 2900 0 \nL 2900 538 \nQ 2691 219 2414 64 \nQ 2138 -91 1772 -91 \nQ 1169 -91 856 284 \nQ 544 659 544 1381 \nz\nM 1991 3584 \nL 1991 3584 \nz\n\" id=\"DejaVuSans-75\" transform=\"scale(0.015625)\"/>\n      <path d=\"M 3122 3366 \nL 3122 2828 \nQ 2878 2963 2633 3030 \nQ 2388 3097 2138 3097 \nQ 1578 3097 1268 2742 \nQ 959 2388 959 1747 \nQ 959 1106 1268 751 \nQ 1578 397 2138 397 \nQ 2388 397 2633 464 \nQ 2878 531 3122 666 \nL 3122 134 \nQ 2881 22 2623 -34 \nQ 2366 -91 2075 -91 \nQ 1284 -91 818 406 \nQ 353 903 353 1747 \nQ 353 2603 823 3093 \nQ 1294 3584 2113 3584 \nQ 2378 3584 2631 3529 \nQ 2884 3475 3122 3366 \nz\n\" id=\"DejaVuSans-63\" transform=\"scale(0.015625)\"/>\n      <path d=\"M 3513 2113 \nL 3513 0 \nL 2938 0 \nL 2938 2094 \nQ 2938 2591 2744 2837 \nQ 2550 3084 2163 3084 \nQ 1697 3084 1428 2787 \nQ 1159 2491 1159 1978 \nL 1159 0 \nL 581 0 \nL 581 4863 \nL 1159 4863 \nL 1159 2956 \nQ 1366 3272 1645 3428 \nQ 1925 3584 2291 3584 \nQ 2894 3584 3203 3211 \nQ 3513 2838 3513 2113 \nz\n\" id=\"DejaVuSans-68\" transform=\"scale(0.015625)\"/>\n     </defs>\n     <use xlink:href=\"#DejaVuSans-4c\"/>\n     <use x=\"55.712891\" xlink:href=\"#DejaVuSans-69\"/>\n     <use x=\"83.496094\" xlink:href=\"#DejaVuSans-6e\"/>\n     <use x=\"146.875\" xlink:href=\"#DejaVuSans-6a\"/>\n     <use x=\"174.658203\" xlink:href=\"#DejaVuSans-e4\"/>\n     <use x=\"235.9375\" xlink:href=\"#DejaVuSans-72\"/>\n     <use x=\"277.050781\" xlink:href=\"#DejaVuSans-20\"/>\n     <use x=\"308.837891\" xlink:href=\"#DejaVuSans-72\"/>\n     <use x=\"347.701172\" xlink:href=\"#DejaVuSans-65\"/>\n     <use x=\"409.224609\" xlink:href=\"#DejaVuSans-67\"/>\n     <use x=\"472.701172\" xlink:href=\"#DejaVuSans-72\"/>\n     <use x=\"511.564453\" xlink:href=\"#DejaVuSans-65\"/>\n     <use x=\"573.087891\" xlink:href=\"#DejaVuSans-73\"/>\n     <use x=\"625.1875\" xlink:href=\"#DejaVuSans-73\"/>\n     <use x=\"677.287109\" xlink:href=\"#DejaVuSans-69\"/>\n     <use x=\"705.070312\" xlink:href=\"#DejaVuSans-6f\"/>\n     <use x=\"766.251953\" xlink:href=\"#DejaVuSans-6e\"/>\n     <use x=\"829.630859\" xlink:href=\"#DejaVuSans-20\"/>\n     <use x=\"861.417969\" xlink:href=\"#DejaVuSans-70\"/>\n     <use x=\"924.894531\" xlink:href=\"#DejaVuSans-e5\"/>\n     <use x=\"986.173828\" xlink:href=\"#DejaVuSans-20\"/>\n     <use x=\"1017.960938\" xlink:href=\"#DejaVuSans-75\"/>\n     <use x=\"1081.339844\" xlink:href=\"#DejaVuSans-74\"/>\n     <use x=\"1120.548828\" xlink:href=\"#DejaVuSans-62\"/>\n     <use x=\"1184.025391\" xlink:href=\"#DejaVuSans-69\"/>\n     <use x=\"1211.808594\" xlink:href=\"#DejaVuSans-6c\"/>\n     <use x=\"1239.591797\" xlink:href=\"#DejaVuSans-64\"/>\n     <use x=\"1303.068359\" xlink:href=\"#DejaVuSans-6e\"/>\n     <use x=\"1366.447266\" xlink:href=\"#DejaVuSans-69\"/>\n     <use x=\"1394.230469\" xlink:href=\"#DejaVuSans-6e\"/>\n     <use x=\"1457.609375\" xlink:href=\"#DejaVuSans-67\"/>\n     <use x=\"1521.085938\" xlink:href=\"#DejaVuSans-20\"/>\n     <use x=\"1552.873047\" xlink:href=\"#DejaVuSans-6f\"/>\n     <use x=\"1614.054688\" xlink:href=\"#DejaVuSans-63\"/>\n     <use x=\"1669.035156\" xlink:href=\"#DejaVuSans-68\"/>\n     <use x=\"1732.414062\" xlink:href=\"#DejaVuSans-20\"/>\n     <use x=\"1764.201172\" xlink:href=\"#DejaVuSans-6c\"/>\n     <use x=\"1791.984375\" xlink:href=\"#DejaVuSans-f6\"/>\n     <use x=\"1853.166016\" xlink:href=\"#DejaVuSans-6e\"/>\n    </g>\n   </g>\n  </g>\n </g>\n <defs>\n  <clipPath id=\"p5caefe02a9\">\n   <rect height=\"217.44\" width=\"334.8\" x=\"59.690625\" y=\"23.735625\"/>\n  </clipPath>\n </defs>\n</svg>\n",
      "image/png": "[encoded data removed]"
     },
     "metadata": {
      "needs_background": "light"
     }
    }
   ],
   "metadata": {}
  }
 ],
 "metadata": {
  "orig_nbformat": 4,
  "language_info": {
   "name": "python",
   "version": "3.9.6",
   "mimetype": "text/x-python",
   "codemirror_mode": {
    "name": "ipython",
    "version": 3
   },
   "pygments_lexer": "ipython3",
   "nbconvert_exporter": "python",
   "file_extension": ".py"
  },
  "kernelspec": {
   "name": "python3",
   "display_name": "Python 3.9.6 64-bit ('Databehandling-Anna-Maria-Sj-lund-ciSw9i2p': pipenv)"
  },
  "interpreter": {
   "hash": "448c7bdc29fb3557f07b8a1afe02d766aa28053d638d3b433bafa66a6229fd5d"
  }
 },
 "nbformat": 4,
 "nbformat_minor": 2
}