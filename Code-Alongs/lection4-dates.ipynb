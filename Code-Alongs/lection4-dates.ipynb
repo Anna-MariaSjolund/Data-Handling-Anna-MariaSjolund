{
 "cells": [
  {
   "cell_type": "markdown",
   "source": [
    "# Datetime"
   ],
   "metadata": {}
  },
  {
   "cell_type": "code",
   "execution_count": 7,
   "source": [
    "from datetime import datetime\n",
    "\n",
    "now = datetime.now() #year, month, day, hour, minute, second, microsecond\n",
    "print(f\"Todays date is {now.date()}\") \n",
    "print(f\"Todays day is {now.strftime('%A, the week is %W')}\") #strftime makes datetime obj -> str\n",
    "\n",
    "now"
   ],
   "outputs": [
    {
     "output_type": "stream",
     "name": "stdout",
     "text": [
      "Todays date is 2021-11-01\n",
      "Todays day is Monday, the week is 44\n"
     ]
    },
    {
     "output_type": "execute_result",
     "data": {
      "text/plain": [
       "datetime.datetime(2021, 11, 1, 9, 27, 57, 172686)"
      ]
     },
     "metadata": {},
     "execution_count": 7
    }
   ],
   "metadata": {}
  },
  {
   "cell_type": "code",
   "execution_count": 10,
   "source": [
    "graduation_date = \"19/5-2023\" #It is a string, but we want to change it to something which we can calculate \n",
    "graduation_date = datetime.strptime(graduation_date, \"%d/%m-%Y\") #strptime makes str -> datetime obj (second argument is the format that we have the date in)\n",
    "print(graduation_date) #We get it as a __str__\n",
    "graduation_date #We now have a datetime object, we get it as a __repr__"
   ],
   "outputs": [
    {
     "output_type": "stream",
     "name": "stdout",
     "text": [
      "2023-05-19 00:00:00\n"
     ]
    },
    {
     "output_type": "execute_result",
     "data": {
      "text/plain": [
       "datetime.datetime(2023, 5, 19, 0, 0)"
      ]
     },
     "metadata": {},
     "execution_count": 10
    }
   ],
   "metadata": {}
  },
  {
   "cell_type": "code",
   "execution_count": 11,
   "source": [
    "remaining_time = graduation_date - now\n",
    "remaining_time"
   ],
   "outputs": [
    {
     "output_type": "execute_result",
     "data": {
      "text/plain": [
       "datetime.timedelta(days=563, seconds=52322, microseconds=827314)"
      ]
     },
     "metadata": {},
     "execution_count": 11
    }
   ],
   "metadata": {}
  },
  {
   "cell_type": "code",
   "execution_count": 12,
   "source": [
    "remaining_time.days/365 #1.5 years until graduation"
   ],
   "outputs": [
    {
     "output_type": "execute_result",
     "data": {
      "text/plain": [
       "1.5424657534246575"
      ]
     },
     "metadata": {},
     "execution_count": 12
    }
   ],
   "metadata": {}
  }
 ],
 "metadata": {
  "orig_nbformat": 4,
  "language_info": {
   "name": "python",
   "version": "3.9.6",
   "mimetype": "text/x-python",
   "codemirror_mode": {
    "name": "ipython",
    "version": 3
   },
   "pygments_lexer": "ipython3",
   "nbconvert_exporter": "python",
   "file_extension": ".py"
  },
  "kernelspec": {
   "name": "python3",
   "display_name": "Python 3.9.6 64-bit ('Databehandling-Anna-Maria-Sj-lund-ciSw9i2p': pipenv)"
  },
  "interpreter": {
   "hash": "448c7bdc29fb3557f07b8a1afe02d766aa28053d638d3b433bafa66a6229fd5d"
  }
 },
 "nbformat": 4,
 "nbformat_minor": 2
}