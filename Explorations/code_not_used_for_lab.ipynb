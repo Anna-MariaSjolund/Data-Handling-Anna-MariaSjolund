{
 "cells": [
  {
   "cell_type": "code",
   "execution_count": null,
   "source": [
    "#Create a new dataframe, with information about the number of people vaccinated with at least one dose\n",
    "vaccination_swe_one_dose = vaccination_swe.loc[(vaccination_swe[\"Vaccinationsstatus\"] == \"Minst 1 dos\")].reset_index(drop=True)\n",
    "\n",
    "#Create a new column in the dataframe and set all rows to 2472 (the value of the first week, which is not included in the forloop)\n",
    "#Loop through the rows in the dataframe and count the number of vaccinated per week\n",
    "vaccination_swe_one_dose[\"Antal vaccinerade per vecka\"] = 2472\n",
    "for i in range(1,43):\n",
    "    vaccination_swe_one_dose.at[i, \"Antal vaccinerade per vecka\"] = (vaccination_swe_one_dose[\"Antal vaccinerade\"].iloc[i] - vaccination_swe_one_dose[\"Antal vaccinerade\"].iloc[i-1])\n",
    "\n",
    "vaccination_swe_one_dose.head()"
   ],
   "outputs": [],
   "metadata": {}
  },
  {
   "cell_type": "code",
   "execution_count": null,
   "source": [
    "#Create new dataframes\n",
    "vaccination_swe_fully_vacc = vaccination_swe.loc[(vaccination_swe[\"Vaccinationsstatus\"] == \"Färdigvaccinerade\")].reset_index(drop=True)\n",
    "vaccination_swe_one_dose = vaccination_swe.loc[(vaccination_swe[\"Vaccinationsstatus\"] == \"Minst 1 dos\")].reset_index(drop=True)"
   ],
   "outputs": [],
   "metadata": {}
  }
 ],
 "metadata": {
  "orig_nbformat": 4,
  "language_info": {
   "name": "python"
  }
 },
 "nbformat": 4,
 "nbformat_minor": 2
}